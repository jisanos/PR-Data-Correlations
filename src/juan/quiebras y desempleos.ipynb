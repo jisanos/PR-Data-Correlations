{
 "cells": [
  {
   "cell_type": "code",
   "execution_count": 1,
   "metadata": {
    "id": "_zEl19Kw_Wc6"
   },
   "outputs": [],
   "source": [
    "import numpy as np\n",
    "import pandas as pd"
   ]
  },
  {
   "cell_type": "code",
   "execution_count": 2,
   "metadata": {
    "colab": {
     "base_uri": "https://localhost:8080/",
     "height": 522
    },
    "collapsed": true,
    "id": "hBaxvQemTbGm",
    "jupyter": {
     "outputs_hidden": true
    },
    "outputId": "0ae4c2f1-a882-4042-86f1-12678c307991",
    "tags": []
   },
   "outputs": [
    {
     "ename": "FileNotFoundError",
     "evalue": "[Errno 2] No such file or directory: 'USBC-BankruptcyFilings-2023-03.csv'",
     "output_type": "error",
     "traceback": [
      "\u001b[0;31m---------------------------------------------------------------------------\u001b[0m",
      "\u001b[0;31mFileNotFoundError\u001b[0m                         Traceback (most recent call last)",
      "\u001b[0;32m/tmp/ipykernel_77922/2962974533.py\u001b[0m in \u001b[0;36m<module>\u001b[0;34m\u001b[0m\n\u001b[0;32m----> 1\u001b[0;31m \u001b[0mdataset\u001b[0m \u001b[0;34m=\u001b[0m \u001b[0mpd\u001b[0m\u001b[0;34m.\u001b[0m\u001b[0mread_csv\u001b[0m\u001b[0;34m(\u001b[0m\u001b[0;34m\"USBC-BankruptcyFilings-2023-03.csv\"\u001b[0m\u001b[0;34m)\u001b[0m\u001b[0;34m\u001b[0m\u001b[0;34m\u001b[0m\u001b[0m\n\u001b[0m\u001b[1;32m      2\u001b[0m \u001b[0mdataset\u001b[0m\u001b[0;34m\u001b[0m\u001b[0;34m\u001b[0m\u001b[0m\n",
      "\u001b[0;32m~/anaconda3/lib/python3.9/site-packages/pandas/util/_decorators.py\u001b[0m in \u001b[0;36mwrapper\u001b[0;34m(*args, **kwargs)\u001b[0m\n\u001b[1;32m    309\u001b[0m                     \u001b[0mstacklevel\u001b[0m\u001b[0;34m=\u001b[0m\u001b[0mstacklevel\u001b[0m\u001b[0;34m,\u001b[0m\u001b[0;34m\u001b[0m\u001b[0;34m\u001b[0m\u001b[0m\n\u001b[1;32m    310\u001b[0m                 )\n\u001b[0;32m--> 311\u001b[0;31m             \u001b[0;32mreturn\u001b[0m \u001b[0mfunc\u001b[0m\u001b[0;34m(\u001b[0m\u001b[0;34m*\u001b[0m\u001b[0margs\u001b[0m\u001b[0;34m,\u001b[0m \u001b[0;34m**\u001b[0m\u001b[0mkwargs\u001b[0m\u001b[0;34m)\u001b[0m\u001b[0;34m\u001b[0m\u001b[0;34m\u001b[0m\u001b[0m\n\u001b[0m\u001b[1;32m    312\u001b[0m \u001b[0;34m\u001b[0m\u001b[0m\n\u001b[1;32m    313\u001b[0m         \u001b[0;32mreturn\u001b[0m \u001b[0mwrapper\u001b[0m\u001b[0;34m\u001b[0m\u001b[0;34m\u001b[0m\u001b[0m\n",
      "\u001b[0;32m~/anaconda3/lib/python3.9/site-packages/pandas/io/parsers/readers.py\u001b[0m in \u001b[0;36mread_csv\u001b[0;34m(filepath_or_buffer, sep, delimiter, header, names, index_col, usecols, squeeze, prefix, mangle_dupe_cols, dtype, engine, converters, true_values, false_values, skipinitialspace, skiprows, skipfooter, nrows, na_values, keep_default_na, na_filter, verbose, skip_blank_lines, parse_dates, infer_datetime_format, keep_date_col, date_parser, dayfirst, cache_dates, iterator, chunksize, compression, thousands, decimal, lineterminator, quotechar, quoting, doublequote, escapechar, comment, encoding, encoding_errors, dialect, error_bad_lines, warn_bad_lines, on_bad_lines, delim_whitespace, low_memory, memory_map, float_precision, storage_options)\u001b[0m\n\u001b[1;32m    676\u001b[0m     \u001b[0mkwds\u001b[0m\u001b[0;34m.\u001b[0m\u001b[0mupdate\u001b[0m\u001b[0;34m(\u001b[0m\u001b[0mkwds_defaults\u001b[0m\u001b[0;34m)\u001b[0m\u001b[0;34m\u001b[0m\u001b[0;34m\u001b[0m\u001b[0m\n\u001b[1;32m    677\u001b[0m \u001b[0;34m\u001b[0m\u001b[0m\n\u001b[0;32m--> 678\u001b[0;31m     \u001b[0;32mreturn\u001b[0m \u001b[0m_read\u001b[0m\u001b[0;34m(\u001b[0m\u001b[0mfilepath_or_buffer\u001b[0m\u001b[0;34m,\u001b[0m \u001b[0mkwds\u001b[0m\u001b[0;34m)\u001b[0m\u001b[0;34m\u001b[0m\u001b[0;34m\u001b[0m\u001b[0m\n\u001b[0m\u001b[1;32m    679\u001b[0m \u001b[0;34m\u001b[0m\u001b[0m\n\u001b[1;32m    680\u001b[0m \u001b[0;34m\u001b[0m\u001b[0m\n",
      "\u001b[0;32m~/anaconda3/lib/python3.9/site-packages/pandas/io/parsers/readers.py\u001b[0m in \u001b[0;36m_read\u001b[0;34m(filepath_or_buffer, kwds)\u001b[0m\n\u001b[1;32m    573\u001b[0m \u001b[0;34m\u001b[0m\u001b[0m\n\u001b[1;32m    574\u001b[0m     \u001b[0;31m# Create the parser.\u001b[0m\u001b[0;34m\u001b[0m\u001b[0;34m\u001b[0m\u001b[0m\n\u001b[0;32m--> 575\u001b[0;31m     \u001b[0mparser\u001b[0m \u001b[0;34m=\u001b[0m \u001b[0mTextFileReader\u001b[0m\u001b[0;34m(\u001b[0m\u001b[0mfilepath_or_buffer\u001b[0m\u001b[0;34m,\u001b[0m \u001b[0;34m**\u001b[0m\u001b[0mkwds\u001b[0m\u001b[0;34m)\u001b[0m\u001b[0;34m\u001b[0m\u001b[0;34m\u001b[0m\u001b[0m\n\u001b[0m\u001b[1;32m    576\u001b[0m \u001b[0;34m\u001b[0m\u001b[0m\n\u001b[1;32m    577\u001b[0m     \u001b[0;32mif\u001b[0m \u001b[0mchunksize\u001b[0m \u001b[0;32mor\u001b[0m \u001b[0miterator\u001b[0m\u001b[0;34m:\u001b[0m\u001b[0;34m\u001b[0m\u001b[0;34m\u001b[0m\u001b[0m\n",
      "\u001b[0;32m~/anaconda3/lib/python3.9/site-packages/pandas/io/parsers/readers.py\u001b[0m in \u001b[0;36m__init__\u001b[0;34m(self, f, engine, **kwds)\u001b[0m\n\u001b[1;32m    930\u001b[0m \u001b[0;34m\u001b[0m\u001b[0m\n\u001b[1;32m    931\u001b[0m         \u001b[0mself\u001b[0m\u001b[0;34m.\u001b[0m\u001b[0mhandles\u001b[0m\u001b[0;34m:\u001b[0m \u001b[0mIOHandles\u001b[0m \u001b[0;34m|\u001b[0m \u001b[0;32mNone\u001b[0m \u001b[0;34m=\u001b[0m \u001b[0;32mNone\u001b[0m\u001b[0;34m\u001b[0m\u001b[0;34m\u001b[0m\u001b[0m\n\u001b[0;32m--> 932\u001b[0;31m         \u001b[0mself\u001b[0m\u001b[0;34m.\u001b[0m\u001b[0m_engine\u001b[0m \u001b[0;34m=\u001b[0m \u001b[0mself\u001b[0m\u001b[0;34m.\u001b[0m\u001b[0m_make_engine\u001b[0m\u001b[0;34m(\u001b[0m\u001b[0mf\u001b[0m\u001b[0;34m,\u001b[0m \u001b[0mself\u001b[0m\u001b[0;34m.\u001b[0m\u001b[0mengine\u001b[0m\u001b[0;34m)\u001b[0m\u001b[0;34m\u001b[0m\u001b[0;34m\u001b[0m\u001b[0m\n\u001b[0m\u001b[1;32m    933\u001b[0m \u001b[0;34m\u001b[0m\u001b[0m\n\u001b[1;32m    934\u001b[0m     \u001b[0;32mdef\u001b[0m \u001b[0mclose\u001b[0m\u001b[0;34m(\u001b[0m\u001b[0mself\u001b[0m\u001b[0;34m)\u001b[0m\u001b[0;34m:\u001b[0m\u001b[0;34m\u001b[0m\u001b[0;34m\u001b[0m\u001b[0m\n",
      "\u001b[0;32m~/anaconda3/lib/python3.9/site-packages/pandas/io/parsers/readers.py\u001b[0m in \u001b[0;36m_make_engine\u001b[0;34m(self, f, engine)\u001b[0m\n\u001b[1;32m   1214\u001b[0m             \u001b[0;31m# \"Union[str, PathLike[str], ReadCsvBuffer[bytes], ReadCsvBuffer[str]]\"\u001b[0m\u001b[0;34m\u001b[0m\u001b[0;34m\u001b[0m\u001b[0m\n\u001b[1;32m   1215\u001b[0m             \u001b[0;31m# , \"str\", \"bool\", \"Any\", \"Any\", \"Any\", \"Any\", \"Any\"\u001b[0m\u001b[0;34m\u001b[0m\u001b[0;34m\u001b[0m\u001b[0m\n\u001b[0;32m-> 1216\u001b[0;31m             self.handles = get_handle(  # type: ignore[call-overload]\n\u001b[0m\u001b[1;32m   1217\u001b[0m                 \u001b[0mf\u001b[0m\u001b[0;34m,\u001b[0m\u001b[0;34m\u001b[0m\u001b[0;34m\u001b[0m\u001b[0m\n\u001b[1;32m   1218\u001b[0m                 \u001b[0mmode\u001b[0m\u001b[0;34m,\u001b[0m\u001b[0;34m\u001b[0m\u001b[0;34m\u001b[0m\u001b[0m\n",
      "\u001b[0;32m~/anaconda3/lib/python3.9/site-packages/pandas/io/common.py\u001b[0m in \u001b[0;36mget_handle\u001b[0;34m(path_or_buf, mode, encoding, compression, memory_map, is_text, errors, storage_options)\u001b[0m\n\u001b[1;32m    784\u001b[0m         \u001b[0;32mif\u001b[0m \u001b[0mioargs\u001b[0m\u001b[0;34m.\u001b[0m\u001b[0mencoding\u001b[0m \u001b[0;32mand\u001b[0m \u001b[0;34m\"b\"\u001b[0m \u001b[0;32mnot\u001b[0m \u001b[0;32min\u001b[0m \u001b[0mioargs\u001b[0m\u001b[0;34m.\u001b[0m\u001b[0mmode\u001b[0m\u001b[0;34m:\u001b[0m\u001b[0;34m\u001b[0m\u001b[0;34m\u001b[0m\u001b[0m\n\u001b[1;32m    785\u001b[0m             \u001b[0;31m# Encoding\u001b[0m\u001b[0;34m\u001b[0m\u001b[0;34m\u001b[0m\u001b[0m\n\u001b[0;32m--> 786\u001b[0;31m             handle = open(\n\u001b[0m\u001b[1;32m    787\u001b[0m                 \u001b[0mhandle\u001b[0m\u001b[0;34m,\u001b[0m\u001b[0;34m\u001b[0m\u001b[0;34m\u001b[0m\u001b[0m\n\u001b[1;32m    788\u001b[0m                 \u001b[0mioargs\u001b[0m\u001b[0;34m.\u001b[0m\u001b[0mmode\u001b[0m\u001b[0;34m,\u001b[0m\u001b[0;34m\u001b[0m\u001b[0;34m\u001b[0m\u001b[0m\n",
      "\u001b[0;31mFileNotFoundError\u001b[0m: [Errno 2] No such file or directory: 'USBC-BankruptcyFilings-2023-03.csv'"
     ]
    }
   ],
   "source": [
    "dataset = pd.read_csv(\"USBC-BankruptcyFilings-2023-03.csv\")\n",
    "dataset"
   ]
  },
  {
   "cell_type": "markdown",
   "metadata": {
    "id": "3tyf2gT8_d22"
   },
   "source": [
    "Data de Quiebra por capitulo 7"
   ]
  },
  {
   "cell_type": "code",
   "execution_count": null,
   "metadata": {
    "colab": {
     "base_uri": "https://localhost:8080/",
     "height": 510
    },
    "id": "iMLBwzRwt1rf",
    "outputId": "56e07806-4ef7-471d-e573-72ee2fbf535e"
   },
   "outputs": [],
   "source": [
    "datach7 = dataset[['Unnamed: 0', 'Unnamed: 1', 'Ch. 7','Unnamed: 3', 'Unnamed: 4']]\n",
    "datach7.rename(columns={'Unnamed: 0': 'Date', 'Unnamed: 1': 'Ch7 MonthTotal', 'Ch. 7':'% Prior Year','Unnamed: 3':'Ch7 YrtoDate','Unnamed: 4':'% Prior Year'}, inplace=True)\n",
    "datach7 = datach7.drop(index = [0,1,2])\n",
    "dia=datach7[['Date']]\n",
    "datach7"
   ]
  },
  {
   "cell_type": "markdown",
   "metadata": {
    "id": "TH2XSZ-N_vlg"
   },
   "source": [
    "Data de Quiebra por capitulo 11"
   ]
  },
  {
   "cell_type": "code",
   "execution_count": null,
   "metadata": {
    "colab": {
     "base_uri": "https://localhost:8080/",
     "height": 510
    },
    "id": "LlTen1KFu0E6",
    "outputId": "446cb93e-1e28-41de-94c3-1f8e872aae20"
   },
   "outputs": [],
   "source": [
    "datach11 = dataset[['Unnamed: 5', 'Ch.11', 'Unnamed: 7','Unnamed: 8']]\n",
    "datach11.rename(columns={'Unnamed: 5': 'Ch11 MonthTotal', 'Ch.11':'% Prior Year','Unnamed: 7':'Ch.11 YrtoDate','Unnamed: 8':'% Prior Year'}, inplace=True)\n",
    "datach11 = datach11.drop(index = [0,1,2])\n",
    "datach11.insert(loc=0, column='Date',value=dia)\n",
    "datach11"
   ]
  },
  {
   "cell_type": "markdown",
   "metadata": {
    "id": "N8OhRO8s_yaf"
   },
   "source": [
    "Data de Quiebra por capitulo 12"
   ]
  },
  {
   "cell_type": "code",
   "execution_count": null,
   "metadata": {
    "colab": {
     "base_uri": "https://localhost:8080/",
     "height": 510
    },
    "id": "ovDfGcd3vORC",
    "outputId": "ba63186c-ec18-4c1d-c950-faacee33c793"
   },
   "outputs": [],
   "source": [
    "datach12 = dataset[['Unnamed: 9',  'Ch.12','Unnamed: 11','Unnamed: 12']]\n",
    "datach12.rename(columns={'Unnamed: 9': 'Ch12 MonthTotal', 'Ch.12':'% Prior Year','Unnamed: 11':'Ch.12 YrtoDate','Unnamed: 12':'% Prior Year'}, inplace=True)\n",
    "datach12 = datach12.drop(index = [0,1,2])\n",
    "datach12.insert(loc=0, column='Date',value=dia)\n",
    "datach12"
   ]
  },
  {
   "cell_type": "markdown",
   "metadata": {
    "id": "ohAwnhhh_28Y"
   },
   "source": [
    "Data de Quiebra por capitulo 13"
   ]
  },
  {
   "cell_type": "code",
   "execution_count": null,
   "metadata": {
    "colab": {
     "base_uri": "https://localhost:8080/",
     "height": 510
    },
    "id": "NfAuwuGvw7hf",
    "outputId": "e6bf6b60-3272-46a6-fc12-cfcf6e1b88a7"
   },
   "outputs": [],
   "source": [
    "datach13 = dataset[['Unnamed: 13', 'Unnamed: 14', 'Ch..13','Unnamed: 16', 'Unnamed: 17']]\n",
    "datach13.rename(columns={'Unnamed: 13': 'Ch13 MonthTotal', 'Unnamed: 14':'% Prior Year','Ch..13':'Ch.13 YrtoDate','Unnamed: 16':'% Prior Year'}, inplace=True)\n",
    "datach13 = datach13.drop(index = [0,1,2])\n",
    "datach13.insert(loc=0, column='Date',value=dia)\n",
    "datach13"
   ]
  },
  {
   "cell_type": "markdown",
   "metadata": {
    "id": "L1Ugnu9a_8JV"
   },
   "source": [
    "Data de todas las Quiebras"
   ]
  },
  {
   "cell_type": "code",
   "execution_count": null,
   "metadata": {
    "colab": {
     "base_uri": "https://localhost:8080/",
     "height": 765
    },
    "id": "wZfXpCB7xo51",
    "outputId": "1c60c453-b01d-46b8-99a9-b4561efc24a2"
   },
   "outputs": [],
   "source": [
    "datacumm = dataset[['All', 'Unnamed: 19', 'Unnamed: 20', 'Cumm', 'Unnamed: 22']]\n",
    "datacumm.rename(columns={'All': 'All Ch MonthTotal', 'Unnamed: 19':'% Prior Year','Unnamed: 20':'Cumm YrtoDate','Cumm':'% Prior Year', 'Unnamed: 22':'Prior Year Diff'}, inplace=True)\n",
    "datacumm = datacumm.drop(index = [0,1,2])\n",
    "datacumm.insert(loc=0, column='Date',value=dia)\n",
    "datacumm"
   ]
  },
  {
   "cell_type": "markdown",
   "metadata": {
    "id": "9c7kra461I_i"
   },
   "source": [
    "Número de Personas Desempleadas por Municipio o Área desde Agosto 2000 a Agosto 2020\n"
   ]
  },
  {
   "cell_type": "code",
   "execution_count": null,
   "metadata": {
    "colab": {
     "base_uri": "https://localhost:8080/",
     "height": 730
    },
    "id": "NZIcVzib1Kiz",
    "outputId": "b0004988-6316-4ae7-9200-bdeee6a390e0"
   },
   "outputs": [],
   "source": [
    "datasetPersDespl = pd.read_csv(\"PersonasDesempleadasporMunicipiooArea.csv\",encoding='iso8859_3')\n",
    "datasetPersDespl = datasetPersDespl.drop(index = [0])\n",
    "datasetPersDespl.drop(datasetPersDespl.tail(295).index,inplace = True)\n",
    "datasetPersDespl"
   ]
  },
  {
   "cell_type": "markdown",
   "metadata": {
    "id": "AaHFrtKK1jI5"
   },
   "source": [
    "Tasa de Desempleo por Municipio o Área desde Agosto 2000 a Agosto 2020"
   ]
  },
  {
   "cell_type": "code",
   "execution_count": 3,
   "metadata": {
    "colab": {
     "base_uri": "https://localhost:8080/",
     "height": 557
    },
    "collapsed": true,
    "id": "j-DaMAiZ1jyI",
    "jupyter": {
     "outputs_hidden": true
    },
    "outputId": "848c4d41-12a8-4d87-df44-28dce0ca7fc1",
    "tags": []
   },
   "outputs": [
    {
     "ename": "FileNotFoundError",
     "evalue": "[Errno 2] No such file or directory: 'TasadeDesempleoporMunicipiooArea.csv'",
     "output_type": "error",
     "traceback": [
      "\u001b[0;31m---------------------------------------------------------------------------\u001b[0m",
      "\u001b[0;31mFileNotFoundError\u001b[0m                         Traceback (most recent call last)",
      "\u001b[0;32m/tmp/ipykernel_77922/2314968880.py\u001b[0m in \u001b[0;36m<module>\u001b[0;34m\u001b[0m\n\u001b[0;32m----> 1\u001b[0;31m \u001b[0mdatasetTasaDespl\u001b[0m \u001b[0;34m=\u001b[0m \u001b[0mpd\u001b[0m\u001b[0;34m.\u001b[0m\u001b[0mread_csv\u001b[0m\u001b[0;34m(\u001b[0m\u001b[0;34m\"TasadeDesempleoporMunicipiooArea.csv\"\u001b[0m\u001b[0;34m,\u001b[0m\u001b[0mencoding\u001b[0m\u001b[0;34m=\u001b[0m\u001b[0;34m'iso8859_3'\u001b[0m\u001b[0;34m)\u001b[0m\u001b[0;34m\u001b[0m\u001b[0;34m\u001b[0m\u001b[0m\n\u001b[0m\u001b[1;32m      2\u001b[0m \u001b[0mdatasetTasaDespl\u001b[0m \u001b[0;34m=\u001b[0m \u001b[0mdatasetTasaDespl\u001b[0m\u001b[0;34m.\u001b[0m\u001b[0mdrop\u001b[0m\u001b[0;34m(\u001b[0m\u001b[0mindex\u001b[0m\u001b[0;34m=\u001b[0m\u001b[0;34m[\u001b[0m\u001b[0;36m0\u001b[0m\u001b[0;34m]\u001b[0m\u001b[0;34m)\u001b[0m\u001b[0;34m\u001b[0m\u001b[0;34m\u001b[0m\u001b[0m\n\u001b[1;32m      3\u001b[0m \u001b[0mdatasetTasaDespl\u001b[0m\u001b[0;34m.\u001b[0m\u001b[0mdrop\u001b[0m\u001b[0;34m(\u001b[0m\u001b[0mdatasetTasaDespl\u001b[0m\u001b[0;34m.\u001b[0m\u001b[0mtail\u001b[0m\u001b[0;34m(\u001b[0m\u001b[0;36m293\u001b[0m\u001b[0;34m)\u001b[0m\u001b[0;34m.\u001b[0m\u001b[0mindex\u001b[0m\u001b[0;34m,\u001b[0m\u001b[0minplace\u001b[0m \u001b[0;34m=\u001b[0m \u001b[0;32mTrue\u001b[0m\u001b[0;34m)\u001b[0m\u001b[0;34m\u001b[0m\u001b[0;34m\u001b[0m\u001b[0m\n\u001b[1;32m      4\u001b[0m \u001b[0;34m\u001b[0m\u001b[0m\n\u001b[1;32m      5\u001b[0m \u001b[0mdatasetTasaDespl\u001b[0m\u001b[0;34m\u001b[0m\u001b[0;34m\u001b[0m\u001b[0m\n",
      "\u001b[0;32m~/anaconda3/lib/python3.9/site-packages/pandas/util/_decorators.py\u001b[0m in \u001b[0;36mwrapper\u001b[0;34m(*args, **kwargs)\u001b[0m\n\u001b[1;32m    309\u001b[0m                     \u001b[0mstacklevel\u001b[0m\u001b[0;34m=\u001b[0m\u001b[0mstacklevel\u001b[0m\u001b[0;34m,\u001b[0m\u001b[0;34m\u001b[0m\u001b[0;34m\u001b[0m\u001b[0m\n\u001b[1;32m    310\u001b[0m                 )\n\u001b[0;32m--> 311\u001b[0;31m             \u001b[0;32mreturn\u001b[0m \u001b[0mfunc\u001b[0m\u001b[0;34m(\u001b[0m\u001b[0;34m*\u001b[0m\u001b[0margs\u001b[0m\u001b[0;34m,\u001b[0m \u001b[0;34m**\u001b[0m\u001b[0mkwargs\u001b[0m\u001b[0;34m)\u001b[0m\u001b[0;34m\u001b[0m\u001b[0;34m\u001b[0m\u001b[0m\n\u001b[0m\u001b[1;32m    312\u001b[0m \u001b[0;34m\u001b[0m\u001b[0m\n\u001b[1;32m    313\u001b[0m         \u001b[0;32mreturn\u001b[0m \u001b[0mwrapper\u001b[0m\u001b[0;34m\u001b[0m\u001b[0;34m\u001b[0m\u001b[0m\n",
      "\u001b[0;32m~/anaconda3/lib/python3.9/site-packages/pandas/io/parsers/readers.py\u001b[0m in \u001b[0;36mread_csv\u001b[0;34m(filepath_or_buffer, sep, delimiter, header, names, index_col, usecols, squeeze, prefix, mangle_dupe_cols, dtype, engine, converters, true_values, false_values, skipinitialspace, skiprows, skipfooter, nrows, na_values, keep_default_na, na_filter, verbose, skip_blank_lines, parse_dates, infer_datetime_format, keep_date_col, date_parser, dayfirst, cache_dates, iterator, chunksize, compression, thousands, decimal, lineterminator, quotechar, quoting, doublequote, escapechar, comment, encoding, encoding_errors, dialect, error_bad_lines, warn_bad_lines, on_bad_lines, delim_whitespace, low_memory, memory_map, float_precision, storage_options)\u001b[0m\n\u001b[1;32m    676\u001b[0m     \u001b[0mkwds\u001b[0m\u001b[0;34m.\u001b[0m\u001b[0mupdate\u001b[0m\u001b[0;34m(\u001b[0m\u001b[0mkwds_defaults\u001b[0m\u001b[0;34m)\u001b[0m\u001b[0;34m\u001b[0m\u001b[0;34m\u001b[0m\u001b[0m\n\u001b[1;32m    677\u001b[0m \u001b[0;34m\u001b[0m\u001b[0m\n\u001b[0;32m--> 678\u001b[0;31m     \u001b[0;32mreturn\u001b[0m \u001b[0m_read\u001b[0m\u001b[0;34m(\u001b[0m\u001b[0mfilepath_or_buffer\u001b[0m\u001b[0;34m,\u001b[0m \u001b[0mkwds\u001b[0m\u001b[0;34m)\u001b[0m\u001b[0;34m\u001b[0m\u001b[0;34m\u001b[0m\u001b[0m\n\u001b[0m\u001b[1;32m    679\u001b[0m \u001b[0;34m\u001b[0m\u001b[0m\n\u001b[1;32m    680\u001b[0m \u001b[0;34m\u001b[0m\u001b[0m\n",
      "\u001b[0;32m~/anaconda3/lib/python3.9/site-packages/pandas/io/parsers/readers.py\u001b[0m in \u001b[0;36m_read\u001b[0;34m(filepath_or_buffer, kwds)\u001b[0m\n\u001b[1;32m    573\u001b[0m \u001b[0;34m\u001b[0m\u001b[0m\n\u001b[1;32m    574\u001b[0m     \u001b[0;31m# Create the parser.\u001b[0m\u001b[0;34m\u001b[0m\u001b[0;34m\u001b[0m\u001b[0m\n\u001b[0;32m--> 575\u001b[0;31m     \u001b[0mparser\u001b[0m \u001b[0;34m=\u001b[0m \u001b[0mTextFileReader\u001b[0m\u001b[0;34m(\u001b[0m\u001b[0mfilepath_or_buffer\u001b[0m\u001b[0;34m,\u001b[0m \u001b[0;34m**\u001b[0m\u001b[0mkwds\u001b[0m\u001b[0;34m)\u001b[0m\u001b[0;34m\u001b[0m\u001b[0;34m\u001b[0m\u001b[0m\n\u001b[0m\u001b[1;32m    576\u001b[0m \u001b[0;34m\u001b[0m\u001b[0m\n\u001b[1;32m    577\u001b[0m     \u001b[0;32mif\u001b[0m \u001b[0mchunksize\u001b[0m \u001b[0;32mor\u001b[0m \u001b[0miterator\u001b[0m\u001b[0;34m:\u001b[0m\u001b[0;34m\u001b[0m\u001b[0;34m\u001b[0m\u001b[0m\n",
      "\u001b[0;32m~/anaconda3/lib/python3.9/site-packages/pandas/io/parsers/readers.py\u001b[0m in \u001b[0;36m__init__\u001b[0;34m(self, f, engine, **kwds)\u001b[0m\n\u001b[1;32m    930\u001b[0m \u001b[0;34m\u001b[0m\u001b[0m\n\u001b[1;32m    931\u001b[0m         \u001b[0mself\u001b[0m\u001b[0;34m.\u001b[0m\u001b[0mhandles\u001b[0m\u001b[0;34m:\u001b[0m \u001b[0mIOHandles\u001b[0m \u001b[0;34m|\u001b[0m \u001b[0;32mNone\u001b[0m \u001b[0;34m=\u001b[0m \u001b[0;32mNone\u001b[0m\u001b[0;34m\u001b[0m\u001b[0;34m\u001b[0m\u001b[0m\n\u001b[0;32m--> 932\u001b[0;31m         \u001b[0mself\u001b[0m\u001b[0;34m.\u001b[0m\u001b[0m_engine\u001b[0m \u001b[0;34m=\u001b[0m \u001b[0mself\u001b[0m\u001b[0;34m.\u001b[0m\u001b[0m_make_engine\u001b[0m\u001b[0;34m(\u001b[0m\u001b[0mf\u001b[0m\u001b[0;34m,\u001b[0m \u001b[0mself\u001b[0m\u001b[0;34m.\u001b[0m\u001b[0mengine\u001b[0m\u001b[0;34m)\u001b[0m\u001b[0;34m\u001b[0m\u001b[0;34m\u001b[0m\u001b[0m\n\u001b[0m\u001b[1;32m    933\u001b[0m \u001b[0;34m\u001b[0m\u001b[0m\n\u001b[1;32m    934\u001b[0m     \u001b[0;32mdef\u001b[0m \u001b[0mclose\u001b[0m\u001b[0;34m(\u001b[0m\u001b[0mself\u001b[0m\u001b[0;34m)\u001b[0m\u001b[0;34m:\u001b[0m\u001b[0;34m\u001b[0m\u001b[0;34m\u001b[0m\u001b[0m\n",
      "\u001b[0;32m~/anaconda3/lib/python3.9/site-packages/pandas/io/parsers/readers.py\u001b[0m in \u001b[0;36m_make_engine\u001b[0;34m(self, f, engine)\u001b[0m\n\u001b[1;32m   1214\u001b[0m             \u001b[0;31m# \"Union[str, PathLike[str], ReadCsvBuffer[bytes], ReadCsvBuffer[str]]\"\u001b[0m\u001b[0;34m\u001b[0m\u001b[0;34m\u001b[0m\u001b[0m\n\u001b[1;32m   1215\u001b[0m             \u001b[0;31m# , \"str\", \"bool\", \"Any\", \"Any\", \"Any\", \"Any\", \"Any\"\u001b[0m\u001b[0;34m\u001b[0m\u001b[0;34m\u001b[0m\u001b[0m\n\u001b[0;32m-> 1216\u001b[0;31m             self.handles = get_handle(  # type: ignore[call-overload]\n\u001b[0m\u001b[1;32m   1217\u001b[0m                 \u001b[0mf\u001b[0m\u001b[0;34m,\u001b[0m\u001b[0;34m\u001b[0m\u001b[0;34m\u001b[0m\u001b[0m\n\u001b[1;32m   1218\u001b[0m                 \u001b[0mmode\u001b[0m\u001b[0;34m,\u001b[0m\u001b[0;34m\u001b[0m\u001b[0;34m\u001b[0m\u001b[0m\n",
      "\u001b[0;32m~/anaconda3/lib/python3.9/site-packages/pandas/io/common.py\u001b[0m in \u001b[0;36mget_handle\u001b[0;34m(path_or_buf, mode, encoding, compression, memory_map, is_text, errors, storage_options)\u001b[0m\n\u001b[1;32m    784\u001b[0m         \u001b[0;32mif\u001b[0m \u001b[0mioargs\u001b[0m\u001b[0;34m.\u001b[0m\u001b[0mencoding\u001b[0m \u001b[0;32mand\u001b[0m \u001b[0;34m\"b\"\u001b[0m \u001b[0;32mnot\u001b[0m \u001b[0;32min\u001b[0m \u001b[0mioargs\u001b[0m\u001b[0;34m.\u001b[0m\u001b[0mmode\u001b[0m\u001b[0;34m:\u001b[0m\u001b[0;34m\u001b[0m\u001b[0;34m\u001b[0m\u001b[0m\n\u001b[1;32m    785\u001b[0m             \u001b[0;31m# Encoding\u001b[0m\u001b[0;34m\u001b[0m\u001b[0;34m\u001b[0m\u001b[0m\n\u001b[0;32m--> 786\u001b[0;31m             handle = open(\n\u001b[0m\u001b[1;32m    787\u001b[0m                 \u001b[0mhandle\u001b[0m\u001b[0;34m,\u001b[0m\u001b[0;34m\u001b[0m\u001b[0;34m\u001b[0m\u001b[0m\n\u001b[1;32m    788\u001b[0m                 \u001b[0mioargs\u001b[0m\u001b[0;34m.\u001b[0m\u001b[0mmode\u001b[0m\u001b[0;34m,\u001b[0m\u001b[0;34m\u001b[0m\u001b[0;34m\u001b[0m\u001b[0m\n",
      "\u001b[0;31mFileNotFoundError\u001b[0m: [Errno 2] No such file or directory: 'TasadeDesempleoporMunicipiooArea.csv'"
     ]
    }
   ],
   "source": [
    "datasetTasaDespl = pd.read_csv(\"TasadeDesempleoporMunicipiooArea.csv\",encoding='iso8859_3')\n",
    "datasetTasaDespl = datasetTasaDespl.drop(index=[0])\n",
    "datasetTasaDespl.drop(datasetTasaDespl.tail(293).index,inplace = True)\n",
    "\n",
    "datasetTasaDespl"
   ]
  },
  {
   "cell_type": "markdown",
   "metadata": {
    "id": "MOR9tXhp-vOs"
   },
   "source": [
    "Cambio a nombres de header de tasa de desempleo a los mismos de data de delitos tipo 1"
   ]
  },
  {
   "cell_type": "code",
   "execution_count": null,
   "metadata": {
    "colab": {
     "base_uri": "https://localhost:8080/",
     "height": 539
    },
    "id": "JBhk091HHg8Z",
    "outputId": "c703f833-ef96-4299-ab8e-c5fea64f8336"
   },
   "outputs": [],
   "source": [
    "datasetTasaDespl.rename(\n",
    "    columns={\n",
    "        'Adjuntas NSA':'Adjuntas',\n",
    "        'Aguada NSA':'Aguada',\n",
    "        'Aguadilla NSA':'Aguadilla',\t\n",
    "        'Aguas Buenas NSA':'Aguas Buenas',\t\n",
    "        'Aibonito NSA':'Aibonito', \n",
    "        'Añasco NSA':'Añasco',\t\n",
    "        'Arecibo NSA':'Arecibo',\t\n",
    "        'Arroyo NSA':'Arroyo',\t\n",
    "        'Barceloneta NSA':'Barceloneta',\t\n",
    "        'Barranquitas NSA':'Barranquitas',\t\n",
    "        'Bayamon NSA':'Bayamón',\t\n",
    "        'Cabo Rojo NSA':'Cabo Rojo',\t\n",
    "        'Caguas NSA':'Caguas',\t\n",
    "        'Camuy NSA':'Camuy',\t\n",
    "        'Canovanas NSA':'Canóvanas',\n",
    "        'Carolina NSA':'Carolina',\n",
    "        'Catano NSA':'Cataño',\n",
    "        'Cayey NSA':'Cayey',\t\n",
    "        'Ceiba NSA':'Ceiba',\t\n",
    "        'Ciales NSA':'Cielo',\t\n",
    "        'Cidra NSA':'Cidra',\n",
    "        'Coamo NSA':'Coamo',\t\n",
    "        'Comerio NSA':'Comerío',\t\n",
    "        'Corozal NSA':'Corozal',\t\n",
    "        'Culebra NSA':'Culebra',\t\n",
    "        'Dorado NSA':'Dorado',\t\n",
    "        'Fajardo NSA':'Fajardo',\t\n",
    "        'Florida NSA':'Florida',\t\n",
    "        'Guanica NSA':'Guánica',\t\n",
    "        'Guayama NSA':'Guayama',\t\n",
    "        'Guayanilla NSA':'Guayanilla',\n",
    "        'Guaynabo NSA':'Guaynabo',\n",
    "        'Gurabo NSA':'Gurabo',\n",
    "        'Hatillo NSA':'Hatillo',\t\n",
    "        'Hormigueros NSA':'Hormigueros',\t\n",
    "        'Humacao NSA':'Humacao',\t\n",
    "        'Isabela NSA':'Isabela',\t\n",
    "        'Jayuya NSA':'Jayuya',\t\n",
    "        'Juana Diaz NSA':'Juana Díaz',\t\n",
    "        'Juncos NSA':'Juncos',\t\n",
    "        'Lajas NSA':'Lajas',\t\n",
    "        'Lares NSA':'Lares',\t\n",
    "        'Las Marias NSA':'Las Marías',\t\n",
    "        'Las Piedras NSA':'Las Piedras',\n",
    "        'Loiza NSA':'Loiza',\t\n",
    "        'Luquillo NSA':'Luquillo',\t\n",
    "        'Manati NSA':'Manatí',\t\n",
    "        'Maricao NSA':'Maricao',\n",
    "        'Maunabo NSA':'Maunabo',\t\n",
    "        'Mayaguez NSA':'Mayagüez',\t\n",
    "        'Moca NSA':'Moca',\t\n",
    "        'Morovis NSA':'Morovis',\t\n",
    "        'Naguabo NSA':'Naguabo',\t\n",
    "        'Naranjito NSA':'Naranjito',\t\n",
    "        'Orocovis NSA':'Orocovis',\t\n",
    "        'Patillas NSA':'Patillas',\t\n",
    "        'Penuelas NSA':'Peñuelas',\t\n",
    "        'Ponce NSA':'Ponce',\t\n",
    "        'Quebradillas NSA':'Quebradillas',\t\n",
    "        'Rincon NSA':'Rincón',\t\n",
    "        'Rio Grande NSA':'Rio Grande',\t\n",
    "        'Sabana Grande NSA':'Sabana Grande',\t\n",
    "        'Salinas NSA':'Salinas',\t\n",
    "        'San German NSA':'San Germán',\t\n",
    "        'San Juan NSA':'San Juan',\t\n",
    "        'San Lorenzo NSA':'San Lorenzo',\t\n",
    "        'San Sebastian NSA':'San Sebastián',\t\n",
    "        'Santa Isabel NSA':'Santa Isabel',\t\n",
    "        'Toa Alta NSA':'Toa Alta',\t\n",
    "        'Toa Baja NSA':'Toa Baja',\t\n",
    "        'Trujillo Alto NSA':'Trujillo Alto',\t\n",
    "        'Utuado NSA':'Utuado',\n",
    "        'Vega Alta NSA':'Vega Alta', \n",
    "        'Vega Baja NSA':'Vega Baja',\t\n",
    "        'Vieques NSA':'Vieques',\t\n",
    "        'Villalba NSA':'Villalba',\t\n",
    "        'Yabucoa NSA':'Yabucoa',\t\n",
    "        'Yauco NSA':'Yauco',\n",
    "        'Mayaguez-San Germán, PR CSA NSA':'Mayaguez-San Germán, PR',\n",
    "        'Ponce-Coamo-Santa Isabel, PR CSA NSA':'Ponce-Coamo-Santa Isabel, PR',\t\n",
    "        'San Juan-Carolina, PR CSA NSA':'San Juan-Carolina, PR',\t\n",
    "        'Adjuntas, PR MicroSA NSA':'Adjuntas, PR',\t\n",
    "        'Coamo, PR MicroSA NSA':'Coamo, PR',\t\n",
    "        'Coco, Salinas, PR MicroSA NSA':'Coco, Salinas, PR', \n",
    "        'Jayuya, PR MicroSA NSA':'Jayuya, PR',\t\n",
    "        'Santa Isabel, PR MicroSA NSA':'Santa Isabel, PR',\n",
    "        'Aguadilla-Isabela, PR MSA NSA':'Aguadilla-Isabela, PR',\t\n",
    "        'Arecibo, PR MSA NSA':'Arecibo, PR',\t\n",
    "        'Guayama, PR MSA NSA':'Guayama, PR',\t\n",
    "        'Mayaguez, PR MSA NSA':'Mayagüez, PR',\t\n",
    "        'Ponce, PR MSA NSA':'Ponce, PR',\t\n",
    "        'San Germán, PR MSA NSA':'San Germán, PR',\t\n",
    "        'San Juan-Carolina-Caguas, PR MSA NSA':'San Juan-Carolina-Caguas, PR'}, \n",
    "    inplace=True)\n",
    "datasetTasaDespl\n"
   ]
  },
  {
   "cell_type": "markdown",
   "metadata": {
    "id": "Wp68NoTuAHVv"
   },
   "source": [
    "Cambio a nombres de header de personas desempleadas a los mismos de data de delitos tipo 1"
   ]
  },
  {
   "cell_type": "code",
   "execution_count": null,
   "metadata": {
    "colab": {
     "base_uri": "https://localhost:8080/",
     "height": 713
    },
    "id": "_pdi552K-MW4",
    "outputId": "dccb7982-9fa6-4993-fe4a-e49ace28aad1"
   },
   "outputs": [],
   "source": [
    "datasetPersDespl.rename(\n",
    "    columns={\n",
    "        'Adjuntas NSA':'Adjuntas',\n",
    "        'Aguada NSA':'Aguada',\n",
    "        'Aguadilla NSA':'Aguadilla',\t\n",
    "        'Aguas Buenas NSA':'Aguas Buenas',\t\n",
    "        'Aibonito NSA':'Aibonito', \n",
    "        'Añasco NSA':'Añasco',\t\n",
    "        'Arecibo NSA':'Arecibo',\t\n",
    "        'Arroyo NSA':'Arroyo',\t\n",
    "        'Barceloneta NSA':'Barceloneta',\t\n",
    "        'Barranquitas NSA':'Barranquitas',\t\n",
    "        'Bayamon NSA':'Bayamón',\t\n",
    "        'Cabo Rojo NSA':'Cabo Rojo',\t\n",
    "        'Caguas NSA':'Caguas',\t\n",
    "        'Camuy NSA':'Camuy',\t\n",
    "        'Canovanas NSA':'Canóvanas',\n",
    "        'Carolina NSA':'Carolina',\n",
    "        'Catano NSA':'Cataño',\n",
    "        'Cayey NSA':'Cayey',\t\n",
    "        'Ceiba NSA':'Ceiba',\t\n",
    "        'Ciales NSA':'Cielo',\t\n",
    "        'Cidra NSA':'Cidra',\n",
    "        'Coamo NSA':'Coamo',\t\n",
    "        'Comerio NSA':'Comerío',\t\n",
    "        'Corozal NSA':'Corozal',\t\n",
    "        'Culebra NSA':'Culebra',\t\n",
    "        'Dorado NSA':'Dorado',\t\n",
    "        'Fajardo NSA':'Fajardo',\t\n",
    "        'Florida NSA':'Florida',\t\n",
    "        'Guanica NSA':'Guánica',\t\n",
    "        'Guayama NSA':'Guayama',\t\n",
    "        'Guayanilla NSA':'Guayanilla',\n",
    "        'Guaynabo NSA':'Guaynabo',\n",
    "        'Gurabo NSA':'Gurabo',\n",
    "        'Hatillo NSA':'Hatillo',\t\n",
    "        'Hormigueros NSA':'Hormigueros',\t\n",
    "        'Humacao NSA':'Humacao',\t\n",
    "        'Isabela NSA':'Isabela',\t\n",
    "        'Jayuya NSA':'Jayuya',\t\n",
    "        'Juana Diaz NSA':'Juana Díaz',\t\n",
    "        'Juncos NSA':'Juncos',\t\n",
    "        'Lajas NSA':'Lajas',\t\n",
    "        'Lares NSA':'Lares',\t\n",
    "        'Las Marias NSA':'Las Marías',\t\n",
    "        'Las Piedras NSA':'Las Piedras',\n",
    "        'Loiza NSA':'Loiza',\t\n",
    "        'Luquillo NSA':'Luquillo',\t\n",
    "        'Manati NSA':'Manatí',\t\n",
    "        'Maricao NSA':'Maricao',\n",
    "        'Maunabo NSA':'Maunabo',\t\n",
    "        'Mayaguez NSA':'Mayagüez',\t\n",
    "        'Moca NSA':'Moca',\t\n",
    "        'Morovis NSA':'Morovis',\t\n",
    "        'Naguabo NSA':'Naguabo',\t\n",
    "        'Naranjito NSA':'Naranjito',\t\n",
    "        'Orocovis NSA':'Orocovis',\t\n",
    "        'Patillas NSA':'Patillas',\t\n",
    "        'Penuelas NSA':'Peñuelas',\t\n",
    "        'Ponce NSA':'Ponce',\t\n",
    "        'Quebradillas NSA':'Quebradillas',\t\n",
    "        'Rincon NSA':'Rincón',\t\n",
    "        'Rio Grande NSA':'Rio Grande',\t\n",
    "        'Sabana Grande NSA':'Sabana Grande',\t\n",
    "        'Salinas NSA':'Salinas',\t\n",
    "        'San German NSA':'San Germán',\t\n",
    "        'San Juan NSA':'San Juan',\t\n",
    "        'San Lorenzo NSA':'San Lorenzo',\t\n",
    "        'San Sebastian NSA':'San Sebastián',\t\n",
    "        'Santa Isabel NSA':'Santa Isabel',\t\n",
    "        'Toa Alta NSA':'Toa Alta',\t\n",
    "        'Toa Baja NSA':'Toa Baja',\t\n",
    "        'Trujillo Alto NSA':'Trujillo Alto',\t\n",
    "        'Utuado NSA':'Utuado',\n",
    "        'Vega Alta NSA':'Vega Alta', \n",
    "        'Vega Baja NSA':'Vega Baja',\t\n",
    "        'Vieques NSA':'Vieques',\t\n",
    "        'Villalba NSA':'Villalba',\t\n",
    "        'Yabucoa NSA':'Yabucoa',\t\n",
    "        'Yauco NSA':'Yauco',\n",
    "        'Mayaguez-San Germán, PR CSA NSA':'Mayaguez-San Germán, PR',\n",
    "        'Ponce-Coamo-Santa Isabel, PR CSA NSA':'Ponce-Coamo-Santa Isabel, PR',\t\n",
    "        'San Juan-Carolina, PR CSA NSA':'San Juan-Carolina, PR',\t\n",
    "        'Adjuntas, PR MicroSA NSA':'Adjuntas, PR',\t\n",
    "        'Coamo, PR MicroSA NSA':'Coamo, PR',\t\n",
    "        'Coco, Salinas, PR MicroSA NSA':'Coco, Salinas, PR', \n",
    "        'Jayuya, PR MicroSA NSA':'Jayuya, PR',\t\n",
    "        'Santa Isabel, PR MicroSA NSA':'Santa Isabel, PR',\n",
    "        'Aguadilla-Isabela, PR MSA NSA':'Aguadilla-Isabela, PR',\t\n",
    "        'Arecibo, PR MSA NSA':'Arecibo, PR',\t\n",
    "        'Guayama, PR MSA NSA':'Guayama, PR',\t\n",
    "        'Mayaguez, PR MSA NSA':'Mayagüez, PR',\t\n",
    "        'Ponce, PR MSA NSA':'Ponce, PR',\t\n",
    "        'San Germán, PR MSA NSA':'San Germán, PR',\t\n",
    "        'San Juan-Carolina-Caguas, PR MSA NSA':'San Juan-Carolina-Caguas, PR'}, \n",
    "    inplace=True)\n",
    "datasetPersDespl\n"
   ]
  }
 ],
 "metadata": {
  "colab": {
   "provenance": []
  },
  "kernelspec": {
   "display_name": "Python 3 (ipykernel)",
   "language": "python",
   "name": "python3"
  },
  "language_info": {
   "codemirror_mode": {
    "name": "ipython",
    "version": 3
   },
   "file_extension": ".py",
   "mimetype": "text/x-python",
   "name": "python",
   "nbconvert_exporter": "python",
   "pygments_lexer": "ipython3",
   "version": "3.9.13"
  }
 },
 "nbformat": 4,
 "nbformat_minor": 4
}
