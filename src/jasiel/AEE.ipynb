{
 "cells": [
  {
   "cell_type": "code",
   "execution_count": 50,
   "metadata": {},
   "outputs": [],
   "source": [
    "import pandas as pd\n",
    "import numpy as np\n",
    "import csv\n",
    "import re"
   ]
  },
  {
   "cell_type": "code",
   "execution_count": 83,
   "metadata": {},
   "outputs": [],
   "source": [
    "# Open the input and output CSV files\n",
    "with open('../../data/raw/aee-meta-ultimo.csv', 'r', encoding='windows-1252') as infile, open('../../data/raw/aee-meta-ultimo-fixed.csv', 'w', newline='', encoding='windows-1252') as outfile:\n",
    "    reader = csv.reader(infile)\n",
    "    writer = csv.writer(outfile)\n",
    "\n",
    "    # Iterate through each row in the input file\n",
    "    for row in reader:\n",
    "        # Use regular expressions to replace multiple spaces with a single space\n",
    "        row = [re.sub('\\s+', ' ', cell) if cell else cell for cell in row]\n",
    "        \n",
    "        # Strip leading and trailing whitespace from each cell\n",
    "        row = [cell.strip() if cell else cell for cell in row]\n",
    "\n",
    "        # Write the updated row to the output file\n",
    "        writer.writerow(row)\n"
   ]
  },
  {
   "cell_type": "code",
   "execution_count": null,
   "metadata": {},
   "outputs": [],
   "source": [
    "# Load data\n",
    "df = pd.read_csv('../../data/raw/aee-meta-ultimo-fixed.csv', encoding='windows-1252')\n",
    "df['Comentarios'].fillna('ninguno')"
   ]
  },
  {
   "cell_type": "code",
   "execution_count": 97,
   "metadata": {},
   "outputs": [
    {
     "name": "stderr",
     "output_type": "stream",
     "text": [
      "/var/folders/31/dtbx52_n34731g741qmnd9z40000gn/T/ipykernel_3004/4018186472.py:5: SettingWithCopyWarning: \n",
      "A value is trying to be set on a copy of a slice from a DataFrame\n",
      "\n",
      "See the caveats in the documentation: https://pandas.pydata.org/pandas-docs/stable/user_guide/indexing.html#returning-a-view-versus-a-copy\n",
      "  data['comments'].fillna('none', inplace=True)\n"
     ]
    }
   ],
   "source": [
    "# Keep only the columns we need and rename them to english\n",
    "data = df[['Mes', 'Generación Bruta (mkWh)', 'Generación Neta (mkWh)', 'Demanda Máxima (MW)', 'Generación Bruta Total AEE (mkWh)', 'Generación NetaTotal AEE (mkWh)', 'Comentarios']]\n",
    "\n",
    "data.columns = ['month', 'gross_generation', 'net_generation', 'max_demand', 'gross_generation_aee', 'net_generation_aee', 'comments']\n",
    "data['comments'].fillna('none', inplace=True)\n",
    "\n",
    "data.to_csv('../../data/clean/aee/aee.csv', index=False)"
   ]
  }
 ],
 "metadata": {
  "kernelspec": {
   "display_name": "PR-Data-Correlations-MhH9yvVQ",
   "language": "python",
   "name": "python3"
  },
  "language_info": {
   "codemirror_mode": {
    "name": "ipython",
    "version": 3
   },
   "file_extension": ".py",
   "mimetype": "text/x-python",
   "name": "python",
   "nbconvert_exporter": "python",
   "pygments_lexer": "ipython3",
   "version": "3.11.3"
  },
  "orig_nbformat": 4
 },
 "nbformat": 4,
 "nbformat_minor": 2
}
