{
 "cells": [
  {
   "cell_type": "code",
   "execution_count": null,
   "metadata": {},
   "outputs": [],
   "source": [
    "import pandas as pd\n",
    "import numpy as np\n",
    "import matplotlib.pyplot as plt"
   ]
  },
  {
   "cell_type": "code",
   "execution_count": null,
   "metadata": {},
   "outputs": [],
   "source": [
    "# Load the data from the csv file\n",
    "crimes_df = pd.read_csv('../../data/clean/DelitosTipo1/DelitosTipo1-2010-2020.csv', index_col=0)\n",
    "\n",
    "# Convert the date column to datetime\n",
    "crimes_df['Date'] = pd.to_datetime(crimes_df['Date'], format='%Y-%m')"
   ]
  },
  {
   "cell_type": "code",
   "execution_count": null,
   "metadata": {},
   "outputs": [],
   "source": [
    "Districs = list(crimes_df['Distrito'].unique())\n",
    "Districs.sort()"
   ]
  },
  {
   "cell_type": "code",
   "execution_count": null,
   "metadata": {},
   "outputs": [],
   "source": [
    "\n",
    "for distric in Districs:\n",
    "    plt.figure(figsize=(10, 10))\n",
    "    distric_df = crimes_df[crimes_df['Distrito'] == str(distric)]\n",
    "    distric_df_year_range = distric_df[distric_df['Date'] >= '2010-01-01']\n",
    "\n",
    "    # Set style settings before plotting data\n",
    "    plt.box(False)\n",
    "    plt.grid(True)\n",
    "    plt.xticks(rotation=45)\n",
    "\n",
    "    # Plot the data\n",
    "    plt.plot(distric_df_year_range['Date'], distric_df_year_range['Tipo I'], color='red')\n",
    "    plt.title('Delitos tipo I en ' + str(distric) + ' de 2010 hasta 2020')\n",
    "    plt.xlabel('Fecha')\n",
    "    plt.ylabel('Número de delitos tipo I')\n",
    "\n",
    "    # Save and show the plot\n",
    "    plt.savefig('../../results/visual/crime_type1_plot_' + str(distric) + '.png')\n",
    "    plt.show()\n",
    "\n",
    "years = range(2010, 2021)\n",
    "\n",
    "for distric in Districs:\n",
    "    distric_df = crimes_df.loc[crimes_df['Distrito'] == distric]\n",
    "    distric_df_yearly = distric_df.loc[distric_df['Date'].dt.month == 12]\n",
    "\n",
    "    # Bar chart\n",
    "    fig, ax = plt.subplots()\n",
    "    fig.set_size_inches(10, 10)\n",
    "    ax.bar(years, height=distric_df_yearly.groupby('Date').sum()['Tipo I'], color='red')\n",
    "    ax.set_title(f'Delitos tipo I en {distric} desde 2010 hasta 2020')\n",
    "    ax.set_xlabel('Fecha')\n",
    "    ax.set_ylabel('Número de delitos tipo I')\n",
    "    ax.set_xticks(years)\n",
    "    ax.tick_params(axis='x', rotation=45)\n",
    "    plt.savefig(f'../../results/visual/crime_type1_barplot_{distric}.png')\n",
    "    plt.show()\n",
    "\n",
    "\n",
    "\n",
    "\n",
    "\n",
    "\n",
    "    "
   ]
  },
  {
   "cell_type": "code",
   "execution_count": null,
   "metadata": {},
   "outputs": [],
   "source": [
    "\n"
   ]
  }
 ],
 "metadata": {
  "kernelspec": {
   "display_name": "PR-Data-Correlations-MhH9yvVQ",
   "language": "python",
   "name": "python3"
  },
  "language_info": {
   "codemirror_mode": {
    "name": "ipython",
    "version": 3
   },
   "file_extension": ".py",
   "mimetype": "text/x-python",
   "name": "python",
   "nbconvert_exporter": "python",
   "pygments_lexer": "ipython3",
   "version": "3.11.3"
  },
  "orig_nbformat": 4
 },
 "nbformat": 4,
 "nbformat_minor": 2
}
