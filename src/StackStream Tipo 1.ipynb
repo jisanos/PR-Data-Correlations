{
 "cells": [
  {
   "cell_type": "code",
   "execution_count": 1,
   "id": "a2ff5480",
   "metadata": {},
   "outputs": [],
   "source": [
    "import pandas as pd\n",
    "import numpy as np\n",
    "import matplotlib.pyplot as plt\n",
    "import plotly.express as px\n",
    "from scipy import stats\n"
   ]
  },
  {
   "cell_type": "code",
   "execution_count": 45,
   "id": "793f7737",
   "metadata": {},
   "outputs": [
    {
     "data": {
      "text/html": [
       "<div>\n",
       "<style scoped>\n",
       "    .dataframe tbody tr th:only-of-type {\n",
       "        vertical-align: middle;\n",
       "    }\n",
       "\n",
       "    .dataframe tbody tr th {\n",
       "        vertical-align: top;\n",
       "    }\n",
       "\n",
       "    .dataframe thead th {\n",
       "        text-align: right;\n",
       "    }\n",
       "</style>\n",
       "<table border=\"1\" class=\"dataframe\">\n",
       "  <thead>\n",
       "    <tr style=\"text-align: right;\">\n",
       "      <th></th>\n",
       "      <th>Date</th>\n",
       "      <th>Distrito</th>\n",
       "      <th>Tipo I</th>\n",
       "      <th>Ases.</th>\n",
       "      <th>Viol.</th>\n",
       "      <th>Robo</th>\n",
       "      <th>Agr. Grave</th>\n",
       "      <th>Esc.</th>\n",
       "      <th>Apr. I</th>\n",
       "      <th>H. Auto</th>\n",
       "      <th>Year</th>\n",
       "      <th>Month</th>\n",
       "    </tr>\n",
       "  </thead>\n",
       "  <tbody>\n",
       "    <tr>\n",
       "      <th>0</th>\n",
       "      <td>2010-01-01</td>\n",
       "      <td>Adjuntas</td>\n",
       "      <td>34.0</td>\n",
       "      <td>0.0</td>\n",
       "      <td>0.0</td>\n",
       "      <td>4.0</td>\n",
       "      <td>1.0</td>\n",
       "      <td>12.0</td>\n",
       "      <td>16.0</td>\n",
       "      <td>1.0</td>\n",
       "      <td>2010</td>\n",
       "      <td>1</td>\n",
       "    </tr>\n",
       "    <tr>\n",
       "      <th>1</th>\n",
       "      <td>2010-01-01</td>\n",
       "      <td>Ponce</td>\n",
       "      <td>243.0</td>\n",
       "      <td>4.0</td>\n",
       "      <td>0.0</td>\n",
       "      <td>26.0</td>\n",
       "      <td>14.0</td>\n",
       "      <td>52.0</td>\n",
       "      <td>123.0</td>\n",
       "      <td>24.0</td>\n",
       "      <td>2010</td>\n",
       "      <td>1</td>\n",
       "    </tr>\n",
       "    <tr>\n",
       "      <th>2</th>\n",
       "      <td>2010-01-01</td>\n",
       "      <td>Peñuelas</td>\n",
       "      <td>12.0</td>\n",
       "      <td>0.0</td>\n",
       "      <td>0.0</td>\n",
       "      <td>2.0</td>\n",
       "      <td>0.0</td>\n",
       "      <td>6.0</td>\n",
       "      <td>2.0</td>\n",
       "      <td>2.0</td>\n",
       "      <td>2010</td>\n",
       "      <td>1</td>\n",
       "    </tr>\n",
       "    <tr>\n",
       "      <th>3</th>\n",
       "      <td>2010-01-01</td>\n",
       "      <td>Patillas</td>\n",
       "      <td>13.0</td>\n",
       "      <td>0.0</td>\n",
       "      <td>0.0</td>\n",
       "      <td>0.0</td>\n",
       "      <td>4.0</td>\n",
       "      <td>6.0</td>\n",
       "      <td>3.0</td>\n",
       "      <td>0.0</td>\n",
       "      <td>2010</td>\n",
       "      <td>1</td>\n",
       "    </tr>\n",
       "    <tr>\n",
       "      <th>4</th>\n",
       "      <td>2010-01-01</td>\n",
       "      <td>Orocovis</td>\n",
       "      <td>22.0</td>\n",
       "      <td>0.0</td>\n",
       "      <td>0.0</td>\n",
       "      <td>0.0</td>\n",
       "      <td>0.0</td>\n",
       "      <td>10.0</td>\n",
       "      <td>12.0</td>\n",
       "      <td>0.0</td>\n",
       "      <td>2010</td>\n",
       "      <td>1</td>\n",
       "    </tr>\n",
       "    <tr>\n",
       "      <th>...</th>\n",
       "      <td>...</td>\n",
       "      <td>...</td>\n",
       "      <td>...</td>\n",
       "      <td>...</td>\n",
       "      <td>...</td>\n",
       "      <td>...</td>\n",
       "      <td>...</td>\n",
       "      <td>...</td>\n",
       "      <td>...</td>\n",
       "      <td>...</td>\n",
       "      <td>...</td>\n",
       "      <td>...</td>\n",
       "    </tr>\n",
       "    <tr>\n",
       "      <th>10291</th>\n",
       "      <td>2020-12-01</td>\n",
       "      <td>Orocovis</td>\n",
       "      <td>11.0</td>\n",
       "      <td>0.0</td>\n",
       "      <td>0.0</td>\n",
       "      <td>0.0</td>\n",
       "      <td>2.0</td>\n",
       "      <td>5.0</td>\n",
       "      <td>3.0</td>\n",
       "      <td>1.0</td>\n",
       "      <td>2020</td>\n",
       "      <td>12</td>\n",
       "    </tr>\n",
       "    <tr>\n",
       "      <th>10292</th>\n",
       "      <td>2020-12-01</td>\n",
       "      <td>Patillas</td>\n",
       "      <td>8.0</td>\n",
       "      <td>0.0</td>\n",
       "      <td>0.0</td>\n",
       "      <td>0.0</td>\n",
       "      <td>6.0</td>\n",
       "      <td>1.0</td>\n",
       "      <td>1.0</td>\n",
       "      <td>0.0</td>\n",
       "      <td>2020</td>\n",
       "      <td>12</td>\n",
       "    </tr>\n",
       "    <tr>\n",
       "      <th>10293</th>\n",
       "      <td>2020-12-01</td>\n",
       "      <td>Ponce</td>\n",
       "      <td>71.0</td>\n",
       "      <td>0.0</td>\n",
       "      <td>1.0</td>\n",
       "      <td>6.0</td>\n",
       "      <td>10.0</td>\n",
       "      <td>13.0</td>\n",
       "      <td>40.0</td>\n",
       "      <td>1.0</td>\n",
       "      <td>2020</td>\n",
       "      <td>12</td>\n",
       "    </tr>\n",
       "    <tr>\n",
       "      <th>10294</th>\n",
       "      <td>2020-12-01</td>\n",
       "      <td>Mayagüez</td>\n",
       "      <td>34.0</td>\n",
       "      <td>2.0</td>\n",
       "      <td>0.0</td>\n",
       "      <td>1.0</td>\n",
       "      <td>6.0</td>\n",
       "      <td>6.0</td>\n",
       "      <td>18.0</td>\n",
       "      <td>1.0</td>\n",
       "      <td>2020</td>\n",
       "      <td>12</td>\n",
       "    </tr>\n",
       "    <tr>\n",
       "      <th>10295</th>\n",
       "      <td>2020-12-01</td>\n",
       "      <td>Peñuelas</td>\n",
       "      <td>8.0</td>\n",
       "      <td>0.0</td>\n",
       "      <td>0.0</td>\n",
       "      <td>0.0</td>\n",
       "      <td>4.0</td>\n",
       "      <td>1.0</td>\n",
       "      <td>2.0</td>\n",
       "      <td>1.0</td>\n",
       "      <td>2020</td>\n",
       "      <td>12</td>\n",
       "    </tr>\n",
       "  </tbody>\n",
       "</table>\n",
       "<p>10296 rows × 12 columns</p>\n",
       "</div>"
      ],
      "text/plain": [
       "            Date  Distrito  Tipo I  Ases.  Viol.  Robo  Agr. Grave  Esc.  \\\n",
       "0     2010-01-01  Adjuntas    34.0    0.0    0.0   4.0         1.0  12.0   \n",
       "1     2010-01-01     Ponce   243.0    4.0    0.0  26.0        14.0  52.0   \n",
       "2     2010-01-01  Peñuelas    12.0    0.0    0.0   2.0         0.0   6.0   \n",
       "3     2010-01-01  Patillas    13.0    0.0    0.0   0.0         4.0   6.0   \n",
       "4     2010-01-01  Orocovis    22.0    0.0    0.0   0.0         0.0  10.0   \n",
       "...          ...       ...     ...    ...    ...   ...         ...   ...   \n",
       "10291 2020-12-01  Orocovis    11.0    0.0    0.0   0.0         2.0   5.0   \n",
       "10292 2020-12-01  Patillas     8.0    0.0    0.0   0.0         6.0   1.0   \n",
       "10293 2020-12-01     Ponce    71.0    0.0    1.0   6.0        10.0  13.0   \n",
       "10294 2020-12-01  Mayagüez    34.0    2.0    0.0   1.0         6.0   6.0   \n",
       "10295 2020-12-01  Peñuelas     8.0    0.0    0.0   0.0         4.0   1.0   \n",
       "\n",
       "       Apr. I  H. Auto  Year  Month  \n",
       "0        16.0      1.0  2010      1  \n",
       "1       123.0     24.0  2010      1  \n",
       "2         2.0      2.0  2010      1  \n",
       "3         3.0      0.0  2010      1  \n",
       "4        12.0      0.0  2010      1  \n",
       "...       ...      ...   ...    ...  \n",
       "10291     3.0      1.0  2020     12  \n",
       "10292     1.0      0.0  2020     12  \n",
       "10293    40.0      1.0  2020     12  \n",
       "10294    18.0      1.0  2020     12  \n",
       "10295     2.0      1.0  2020     12  \n",
       "\n",
       "[10296 rows x 12 columns]"
      ]
     },
     "execution_count": 45,
     "metadata": {},
     "output_type": "execute_result"
    }
   ],
   "source": [
    "delitosdf = pd.read_csv(r\"C:\\Users\\Adam\\Downloads\\DelitosTipo1-2010-2020_deltas_mensuales(interpolado).csv\")\n",
    "df = delitosdf.drop(columns=['Unnamed: 0'])\n",
    "df[\"Year\"] = pd.DatetimeIndex(df[\"Date\"]).year\n",
    "df[\"Month\"] = pd.DatetimeIndex(df[\"Date\"]).month\n",
    "df[\"Date\"] = pd.to_datetime(df[\"Date\"], format=\"%Y-%m\")\n",
    "df.insert(0, \"Date\", df.pop(\"Date\"))\n",
    "df"
   ]
  },
  {
   "cell_type": "code",
   "execution_count": 46,
   "id": "3ac2f05e",
   "metadata": {},
   "outputs": [
    {
     "data": {
      "text/html": [
       "<div>\n",
       "<style scoped>\n",
       "    .dataframe tbody tr th:only-of-type {\n",
       "        vertical-align: middle;\n",
       "    }\n",
       "\n",
       "    .dataframe tbody tr th {\n",
       "        vertical-align: top;\n",
       "    }\n",
       "\n",
       "    .dataframe thead th {\n",
       "        text-align: right;\n",
       "    }\n",
       "</style>\n",
       "<table border=\"1\" class=\"dataframe\">\n",
       "  <thead>\n",
       "    <tr style=\"text-align: right;\">\n",
       "      <th></th>\n",
       "      <th>Date</th>\n",
       "      <th>Distrito</th>\n",
       "      <th>Tipo I</th>\n",
       "      <th>Ases.</th>\n",
       "      <th>Viol.</th>\n",
       "      <th>Robo</th>\n",
       "      <th>Agr. Grave</th>\n",
       "      <th>Esc.</th>\n",
       "      <th>Apr. I</th>\n",
       "      <th>H. Auto</th>\n",
       "      <th>Year</th>\n",
       "      <th>Month</th>\n",
       "    </tr>\n",
       "  </thead>\n",
       "  <tbody>\n",
       "    <tr>\n",
       "      <th>858</th>\n",
       "      <td>2010-12-01</td>\n",
       "      <td>Aguada</td>\n",
       "      <td>25.0</td>\n",
       "      <td>0.0</td>\n",
       "      <td>0.0</td>\n",
       "      <td>0.0</td>\n",
       "      <td>2.0</td>\n",
       "      <td>11.0</td>\n",
       "      <td>11.0</td>\n",
       "      <td>1.0</td>\n",
       "      <td>2010</td>\n",
       "      <td>12</td>\n",
       "    </tr>\n",
       "    <tr>\n",
       "      <th>859</th>\n",
       "      <td>2010-12-01</td>\n",
       "      <td>Aguas Buenas</td>\n",
       "      <td>18.0</td>\n",
       "      <td>2.0</td>\n",
       "      <td>0.0</td>\n",
       "      <td>6.0</td>\n",
       "      <td>3.0</td>\n",
       "      <td>3.0</td>\n",
       "      <td>3.0</td>\n",
       "      <td>1.0</td>\n",
       "      <td>2010</td>\n",
       "      <td>12</td>\n",
       "    </tr>\n",
       "    <tr>\n",
       "      <th>860</th>\n",
       "      <td>2010-12-01</td>\n",
       "      <td>Ponce</td>\n",
       "      <td>305.0</td>\n",
       "      <td>6.0</td>\n",
       "      <td>0.0</td>\n",
       "      <td>27.0</td>\n",
       "      <td>17.0</td>\n",
       "      <td>66.0</td>\n",
       "      <td>173.0</td>\n",
       "      <td>16.0</td>\n",
       "      <td>2010</td>\n",
       "      <td>12</td>\n",
       "    </tr>\n",
       "    <tr>\n",
       "      <th>861</th>\n",
       "      <td>2010-12-01</td>\n",
       "      <td>Peñuelas</td>\n",
       "      <td>27.0</td>\n",
       "      <td>0.0</td>\n",
       "      <td>0.0</td>\n",
       "      <td>4.0</td>\n",
       "      <td>4.0</td>\n",
       "      <td>6.0</td>\n",
       "      <td>13.0</td>\n",
       "      <td>0.0</td>\n",
       "      <td>2010</td>\n",
       "      <td>12</td>\n",
       "    </tr>\n",
       "    <tr>\n",
       "      <th>862</th>\n",
       "      <td>2010-12-01</td>\n",
       "      <td>Patillas</td>\n",
       "      <td>11.0</td>\n",
       "      <td>0.0</td>\n",
       "      <td>0.0</td>\n",
       "      <td>1.0</td>\n",
       "      <td>0.0</td>\n",
       "      <td>4.0</td>\n",
       "      <td>5.0</td>\n",
       "      <td>1.0</td>\n",
       "      <td>2010</td>\n",
       "      <td>12</td>\n",
       "    </tr>\n",
       "    <tr>\n",
       "      <th>...</th>\n",
       "      <td>...</td>\n",
       "      <td>...</td>\n",
       "      <td>...</td>\n",
       "      <td>...</td>\n",
       "      <td>...</td>\n",
       "      <td>...</td>\n",
       "      <td>...</td>\n",
       "      <td>...</td>\n",
       "      <td>...</td>\n",
       "      <td>...</td>\n",
       "      <td>...</td>\n",
       "      <td>...</td>\n",
       "    </tr>\n",
       "    <tr>\n",
       "      <th>10291</th>\n",
       "      <td>2020-12-01</td>\n",
       "      <td>Orocovis</td>\n",
       "      <td>11.0</td>\n",
       "      <td>0.0</td>\n",
       "      <td>0.0</td>\n",
       "      <td>0.0</td>\n",
       "      <td>2.0</td>\n",
       "      <td>5.0</td>\n",
       "      <td>3.0</td>\n",
       "      <td>1.0</td>\n",
       "      <td>2020</td>\n",
       "      <td>12</td>\n",
       "    </tr>\n",
       "    <tr>\n",
       "      <th>10292</th>\n",
       "      <td>2020-12-01</td>\n",
       "      <td>Patillas</td>\n",
       "      <td>8.0</td>\n",
       "      <td>0.0</td>\n",
       "      <td>0.0</td>\n",
       "      <td>0.0</td>\n",
       "      <td>6.0</td>\n",
       "      <td>1.0</td>\n",
       "      <td>1.0</td>\n",
       "      <td>0.0</td>\n",
       "      <td>2020</td>\n",
       "      <td>12</td>\n",
       "    </tr>\n",
       "    <tr>\n",
       "      <th>10293</th>\n",
       "      <td>2020-12-01</td>\n",
       "      <td>Ponce</td>\n",
       "      <td>71.0</td>\n",
       "      <td>0.0</td>\n",
       "      <td>1.0</td>\n",
       "      <td>6.0</td>\n",
       "      <td>10.0</td>\n",
       "      <td>13.0</td>\n",
       "      <td>40.0</td>\n",
       "      <td>1.0</td>\n",
       "      <td>2020</td>\n",
       "      <td>12</td>\n",
       "    </tr>\n",
       "    <tr>\n",
       "      <th>10294</th>\n",
       "      <td>2020-12-01</td>\n",
       "      <td>Mayagüez</td>\n",
       "      <td>34.0</td>\n",
       "      <td>2.0</td>\n",
       "      <td>0.0</td>\n",
       "      <td>1.0</td>\n",
       "      <td>6.0</td>\n",
       "      <td>6.0</td>\n",
       "      <td>18.0</td>\n",
       "      <td>1.0</td>\n",
       "      <td>2020</td>\n",
       "      <td>12</td>\n",
       "    </tr>\n",
       "    <tr>\n",
       "      <th>10295</th>\n",
       "      <td>2020-12-01</td>\n",
       "      <td>Peñuelas</td>\n",
       "      <td>8.0</td>\n",
       "      <td>0.0</td>\n",
       "      <td>0.0</td>\n",
       "      <td>0.0</td>\n",
       "      <td>4.0</td>\n",
       "      <td>1.0</td>\n",
       "      <td>2.0</td>\n",
       "      <td>1.0</td>\n",
       "      <td>2020</td>\n",
       "      <td>12</td>\n",
       "    </tr>\n",
       "  </tbody>\n",
       "</table>\n",
       "<p>858 rows × 12 columns</p>\n",
       "</div>"
      ],
      "text/plain": [
       "            Date      Distrito  Tipo I  Ases.  Viol.  Robo  Agr. Grave  Esc.  \\\n",
       "858   2010-12-01       Aguada     25.0    0.0    0.0   0.0         2.0  11.0   \n",
       "859   2010-12-01  Aguas Buenas    18.0    2.0    0.0   6.0         3.0   3.0   \n",
       "860   2010-12-01         Ponce   305.0    6.0    0.0  27.0        17.0  66.0   \n",
       "861   2010-12-01      Peñuelas    27.0    0.0    0.0   4.0         4.0   6.0   \n",
       "862   2010-12-01      Patillas    11.0    0.0    0.0   1.0         0.0   4.0   \n",
       "...          ...           ...     ...    ...    ...   ...         ...   ...   \n",
       "10291 2020-12-01      Orocovis    11.0    0.0    0.0   0.0         2.0   5.0   \n",
       "10292 2020-12-01      Patillas     8.0    0.0    0.0   0.0         6.0   1.0   \n",
       "10293 2020-12-01         Ponce    71.0    0.0    1.0   6.0        10.0  13.0   \n",
       "10294 2020-12-01      Mayagüez    34.0    2.0    0.0   1.0         6.0   6.0   \n",
       "10295 2020-12-01      Peñuelas     8.0    0.0    0.0   0.0         4.0   1.0   \n",
       "\n",
       "       Apr. I  H. Auto  Year  Month  \n",
       "858      11.0      1.0  2010     12  \n",
       "859       3.0      1.0  2010     12  \n",
       "860     173.0     16.0  2010     12  \n",
       "861      13.0      0.0  2010     12  \n",
       "862       5.0      1.0  2010     12  \n",
       "...       ...      ...   ...    ...  \n",
       "10291     3.0      1.0  2020     12  \n",
       "10292     1.0      0.0  2020     12  \n",
       "10293    40.0      1.0  2020     12  \n",
       "10294    18.0      1.0  2020     12  \n",
       "10295     2.0      1.0  2020     12  \n",
       "\n",
       "[858 rows x 12 columns]"
      ]
     },
     "execution_count": 46,
     "metadata": {},
     "output_type": "execute_result"
    }
   ],
   "source": [
    "dateog = df.loc[df['Month'].isin([12])]\n",
    "dateog"
   ]
  },
  {
   "cell_type": "code",
   "execution_count": 47,
   "id": "aae29c15",
   "metadata": {},
   "outputs": [
    {
     "data": {
      "text/html": [
       "<div>\n",
       "<style scoped>\n",
       "    .dataframe tbody tr th:only-of-type {\n",
       "        vertical-align: middle;\n",
       "    }\n",
       "\n",
       "    .dataframe tbody tr th {\n",
       "        vertical-align: top;\n",
       "    }\n",
       "\n",
       "    .dataframe thead th {\n",
       "        text-align: right;\n",
       "    }\n",
       "</style>\n",
       "<table border=\"1\" class=\"dataframe\">\n",
       "  <thead>\n",
       "    <tr style=\"text-align: right;\">\n",
       "      <th></th>\n",
       "      <th>Date</th>\n",
       "      <th>Distrito</th>\n",
       "      <th>Tipo I</th>\n",
       "    </tr>\n",
       "  </thead>\n",
       "  <tbody>\n",
       "    <tr>\n",
       "      <th>0</th>\n",
       "      <td>2010-12-01</td>\n",
       "      <td>Aguada</td>\n",
       "      <td>25.0</td>\n",
       "    </tr>\n",
       "    <tr>\n",
       "      <th>1</th>\n",
       "      <td>2010-12-01</td>\n",
       "      <td>Aguas Buenas</td>\n",
       "      <td>18.0</td>\n",
       "    </tr>\n",
       "    <tr>\n",
       "      <th>2</th>\n",
       "      <td>2010-12-01</td>\n",
       "      <td>Ponce</td>\n",
       "      <td>305.0</td>\n",
       "    </tr>\n",
       "    <tr>\n",
       "      <th>3</th>\n",
       "      <td>2010-12-01</td>\n",
       "      <td>Peñuelas</td>\n",
       "      <td>27.0</td>\n",
       "    </tr>\n",
       "    <tr>\n",
       "      <th>4</th>\n",
       "      <td>2010-12-01</td>\n",
       "      <td>Patillas</td>\n",
       "      <td>11.0</td>\n",
       "    </tr>\n",
       "    <tr>\n",
       "      <th>...</th>\n",
       "      <td>...</td>\n",
       "      <td>...</td>\n",
       "      <td>...</td>\n",
       "    </tr>\n",
       "    <tr>\n",
       "      <th>853</th>\n",
       "      <td>2020-12-01</td>\n",
       "      <td>Orocovis</td>\n",
       "      <td>11.0</td>\n",
       "    </tr>\n",
       "    <tr>\n",
       "      <th>854</th>\n",
       "      <td>2020-12-01</td>\n",
       "      <td>Patillas</td>\n",
       "      <td>8.0</td>\n",
       "    </tr>\n",
       "    <tr>\n",
       "      <th>855</th>\n",
       "      <td>2020-12-01</td>\n",
       "      <td>Ponce</td>\n",
       "      <td>71.0</td>\n",
       "    </tr>\n",
       "    <tr>\n",
       "      <th>856</th>\n",
       "      <td>2020-12-01</td>\n",
       "      <td>Mayagüez</td>\n",
       "      <td>34.0</td>\n",
       "    </tr>\n",
       "    <tr>\n",
       "      <th>857</th>\n",
       "      <td>2020-12-01</td>\n",
       "      <td>Peñuelas</td>\n",
       "      <td>8.0</td>\n",
       "    </tr>\n",
       "  </tbody>\n",
       "</table>\n",
       "<p>858 rows × 3 columns</p>\n",
       "</div>"
      ],
      "text/plain": [
       "          Date      Distrito  Tipo I\n",
       "0   2010-12-01       Aguada     25.0\n",
       "1   2010-12-01  Aguas Buenas    18.0\n",
       "2   2010-12-01         Ponce   305.0\n",
       "3   2010-12-01      Peñuelas    27.0\n",
       "4   2010-12-01      Patillas    11.0\n",
       "..         ...           ...     ...\n",
       "853 2020-12-01      Orocovis    11.0\n",
       "854 2020-12-01      Patillas     8.0\n",
       "855 2020-12-01         Ponce    71.0\n",
       "856 2020-12-01      Mayagüez    34.0\n",
       "857 2020-12-01      Peñuelas     8.0\n",
       "\n",
       "[858 rows x 3 columns]"
      ]
     },
     "execution_count": 47,
     "metadata": {},
     "output_type": "execute_result"
    }
   ],
   "source": [
    "date = dateog.loc[:,['Date', 'Distrito', 'Tipo I']]\n",
    "date.reset_index(drop=True, inplace=True)  \n",
    "date"
   ]
  },
  {
   "cell_type": "code",
   "execution_count": 44,
   "id": "3d082966",
   "metadata": {},
   "outputs": [
    {
     "data": {
      "text/html": [
       "<div>\n",
       "<style scoped>\n",
       "    .dataframe tbody tr th:only-of-type {\n",
       "        vertical-align: middle;\n",
       "    }\n",
       "\n",
       "    .dataframe tbody tr th {\n",
       "        vertical-align: top;\n",
       "    }\n",
       "\n",
       "    .dataframe thead th {\n",
       "        text-align: right;\n",
       "    }\n",
       "</style>\n",
       "<table border=\"1\" class=\"dataframe\">\n",
       "  <thead>\n",
       "    <tr style=\"text-align: right;\">\n",
       "      <th></th>\n",
       "      <th>Date</th>\n",
       "      <th>Distrito</th>\n",
       "      <th>Tipo I</th>\n",
       "      <th>Ases.</th>\n",
       "      <th>Viol.</th>\n",
       "      <th>Robo</th>\n",
       "      <th>Agr. Grave</th>\n",
       "      <th>Esc.</th>\n",
       "      <th>Apr. I</th>\n",
       "      <th>H. Auto</th>\n",
       "      <th>Year</th>\n",
       "      <th>Month</th>\n",
       "    </tr>\n",
       "  </thead>\n",
       "  <tbody>\n",
       "    <tr>\n",
       "      <th>9360</th>\n",
       "      <td>2020-01-01</td>\n",
       "      <td>Adjuntas</td>\n",
       "      <td>3.0</td>\n",
       "      <td>0.0</td>\n",
       "      <td>0.0</td>\n",
       "      <td>0.0</td>\n",
       "      <td>1.5</td>\n",
       "      <td>0.5</td>\n",
       "      <td>1.0</td>\n",
       "      <td>0.0</td>\n",
       "      <td>2020</td>\n",
       "      <td>1</td>\n",
       "    </tr>\n",
       "    <tr>\n",
       "      <th>9361</th>\n",
       "      <td>2020-01-01</td>\n",
       "      <td>Peñuelas</td>\n",
       "      <td>4.0</td>\n",
       "      <td>1.0</td>\n",
       "      <td>0.0</td>\n",
       "      <td>0.5</td>\n",
       "      <td>0.5</td>\n",
       "      <td>0.5</td>\n",
       "      <td>1.5</td>\n",
       "      <td>0.0</td>\n",
       "      <td>2020</td>\n",
       "      <td>1</td>\n",
       "    </tr>\n",
       "    <tr>\n",
       "      <th>9362</th>\n",
       "      <td>2020-01-01</td>\n",
       "      <td>Patillas</td>\n",
       "      <td>8.5</td>\n",
       "      <td>0.5</td>\n",
       "      <td>0.0</td>\n",
       "      <td>0.5</td>\n",
       "      <td>2.0</td>\n",
       "      <td>2.0</td>\n",
       "      <td>3.5</td>\n",
       "      <td>0.0</td>\n",
       "      <td>2020</td>\n",
       "      <td>1</td>\n",
       "    </tr>\n",
       "    <tr>\n",
       "      <th>9363</th>\n",
       "      <td>2020-01-01</td>\n",
       "      <td>Orocovis</td>\n",
       "      <td>10.5</td>\n",
       "      <td>0.0</td>\n",
       "      <td>0.0</td>\n",
       "      <td>0.5</td>\n",
       "      <td>1.0</td>\n",
       "      <td>2.0</td>\n",
       "      <td>4.5</td>\n",
       "      <td>2.5</td>\n",
       "      <td>2020</td>\n",
       "      <td>1</td>\n",
       "    </tr>\n",
       "    <tr>\n",
       "      <th>9364</th>\n",
       "      <td>2020-01-01</td>\n",
       "      <td>Naranjito</td>\n",
       "      <td>35.0</td>\n",
       "      <td>0.0</td>\n",
       "      <td>0.5</td>\n",
       "      <td>4.0</td>\n",
       "      <td>5.5</td>\n",
       "      <td>4.5</td>\n",
       "      <td>15.0</td>\n",
       "      <td>5.5</td>\n",
       "      <td>2020</td>\n",
       "      <td>1</td>\n",
       "    </tr>\n",
       "    <tr>\n",
       "      <th>...</th>\n",
       "      <td>...</td>\n",
       "      <td>...</td>\n",
       "      <td>...</td>\n",
       "      <td>...</td>\n",
       "      <td>...</td>\n",
       "      <td>...</td>\n",
       "      <td>...</td>\n",
       "      <td>...</td>\n",
       "      <td>...</td>\n",
       "      <td>...</td>\n",
       "      <td>...</td>\n",
       "      <td>...</td>\n",
       "    </tr>\n",
       "    <tr>\n",
       "      <th>10291</th>\n",
       "      <td>2020-12-01</td>\n",
       "      <td>Orocovis</td>\n",
       "      <td>11.0</td>\n",
       "      <td>0.0</td>\n",
       "      <td>0.0</td>\n",
       "      <td>0.0</td>\n",
       "      <td>2.0</td>\n",
       "      <td>5.0</td>\n",
       "      <td>3.0</td>\n",
       "      <td>1.0</td>\n",
       "      <td>2020</td>\n",
       "      <td>12</td>\n",
       "    </tr>\n",
       "    <tr>\n",
       "      <th>10292</th>\n",
       "      <td>2020-12-01</td>\n",
       "      <td>Patillas</td>\n",
       "      <td>8.0</td>\n",
       "      <td>0.0</td>\n",
       "      <td>0.0</td>\n",
       "      <td>0.0</td>\n",
       "      <td>6.0</td>\n",
       "      <td>1.0</td>\n",
       "      <td>1.0</td>\n",
       "      <td>0.0</td>\n",
       "      <td>2020</td>\n",
       "      <td>12</td>\n",
       "    </tr>\n",
       "    <tr>\n",
       "      <th>10293</th>\n",
       "      <td>2020-12-01</td>\n",
       "      <td>Ponce</td>\n",
       "      <td>71.0</td>\n",
       "      <td>0.0</td>\n",
       "      <td>1.0</td>\n",
       "      <td>6.0</td>\n",
       "      <td>10.0</td>\n",
       "      <td>13.0</td>\n",
       "      <td>40.0</td>\n",
       "      <td>1.0</td>\n",
       "      <td>2020</td>\n",
       "      <td>12</td>\n",
       "    </tr>\n",
       "    <tr>\n",
       "      <th>10294</th>\n",
       "      <td>2020-12-01</td>\n",
       "      <td>Mayagüez</td>\n",
       "      <td>34.0</td>\n",
       "      <td>2.0</td>\n",
       "      <td>0.0</td>\n",
       "      <td>1.0</td>\n",
       "      <td>6.0</td>\n",
       "      <td>6.0</td>\n",
       "      <td>18.0</td>\n",
       "      <td>1.0</td>\n",
       "      <td>2020</td>\n",
       "      <td>12</td>\n",
       "    </tr>\n",
       "    <tr>\n",
       "      <th>10295</th>\n",
       "      <td>2020-12-01</td>\n",
       "      <td>Peñuelas</td>\n",
       "      <td>8.0</td>\n",
       "      <td>0.0</td>\n",
       "      <td>0.0</td>\n",
       "      <td>0.0</td>\n",
       "      <td>4.0</td>\n",
       "      <td>1.0</td>\n",
       "      <td>2.0</td>\n",
       "      <td>1.0</td>\n",
       "      <td>2020</td>\n",
       "      <td>12</td>\n",
       "    </tr>\n",
       "  </tbody>\n",
       "</table>\n",
       "<p>936 rows × 12 columns</p>\n",
       "</div>"
      ],
      "text/plain": [
       "            Date   Distrito  Tipo I  Ases.  Viol.  Robo  Agr. Grave  Esc.  \\\n",
       "9360  2020-01-01   Adjuntas     3.0    0.0    0.0   0.0         1.5   0.5   \n",
       "9361  2020-01-01   Peñuelas     4.0    1.0    0.0   0.5         0.5   0.5   \n",
       "9362  2020-01-01   Patillas     8.5    0.5    0.0   0.5         2.0   2.0   \n",
       "9363  2020-01-01   Orocovis    10.5    0.0    0.0   0.5         1.0   2.0   \n",
       "9364  2020-01-01  Naranjito    35.0    0.0    0.5   4.0         5.5   4.5   \n",
       "...          ...        ...     ...    ...    ...   ...         ...   ...   \n",
       "10291 2020-12-01   Orocovis    11.0    0.0    0.0   0.0         2.0   5.0   \n",
       "10292 2020-12-01   Patillas     8.0    0.0    0.0   0.0         6.0   1.0   \n",
       "10293 2020-12-01      Ponce    71.0    0.0    1.0   6.0        10.0  13.0   \n",
       "10294 2020-12-01   Mayagüez    34.0    2.0    0.0   1.0         6.0   6.0   \n",
       "10295 2020-12-01   Peñuelas     8.0    0.0    0.0   0.0         4.0   1.0   \n",
       "\n",
       "       Apr. I  H. Auto  Year  Month  \n",
       "9360      1.0      0.0  2020      1  \n",
       "9361      1.5      0.0  2020      1  \n",
       "9362      3.5      0.0  2020      1  \n",
       "9363      4.5      2.5  2020      1  \n",
       "9364     15.0      5.5  2020      1  \n",
       "...       ...      ...   ...    ...  \n",
       "10291     3.0      1.0  2020     12  \n",
       "10292     1.0      0.0  2020     12  \n",
       "10293    40.0      1.0  2020     12  \n",
       "10294    18.0      1.0  2020     12  \n",
       "10295     2.0      1.0  2020     12  \n",
       "\n",
       "[936 rows x 12 columns]"
      ]
     },
     "execution_count": 44,
     "metadata": {},
     "output_type": "execute_result"
    }
   ],
   "source": [
    "date2020 = df.loc[df['Year'].isin([2020])]\n",
    "date2020"
   ]
  },
  {
   "cell_type": "code",
   "execution_count": 20,
   "id": "8365419f",
   "metadata": {},
   "outputs": [
    {
     "name": "stderr",
     "output_type": "stream",
     "text": [
      "<ipython-input-20-0f4fef6eb776>:19: UserWarning:\n",
      "\n",
      "Tight layout not applied. The bottom and top margins cannot be made large enough to accommodate all axes decorations. \n",
      "\n"
     ]
    },
    {
     "data": {
      "image/png": "[encoded data removed]",
      "text/plain": [
       "<Figure size 864x432 with 1 Axes>"
      ]
     },
     "metadata": {
      "needs_background": "light"
     },
     "output_type": "display_data"
    }
   ],
   "source": [
    "grouped_data = date.groupby(['Date', 'Distrito'])['Tipo I'].sum().unstack()\n",
    "\n",
    "# Transpose the grouped data for stacked streamgraph\n",
    "stacked_data = grouped_data.T.values\n",
    "\n",
    "# Get the dates for x-axis\n",
    "dates = grouped_data.index\n",
    "\n",
    "# Plot the stacked streamgraph\n",
    "plt.figure(figsize=(12, 6))\n",
    "plt.stackplot(dates, stacked_data, baseline='zero', labels=grouped_data.columns)\n",
    "\n",
    "plt.title('Stacked Streamgraph of Total Deaths by Distrito')\n",
    "plt.xlabel('Date')\n",
    "plt.ylabel('Total Deaths')\n",
    "plt.xticks(rotation=45)\n",
    "plt.legend(bbox_to_anchor=(1.02, 1), loc='upper left', borderaxespad=0.)\n",
    "\n",
    "plt.tight_layout()\n",
    "plt.show()"
   ]
  },
  {
   "cell_type": "code",
   "execution_count": 51,
   "id": "b7057b98",
   "metadata": {},
   "outputs": [
    {
     "data": {
      "application/vnd.plotly.v1+json": {
       "config": {
        "plotlyServerURL": "https://plot.ly"
       },
       "data": [
        {
         "customdata": [
          [
           "Adjuntas"
          ],
          [
           "Adjuntas"
          ],
          [
           "Adjuntas"
          ],
          [
           "Adjuntas"
          ],
          [
           "Adjuntas"
          ],
          [
           "Adjuntas"
          ],
          [
           "Adjuntas"
          ],
          [
           "Adjuntas"
          ],
          [
           "Adjuntas"
          ],
          [
           "Adjuntas"
          ],
          [
           "Adjuntas"
          ]
         ],
         "fillpattern": {
          "shape": ""
         },
         "hovertemplate": "Municipio=%{customdata[0]}<br>Fecha=%{x}<br>Total de Delitos=%{y}<extra></extra>",
         "legendgroup": "Adjuntas",
         "line": {
          "color": "#636efa"
         },
         "marker": {
          "symbol": "circle"
         },
         "mode": "lines",
         "name": "Adjuntas",
         "orientation": "v",
         "showlegend": true,
         "stackgroup": "1",
         "type": "scatter",
         "x": [
          "2010-12-01T00:00:00",
          "2011-12-01T00:00:00",
          "2012-12-01T00:00:00",
          "2013-12-01T00:00:00",
          "2014-12-01T00:00:00",
          "2015-12-01T00:00:00",
          "2016-12-01T00:00:00",
          "2017-12-01T00:00:00",
          "2018-12-01T00:00:00",
          "2019-12-01T00:00:00",
          "2020-12-01T00:00:00"
         ],
         "xaxis": "x",
         "y": [
          20,
          25,
          33,
          18,
          11,
          5,
          6,
          17,
          6,
          5,
          2
         ],
         "yaxis": "y"
        },
        {
         "customdata": [
          [
           "Aguada "
          ],
          [
           "Aguada "
          ],
          [
           "Aguada "
          ],
          [
           "Aguada "
          ],
          [
           "Aguada "
          ],
          [
           "Aguada "
          ],
          [
           "Aguada "
          ],
          [
           "Aguada "
          ],
          [
           "Aguada "
          ],
          [
           "Aguada "
          ],
          [
           "Aguada "
          ]
         ],
         "fillpattern": {
          "shape": ""
         },
         "hovertemplate": "Municipio=%{customdata[0]}<br>Fecha=%{x}<br>Total de Delitos=%{y}<extra></extra>",
         "legendgroup": "Aguada ",
         "line": {
          "color": "#EF553B"
         },
         "marker": {
          "symbol": "circle"
         },
         "mode": "lines",
         "name": "Aguada ",
         "orientation": "v",
         "showlegend": true,
         "stackgroup": "1",
         "type": "scatter",
         "x": [
          "2010-12-01T00:00:00",
          "2011-12-01T00:00:00",
          "2012-12-01T00:00:00",
          "2013-12-01T00:00:00",
          "2014-12-01T00:00:00",
          "2015-12-01T00:00:00",
          "2016-12-01T00:00:00",
          "2017-12-01T00:00:00",
          "2018-12-01T00:00:00",
          "2019-12-01T00:00:00",
          "2020-12-01T00:00:00"
         ],
         "xaxis": "x",
         "y": [
          25,
          44,
          29,
          18,
          55,
          19,
          56,
          31,
          24,
          11,
          11
         ],
         "yaxis": "y"
        },
        {
         "customdata": [
          [
           "Aguadilla"
          ],
          [
           "Aguadilla"
          ],
          [
           "Aguadilla"
          ],
          [
           "Aguadilla"
          ],
          [
           "Aguadilla"
          ],
          [
           "Aguadilla"
          ],
          [
           "Aguadilla"
          ],
          [
           "Aguadilla"
          ],
          [
           "Aguadilla"
          ],
          [
           "Aguadilla"
          ],
          [
           "Aguadilla"
          ]
         ],
         "fillpattern": {
          "shape": ""
         },
         "hovertemplate": "Municipio=%{customdata[0]}<br>Fecha=%{x}<br>Total de Delitos=%{y}<extra></extra>",
         "legendgroup": "Aguadilla",
         "line": {
          "color": "#00cc96"
         },
         "marker": {
          "symbol": "circle"
         },
         "mode": "lines",
         "name": "Aguadilla",
         "orientation": "v",
         "showlegend": true,
         "stackgroup": "1",
         "type": "scatter",
         "x": [
          "2010-12-01T00:00:00",
          "2011-12-01T00:00:00",
          "2012-12-01T00:00:00",
          "2013-12-01T00:00:00",
          "2014-12-01T00:00:00",
          "2015-12-01T00:00:00",
          "2016-12-01T00:00:00",
          "2017-12-01T00:00:00",
          "2018-12-01T00:00:00",
          "2019-12-01T00:00:00",
          "2020-12-01T00:00:00"
         ],
         "xaxis": "x",
         "y": [
          67,
          116,
          76,
          57,
          70,
          102,
          43,
          65,
          56,
          43,
          28
         ],
         "yaxis": "y"
        },
        {
         "customdata": [
          [
           "Aguas Buenas"
          ],
          [
           "Aguas Buenas"
          ],
          [
           "Aguas Buenas"
          ],
          [
           "Aguas Buenas"
          ],
          [
           "Aguas Buenas"
          ],
          [
           "Aguas Buenas"
          ],
          [
           "Aguas Buenas"
          ],
          [
           "Aguas Buenas"
          ],
          [
           "Aguas Buenas"
          ],
          [
           "Aguas Buenas"
          ],
          [
           "Aguas Buenas"
          ]
         ],
         "fillpattern": {
          "shape": ""
         },
         "hovertemplate": "Municipio=%{customdata[0]}<br>Fecha=%{x}<br>Total de Delitos=%{y}<extra></extra>",
         "legendgroup": "Aguas Buenas",
         "line": {
          "color": "#ab63fa"
         },
         "marker": {
          "symbol": "circle"
         },
         "mode": "lines",
         "name": "Aguas Buenas",
         "orientation": "v",
         "showlegend": true,
         "stackgroup": "1",
         "type": "scatter",
         "x": [
          "2010-12-01T00:00:00",
          "2011-12-01T00:00:00",
          "2012-12-01T00:00:00",
          "2013-12-01T00:00:00",
          "2014-12-01T00:00:00",
          "2015-12-01T00:00:00",
          "2016-12-01T00:00:00",
          "2017-12-01T00:00:00",
          "2018-12-01T00:00:00",
          "2019-12-01T00:00:00",
          "2020-12-01T00:00:00"
         ],
         "xaxis": "x",
         "y": [
          18,
          33,
          39,
          13,
          27,
          21,
          22,
          9,
          9,
          6,
          6
         ],
         "yaxis": "y"
        },
        {
         "customdata": [
          [
           "Aibonito"
          ],
          [
           "Aibonito"
          ],
          [
           "Aibonito"
          ],
          [
           "Aibonito"
          ],
          [
           "Aibonito"
          ],
          [
           "Aibonito"
          ],
          [
           "Aibonito"
          ],
          [
           "Aibonito"
          ],
          [
           "Aibonito"
          ],
          [
           "Aibonito"
          ],
          [
           "Aibonito"
          ]
         ],
         "fillpattern": {
          "shape": ""
         },
         "hovertemplate": "Municipio=%{customdata[0]}<br>Fecha=%{x}<br>Total de Delitos=%{y}<extra></extra>",
         "legendgroup": "Aibonito",
         "line": {
          "color": "#FFA15A"
         },
         "marker": {
          "symbol": "circle"
         },
         "mode": "lines",
         "name": "Aibonito",
         "orientation": "v",
         "showlegend": true,
         "stackgroup": "1",
         "type": "scatter",
         "x": [
          "2010-12-01T00:00:00",
          "2011-12-01T00:00:00",
          "2012-12-01T00:00:00",
          "2013-12-01T00:00:00",
          "2014-12-01T00:00:00",
          "2015-12-01T00:00:00",
          "2016-12-01T00:00:00",
          "2017-12-01T00:00:00",
          "2018-12-01T00:00:00",
          "2019-12-01T00:00:00",
          "2020-12-01T00:00:00"
         ],
         "xaxis": "x",
         "y": [
          46,
          50,
          34,
          25,
          28,
          22,
          22,
          9,
          12,
          13,
          13
         ],
         "yaxis": "y"
        },
        {
         "customdata": [
          [
           "Arecibo"
          ],
          [
           "Arecibo"
          ],
          [
           "Arecibo"
          ],
          [
           "Arecibo"
          ],
          [
           "Arecibo"
          ],
          [
           "Arecibo"
          ],
          [
           "Arecibo"
          ],
          [
           "Arecibo"
          ],
          [
           "Arecibo"
          ],
          [
           "Arecibo"
          ],
          [
           "Arecibo"
          ]
         ],
         "fillpattern": {
          "shape": ""
         },
         "hovertemplate": "Municipio=%{customdata[0]}<br>Fecha=%{x}<br>Total de Delitos=%{y}<extra></extra>",
         "legendgroup": "Arecibo",
         "line": {
          "color": "#19d3f3"
         },
         "marker": {
          "symbol": "circle"
         },
         "mode": "lines",
         "name": "Arecibo",
         "orientation": "v",
         "showlegend": true,
         "stackgroup": "1",
         "type": "scatter",
         "x": [
          "2010-12-01T00:00:00",
          "2011-12-01T00:00:00",
          "2012-12-01T00:00:00",
          "2013-12-01T00:00:00",
          "2014-12-01T00:00:00",
          "2015-12-01T00:00:00",
          "2016-12-01T00:00:00",
          "2017-12-01T00:00:00",
          "2018-12-01T00:00:00",
          "2019-12-01T00:00:00",
          "2020-12-01T00:00:00"
         ],
         "xaxis": "x",
         "y": [
          134,
          71,
          84,
          86,
          109,
          80,
          87,
          80,
          39,
          37,
          33
         ],
         "yaxis": "y"
        },
        {
         "customdata": [
          [
           "Arroyo"
          ],
          [
           "Arroyo"
          ],
          [
           "Arroyo"
          ],
          [
           "Arroyo"
          ],
          [
           "Arroyo"
          ],
          [
           "Arroyo"
          ],
          [
           "Arroyo"
          ],
          [
           "Arroyo"
          ],
          [
           "Arroyo"
          ],
          [
           "Arroyo"
          ],
          [
           "Arroyo"
          ]
         ],
         "fillpattern": {
          "shape": ""
         },
         "hovertemplate": "Municipio=%{customdata[0]}<br>Fecha=%{x}<br>Total de Delitos=%{y}<extra></extra>",
         "legendgroup": "Arroyo",
         "line": {
          "color": "#FF6692"
         },
         "marker": {
          "symbol": "circle"
         },
         "mode": "lines",
         "name": "Arroyo",
         "orientation": "v",
         "showlegend": true,
         "stackgroup": "1",
         "type": "scatter",
         "x": [
          "2010-12-01T00:00:00",
          "2011-12-01T00:00:00",
          "2012-12-01T00:00:00",
          "2013-12-01T00:00:00",
          "2014-12-01T00:00:00",
          "2015-12-01T00:00:00",
          "2016-12-01T00:00:00",
          "2017-12-01T00:00:00",
          "2018-12-01T00:00:00",
          "2019-12-01T00:00:00",
          "2020-12-01T00:00:00"
         ],
         "xaxis": "x",
         "y": [
          15,
          10,
          21,
          19,
          19,
          9,
          12,
          8,
          11,
          14,
          6
         ],
         "yaxis": "y"
        },
        {
         "customdata": [
          [
           "Añasco"
          ],
          [
           "Añasco"
          ],
          [
           "Añasco"
          ],
          [
           "Añasco"
          ],
          [
           "Añasco"
          ],
          [
           "Añasco"
          ],
          [
           "Añasco"
          ],
          [
           "Añasco"
          ],
          [
           "Añasco"
          ],
          [
           "Añasco"
          ],
          [
           "Añasco"
          ]
         ],
         "fillpattern": {
          "shape": ""
         },
         "hovertemplate": "Municipio=%{customdata[0]}<br>Fecha=%{x}<br>Total de Delitos=%{y}<extra></extra>",
         "legendgroup": "Añasco",
         "line": {
          "color": "#B6E880"
         },
         "marker": {
          "symbol": "circle"
         },
         "mode": "lines",
         "name": "Añasco",
         "orientation": "v",
         "showlegend": true,
         "stackgroup": "1",
         "type": "scatter",
         "x": [
          "2010-12-01T00:00:00",
          "2011-12-01T00:00:00",
          "2012-12-01T00:00:00",
          "2013-12-01T00:00:00",
          "2014-12-01T00:00:00",
          "2015-12-01T00:00:00",
          "2016-12-01T00:00:00",
          "2017-12-01T00:00:00",
          "2018-12-01T00:00:00",
          "2019-12-01T00:00:00",
          "2020-12-01T00:00:00"
         ],
         "xaxis": "x",
         "y": [
          7,
          16,
          14,
          19,
          17,
          12,
          13,
          7,
          9,
          9,
          5
         ],
         "yaxis": "y"
        },
        {
         "customdata": [
          [
           "Barceloneta"
          ],
          [
           "Barceloneta"
          ],
          [
           "Barceloneta"
          ],
          [
           "Barceloneta"
          ],
          [
           "Barceloneta"
          ],
          [
           "Barceloneta"
          ],
          [
           "Barceloneta"
          ],
          [
           "Barceloneta"
          ],
          [
           "Barceloneta"
          ],
          [
           "Barceloneta"
          ],
          [
           "Barceloneta"
          ]
         ],
         "fillpattern": {
          "shape": ""
         },
         "hovertemplate": "Municipio=%{customdata[0]}<br>Fecha=%{x}<br>Total de Delitos=%{y}<extra></extra>",
         "legendgroup": "Barceloneta",
         "line": {
          "color": "#FF97FF"
         },
         "marker": {
          "symbol": "circle"
         },
         "mode": "lines",
         "name": "Barceloneta",
         "orientation": "v",
         "showlegend": true,
         "stackgroup": "1",
         "type": "scatter",
         "x": [
          "2010-12-01T00:00:00",
          "2011-12-01T00:00:00",
          "2012-12-01T00:00:00",
          "2013-12-01T00:00:00",
          "2014-12-01T00:00:00",
          "2015-12-01T00:00:00",
          "2016-12-01T00:00:00",
          "2017-12-01T00:00:00",
          "2018-12-01T00:00:00",
          "2019-12-01T00:00:00",
          "2020-12-01T00:00:00"
         ],
         "xaxis": "x",
         "y": [
          28,
          31,
          53,
          56,
          25,
          47,
          47,
          25,
          17,
          26,
          31
         ],
         "yaxis": "y"
        },
        {
         "customdata": [
          [
           "Barranquitas"
          ],
          [
           "Barranquitas"
          ],
          [
           "Barranquitas"
          ],
          [
           "Barranquitas"
          ],
          [
           "Barranquitas"
          ],
          [
           "Barranquitas"
          ],
          [
           "Barranquitas"
          ],
          [
           "Barranquitas"
          ],
          [
           "Barranquitas"
          ],
          [
           "Barranquitas"
          ],
          [
           "Barranquitas"
          ]
         ],
         "fillpattern": {
          "shape": ""
         },
         "hovertemplate": "Municipio=%{customdata[0]}<br>Fecha=%{x}<br>Total de Delitos=%{y}<extra></extra>",
         "legendgroup": "Barranquitas",
         "line": {
          "color": "#FECB52"
         },
         "marker": {
          "symbol": "circle"
         },
         "mode": "lines",
         "name": "Barranquitas",
         "orientation": "v",
         "showlegend": true,
         "stackgroup": "1",
         "type": "scatter",
         "x": [
          "2010-12-01T00:00:00",
          "2011-12-01T00:00:00",
          "2012-12-01T00:00:00",
          "2013-12-01T00:00:00",
          "2014-12-01T00:00:00",
          "2015-12-01T00:00:00",
          "2016-12-01T00:00:00",
          "2017-12-01T00:00:00",
          "2018-12-01T00:00:00",
          "2019-12-01T00:00:00",
          "2020-12-01T00:00:00"
         ],
         "xaxis": "x",
         "y": [
          35,
          51,
          61,
          46,
          38,
          39,
          27,
          13,
          18,
          25,
          10
         ],
         "yaxis": "y"
        },
        {
         "customdata": [
          [
           "Bayamón"
          ],
          [
           "Bayamón"
          ],
          [
           "Bayamón"
          ],
          [
           "Bayamón"
          ],
          [
           "Bayamón"
          ],
          [
           "Bayamón"
          ],
          [
           "Bayamón"
          ],
          [
           "Bayamón"
          ],
          [
           "Bayamón"
          ],
          [
           "Bayamón"
          ],
          [
           "Bayamón"
          ]
         ],
         "fillpattern": {
          "shape": ""
         },
         "hovertemplate": "Municipio=%{customdata[0]}<br>Fecha=%{x}<br>Total de Delitos=%{y}<extra></extra>",
         "legendgroup": "Bayamón",
         "line": {
          "color": "#636efa"
         },
         "marker": {
          "symbol": "circle"
         },
         "mode": "lines",
         "name": "Bayamón",
         "orientation": "v",
         "showlegend": true,
         "stackgroup": "1",
         "type": "scatter",
         "x": [
          "2010-12-01T00:00:00",
          "2011-12-01T00:00:00",
          "2012-12-01T00:00:00",
          "2013-12-01T00:00:00",
          "2014-12-01T00:00:00",
          "2015-12-01T00:00:00",
          "2016-12-01T00:00:00",
          "2017-12-01T00:00:00",
          "2018-12-01T00:00:00",
          "2019-12-01T00:00:00",
          "2020-12-01T00:00:00"
         ],
         "xaxis": "x",
         "y": [
          509,
          527,
          541,
          464,
          448,
          385,
          421,
          264,
          322,
          272,
          145
         ],
         "yaxis": "y"
        },
        {
         "customdata": [
          [
           "Cabo Rojo"
          ],
          [
           "Cabo Rojo"
          ],
          [
           "Cabo Rojo"
          ],
          [
           "Cabo Rojo"
          ],
          [
           "Cabo Rojo"
          ],
          [
           "Cabo Rojo"
          ],
          [
           "Cabo Rojo"
          ],
          [
           "Cabo Rojo"
          ],
          [
           "Cabo Rojo"
          ],
          [
           "Cabo Rojo"
          ],
          [
           "Cabo Rojo"
          ]
         ],
         "fillpattern": {
          "shape": ""
         },
         "hovertemplate": "Municipio=%{customdata[0]}<br>Fecha=%{x}<br>Total de Delitos=%{y}<extra></extra>",
         "legendgroup": "Cabo Rojo",
         "line": {
          "color": "#EF553B"
         },
         "marker": {
          "symbol": "circle"
         },
         "mode": "lines",
         "name": "Cabo Rojo",
         "orientation": "v",
         "showlegend": true,
         "stackgroup": "1",
         "type": "scatter",
         "x": [
          "2010-12-01T00:00:00",
          "2011-12-01T00:00:00",
          "2012-12-01T00:00:00",
          "2013-12-01T00:00:00",
          "2014-12-01T00:00:00",
          "2015-12-01T00:00:00",
          "2016-12-01T00:00:00",
          "2017-12-01T00:00:00",
          "2018-12-01T00:00:00",
          "2019-12-01T00:00:00",
          "2020-12-01T00:00:00"
         ],
         "xaxis": "x",
         "y": [
          42,
          50,
          30,
          38,
          39,
          26,
          18,
          21,
          28,
          34,
          13
         ],
         "yaxis": "y"
        },
        {
         "customdata": [
          [
           "Caguas"
          ],
          [
           "Caguas"
          ],
          [
           "Caguas"
          ],
          [
           "Caguas"
          ],
          [
           "Caguas"
          ],
          [
           "Caguas"
          ],
          [
           "Caguas"
          ],
          [
           "Caguas"
          ],
          [
           "Caguas"
          ],
          [
           "Caguas"
          ],
          [
           "Caguas"
          ]
         ],
         "fillpattern": {
          "shape": ""
         },
         "hovertemplate": "Municipio=%{customdata[0]}<br>Fecha=%{x}<br>Total de Delitos=%{y}<extra></extra>",
         "legendgroup": "Caguas",
         "line": {
          "color": "#00cc96"
         },
         "marker": {
          "symbol": "circle"
         },
         "mode": "lines",
         "name": "Caguas",
         "orientation": "v",
         "showlegend": true,
         "stackgroup": "1",
         "type": "scatter",
         "x": [
          "2010-12-01T00:00:00",
          "2011-12-01T00:00:00",
          "2012-12-01T00:00:00",
          "2013-12-01T00:00:00",
          "2014-12-01T00:00:00",
          "2015-12-01T00:00:00",
          "2016-12-01T00:00:00",
          "2017-12-01T00:00:00",
          "2018-12-01T00:00:00",
          "2019-12-01T00:00:00",
          "2020-12-01T00:00:00"
         ],
         "xaxis": "x",
         "y": [
          204,
          265,
          246,
          225,
          249,
          241,
          180,
          188,
          117,
          100,
          77
         ],
         "yaxis": "y"
        },
        {
         "customdata": [
          [
           "Camuy"
          ],
          [
           "Camuy"
          ],
          [
           "Camuy"
          ],
          [
           "Camuy"
          ],
          [
           "Camuy"
          ],
          [
           "Camuy"
          ],
          [
           "Camuy"
          ],
          [
           "Camuy"
          ],
          [
           "Camuy"
          ],
          [
           "Camuy"
          ],
          [
           "Camuy"
          ]
         ],
         "fillpattern": {
          "shape": ""
         },
         "hovertemplate": "Municipio=%{customdata[0]}<br>Fecha=%{x}<br>Total de Delitos=%{y}<extra></extra>",
         "legendgroup": "Camuy",
         "line": {
          "color": "#ab63fa"
         },
         "marker": {
          "symbol": "circle"
         },
         "mode": "lines",
         "name": "Camuy",
         "orientation": "v",
         "showlegend": true,
         "stackgroup": "1",
         "type": "scatter",
         "x": [
          "2010-12-01T00:00:00",
          "2011-12-01T00:00:00",
          "2012-12-01T00:00:00",
          "2013-12-01T00:00:00",
          "2014-12-01T00:00:00",
          "2015-12-01T00:00:00",
          "2016-12-01T00:00:00",
          "2017-12-01T00:00:00",
          "2018-12-01T00:00:00",
          "2019-12-01T00:00:00",
          "2020-12-01T00:00:00"
         ],
         "xaxis": "x",
         "y": [
          29,
          36,
          73,
          32,
          45,
          34,
          33,
          23,
          15,
          21,
          7
         ],
         "yaxis": "y"
        },
        {
         "customdata": [
          [
           "Canóvanas"
          ],
          [
           "Canóvanas"
          ],
          [
           "Canóvanas"
          ],
          [
           "Canóvanas"
          ],
          [
           "Canóvanas"
          ],
          [
           "Canóvanas"
          ],
          [
           "Canóvanas"
          ],
          [
           "Canóvanas"
          ],
          [
           "Canóvanas"
          ],
          [
           "Canóvanas"
          ],
          [
           "Canóvanas"
          ]
         ],
         "fillpattern": {
          "shape": ""
         },
         "hovertemplate": "Municipio=%{customdata[0]}<br>Fecha=%{x}<br>Total de Delitos=%{y}<extra></extra>",
         "legendgroup": "Canóvanas",
         "line": {
          "color": "#FFA15A"
         },
         "marker": {
          "symbol": "circle"
         },
         "mode": "lines",
         "name": "Canóvanas",
         "orientation": "v",
         "showlegend": true,
         "stackgroup": "1",
         "type": "scatter",
         "x": [
          "2010-12-01T00:00:00",
          "2011-12-01T00:00:00",
          "2012-12-01T00:00:00",
          "2013-12-01T00:00:00",
          "2014-12-01T00:00:00",
          "2015-12-01T00:00:00",
          "2016-12-01T00:00:00",
          "2017-12-01T00:00:00",
          "2018-12-01T00:00:00",
          "2019-12-01T00:00:00",
          "2020-12-01T00:00:00"
         ],
         "xaxis": "x",
         "y": [
          54,
          46,
          69,
          68,
          60,
          48,
          41,
          30,
          33,
          23,
          26
         ],
         "yaxis": "y"
        },
        {
         "customdata": [
          [
           "Carolina"
          ],
          [
           "Carolina"
          ],
          [
           "Carolina"
          ],
          [
           "Carolina"
          ],
          [
           "Carolina"
          ],
          [
           "Carolina"
          ],
          [
           "Carolina"
          ],
          [
           "Carolina"
          ],
          [
           "Carolina"
          ],
          [
           "Carolina"
          ],
          [
           "Carolina"
          ]
         ],
         "fillpattern": {
          "shape": ""
         },
         "hovertemplate": "Municipio=%{customdata[0]}<br>Fecha=%{x}<br>Total de Delitos=%{y}<extra></extra>",
         "legendgroup": "Carolina",
         "line": {
          "color": "#19d3f3"
         },
         "marker": {
          "symbol": "circle"
         },
         "mode": "lines",
         "name": "Carolina",
         "orientation": "v",
         "showlegend": true,
         "stackgroup": "1",
         "type": "scatter",
         "x": [
          "2010-12-01T00:00:00",
          "2011-12-01T00:00:00",
          "2012-12-01T00:00:00",
          "2013-12-01T00:00:00",
          "2014-12-01T00:00:00",
          "2015-12-01T00:00:00",
          "2016-12-01T00:00:00",
          "2017-12-01T00:00:00",
          "2018-12-01T00:00:00",
          "2019-12-01T00:00:00",
          "2020-12-01T00:00:00"
         ],
         "xaxis": "x",
         "y": [
          321,
          313,
          363,
          355,
          262,
          227,
          245,
          133,
          174,
          148,
          104
         ],
         "yaxis": "y"
        },
        {
         "customdata": [
          [
           "Cataño"
          ],
          [
           "Cataño"
          ],
          [
           "Cataño"
          ],
          [
           "Cataño"
          ],
          [
           "Cataño"
          ],
          [
           "Cataño"
          ],
          [
           "Cataño"
          ],
          [
           "Cataño"
          ],
          [
           "Cataño"
          ],
          [
           "Cataño"
          ],
          [
           "Cataño"
          ]
         ],
         "fillpattern": {
          "shape": ""
         },
         "hovertemplate": "Municipio=%{customdata[0]}<br>Fecha=%{x}<br>Total de Delitos=%{y}<extra></extra>",
         "legendgroup": "Cataño",
         "line": {
          "color": "#FF6692"
         },
         "marker": {
          "symbol": "circle"
         },
         "mode": "lines",
         "name": "Cataño",
         "orientation": "v",
         "showlegend": true,
         "stackgroup": "1",
         "type": "scatter",
         "x": [
          "2010-12-01T00:00:00",
          "2011-12-01T00:00:00",
          "2012-12-01T00:00:00",
          "2013-12-01T00:00:00",
          "2014-12-01T00:00:00",
          "2015-12-01T00:00:00",
          "2016-12-01T00:00:00",
          "2017-12-01T00:00:00",
          "2018-12-01T00:00:00",
          "2019-12-01T00:00:00",
          "2020-12-01T00:00:00"
         ],
         "xaxis": "x",
         "y": [
          19,
          18,
          46,
          33,
          49,
          37,
          28,
          26,
          20,
          14,
          13
         ],
         "yaxis": "y"
        },
        {
         "customdata": [
          [
           "Cayey"
          ],
          [
           "Cayey"
          ],
          [
           "Cayey"
          ],
          [
           "Cayey"
          ],
          [
           "Cayey"
          ],
          [
           "Cayey"
          ],
          [
           "Cayey"
          ],
          [
           "Cayey"
          ],
          [
           "Cayey"
          ],
          [
           "Cayey"
          ],
          [
           "Cayey"
          ]
         ],
         "fillpattern": {
          "shape": ""
         },
         "hovertemplate": "Municipio=%{customdata[0]}<br>Fecha=%{x}<br>Total de Delitos=%{y}<extra></extra>",
         "legendgroup": "Cayey",
         "line": {
          "color": "#B6E880"
         },
         "marker": {
          "symbol": "circle"
         },
         "mode": "lines",
         "name": "Cayey",
         "orientation": "v",
         "showlegend": true,
         "stackgroup": "1",
         "type": "scatter",
         "x": [
          "2010-12-01T00:00:00",
          "2011-12-01T00:00:00",
          "2012-12-01T00:00:00",
          "2013-12-01T00:00:00",
          "2014-12-01T00:00:00",
          "2015-12-01T00:00:00",
          "2016-12-01T00:00:00",
          "2017-12-01T00:00:00",
          "2018-12-01T00:00:00",
          "2019-12-01T00:00:00",
          "2020-12-01T00:00:00"
         ],
         "xaxis": "x",
         "y": [
          103,
          92,
          90,
          62,
          111,
          59,
          37,
          42,
          28,
          28,
          17
         ],
         "yaxis": "y"
        },
        {
         "customdata": [
          [
           "Ceiba"
          ],
          [
           "Ceiba"
          ],
          [
           "Ceiba"
          ],
          [
           "Ceiba"
          ],
          [
           "Ceiba"
          ],
          [
           "Ceiba"
          ],
          [
           "Ceiba"
          ],
          [
           "Ceiba"
          ],
          [
           "Ceiba"
          ],
          [
           "Ceiba"
          ],
          [
           "Ceiba"
          ]
         ],
         "fillpattern": {
          "shape": ""
         },
         "hovertemplate": "Municipio=%{customdata[0]}<br>Fecha=%{x}<br>Total de Delitos=%{y}<extra></extra>",
         "legendgroup": "Ceiba",
         "line": {
          "color": "#FF97FF"
         },
         "marker": {
          "symbol": "circle"
         },
         "mode": "lines",
         "name": "Ceiba",
         "orientation": "v",
         "showlegend": true,
         "stackgroup": "1",
         "type": "scatter",
         "x": [
          "2010-12-01T00:00:00",
          "2011-12-01T00:00:00",
          "2012-12-01T00:00:00",
          "2013-12-01T00:00:00",
          "2014-12-01T00:00:00",
          "2015-12-01T00:00:00",
          "2016-12-01T00:00:00",
          "2017-12-01T00:00:00",
          "2018-12-01T00:00:00",
          "2019-12-01T00:00:00",
          "2020-12-01T00:00:00"
         ],
         "xaxis": "x",
         "y": [
          3,
          13,
          9,
          13,
          14,
          14,
          7,
          8,
          9,
          8,
          3
         ],
         "yaxis": "y"
        },
        {
         "customdata": [
          [
           "Ciales"
          ],
          [
           "Ciales"
          ],
          [
           "Ciales"
          ],
          [
           "Ciales"
          ],
          [
           "Ciales"
          ],
          [
           "Ciales"
          ],
          [
           "Ciales"
          ],
          [
           "Ciales"
          ],
          [
           "Ciales"
          ],
          [
           "Ciales"
          ],
          [
           "Ciales"
          ]
         ],
         "fillpattern": {
          "shape": ""
         },
         "hovertemplate": "Municipio=%{customdata[0]}<br>Fecha=%{x}<br>Total de Delitos=%{y}<extra></extra>",
         "legendgroup": "Ciales",
         "line": {
          "color": "#FECB52"
         },
         "marker": {
          "symbol": "circle"
         },
         "mode": "lines",
         "name": "Ciales",
         "orientation": "v",
         "showlegend": true,
         "stackgroup": "1",
         "type": "scatter",
         "x": [
          "2010-12-01T00:00:00",
          "2011-12-01T00:00:00",
          "2012-12-01T00:00:00",
          "2013-12-01T00:00:00",
          "2014-12-01T00:00:00",
          "2015-12-01T00:00:00",
          "2016-12-01T00:00:00",
          "2017-12-01T00:00:00",
          "2018-12-01T00:00:00",
          "2019-12-01T00:00:00",
          "2020-12-01T00:00:00"
         ],
         "xaxis": "x",
         "y": [
          25,
          27,
          18,
          28,
          25,
          23,
          24,
          13,
          14,
          13,
          5
         ],
         "yaxis": "y"
        },
        {
         "customdata": [
          [
           "Cidra"
          ],
          [
           "Cidra"
          ],
          [
           "Cidra"
          ],
          [
           "Cidra"
          ],
          [
           "Cidra"
          ],
          [
           "Cidra"
          ],
          [
           "Cidra"
          ],
          [
           "Cidra"
          ],
          [
           "Cidra"
          ],
          [
           "Cidra"
          ],
          [
           "Cidra"
          ]
         ],
         "fillpattern": {
          "shape": ""
         },
         "hovertemplate": "Municipio=%{customdata[0]}<br>Fecha=%{x}<br>Total de Delitos=%{y}<extra></extra>",
         "legendgroup": "Cidra",
         "line": {
          "color": "#636efa"
         },
         "marker": {
          "symbol": "circle"
         },
         "mode": "lines",
         "name": "Cidra",
         "orientation": "v",
         "showlegend": true,
         "stackgroup": "1",
         "type": "scatter",
         "x": [
          "2010-12-01T00:00:00",
          "2011-12-01T00:00:00",
          "2012-12-01T00:00:00",
          "2013-12-01T00:00:00",
          "2014-12-01T00:00:00",
          "2015-12-01T00:00:00",
          "2016-12-01T00:00:00",
          "2017-12-01T00:00:00",
          "2018-12-01T00:00:00",
          "2019-12-01T00:00:00",
          "2020-12-01T00:00:00"
         ],
         "xaxis": "x",
         "y": [
          39,
          42,
          30,
          50,
          38,
          32,
          34,
          18,
          17,
          21,
          8
         ],
         "yaxis": "y"
        },
        {
         "customdata": [
          [
           "Coamo"
          ],
          [
           "Coamo"
          ],
          [
           "Coamo"
          ],
          [
           "Coamo"
          ],
          [
           "Coamo"
          ],
          [
           "Coamo"
          ],
          [
           "Coamo"
          ],
          [
           "Coamo"
          ],
          [
           "Coamo"
          ],
          [
           "Coamo"
          ],
          [
           "Coamo"
          ]
         ],
         "fillpattern": {
          "shape": ""
         },
         "hovertemplate": "Municipio=%{customdata[0]}<br>Fecha=%{x}<br>Total de Delitos=%{y}<extra></extra>",
         "legendgroup": "Coamo",
         "line": {
          "color": "#EF553B"
         },
         "marker": {
          "symbol": "circle"
         },
         "mode": "lines",
         "name": "Coamo",
         "orientation": "v",
         "showlegend": true,
         "stackgroup": "1",
         "type": "scatter",
         "x": [
          "2010-12-01T00:00:00",
          "2011-12-01T00:00:00",
          "2012-12-01T00:00:00",
          "2013-12-01T00:00:00",
          "2014-12-01T00:00:00",
          "2015-12-01T00:00:00",
          "2016-12-01T00:00:00",
          "2017-12-01T00:00:00",
          "2018-12-01T00:00:00",
          "2019-12-01T00:00:00",
          "2020-12-01T00:00:00"
         ],
         "xaxis": "x",
         "y": [
          40,
          40,
          43,
          38,
          38,
          22,
          23,
          29,
          17,
          13,
          15
         ],
         "yaxis": "y"
        },
        {
         "customdata": [
          [
           "Comerío"
          ],
          [
           "Comerío"
          ],
          [
           "Comerío"
          ],
          [
           "Comerío"
          ],
          [
           "Comerío"
          ],
          [
           "Comerío"
          ],
          [
           "Comerío"
          ],
          [
           "Comerío"
          ],
          [
           "Comerío"
          ],
          [
           "Comerío"
          ],
          [
           "Comerío"
          ]
         ],
         "fillpattern": {
          "shape": ""
         },
         "hovertemplate": "Municipio=%{customdata[0]}<br>Fecha=%{x}<br>Total de Delitos=%{y}<extra></extra>",
         "legendgroup": "Comerío",
         "line": {
          "color": "#00cc96"
         },
         "marker": {
          "symbol": "circle"
         },
         "mode": "lines",
         "name": "Comerío",
         "orientation": "v",
         "showlegend": true,
         "stackgroup": "1",
         "type": "scatter",
         "x": [
          "2010-12-01T00:00:00",
          "2011-12-01T00:00:00",
          "2012-12-01T00:00:00",
          "2013-12-01T00:00:00",
          "2014-12-01T00:00:00",
          "2015-12-01T00:00:00",
          "2016-12-01T00:00:00",
          "2017-12-01T00:00:00",
          "2018-12-01T00:00:00",
          "2019-12-01T00:00:00",
          "2020-12-01T00:00:00"
         ],
         "xaxis": "x",
         "y": [
          28,
          28,
          11,
          19,
          21,
          16,
          9,
          6,
          12,
          8,
          7
         ],
         "yaxis": "y"
        },
        {
         "customdata": [
          [
           "Corozal"
          ],
          [
           "Corozal"
          ],
          [
           "Corozal"
          ],
          [
           "Corozal"
          ],
          [
           "Corozal"
          ],
          [
           "Corozal"
          ],
          [
           "Corozal"
          ],
          [
           "Corozal"
          ],
          [
           "Corozal"
          ],
          [
           "Corozal"
          ],
          [
           "Corozal"
          ]
         ],
         "fillpattern": {
          "shape": ""
         },
         "hovertemplate": "Municipio=%{customdata[0]}<br>Fecha=%{x}<br>Total de Delitos=%{y}<extra></extra>",
         "legendgroup": "Corozal",
         "line": {
          "color": "#ab63fa"
         },
         "marker": {
          "symbol": "circle"
         },
         "mode": "lines",
         "name": "Corozal",
         "orientation": "v",
         "showlegend": true,
         "stackgroup": "1",
         "type": "scatter",
         "x": [
          "2010-12-01T00:00:00",
          "2011-12-01T00:00:00",
          "2012-12-01T00:00:00",
          "2013-12-01T00:00:00",
          "2014-12-01T00:00:00",
          "2015-12-01T00:00:00",
          "2016-12-01T00:00:00",
          "2017-12-01T00:00:00",
          "2018-12-01T00:00:00",
          "2019-12-01T00:00:00",
          "2020-12-01T00:00:00"
         ],
         "xaxis": "x",
         "y": [
          32,
          51,
          47,
          40,
          62,
          25,
          32,
          21,
          10,
          35,
          9
         ],
         "yaxis": "y"
        },
        {
         "customdata": [
          [
           "Culebra"
          ],
          [
           "Culebra"
          ],
          [
           "Culebra"
          ],
          [
           "Culebra"
          ],
          [
           "Culebra"
          ],
          [
           "Culebra"
          ],
          [
           "Culebra"
          ],
          [
           "Culebra"
          ],
          [
           "Culebra"
          ],
          [
           "Culebra"
          ],
          [
           "Culebra"
          ]
         ],
         "fillpattern": {
          "shape": ""
         },
         "hovertemplate": "Municipio=%{customdata[0]}<br>Fecha=%{x}<br>Total de Delitos=%{y}<extra></extra>",
         "legendgroup": "Culebra",
         "line": {
          "color": "#FFA15A"
         },
         "marker": {
          "symbol": "circle"
         },
         "mode": "lines",
         "name": "Culebra",
         "orientation": "v",
         "showlegend": true,
         "stackgroup": "1",
         "type": "scatter",
         "x": [
          "2010-12-01T00:00:00",
          "2011-12-01T00:00:00",
          "2012-12-01T00:00:00",
          "2013-12-01T00:00:00",
          "2014-12-01T00:00:00",
          "2015-12-01T00:00:00",
          "2016-12-01T00:00:00",
          "2017-12-01T00:00:00",
          "2018-12-01T00:00:00",
          "2019-12-01T00:00:00",
          "2020-12-01T00:00:00"
         ],
         "xaxis": "x",
         "y": [
          7,
          3,
          4,
          6,
          2,
          4,
          9,
          2,
          4,
          4,
          1
         ],
         "yaxis": "y"
        },
        {
         "customdata": [
          [
           "Dorado"
          ],
          [
           "Dorado"
          ],
          [
           "Dorado"
          ],
          [
           "Dorado"
          ],
          [
           "Dorado"
          ],
          [
           "Dorado"
          ],
          [
           "Dorado"
          ],
          [
           "Dorado"
          ],
          [
           "Dorado"
          ],
          [
           "Dorado"
          ],
          [
           "Dorado"
          ]
         ],
         "fillpattern": {
          "shape": ""
         },
         "hovertemplate": "Municipio=%{customdata[0]}<br>Fecha=%{x}<br>Total de Delitos=%{y}<extra></extra>",
         "legendgroup": "Dorado",
         "line": {
          "color": "#19d3f3"
         },
         "marker": {
          "symbol": "circle"
         },
         "mode": "lines",
         "name": "Dorado",
         "orientation": "v",
         "showlegend": true,
         "stackgroup": "1",
         "type": "scatter",
         "x": [
          "2010-12-01T00:00:00",
          "2011-12-01T00:00:00",
          "2012-12-01T00:00:00",
          "2013-12-01T00:00:00",
          "2014-12-01T00:00:00",
          "2015-12-01T00:00:00",
          "2016-12-01T00:00:00",
          "2017-12-01T00:00:00",
          "2018-12-01T00:00:00",
          "2019-12-01T00:00:00",
          "2020-12-01T00:00:00"
         ],
         "xaxis": "x",
         "y": [
          83,
          68,
          52,
          79,
          75,
          51,
          53,
          39,
          42,
          54,
          28
         ],
         "yaxis": "y"
        },
        {
         "customdata": [
          [
           "Fajardo"
          ],
          [
           "Fajardo"
          ],
          [
           "Fajardo"
          ],
          [
           "Fajardo"
          ],
          [
           "Fajardo"
          ],
          [
           "Fajardo"
          ],
          [
           "Fajardo"
          ],
          [
           "Fajardo"
          ],
          [
           "Fajardo"
          ],
          [
           "Fajardo"
          ],
          [
           "Fajardo"
          ]
         ],
         "fillpattern": {
          "shape": ""
         },
         "hovertemplate": "Municipio=%{customdata[0]}<br>Fecha=%{x}<br>Total de Delitos=%{y}<extra></extra>",
         "legendgroup": "Fajardo",
         "line": {
          "color": "#FF6692"
         },
         "marker": {
          "symbol": "circle"
         },
         "mode": "lines",
         "name": "Fajardo",
         "orientation": "v",
         "showlegend": true,
         "stackgroup": "1",
         "type": "scatter",
         "x": [
          "2010-12-01T00:00:00",
          "2011-12-01T00:00:00",
          "2012-12-01T00:00:00",
          "2013-12-01T00:00:00",
          "2014-12-01T00:00:00",
          "2015-12-01T00:00:00",
          "2016-12-01T00:00:00",
          "2017-12-01T00:00:00",
          "2018-12-01T00:00:00",
          "2019-12-01T00:00:00",
          "2020-12-01T00:00:00"
         ],
         "xaxis": "x",
         "y": [
          46,
          45,
          39,
          69,
          44,
          43,
          32,
          28,
          27,
          26,
          8
         ],
         "yaxis": "y"
        },
        {
         "customdata": [
          [
           "Florida"
          ],
          [
           "Florida"
          ],
          [
           "Florida"
          ],
          [
           "Florida"
          ],
          [
           "Florida"
          ],
          [
           "Florida"
          ],
          [
           "Florida"
          ],
          [
           "Florida"
          ],
          [
           "Florida"
          ],
          [
           "Florida"
          ],
          [
           "Florida"
          ]
         ],
         "fillpattern": {
          "shape": ""
         },
         "hovertemplate": "Municipio=%{customdata[0]}<br>Fecha=%{x}<br>Total de Delitos=%{y}<extra></extra>",
         "legendgroup": "Florida",
         "line": {
          "color": "#B6E880"
         },
         "marker": {
          "symbol": "circle"
         },
         "mode": "lines",
         "name": "Florida",
         "orientation": "v",
         "showlegend": true,
         "stackgroup": "1",
         "type": "scatter",
         "x": [
          "2010-12-01T00:00:00",
          "2011-12-01T00:00:00",
          "2012-12-01T00:00:00",
          "2013-12-01T00:00:00",
          "2014-12-01T00:00:00",
          "2015-12-01T00:00:00",
          "2016-12-01T00:00:00",
          "2017-12-01T00:00:00",
          "2018-12-01T00:00:00",
          "2019-12-01T00:00:00",
          "2020-12-01T00:00:00"
         ],
         "xaxis": "x",
         "y": [
          5,
          11,
          10,
          11,
          12,
          10,
          10,
          0,
          7,
          5,
          3
         ],
         "yaxis": "y"
        },
        {
         "customdata": [
          [
           "Guayama"
          ],
          [
           "Guayama"
          ],
          [
           "Guayama"
          ],
          [
           "Guayama"
          ],
          [
           "Guayama"
          ],
          [
           "Guayama"
          ],
          [
           "Guayama"
          ],
          [
           "Guayama"
          ],
          [
           "Guayama"
          ],
          [
           "Guayama"
          ],
          [
           "Guayama"
          ]
         ],
         "fillpattern": {
          "shape": ""
         },
         "hovertemplate": "Municipio=%{customdata[0]}<br>Fecha=%{x}<br>Total de Delitos=%{y}<extra></extra>",
         "legendgroup": "Guayama",
         "line": {
          "color": "#FF97FF"
         },
         "marker": {
          "symbol": "circle"
         },
         "mode": "lines",
         "name": "Guayama",
         "orientation": "v",
         "showlegend": true,
         "stackgroup": "1",
         "type": "scatter",
         "x": [
          "2010-12-01T00:00:00",
          "2011-12-01T00:00:00",
          "2012-12-01T00:00:00",
          "2013-12-01T00:00:00",
          "2014-12-01T00:00:00",
          "2015-12-01T00:00:00",
          "2016-12-01T00:00:00",
          "2017-12-01T00:00:00",
          "2018-12-01T00:00:00",
          "2019-12-01T00:00:00",
          "2020-12-01T00:00:00"
         ],
         "xaxis": "x",
         "y": [
          72,
          71,
          61,
          81,
          47,
          53,
          39,
          28,
          21,
          28,
          14
         ],
         "yaxis": "y"
        },
        {
         "customdata": [
          [
           "Guayanilla"
          ],
          [
           "Guayanilla"
          ],
          [
           "Guayanilla"
          ],
          [
           "Guayanilla"
          ],
          [
           "Guayanilla"
          ],
          [
           "Guayanilla"
          ],
          [
           "Guayanilla"
          ],
          [
           "Guayanilla"
          ],
          [
           "Guayanilla"
          ],
          [
           "Guayanilla"
          ],
          [
           "Guayanilla"
          ]
         ],
         "fillpattern": {
          "shape": ""
         },
         "hovertemplate": "Municipio=%{customdata[0]}<br>Fecha=%{x}<br>Total de Delitos=%{y}<extra></extra>",
         "legendgroup": "Guayanilla",
         "line": {
          "color": "#FECB52"
         },
         "marker": {
          "symbol": "circle"
         },
         "mode": "lines",
         "name": "Guayanilla",
         "orientation": "v",
         "showlegend": true,
         "stackgroup": "1",
         "type": "scatter",
         "x": [
          "2010-12-01T00:00:00",
          "2011-12-01T00:00:00",
          "2012-12-01T00:00:00",
          "2013-12-01T00:00:00",
          "2014-12-01T00:00:00",
          "2015-12-01T00:00:00",
          "2016-12-01T00:00:00",
          "2017-12-01T00:00:00",
          "2018-12-01T00:00:00",
          "2019-12-01T00:00:00",
          "2020-12-01T00:00:00"
         ],
         "xaxis": "x",
         "y": [
          19,
          18,
          15,
          20,
          20,
          6,
          17,
          15,
          14,
          5,
          6
         ],
         "yaxis": "y"
        },
        {
         "customdata": [
          [
           "Guaynabo"
          ],
          [
           "Guaynabo"
          ],
          [
           "Guaynabo"
          ],
          [
           "Guaynabo"
          ],
          [
           "Guaynabo"
          ],
          [
           "Guaynabo"
          ],
          [
           "Guaynabo"
          ],
          [
           "Guaynabo"
          ],
          [
           "Guaynabo"
          ],
          [
           "Guaynabo"
          ],
          [
           "Guaynabo"
          ]
         ],
         "fillpattern": {
          "shape": ""
         },
         "hovertemplate": "Municipio=%{customdata[0]}<br>Fecha=%{x}<br>Total de Delitos=%{y}<extra></extra>",
         "legendgroup": "Guaynabo",
         "line": {
          "color": "#636efa"
         },
         "marker": {
          "symbol": "circle"
         },
         "mode": "lines",
         "name": "Guaynabo",
         "orientation": "v",
         "showlegend": true,
         "stackgroup": "1",
         "type": "scatter",
         "x": [
          "2010-12-01T00:00:00",
          "2011-12-01T00:00:00",
          "2012-12-01T00:00:00",
          "2013-12-01T00:00:00",
          "2014-12-01T00:00:00",
          "2015-12-01T00:00:00",
          "2016-12-01T00:00:00",
          "2017-12-01T00:00:00",
          "2018-12-01T00:00:00",
          "2019-12-01T00:00:00",
          "2020-12-01T00:00:00"
         ],
         "xaxis": "x",
         "y": [
          115,
          162,
          129,
          162,
          96,
          99,
          70,
          91,
          104,
          92,
          43
         ],
         "yaxis": "y"
        },
        {
         "customdata": [
          [
           "Gurabo"
          ],
          [
           "Gurabo"
          ],
          [
           "Gurabo"
          ],
          [
           "Gurabo"
          ],
          [
           "Gurabo"
          ],
          [
           "Gurabo"
          ],
          [
           "Gurabo"
          ],
          [
           "Gurabo"
          ],
          [
           "Gurabo"
          ],
          [
           "Gurabo"
          ],
          [
           "Gurabo"
          ]
         ],
         "fillpattern": {
          "shape": ""
         },
         "hovertemplate": "Municipio=%{customdata[0]}<br>Fecha=%{x}<br>Total de Delitos=%{y}<extra></extra>",
         "legendgroup": "Gurabo",
         "line": {
          "color": "#EF553B"
         },
         "marker": {
          "symbol": "circle"
         },
         "mode": "lines",
         "name": "Gurabo",
         "orientation": "v",
         "showlegend": true,
         "stackgroup": "1",
         "type": "scatter",
         "x": [
          "2010-12-01T00:00:00",
          "2011-12-01T00:00:00",
          "2012-12-01T00:00:00",
          "2013-12-01T00:00:00",
          "2014-12-01T00:00:00",
          "2015-12-01T00:00:00",
          "2016-12-01T00:00:00",
          "2017-12-01T00:00:00",
          "2018-12-01T00:00:00",
          "2019-12-01T00:00:00",
          "2020-12-01T00:00:00"
         ],
         "xaxis": "x",
         "y": [
          21,
          24,
          51,
          12,
          13,
          19,
          20,
          20,
          9,
          11,
          10
         ],
         "yaxis": "y"
        },
        {
         "customdata": [
          [
           "Guánica"
          ],
          [
           "Guánica"
          ],
          [
           "Guánica"
          ],
          [
           "Guánica"
          ],
          [
           "Guánica"
          ],
          [
           "Guánica"
          ],
          [
           "Guánica"
          ],
          [
           "Guánica"
          ],
          [
           "Guánica"
          ],
          [
           "Guánica"
          ],
          [
           "Guánica"
          ]
         ],
         "fillpattern": {
          "shape": ""
         },
         "hovertemplate": "Municipio=%{customdata[0]}<br>Fecha=%{x}<br>Total de Delitos=%{y}<extra></extra>",
         "legendgroup": "Guánica",
         "line": {
          "color": "#00cc96"
         },
         "marker": {
          "symbol": "circle"
         },
         "mode": "lines",
         "name": "Guánica",
         "orientation": "v",
         "showlegend": true,
         "stackgroup": "1",
         "type": "scatter",
         "x": [
          "2010-12-01T00:00:00",
          "2011-12-01T00:00:00",
          "2012-12-01T00:00:00",
          "2013-12-01T00:00:00",
          "2014-12-01T00:00:00",
          "2015-12-01T00:00:00",
          "2016-12-01T00:00:00",
          "2017-12-01T00:00:00",
          "2018-12-01T00:00:00",
          "2019-12-01T00:00:00",
          "2020-12-01T00:00:00"
         ],
         "xaxis": "x",
         "y": [
          18,
          13,
          15,
          4,
          10,
          22,
          31,
          16,
          16,
          6,
          4
         ],
         "yaxis": "y"
        },
        {
         "customdata": [
          [
           "Hatillo"
          ],
          [
           "Hatillo"
          ],
          [
           "Hatillo"
          ],
          [
           "Hatillo"
          ],
          [
           "Hatillo"
          ],
          [
           "Hatillo"
          ],
          [
           "Hatillo"
          ],
          [
           "Hatillo"
          ],
          [
           "Hatillo"
          ],
          [
           "Hatillo"
          ],
          [
           "Hatillo"
          ]
         ],
         "fillpattern": {
          "shape": ""
         },
         "hovertemplate": "Municipio=%{customdata[0]}<br>Fecha=%{x}<br>Total de Delitos=%{y}<extra></extra>",
         "legendgroup": "Hatillo",
         "line": {
          "color": "#ab63fa"
         },
         "marker": {
          "symbol": "circle"
         },
         "mode": "lines",
         "name": "Hatillo",
         "orientation": "v",
         "showlegend": true,
         "stackgroup": "1",
         "type": "scatter",
         "x": [
          "2010-12-01T00:00:00",
          "2011-12-01T00:00:00",
          "2012-12-01T00:00:00",
          "2013-12-01T00:00:00",
          "2014-12-01T00:00:00",
          "2015-12-01T00:00:00",
          "2016-12-01T00:00:00",
          "2017-12-01T00:00:00",
          "2018-12-01T00:00:00",
          "2019-12-01T00:00:00",
          "2020-12-01T00:00:00"
         ],
         "xaxis": "x",
         "y": [
          66,
          44,
          66,
          76,
          94,
          76,
          47,
          25,
          19,
          23,
          14
         ],
         "yaxis": "y"
        },
        {
         "customdata": [
          [
           "Hormigueros"
          ],
          [
           "Hormigueros"
          ],
          [
           "Hormigueros"
          ],
          [
           "Hormigueros"
          ],
          [
           "Hormigueros"
          ],
          [
           "Hormigueros"
          ],
          [
           "Hormigueros"
          ],
          [
           "Hormigueros"
          ],
          [
           "Hormigueros"
          ],
          [
           "Hormigueros"
          ],
          [
           "Hormigueros"
          ]
         ],
         "fillpattern": {
          "shape": ""
         },
         "hovertemplate": "Municipio=%{customdata[0]}<br>Fecha=%{x}<br>Total de Delitos=%{y}<extra></extra>",
         "legendgroup": "Hormigueros",
         "line": {
          "color": "#FFA15A"
         },
         "marker": {
          "symbol": "circle"
         },
         "mode": "lines",
         "name": "Hormigueros",
         "orientation": "v",
         "showlegend": true,
         "stackgroup": "1",
         "type": "scatter",
         "x": [
          "2010-12-01T00:00:00",
          "2011-12-01T00:00:00",
          "2012-12-01T00:00:00",
          "2013-12-01T00:00:00",
          "2014-12-01T00:00:00",
          "2015-12-01T00:00:00",
          "2016-12-01T00:00:00",
          "2017-12-01T00:00:00",
          "2018-12-01T00:00:00",
          "2019-12-01T00:00:00",
          "2020-12-01T00:00:00"
         ],
         "xaxis": "x",
         "y": [
          22,
          12,
          21,
          4,
          12,
          13,
          2,
          8,
          6,
          2,
          4
         ],
         "yaxis": "y"
        },
        {
         "customdata": [
          [
           "Humacao"
          ],
          [
           "Humacao"
          ],
          [
           "Humacao"
          ],
          [
           "Humacao"
          ],
          [
           "Humacao"
          ],
          [
           "Humacao"
          ],
          [
           "Humacao"
          ],
          [
           "Humacao"
          ],
          [
           "Humacao"
          ],
          [
           "Humacao"
          ],
          [
           "Humacao"
          ]
         ],
         "fillpattern": {
          "shape": ""
         },
         "hovertemplate": "Municipio=%{customdata[0]}<br>Fecha=%{x}<br>Total de Delitos=%{y}<extra></extra>",
         "legendgroup": "Humacao",
         "line": {
          "color": "#19d3f3"
         },
         "marker": {
          "symbol": "circle"
         },
         "mode": "lines",
         "name": "Humacao",
         "orientation": "v",
         "showlegend": true,
         "stackgroup": "1",
         "type": "scatter",
         "x": [
          "2010-12-01T00:00:00",
          "2011-12-01T00:00:00",
          "2012-12-01T00:00:00",
          "2013-12-01T00:00:00",
          "2014-12-01T00:00:00",
          "2015-12-01T00:00:00",
          "2016-12-01T00:00:00",
          "2017-12-01T00:00:00",
          "2018-12-01T00:00:00",
          "2019-12-01T00:00:00",
          "2020-12-01T00:00:00"
         ],
         "xaxis": "x",
         "y": [
          109,
          121,
          170,
          69,
          82,
          47,
          64,
          49,
          28,
          39,
          20
         ],
         "yaxis": "y"
        },
        {
         "customdata": [
          [
           "Isabela"
          ],
          [
           "Isabela"
          ],
          [
           "Isabela"
          ],
          [
           "Isabela"
          ],
          [
           "Isabela"
          ],
          [
           "Isabela"
          ],
          [
           "Isabela"
          ],
          [
           "Isabela"
          ],
          [
           "Isabela"
          ],
          [
           "Isabela"
          ],
          [
           "Isabela"
          ]
         ],
         "fillpattern": {
          "shape": ""
         },
         "hovertemplate": "Municipio=%{customdata[0]}<br>Fecha=%{x}<br>Total de Delitos=%{y}<extra></extra>",
         "legendgroup": "Isabela",
         "line": {
          "color": "#FF6692"
         },
         "marker": {
          "symbol": "circle"
         },
         "mode": "lines",
         "name": "Isabela",
         "orientation": "v",
         "showlegend": true,
         "stackgroup": "1",
         "type": "scatter",
         "x": [
          "2010-12-01T00:00:00",
          "2011-12-01T00:00:00",
          "2012-12-01T00:00:00",
          "2013-12-01T00:00:00",
          "2014-12-01T00:00:00",
          "2015-12-01T00:00:00",
          "2016-12-01T00:00:00",
          "2017-12-01T00:00:00",
          "2018-12-01T00:00:00",
          "2019-12-01T00:00:00",
          "2020-12-01T00:00:00"
         ],
         "xaxis": "x",
         "y": [
          47,
          70,
          60,
          72,
          130,
          80,
          53,
          50,
          72,
          22,
          9
         ],
         "yaxis": "y"
        },
        {
         "customdata": [
          [
           "Jayuya"
          ],
          [
           "Jayuya"
          ],
          [
           "Jayuya"
          ],
          [
           "Jayuya"
          ],
          [
           "Jayuya"
          ],
          [
           "Jayuya"
          ],
          [
           "Jayuya"
          ],
          [
           "Jayuya"
          ],
          [
           "Jayuya"
          ],
          [
           "Jayuya"
          ],
          [
           "Jayuya"
          ]
         ],
         "fillpattern": {
          "shape": ""
         },
         "hovertemplate": "Municipio=%{customdata[0]}<br>Fecha=%{x}<br>Total de Delitos=%{y}<extra></extra>",
         "legendgroup": "Jayuya",
         "line": {
          "color": "#B6E880"
         },
         "marker": {
          "symbol": "circle"
         },
         "mode": "lines",
         "name": "Jayuya",
         "orientation": "v",
         "showlegend": true,
         "stackgroup": "1",
         "type": "scatter",
         "x": [
          "2010-12-01T00:00:00",
          "2011-12-01T00:00:00",
          "2012-12-01T00:00:00",
          "2013-12-01T00:00:00",
          "2014-12-01T00:00:00",
          "2015-12-01T00:00:00",
          "2016-12-01T00:00:00",
          "2017-12-01T00:00:00",
          "2018-12-01T00:00:00",
          "2019-12-01T00:00:00",
          "2020-12-01T00:00:00"
         ],
         "xaxis": "x",
         "y": [
          8,
          6,
          8,
          17,
          11,
          3,
          8,
          8,
          3,
          5,
          2
         ],
         "yaxis": "y"
        },
        {
         "customdata": [
          [
           "Juana Díaz"
          ],
          [
           "Juana Díaz"
          ],
          [
           "Juana Díaz"
          ],
          [
           "Juana Díaz"
          ],
          [
           "Juana Díaz"
          ],
          [
           "Juana Díaz"
          ],
          [
           "Juana Díaz"
          ],
          [
           "Juana Díaz"
          ],
          [
           "Juana Díaz"
          ],
          [
           "Juana Díaz"
          ],
          [
           "Juana Díaz"
          ]
         ],
         "fillpattern": {
          "shape": ""
         },
         "hovertemplate": "Municipio=%{customdata[0]}<br>Fecha=%{x}<br>Total de Delitos=%{y}<extra></extra>",
         "legendgroup": "Juana Díaz",
         "line": {
          "color": "#FF97FF"
         },
         "marker": {
          "symbol": "circle"
         },
         "mode": "lines",
         "name": "Juana Díaz",
         "orientation": "v",
         "showlegend": true,
         "stackgroup": "1",
         "type": "scatter",
         "x": [
          "2010-12-01T00:00:00",
          "2011-12-01T00:00:00",
          "2012-12-01T00:00:00",
          "2013-12-01T00:00:00",
          "2014-12-01T00:00:00",
          "2015-12-01T00:00:00",
          "2016-12-01T00:00:00",
          "2017-12-01T00:00:00",
          "2018-12-01T00:00:00",
          "2019-12-01T00:00:00",
          "2020-12-01T00:00:00"
         ],
         "xaxis": "x",
         "y": [
          50,
          44,
          60,
          120,
          84,
          67,
          72,
          34,
          28,
          10,
          20
         ],
         "yaxis": "y"
        },
        {
         "customdata": [
          [
           "Juncos"
          ],
          [
           "Juncos"
          ],
          [
           "Juncos"
          ],
          [
           "Juncos"
          ],
          [
           "Juncos"
          ],
          [
           "Juncos"
          ],
          [
           "Juncos"
          ],
          [
           "Juncos"
          ],
          [
           "Juncos"
          ],
          [
           "Juncos"
          ],
          [
           "Juncos"
          ]
         ],
         "fillpattern": {
          "shape": ""
         },
         "hovertemplate": "Municipio=%{customdata[0]}<br>Fecha=%{x}<br>Total de Delitos=%{y}<extra></extra>",
         "legendgroup": "Juncos",
         "line": {
          "color": "#FECB52"
         },
         "marker": {
          "symbol": "circle"
         },
         "mode": "lines",
         "name": "Juncos",
         "orientation": "v",
         "showlegend": true,
         "stackgroup": "1",
         "type": "scatter",
         "x": [
          "2010-12-01T00:00:00",
          "2011-12-01T00:00:00",
          "2012-12-01T00:00:00",
          "2013-12-01T00:00:00",
          "2014-12-01T00:00:00",
          "2015-12-01T00:00:00",
          "2016-12-01T00:00:00",
          "2017-12-01T00:00:00",
          "2018-12-01T00:00:00",
          "2019-12-01T00:00:00",
          "2020-12-01T00:00:00"
         ],
         "xaxis": "x",
         "y": [
          22,
          23,
          37,
          38,
          32,
          33,
          26,
          25,
          11,
          11,
          10
         ],
         "yaxis": "y"
        },
        {
         "customdata": [
          [
           "Lajas"
          ],
          [
           "Lajas"
          ],
          [
           "Lajas"
          ],
          [
           "Lajas"
          ],
          [
           "Lajas"
          ],
          [
           "Lajas"
          ],
          [
           "Lajas"
          ],
          [
           "Lajas"
          ],
          [
           "Lajas"
          ],
          [
           "Lajas"
          ],
          [
           "Lajas"
          ]
         ],
         "fillpattern": {
          "shape": ""
         },
         "hovertemplate": "Municipio=%{customdata[0]}<br>Fecha=%{x}<br>Total de Delitos=%{y}<extra></extra>",
         "legendgroup": "Lajas",
         "line": {
          "color": "#636efa"
         },
         "marker": {
          "symbol": "circle"
         },
         "mode": "lines",
         "name": "Lajas",
         "orientation": "v",
         "showlegend": true,
         "stackgroup": "1",
         "type": "scatter",
         "x": [
          "2010-12-01T00:00:00",
          "2011-12-01T00:00:00",
          "2012-12-01T00:00:00",
          "2013-12-01T00:00:00",
          "2014-12-01T00:00:00",
          "2015-12-01T00:00:00",
          "2016-12-01T00:00:00",
          "2017-12-01T00:00:00",
          "2018-12-01T00:00:00",
          "2019-12-01T00:00:00",
          "2020-12-01T00:00:00"
         ],
         "xaxis": "x",
         "y": [
          11,
          10,
          16,
          6,
          13,
          13,
          8,
          17,
          4,
          5,
          1
         ],
         "yaxis": "y"
        },
        {
         "customdata": [
          [
           "Lares"
          ],
          [
           "Lares"
          ],
          [
           "Lares"
          ],
          [
           "Lares"
          ],
          [
           "Lares"
          ],
          [
           "Lares"
          ],
          [
           "Lares"
          ],
          [
           "Lares"
          ],
          [
           "Lares"
          ],
          [
           "Lares"
          ],
          [
           "Lares"
          ]
         ],
         "fillpattern": {
          "shape": ""
         },
         "hovertemplate": "Municipio=%{customdata[0]}<br>Fecha=%{x}<br>Total de Delitos=%{y}<extra></extra>",
         "legendgroup": "Lares",
         "line": {
          "color": "#EF553B"
         },
         "marker": {
          "symbol": "circle"
         },
         "mode": "lines",
         "name": "Lares",
         "orientation": "v",
         "showlegend": true,
         "stackgroup": "1",
         "type": "scatter",
         "x": [
          "2010-12-01T00:00:00",
          "2011-12-01T00:00:00",
          "2012-12-01T00:00:00",
          "2013-12-01T00:00:00",
          "2014-12-01T00:00:00",
          "2015-12-01T00:00:00",
          "2016-12-01T00:00:00",
          "2017-12-01T00:00:00",
          "2018-12-01T00:00:00",
          "2019-12-01T00:00:00",
          "2020-12-01T00:00:00"
         ],
         "xaxis": "x",
         "y": [
          26,
          25,
          44,
          17,
          30,
          23,
          17,
          20,
          26,
          11,
          7
         ],
         "yaxis": "y"
        },
        {
         "customdata": [
          [
           "Las Marías"
          ],
          [
           "Las Marías"
          ],
          [
           "Las Marías"
          ],
          [
           "Las Marías"
          ],
          [
           "Las Marías"
          ],
          [
           "Las Marías"
          ],
          [
           "Las Marías"
          ],
          [
           "Las Marías"
          ],
          [
           "Las Marías"
          ],
          [
           "Las Marías"
          ],
          [
           "Las Marías"
          ]
         ],
         "fillpattern": {
          "shape": ""
         },
         "hovertemplate": "Municipio=%{customdata[0]}<br>Fecha=%{x}<br>Total de Delitos=%{y}<extra></extra>",
         "legendgroup": "Las Marías",
         "line": {
          "color": "#00cc96"
         },
         "marker": {
          "symbol": "circle"
         },
         "mode": "lines",
         "name": "Las Marías",
         "orientation": "v",
         "showlegend": true,
         "stackgroup": "1",
         "type": "scatter",
         "x": [
          "2010-12-01T00:00:00",
          "2011-12-01T00:00:00",
          "2012-12-01T00:00:00",
          "2013-12-01T00:00:00",
          "2014-12-01T00:00:00",
          "2015-12-01T00:00:00",
          "2016-12-01T00:00:00",
          "2017-12-01T00:00:00",
          "2018-12-01T00:00:00",
          "2019-12-01T00:00:00",
          "2020-12-01T00:00:00"
         ],
         "xaxis": "x",
         "y": [
          11,
          6,
          9,
          9,
          4,
          8,
          8,
          4,
          2,
          0,
          1
         ],
         "yaxis": "y"
        },
        {
         "customdata": [
          [
           "Las Piedras"
          ],
          [
           "Las Piedras"
          ],
          [
           "Las Piedras"
          ],
          [
           "Las Piedras"
          ],
          [
           "Las Piedras"
          ],
          [
           "Las Piedras"
          ],
          [
           "Las Piedras"
          ],
          [
           "Las Piedras"
          ],
          [
           "Las Piedras"
          ],
          [
           "Las Piedras"
          ],
          [
           "Las Piedras"
          ]
         ],
         "fillpattern": {
          "shape": ""
         },
         "hovertemplate": "Municipio=%{customdata[0]}<br>Fecha=%{x}<br>Total de Delitos=%{y}<extra></extra>",
         "legendgroup": "Las Piedras",
         "line": {
          "color": "#ab63fa"
         },
         "marker": {
          "symbol": "circle"
         },
         "mode": "lines",
         "name": "Las Piedras",
         "orientation": "v",
         "showlegend": true,
         "stackgroup": "1",
         "type": "scatter",
         "x": [
          "2010-12-01T00:00:00",
          "2011-12-01T00:00:00",
          "2012-12-01T00:00:00",
          "2013-12-01T00:00:00",
          "2014-12-01T00:00:00",
          "2015-12-01T00:00:00",
          "2016-12-01T00:00:00",
          "2017-12-01T00:00:00",
          "2018-12-01T00:00:00",
          "2019-12-01T00:00:00",
          "2020-12-01T00:00:00"
         ],
         "xaxis": "x",
         "y": [
          66,
          86,
          90,
          27,
          58,
          22,
          23,
          20,
          11,
          23,
          25
         ],
         "yaxis": "y"
        },
        {
         "customdata": [
          [
           "Loiza"
          ],
          [
           "Loiza"
          ],
          [
           "Loiza"
          ],
          [
           "Loiza"
          ],
          [
           "Loiza"
          ],
          [
           "Loiza"
          ],
          [
           "Loiza"
          ],
          [
           "Loiza"
          ],
          [
           "Loiza"
          ],
          [
           "Loiza"
          ],
          [
           "Loiza"
          ]
         ],
         "fillpattern": {
          "shape": ""
         },
         "hovertemplate": "Municipio=%{customdata[0]}<br>Fecha=%{x}<br>Total de Delitos=%{y}<extra></extra>",
         "legendgroup": "Loiza",
         "line": {
          "color": "#FFA15A"
         },
         "marker": {
          "symbol": "circle"
         },
         "mode": "lines",
         "name": "Loiza",
         "orientation": "v",
         "showlegend": true,
         "stackgroup": "1",
         "type": "scatter",
         "x": [
          "2010-12-01T00:00:00",
          "2011-12-01T00:00:00",
          "2012-12-01T00:00:00",
          "2013-12-01T00:00:00",
          "2014-12-01T00:00:00",
          "2015-12-01T00:00:00",
          "2016-12-01T00:00:00",
          "2017-12-01T00:00:00",
          "2018-12-01T00:00:00",
          "2019-12-01T00:00:00",
          "2020-12-01T00:00:00"
         ],
         "xaxis": "x",
         "y": [
          47,
          17,
          26,
          29,
          25,
          24,
          26,
          22,
          21,
          19,
          11
         ],
         "yaxis": "y"
        },
        {
         "customdata": [
          [
           "Luquillo"
          ],
          [
           "Luquillo"
          ],
          [
           "Luquillo"
          ],
          [
           "Luquillo"
          ],
          [
           "Luquillo"
          ],
          [
           "Luquillo"
          ],
          [
           "Luquillo"
          ],
          [
           "Luquillo"
          ],
          [
           "Luquillo"
          ],
          [
           "Luquillo"
          ],
          [
           "Luquillo"
          ]
         ],
         "fillpattern": {
          "shape": ""
         },
         "hovertemplate": "Municipio=%{customdata[0]}<br>Fecha=%{x}<br>Total de Delitos=%{y}<extra></extra>",
         "legendgroup": "Luquillo",
         "line": {
          "color": "#19d3f3"
         },
         "marker": {
          "symbol": "circle"
         },
         "mode": "lines",
         "name": "Luquillo",
         "orientation": "v",
         "showlegend": true,
         "stackgroup": "1",
         "type": "scatter",
         "x": [
          "2010-12-01T00:00:00",
          "2011-12-01T00:00:00",
          "2012-12-01T00:00:00",
          "2013-12-01T00:00:00",
          "2014-12-01T00:00:00",
          "2015-12-01T00:00:00",
          "2016-12-01T00:00:00",
          "2017-12-01T00:00:00",
          "2018-12-01T00:00:00",
          "2019-12-01T00:00:00",
          "2020-12-01T00:00:00"
         ],
         "xaxis": "x",
         "y": [
          35,
          21,
          19,
          26,
          23,
          28,
          26,
          17,
          13,
          39,
          5
         ],
         "yaxis": "y"
        },
        {
         "customdata": [
          [
           "Manatí"
          ],
          [
           "Manatí"
          ],
          [
           "Manatí"
          ],
          [
           "Manatí"
          ],
          [
           "Manatí"
          ],
          [
           "Manatí"
          ],
          [
           "Manatí"
          ],
          [
           "Manatí"
          ],
          [
           "Manatí"
          ],
          [
           "Manatí"
          ],
          [
           "Manatí"
          ]
         ],
         "fillpattern": {
          "shape": ""
         },
         "hovertemplate": "Municipio=%{customdata[0]}<br>Fecha=%{x}<br>Total de Delitos=%{y}<extra></extra>",
         "legendgroup": "Manatí",
         "line": {
          "color": "#FF6692"
         },
         "marker": {
          "symbol": "circle"
         },
         "mode": "lines",
         "name": "Manatí",
         "orientation": "v",
         "showlegend": true,
         "stackgroup": "1",
         "type": "scatter",
         "x": [
          "2010-12-01T00:00:00",
          "2011-12-01T00:00:00",
          "2012-12-01T00:00:00",
          "2013-12-01T00:00:00",
          "2014-12-01T00:00:00",
          "2015-12-01T00:00:00",
          "2016-12-01T00:00:00",
          "2017-12-01T00:00:00",
          "2018-12-01T00:00:00",
          "2019-12-01T00:00:00",
          "2020-12-01T00:00:00"
         ],
         "xaxis": "x",
         "y": [
          77,
          62,
          60,
          66,
          55,
          81,
          43,
          31,
          37,
          42,
          33
         ],
         "yaxis": "y"
        },
        {
         "customdata": [
          [
           "Maricao"
          ],
          [
           "Maricao"
          ],
          [
           "Maricao"
          ],
          [
           "Maricao"
          ],
          [
           "Maricao"
          ],
          [
           "Maricao"
          ],
          [
           "Maricao"
          ],
          [
           "Maricao"
          ],
          [
           "Maricao"
          ],
          [
           "Maricao"
          ],
          [
           "Maricao"
          ]
         ],
         "fillpattern": {
          "shape": ""
         },
         "hovertemplate": "Municipio=%{customdata[0]}<br>Fecha=%{x}<br>Total de Delitos=%{y}<extra></extra>",
         "legendgroup": "Maricao",
         "line": {
          "color": "#B6E880"
         },
         "marker": {
          "symbol": "circle"
         },
         "mode": "lines",
         "name": "Maricao",
         "orientation": "v",
         "showlegend": true,
         "stackgroup": "1",
         "type": "scatter",
         "x": [
          "2010-12-01T00:00:00",
          "2011-12-01T00:00:00",
          "2012-12-01T00:00:00",
          "2013-12-01T00:00:00",
          "2014-12-01T00:00:00",
          "2015-12-01T00:00:00",
          "2016-12-01T00:00:00",
          "2017-12-01T00:00:00",
          "2018-12-01T00:00:00",
          "2019-12-01T00:00:00",
          "2020-12-01T00:00:00"
         ],
         "xaxis": "x",
         "y": [
          5,
          6,
          9,
          6,
          1,
          6,
          5,
          14,
          7,
          4,
          1
         ],
         "yaxis": "y"
        },
        {
         "customdata": [
          [
           "Maunabo"
          ],
          [
           "Maunabo"
          ],
          [
           "Maunabo"
          ],
          [
           "Maunabo"
          ],
          [
           "Maunabo"
          ],
          [
           "Maunabo"
          ],
          [
           "Maunabo"
          ],
          [
           "Maunabo"
          ],
          [
           "Maunabo"
          ],
          [
           "Maunabo"
          ],
          [
           "Maunabo"
          ]
         ],
         "fillpattern": {
          "shape": ""
         },
         "hovertemplate": "Municipio=%{customdata[0]}<br>Fecha=%{x}<br>Total de Delitos=%{y}<extra></extra>",
         "legendgroup": "Maunabo",
         "line": {
          "color": "#FF97FF"
         },
         "marker": {
          "symbol": "circle"
         },
         "mode": "lines",
         "name": "Maunabo",
         "orientation": "v",
         "showlegend": true,
         "stackgroup": "1",
         "type": "scatter",
         "x": [
          "2010-12-01T00:00:00",
          "2011-12-01T00:00:00",
          "2012-12-01T00:00:00",
          "2013-12-01T00:00:00",
          "2014-12-01T00:00:00",
          "2015-12-01T00:00:00",
          "2016-12-01T00:00:00",
          "2017-12-01T00:00:00",
          "2018-12-01T00:00:00",
          "2019-12-01T00:00:00",
          "2020-12-01T00:00:00"
         ],
         "xaxis": "x",
         "y": [
          3,
          11,
          26,
          20,
          16,
          9,
          6,
          6,
          4,
          9,
          6
         ],
         "yaxis": "y"
        },
        {
         "customdata": [
          [
           "Mayagüez"
          ],
          [
           "Mayagüez"
          ],
          [
           "Mayagüez"
          ],
          [
           "Mayagüez"
          ],
          [
           "Mayagüez"
          ],
          [
           "Mayagüez"
          ],
          [
           "Mayagüez"
          ],
          [
           "Mayagüez"
          ],
          [
           "Mayagüez"
          ],
          [
           "Mayagüez"
          ],
          [
           "Mayagüez"
          ]
         ],
         "fillpattern": {
          "shape": ""
         },
         "hovertemplate": "Municipio=%{customdata[0]}<br>Fecha=%{x}<br>Total de Delitos=%{y}<extra></extra>",
         "legendgroup": "Mayagüez",
         "line": {
          "color": "#FECB52"
         },
         "marker": {
          "symbol": "circle"
         },
         "mode": "lines",
         "name": "Mayagüez",
         "orientation": "v",
         "showlegend": true,
         "stackgroup": "1",
         "type": "scatter",
         "x": [
          "2010-12-01T00:00:00",
          "2011-12-01T00:00:00",
          "2012-12-01T00:00:00",
          "2013-12-01T00:00:00",
          "2014-12-01T00:00:00",
          "2015-12-01T00:00:00",
          "2016-12-01T00:00:00",
          "2017-12-01T00:00:00",
          "2018-12-01T00:00:00",
          "2019-12-01T00:00:00",
          "2020-12-01T00:00:00"
         ],
         "xaxis": "x",
         "y": [
          303,
          190,
          125,
          179,
          148,
          150,
          113,
          81,
          52,
          23,
          34
         ],
         "yaxis": "y"
        },
        {
         "customdata": [
          [
           "Moca"
          ],
          [
           "Moca"
          ],
          [
           "Moca"
          ],
          [
           "Moca"
          ],
          [
           "Moca"
          ],
          [
           "Moca"
          ],
          [
           "Moca"
          ],
          [
           "Moca"
          ],
          [
           "Moca"
          ],
          [
           "Moca"
          ],
          [
           "Moca"
          ]
         ],
         "fillpattern": {
          "shape": ""
         },
         "hovertemplate": "Municipio=%{customdata[0]}<br>Fecha=%{x}<br>Total de Delitos=%{y}<extra></extra>",
         "legendgroup": "Moca",
         "line": {
          "color": "#636efa"
         },
         "marker": {
          "symbol": "circle"
         },
         "mode": "lines",
         "name": "Moca",
         "orientation": "v",
         "showlegend": true,
         "stackgroup": "1",
         "type": "scatter",
         "x": [
          "2010-12-01T00:00:00",
          "2011-12-01T00:00:00",
          "2012-12-01T00:00:00",
          "2013-12-01T00:00:00",
          "2014-12-01T00:00:00",
          "2015-12-01T00:00:00",
          "2016-12-01T00:00:00",
          "2017-12-01T00:00:00",
          "2018-12-01T00:00:00",
          "2019-12-01T00:00:00",
          "2020-12-01T00:00:00"
         ],
         "xaxis": "x",
         "y": [
          15,
          33,
          32,
          38,
          19,
          18,
          11,
          21,
          31,
          11,
          6
         ],
         "yaxis": "y"
        },
        {
         "customdata": [
          [
           "Morovis"
          ],
          [
           "Morovis"
          ],
          [
           "Morovis"
          ],
          [
           "Morovis"
          ],
          [
           "Morovis"
          ],
          [
           "Morovis"
          ],
          [
           "Morovis"
          ],
          [
           "Morovis"
          ],
          [
           "Morovis"
          ],
          [
           "Morovis"
          ],
          [
           "Morovis"
          ]
         ],
         "fillpattern": {
          "shape": ""
         },
         "hovertemplate": "Municipio=%{customdata[0]}<br>Fecha=%{x}<br>Total de Delitos=%{y}<extra></extra>",
         "legendgroup": "Morovis",
         "line": {
          "color": "#EF553B"
         },
         "marker": {
          "symbol": "circle"
         },
         "mode": "lines",
         "name": "Morovis",
         "orientation": "v",
         "showlegend": true,
         "stackgroup": "1",
         "type": "scatter",
         "x": [
          "2010-12-01T00:00:00",
          "2011-12-01T00:00:00",
          "2012-12-01T00:00:00",
          "2013-12-01T00:00:00",
          "2014-12-01T00:00:00",
          "2015-12-01T00:00:00",
          "2016-12-01T00:00:00",
          "2017-12-01T00:00:00",
          "2018-12-01T00:00:00",
          "2019-12-01T00:00:00",
          "2020-12-01T00:00:00"
         ],
         "xaxis": "x",
         "y": [
          29,
          24,
          36,
          23,
          35,
          27,
          37,
          27,
          14,
          21,
          7
         ],
         "yaxis": "y"
        },
        {
         "customdata": [
          [
           "Naguabo"
          ],
          [
           "Naguabo"
          ],
          [
           "Naguabo"
          ],
          [
           "Naguabo"
          ],
          [
           "Naguabo"
          ],
          [
           "Naguabo"
          ],
          [
           "Naguabo"
          ],
          [
           "Naguabo"
          ],
          [
           "Naguabo"
          ],
          [
           "Naguabo"
          ],
          [
           "Naguabo"
          ]
         ],
         "fillpattern": {
          "shape": ""
         },
         "hovertemplate": "Municipio=%{customdata[0]}<br>Fecha=%{x}<br>Total de Delitos=%{y}<extra></extra>",
         "legendgroup": "Naguabo",
         "line": {
          "color": "#00cc96"
         },
         "marker": {
          "symbol": "circle"
         },
         "mode": "lines",
         "name": "Naguabo",
         "orientation": "v",
         "showlegend": true,
         "stackgroup": "1",
         "type": "scatter",
         "x": [
          "2010-12-01T00:00:00",
          "2011-12-01T00:00:00",
          "2012-12-01T00:00:00",
          "2013-12-01T00:00:00",
          "2014-12-01T00:00:00",
          "2015-12-01T00:00:00",
          "2016-12-01T00:00:00",
          "2017-12-01T00:00:00",
          "2018-12-01T00:00:00",
          "2019-12-01T00:00:00",
          "2020-12-01T00:00:00"
         ],
         "xaxis": "x",
         "y": [
          14,
          22,
          40,
          27,
          30,
          11,
          12,
          12,
          6,
          16,
          8
         ],
         "yaxis": "y"
        },
        {
         "customdata": [
          [
           "Naranjito"
          ],
          [
           "Naranjito"
          ],
          [
           "Naranjito"
          ],
          [
           "Naranjito"
          ],
          [
           "Naranjito"
          ],
          [
           "Naranjito"
          ],
          [
           "Naranjito"
          ],
          [
           "Naranjito"
          ],
          [
           "Naranjito"
          ],
          [
           "Naranjito"
          ],
          [
           "Naranjito"
          ]
         ],
         "fillpattern": {
          "shape": ""
         },
         "hovertemplate": "Municipio=%{customdata[0]}<br>Fecha=%{x}<br>Total de Delitos=%{y}<extra></extra>",
         "legendgroup": "Naranjito",
         "line": {
          "color": "#ab63fa"
         },
         "marker": {
          "symbol": "circle"
         },
         "mode": "lines",
         "name": "Naranjito",
         "orientation": "v",
         "showlegend": true,
         "stackgroup": "1",
         "type": "scatter",
         "x": [
          "2010-12-01T00:00:00",
          "2011-12-01T00:00:00",
          "2012-12-01T00:00:00",
          "2013-12-01T00:00:00",
          "2014-12-01T00:00:00",
          "2015-12-01T00:00:00",
          "2016-12-01T00:00:00",
          "2017-12-01T00:00:00",
          "2018-12-01T00:00:00",
          "2019-12-01T00:00:00",
          "2020-12-01T00:00:00"
         ],
         "xaxis": "x",
         "y": [
          51,
          43,
          42,
          39,
          62,
          30,
          32,
          39,
          32,
          55,
          15
         ],
         "yaxis": "y"
        },
        {
         "customdata": [
          [
           "Orocovis"
          ],
          [
           "Orocovis"
          ],
          [
           "Orocovis"
          ],
          [
           "Orocovis"
          ],
          [
           "Orocovis"
          ],
          [
           "Orocovis"
          ],
          [
           "Orocovis"
          ],
          [
           "Orocovis"
          ],
          [
           "Orocovis"
          ],
          [
           "Orocovis"
          ],
          [
           "Orocovis"
          ]
         ],
         "fillpattern": {
          "shape": ""
         },
         "hovertemplate": "Municipio=%{customdata[0]}<br>Fecha=%{x}<br>Total de Delitos=%{y}<extra></extra>",
         "legendgroup": "Orocovis",
         "line": {
          "color": "#FFA15A"
         },
         "marker": {
          "symbol": "circle"
         },
         "mode": "lines",
         "name": "Orocovis",
         "orientation": "v",
         "showlegend": true,
         "stackgroup": "1",
         "type": "scatter",
         "x": [
          "2010-12-01T00:00:00",
          "2011-12-01T00:00:00",
          "2012-12-01T00:00:00",
          "2013-12-01T00:00:00",
          "2014-12-01T00:00:00",
          "2015-12-01T00:00:00",
          "2016-12-01T00:00:00",
          "2017-12-01T00:00:00",
          "2018-12-01T00:00:00",
          "2019-12-01T00:00:00",
          "2020-12-01T00:00:00"
         ],
         "xaxis": "x",
         "y": [
          19,
          22,
          21,
          21,
          37,
          32,
          14,
          9,
          9,
          14,
          11
         ],
         "yaxis": "y"
        },
        {
         "customdata": [
          [
           "Patillas"
          ],
          [
           "Patillas"
          ],
          [
           "Patillas"
          ],
          [
           "Patillas"
          ],
          [
           "Patillas"
          ],
          [
           "Patillas"
          ],
          [
           "Patillas"
          ],
          [
           "Patillas"
          ],
          [
           "Patillas"
          ],
          [
           "Patillas"
          ],
          [
           "Patillas"
          ]
         ],
         "fillpattern": {
          "shape": ""
         },
         "hovertemplate": "Municipio=%{customdata[0]}<br>Fecha=%{x}<br>Total de Delitos=%{y}<extra></extra>",
         "legendgroup": "Patillas",
         "line": {
          "color": "#19d3f3"
         },
         "marker": {
          "symbol": "circle"
         },
         "mode": "lines",
         "name": "Patillas",
         "orientation": "v",
         "showlegend": true,
         "stackgroup": "1",
         "type": "scatter",
         "x": [
          "2010-12-01T00:00:00",
          "2011-12-01T00:00:00",
          "2012-12-01T00:00:00",
          "2013-12-01T00:00:00",
          "2014-12-01T00:00:00",
          "2015-12-01T00:00:00",
          "2016-12-01T00:00:00",
          "2017-12-01T00:00:00",
          "2018-12-01T00:00:00",
          "2019-12-01T00:00:00",
          "2020-12-01T00:00:00"
         ],
         "xaxis": "x",
         "y": [
          11,
          9,
          19,
          11,
          16,
          7,
          6,
          5,
          8,
          13,
          8
         ],
         "yaxis": "y"
        },
        {
         "customdata": [
          [
           "Peñuelas"
          ],
          [
           "Peñuelas"
          ],
          [
           "Peñuelas"
          ],
          [
           "Peñuelas"
          ],
          [
           "Peñuelas"
          ],
          [
           "Peñuelas"
          ],
          [
           "Peñuelas"
          ],
          [
           "Peñuelas"
          ],
          [
           "Peñuelas"
          ],
          [
           "Peñuelas"
          ],
          [
           "Peñuelas"
          ]
         ],
         "fillpattern": {
          "shape": ""
         },
         "hovertemplate": "Municipio=%{customdata[0]}<br>Fecha=%{x}<br>Total de Delitos=%{y}<extra></extra>",
         "legendgroup": "Peñuelas",
         "line": {
          "color": "#FF6692"
         },
         "marker": {
          "symbol": "circle"
         },
         "mode": "lines",
         "name": "Peñuelas",
         "orientation": "v",
         "showlegend": true,
         "stackgroup": "1",
         "type": "scatter",
         "x": [
          "2010-12-01T00:00:00",
          "2011-12-01T00:00:00",
          "2012-12-01T00:00:00",
          "2013-12-01T00:00:00",
          "2014-12-01T00:00:00",
          "2015-12-01T00:00:00",
          "2016-12-01T00:00:00",
          "2017-12-01T00:00:00",
          "2018-12-01T00:00:00",
          "2019-12-01T00:00:00",
          "2020-12-01T00:00:00"
         ],
         "xaxis": "x",
         "y": [
          27,
          20,
          21,
          13,
          31,
          17,
          15,
          13,
          15,
          3,
          8
         ],
         "yaxis": "y"
        },
        {
         "customdata": [
          [
           "Ponce"
          ],
          [
           "Ponce"
          ],
          [
           "Ponce"
          ],
          [
           "Ponce"
          ],
          [
           "Ponce"
          ],
          [
           "Ponce"
          ],
          [
           "Ponce"
          ],
          [
           "Ponce"
          ],
          [
           "Ponce"
          ],
          [
           "Ponce"
          ],
          [
           "Ponce"
          ]
         ],
         "fillpattern": {
          "shape": ""
         },
         "hovertemplate": "Municipio=%{customdata[0]}<br>Fecha=%{x}<br>Total de Delitos=%{y}<extra></extra>",
         "legendgroup": "Ponce",
         "line": {
          "color": "#B6E880"
         },
         "marker": {
          "symbol": "circle"
         },
         "mode": "lines",
         "name": "Ponce",
         "orientation": "v",
         "showlegend": true,
         "stackgroup": "1",
         "type": "scatter",
         "x": [
          "2010-12-01T00:00:00",
          "2011-12-01T00:00:00",
          "2012-12-01T00:00:00",
          "2013-12-01T00:00:00",
          "2014-12-01T00:00:00",
          "2015-12-01T00:00:00",
          "2016-12-01T00:00:00",
          "2017-12-01T00:00:00",
          "2018-12-01T00:00:00",
          "2019-12-01T00:00:00",
          "2020-12-01T00:00:00"
         ],
         "xaxis": "x",
         "y": [
          305,
          230,
          243,
          313,
          318,
          242,
          129,
          220,
          161,
          89,
          71
         ],
         "yaxis": "y"
        },
        {
         "customdata": [
          [
           "Quebradillas"
          ],
          [
           "Quebradillas"
          ],
          [
           "Quebradillas"
          ],
          [
           "Quebradillas"
          ],
          [
           "Quebradillas"
          ],
          [
           "Quebradillas"
          ],
          [
           "Quebradillas"
          ],
          [
           "Quebradillas"
          ],
          [
           "Quebradillas"
          ],
          [
           "Quebradillas"
          ],
          [
           "Quebradillas"
          ]
         ],
         "fillpattern": {
          "shape": ""
         },
         "hovertemplate": "Municipio=%{customdata[0]}<br>Fecha=%{x}<br>Total de Delitos=%{y}<extra></extra>",
         "legendgroup": "Quebradillas",
         "line": {
          "color": "#FF97FF"
         },
         "marker": {
          "symbol": "circle"
         },
         "mode": "lines",
         "name": "Quebradillas",
         "orientation": "v",
         "showlegend": true,
         "stackgroup": "1",
         "type": "scatter",
         "x": [
          "2010-12-01T00:00:00",
          "2011-12-01T00:00:00",
          "2012-12-01T00:00:00",
          "2013-12-01T00:00:00",
          "2014-12-01T00:00:00",
          "2015-12-01T00:00:00",
          "2016-12-01T00:00:00",
          "2017-12-01T00:00:00",
          "2018-12-01T00:00:00",
          "2019-12-01T00:00:00",
          "2020-12-01T00:00:00"
         ],
         "xaxis": "x",
         "y": [
          31,
          11,
          29,
          36,
          28,
          19,
          19,
          28,
          16,
          19,
          8
         ],
         "yaxis": "y"
        },
        {
         "customdata": [
          [
           "Rincón"
          ],
          [
           "Rincón"
          ],
          [
           "Rincón"
          ],
          [
           "Rincón"
          ],
          [
           "Rincón"
          ],
          [
           "Rincón"
          ],
          [
           "Rincón"
          ],
          [
           "Rincón"
          ],
          [
           "Rincón"
          ],
          [
           "Rincón"
          ],
          [
           "Rincón"
          ]
         ],
         "fillpattern": {
          "shape": ""
         },
         "hovertemplate": "Municipio=%{customdata[0]}<br>Fecha=%{x}<br>Total de Delitos=%{y}<extra></extra>",
         "legendgroup": "Rincón",
         "line": {
          "color": "#FECB52"
         },
         "marker": {
          "symbol": "circle"
         },
         "mode": "lines",
         "name": "Rincón",
         "orientation": "v",
         "showlegend": true,
         "stackgroup": "1",
         "type": "scatter",
         "x": [
          "2010-12-01T00:00:00",
          "2011-12-01T00:00:00",
          "2012-12-01T00:00:00",
          "2013-12-01T00:00:00",
          "2014-12-01T00:00:00",
          "2015-12-01T00:00:00",
          "2016-12-01T00:00:00",
          "2017-12-01T00:00:00",
          "2018-12-01T00:00:00",
          "2019-12-01T00:00:00",
          "2020-12-01T00:00:00"
         ],
         "xaxis": "x",
         "y": [
          7,
          12,
          12,
          28,
          14,
          8,
          17,
          13,
          14,
          19,
          4
         ],
         "yaxis": "y"
        },
        {
         "customdata": [
          [
           "Rio Grande"
          ],
          [
           "Rio Grande"
          ],
          [
           "Rio Grande"
          ],
          [
           "Rio Grande"
          ],
          [
           "Rio Grande"
          ],
          [
           "Rio Grande"
          ],
          [
           "Rio Grande"
          ],
          [
           "Rio Grande"
          ],
          [
           "Rio Grande"
          ],
          [
           "Rio Grande"
          ],
          [
           "Rio Grande"
          ]
         ],
         "fillpattern": {
          "shape": ""
         },
         "hovertemplate": "Municipio=%{customdata[0]}<br>Fecha=%{x}<br>Total de Delitos=%{y}<extra></extra>",
         "legendgroup": "Rio Grande",
         "line": {
          "color": "#636efa"
         },
         "marker": {
          "symbol": "circle"
         },
         "mode": "lines",
         "name": "Rio Grande",
         "orientation": "v",
         "showlegend": true,
         "stackgroup": "1",
         "type": "scatter",
         "x": [
          "2010-12-01T00:00:00",
          "2011-12-01T00:00:00",
          "2012-12-01T00:00:00",
          "2013-12-01T00:00:00",
          "2014-12-01T00:00:00",
          "2015-12-01T00:00:00",
          "2016-12-01T00:00:00",
          "2017-12-01T00:00:00",
          "2018-12-01T00:00:00",
          "2019-12-01T00:00:00",
          "2020-12-01T00:00:00"
         ],
         "xaxis": "x",
         "y": [
          65,
          58,
          43,
          56,
          44,
          51,
          44,
          31,
          9,
          20,
          15
         ],
         "yaxis": "y"
        },
        {
         "customdata": [
          [
           "Sabana Grande"
          ],
          [
           "Sabana Grande"
          ],
          [
           "Sabana Grande"
          ],
          [
           "Sabana Grande"
          ],
          [
           "Sabana Grande"
          ],
          [
           "Sabana Grande"
          ],
          [
           "Sabana Grande"
          ],
          [
           "Sabana Grande"
          ],
          [
           "Sabana Grande"
          ],
          [
           "Sabana Grande"
          ],
          [
           "Sabana Grande"
          ]
         ],
         "fillpattern": {
          "shape": ""
         },
         "hovertemplate": "Municipio=%{customdata[0]}<br>Fecha=%{x}<br>Total de Delitos=%{y}<extra></extra>",
         "legendgroup": "Sabana Grande",
         "line": {
          "color": "#EF553B"
         },
         "marker": {
          "symbol": "circle"
         },
         "mode": "lines",
         "name": "Sabana Grande",
         "orientation": "v",
         "showlegend": true,
         "stackgroup": "1",
         "type": "scatter",
         "x": [
          "2010-12-01T00:00:00",
          "2011-12-01T00:00:00",
          "2012-12-01T00:00:00",
          "2013-12-01T00:00:00",
          "2014-12-01T00:00:00",
          "2015-12-01T00:00:00",
          "2016-12-01T00:00:00",
          "2017-12-01T00:00:00",
          "2018-12-01T00:00:00",
          "2019-12-01T00:00:00",
          "2020-12-01T00:00:00"
         ],
         "xaxis": "x",
         "y": [
          14,
          12,
          21,
          16,
          9,
          11,
          17,
          9,
          3,
          6,
          2
         ],
         "yaxis": "y"
        },
        {
         "customdata": [
          [
           "Salinas"
          ],
          [
           "Salinas"
          ],
          [
           "Salinas"
          ],
          [
           "Salinas"
          ],
          [
           "Salinas"
          ],
          [
           "Salinas"
          ],
          [
           "Salinas"
          ],
          [
           "Salinas"
          ],
          [
           "Salinas"
          ],
          [
           "Salinas"
          ],
          [
           "Salinas"
          ]
         ],
         "fillpattern": {
          "shape": ""
         },
         "hovertemplate": "Municipio=%{customdata[0]}<br>Fecha=%{x}<br>Total de Delitos=%{y}<extra></extra>",
         "legendgroup": "Salinas",
         "line": {
          "color": "#00cc96"
         },
         "marker": {
          "symbol": "circle"
         },
         "mode": "lines",
         "name": "Salinas",
         "orientation": "v",
         "showlegend": true,
         "stackgroup": "1",
         "type": "scatter",
         "x": [
          "2010-12-01T00:00:00",
          "2011-12-01T00:00:00",
          "2012-12-01T00:00:00",
          "2013-12-01T00:00:00",
          "2014-12-01T00:00:00",
          "2015-12-01T00:00:00",
          "2016-12-01T00:00:00",
          "2017-12-01T00:00:00",
          "2018-12-01T00:00:00",
          "2019-12-01T00:00:00",
          "2020-12-01T00:00:00"
         ],
         "xaxis": "x",
         "y": [
          57,
          64,
          78,
          31,
          31,
          29,
          28,
          11,
          9,
          19,
          7
         ],
         "yaxis": "y"
        },
        {
         "customdata": [
          [
           "San Germán"
          ],
          [
           "San Germán"
          ],
          [
           "San Germán"
          ],
          [
           "San Germán"
          ],
          [
           "San Germán"
          ],
          [
           "San Germán"
          ],
          [
           "San Germán"
          ],
          [
           "San Germán"
          ],
          [
           "San Germán"
          ],
          [
           "San Germán"
          ],
          [
           "San Germán"
          ]
         ],
         "fillpattern": {
          "shape": ""
         },
         "hovertemplate": "Municipio=%{customdata[0]}<br>Fecha=%{x}<br>Total de Delitos=%{y}<extra></extra>",
         "legendgroup": "San Germán",
         "line": {
          "color": "#ab63fa"
         },
         "marker": {
          "symbol": "circle"
         },
         "mode": "lines",
         "name": "San Germán",
         "orientation": "v",
         "showlegend": true,
         "stackgroup": "1",
         "type": "scatter",
         "x": [
          "2010-12-01T00:00:00",
          "2011-12-01T00:00:00",
          "2012-12-01T00:00:00",
          "2013-12-01T00:00:00",
          "2014-12-01T00:00:00",
          "2015-12-01T00:00:00",
          "2016-12-01T00:00:00",
          "2017-12-01T00:00:00",
          "2018-12-01T00:00:00",
          "2019-12-01T00:00:00",
          "2020-12-01T00:00:00"
         ],
         "xaxis": "x",
         "y": [
          26,
          24,
          38,
          23,
          23,
          17,
          10,
          7,
          8,
          9,
          6
         ],
         "yaxis": "y"
        },
        {
         "customdata": [
          [
           "San Juan"
          ],
          [
           "San Juan"
          ],
          [
           "San Juan"
          ],
          [
           "San Juan"
          ],
          [
           "San Juan"
          ],
          [
           "San Juan"
          ],
          [
           "San Juan"
          ],
          [
           "San Juan"
          ],
          [
           "San Juan"
          ],
          [
           "San Juan"
          ],
          [
           "San Juan"
          ]
         ],
         "fillpattern": {
          "shape": ""
         },
         "hovertemplate": "Municipio=%{customdata[0]}<br>Fecha=%{x}<br>Total de Delitos=%{y}<extra></extra>",
         "legendgroup": "San Juan",
         "line": {
          "color": "#FFA15A"
         },
         "marker": {
          "symbol": "circle"
         },
         "mode": "lines",
         "name": "San Juan",
         "orientation": "v",
         "showlegend": true,
         "stackgroup": "1",
         "type": "scatter",
         "x": [
          "2010-12-01T00:00:00",
          "2011-12-01T00:00:00",
          "2012-12-01T00:00:00",
          "2013-12-01T00:00:00",
          "2014-12-01T00:00:00",
          "2015-12-01T00:00:00",
          "2016-12-01T00:00:00",
          "2017-12-01T00:00:00",
          "2018-12-01T00:00:00",
          "2019-12-01T00:00:00",
          "2020-12-01T00:00:00"
         ],
         "xaxis": "x",
         "y": [
          884,
          965,
          951,
          1132,
          767,
          739,
          582,
          553,
          657,
          517,
          356
         ],
         "yaxis": "y"
        },
        {
         "customdata": [
          [
           "San Lorenzo"
          ],
          [
           "San Lorenzo"
          ],
          [
           "San Lorenzo"
          ],
          [
           "San Lorenzo"
          ],
          [
           "San Lorenzo"
          ],
          [
           "San Lorenzo"
          ],
          [
           "San Lorenzo"
          ],
          [
           "San Lorenzo"
          ],
          [
           "San Lorenzo"
          ],
          [
           "San Lorenzo"
          ],
          [
           "San Lorenzo"
          ]
         ],
         "fillpattern": {
          "shape": ""
         },
         "hovertemplate": "Municipio=%{customdata[0]}<br>Fecha=%{x}<br>Total de Delitos=%{y}<extra></extra>",
         "legendgroup": "San Lorenzo",
         "line": {
          "color": "#19d3f3"
         },
         "marker": {
          "symbol": "circle"
         },
         "mode": "lines",
         "name": "San Lorenzo",
         "orientation": "v",
         "showlegend": true,
         "stackgroup": "1",
         "type": "scatter",
         "x": [
          "2010-12-01T00:00:00",
          "2011-12-01T00:00:00",
          "2012-12-01T00:00:00",
          "2013-12-01T00:00:00",
          "2014-12-01T00:00:00",
          "2015-12-01T00:00:00",
          "2016-12-01T00:00:00",
          "2017-12-01T00:00:00",
          "2018-12-01T00:00:00",
          "2019-12-01T00:00:00",
          "2020-12-01T00:00:00"
         ],
         "xaxis": "x",
         "y": [
          29,
          31,
          68,
          42,
          35,
          32,
          17,
          14,
          13,
          12,
          16
         ],
         "yaxis": "y"
        },
        {
         "customdata": [
          [
           "San Sebastián"
          ],
          [
           "San Sebastián"
          ],
          [
           "San Sebastián"
          ],
          [
           "San Sebastián"
          ],
          [
           "San Sebastián"
          ],
          [
           "San Sebastián"
          ],
          [
           "San Sebastián"
          ],
          [
           "San Sebastián"
          ],
          [
           "San Sebastián"
          ],
          [
           "San Sebastián"
          ],
          [
           "San Sebastián"
          ]
         ],
         "fillpattern": {
          "shape": ""
         },
         "hovertemplate": "Municipio=%{customdata[0]}<br>Fecha=%{x}<br>Total de Delitos=%{y}<extra></extra>",
         "legendgroup": "San Sebastián",
         "line": {
          "color": "#FF6692"
         },
         "marker": {
          "symbol": "circle"
         },
         "mode": "lines",
         "name": "San Sebastián",
         "orientation": "v",
         "showlegend": true,
         "stackgroup": "1",
         "type": "scatter",
         "x": [
          "2010-12-01T00:00:00",
          "2011-12-01T00:00:00",
          "2012-12-01T00:00:00",
          "2013-12-01T00:00:00",
          "2014-12-01T00:00:00",
          "2015-12-01T00:00:00",
          "2016-12-01T00:00:00",
          "2017-12-01T00:00:00",
          "2018-12-01T00:00:00",
          "2019-12-01T00:00:00",
          "2020-12-01T00:00:00"
         ],
         "xaxis": "x",
         "y": [
          26,
          39,
          45,
          47,
          52,
          38,
          27,
          51,
          15,
          15,
          18
         ],
         "yaxis": "y"
        },
        {
         "customdata": [
          [
           "Santa Isabel"
          ],
          [
           "Santa Isabel"
          ],
          [
           "Santa Isabel"
          ],
          [
           "Santa Isabel"
          ],
          [
           "Santa Isabel"
          ],
          [
           "Santa Isabel"
          ],
          [
           "Santa Isabel"
          ],
          [
           "Santa Isabel"
          ],
          [
           "Santa Isabel"
          ],
          [
           "Santa Isabel"
          ],
          [
           "Santa Isabel"
          ]
         ],
         "fillpattern": {
          "shape": ""
         },
         "hovertemplate": "Municipio=%{customdata[0]}<br>Fecha=%{x}<br>Total de Delitos=%{y}<extra></extra>",
         "legendgroup": "Santa Isabel",
         "line": {
          "color": "#B6E880"
         },
         "marker": {
          "symbol": "circle"
         },
         "mode": "lines",
         "name": "Santa Isabel",
         "orientation": "v",
         "showlegend": true,
         "stackgroup": "1",
         "type": "scatter",
         "x": [
          "2010-12-01T00:00:00",
          "2011-12-01T00:00:00",
          "2012-12-01T00:00:00",
          "2013-12-01T00:00:00",
          "2014-12-01T00:00:00",
          "2015-12-01T00:00:00",
          "2016-12-01T00:00:00",
          "2017-12-01T00:00:00",
          "2018-12-01T00:00:00",
          "2019-12-01T00:00:00",
          "2020-12-01T00:00:00"
         ],
         "xaxis": "x",
         "y": [
          31,
          19,
          33,
          90,
          31,
          36,
          36,
          30,
          38,
          7,
          5
         ],
         "yaxis": "y"
        },
        {
         "customdata": [
          [
           "Toa Alta"
          ],
          [
           "Toa Alta"
          ],
          [
           "Toa Alta"
          ],
          [
           "Toa Alta"
          ],
          [
           "Toa Alta"
          ],
          [
           "Toa Alta"
          ],
          [
           "Toa Alta"
          ],
          [
           "Toa Alta"
          ],
          [
           "Toa Alta"
          ],
          [
           "Toa Alta"
          ],
          [
           "Toa Alta"
          ]
         ],
         "fillpattern": {
          "shape": ""
         },
         "hovertemplate": "Municipio=%{customdata[0]}<br>Fecha=%{x}<br>Total de Delitos=%{y}<extra></extra>",
         "legendgroup": "Toa Alta",
         "line": {
          "color": "#FF97FF"
         },
         "marker": {
          "symbol": "circle"
         },
         "mode": "lines",
         "name": "Toa Alta",
         "orientation": "v",
         "showlegend": true,
         "stackgroup": "1",
         "type": "scatter",
         "x": [
          "2010-12-01T00:00:00",
          "2011-12-01T00:00:00",
          "2012-12-01T00:00:00",
          "2013-12-01T00:00:00",
          "2014-12-01T00:00:00",
          "2015-12-01T00:00:00",
          "2016-12-01T00:00:00",
          "2017-12-01T00:00:00",
          "2018-12-01T00:00:00",
          "2019-12-01T00:00:00",
          "2020-12-01T00:00:00"
         ],
         "xaxis": "x",
         "y": [
          46,
          67,
          71,
          52,
          46,
          64,
          54,
          31,
          35,
          36,
          19
         ],
         "yaxis": "y"
        },
        {
         "customdata": [
          [
           "Toa Baja"
          ],
          [
           "Toa Baja"
          ],
          [
           "Toa Baja"
          ],
          [
           "Toa Baja"
          ],
          [
           "Toa Baja"
          ],
          [
           "Toa Baja"
          ],
          [
           "Toa Baja"
          ],
          [
           "Toa Baja"
          ],
          [
           "Toa Baja"
          ],
          [
           "Toa Baja"
          ],
          [
           "Toa Baja"
          ]
         ],
         "fillpattern": {
          "shape": ""
         },
         "hovertemplate": "Municipio=%{customdata[0]}<br>Fecha=%{x}<br>Total de Delitos=%{y}<extra></extra>",
         "legendgroup": "Toa Baja",
         "line": {
          "color": "#FECB52"
         },
         "marker": {
          "symbol": "circle"
         },
         "mode": "lines",
         "name": "Toa Baja",
         "orientation": "v",
         "showlegend": true,
         "stackgroup": "1",
         "type": "scatter",
         "x": [
          "2010-12-01T00:00:00",
          "2011-12-01T00:00:00",
          "2012-12-01T00:00:00",
          "2013-12-01T00:00:00",
          "2014-12-01T00:00:00",
          "2015-12-01T00:00:00",
          "2016-12-01T00:00:00",
          "2017-12-01T00:00:00",
          "2018-12-01T00:00:00",
          "2019-12-01T00:00:00",
          "2020-12-01T00:00:00"
         ],
         "xaxis": "x",
         "y": [
          120,
          181,
          157,
          124,
          132,
          127,
          115,
          51,
          81,
          82,
          53
         ],
         "yaxis": "y"
        },
        {
         "customdata": [
          [
           "Trujillo Alto"
          ],
          [
           "Trujillo Alto"
          ],
          [
           "Trujillo Alto"
          ],
          [
           "Trujillo Alto"
          ],
          [
           "Trujillo Alto"
          ],
          [
           "Trujillo Alto"
          ],
          [
           "Trujillo Alto"
          ],
          [
           "Trujillo Alto"
          ],
          [
           "Trujillo Alto"
          ],
          [
           "Trujillo Alto"
          ],
          [
           "Trujillo Alto"
          ]
         ],
         "fillpattern": {
          "shape": ""
         },
         "hovertemplate": "Municipio=%{customdata[0]}<br>Fecha=%{x}<br>Total de Delitos=%{y}<extra></extra>",
         "legendgroup": "Trujillo Alto",
         "line": {
          "color": "#636efa"
         },
         "marker": {
          "symbol": "circle"
         },
         "mode": "lines",
         "name": "Trujillo Alto",
         "orientation": "v",
         "showlegend": true,
         "stackgroup": "1",
         "type": "scatter",
         "x": [
          "2010-12-01T00:00:00",
          "2011-12-01T00:00:00",
          "2012-12-01T00:00:00",
          "2013-12-01T00:00:00",
          "2014-12-01T00:00:00",
          "2015-12-01T00:00:00",
          "2016-12-01T00:00:00",
          "2017-12-01T00:00:00",
          "2018-12-01T00:00:00",
          "2019-12-01T00:00:00",
          "2020-12-01T00:00:00"
         ],
         "xaxis": "x",
         "y": [
          93,
          83,
          70,
          69,
          73,
          49,
          53,
          53,
          33,
          22,
          26
         ],
         "yaxis": "y"
        },
        {
         "customdata": [
          [
           "Utuado"
          ],
          [
           "Utuado"
          ],
          [
           "Utuado"
          ],
          [
           "Utuado"
          ],
          [
           "Utuado"
          ],
          [
           "Utuado"
          ],
          [
           "Utuado"
          ],
          [
           "Utuado"
          ],
          [
           "Utuado"
          ],
          [
           "Utuado"
          ],
          [
           "Utuado"
          ]
         ],
         "fillpattern": {
          "shape": ""
         },
         "hovertemplate": "Municipio=%{customdata[0]}<br>Fecha=%{x}<br>Total de Delitos=%{y}<extra></extra>",
         "legendgroup": "Utuado",
         "line": {
          "color": "#EF553B"
         },
         "marker": {
          "symbol": "circle"
         },
         "mode": "lines",
         "name": "Utuado",
         "orientation": "v",
         "showlegend": true,
         "stackgroup": "1",
         "type": "scatter",
         "x": [
          "2010-12-01T00:00:00",
          "2011-12-01T00:00:00",
          "2012-12-01T00:00:00",
          "2013-12-01T00:00:00",
          "2014-12-01T00:00:00",
          "2015-12-01T00:00:00",
          "2016-12-01T00:00:00",
          "2017-12-01T00:00:00",
          "2018-12-01T00:00:00",
          "2019-12-01T00:00:00",
          "2020-12-01T00:00:00"
         ],
         "xaxis": "x",
         "y": [
          59,
          60,
          32,
          21,
          23,
          17,
          24,
          15,
          10,
          12,
          8
         ],
         "yaxis": "y"
        },
        {
         "customdata": [
          [
           "Vega Alta"
          ],
          [
           "Vega Alta"
          ],
          [
           "Vega Alta"
          ],
          [
           "Vega Alta"
          ],
          [
           "Vega Alta"
          ],
          [
           "Vega Alta"
          ],
          [
           "Vega Alta"
          ],
          [
           "Vega Alta"
          ],
          [
           "Vega Alta"
          ],
          [
           "Vega Alta"
          ],
          [
           "Vega Alta"
          ]
         ],
         "fillpattern": {
          "shape": ""
         },
         "hovertemplate": "Municipio=%{customdata[0]}<br>Fecha=%{x}<br>Total de Delitos=%{y}<extra></extra>",
         "legendgroup": "Vega Alta",
         "line": {
          "color": "#00cc96"
         },
         "marker": {
          "symbol": "circle"
         },
         "mode": "lines",
         "name": "Vega Alta",
         "orientation": "v",
         "showlegend": true,
         "stackgroup": "1",
         "type": "scatter",
         "x": [
          "2010-12-01T00:00:00",
          "2011-12-01T00:00:00",
          "2012-12-01T00:00:00",
          "2013-12-01T00:00:00",
          "2014-12-01T00:00:00",
          "2015-12-01T00:00:00",
          "2016-12-01T00:00:00",
          "2017-12-01T00:00:00",
          "2018-12-01T00:00:00",
          "2019-12-01T00:00:00",
          "2020-12-01T00:00:00"
         ],
         "xaxis": "x",
         "y": [
          42,
          53,
          70,
          64,
          69,
          74,
          64,
          33,
          32,
          32,
          18
         ],
         "yaxis": "y"
        },
        {
         "customdata": [
          [
           "Vega Baja"
          ],
          [
           "Vega Baja"
          ],
          [
           "Vega Baja"
          ],
          [
           "Vega Baja"
          ],
          [
           "Vega Baja"
          ],
          [
           "Vega Baja"
          ],
          [
           "Vega Baja"
          ],
          [
           "Vega Baja"
          ],
          [
           "Vega Baja"
          ],
          [
           "Vega Baja"
          ],
          [
           "Vega Baja"
          ]
         ],
         "fillpattern": {
          "shape": ""
         },
         "hovertemplate": "Municipio=%{customdata[0]}<br>Fecha=%{x}<br>Total de Delitos=%{y}<extra></extra>",
         "legendgroup": "Vega Baja",
         "line": {
          "color": "#ab63fa"
         },
         "marker": {
          "symbol": "circle"
         },
         "mode": "lines",
         "name": "Vega Baja",
         "orientation": "v",
         "showlegend": true,
         "stackgroup": "1",
         "type": "scatter",
         "x": [
          "2010-12-01T00:00:00",
          "2011-12-01T00:00:00",
          "2012-12-01T00:00:00",
          "2013-12-01T00:00:00",
          "2014-12-01T00:00:00",
          "2015-12-01T00:00:00",
          "2016-12-01T00:00:00",
          "2017-12-01T00:00:00",
          "2018-12-01T00:00:00",
          "2019-12-01T00:00:00",
          "2020-12-01T00:00:00"
         ],
         "xaxis": "x",
         "y": [
          61,
          91,
          119,
          64,
          120,
          100,
          56,
          75,
          32,
          59,
          45
         ],
         "yaxis": "y"
        },
        {
         "customdata": [
          [
           "Vieques"
          ],
          [
           "Vieques"
          ],
          [
           "Vieques"
          ],
          [
           "Vieques"
          ],
          [
           "Vieques"
          ],
          [
           "Vieques"
          ],
          [
           "Vieques"
          ],
          [
           "Vieques"
          ],
          [
           "Vieques"
          ],
          [
           "Vieques"
          ],
          [
           "Vieques"
          ]
         ],
         "fillpattern": {
          "shape": ""
         },
         "hovertemplate": "Municipio=%{customdata[0]}<br>Fecha=%{x}<br>Total de Delitos=%{y}<extra></extra>",
         "legendgroup": "Vieques",
         "line": {
          "color": "#FFA15A"
         },
         "marker": {
          "symbol": "circle"
         },
         "mode": "lines",
         "name": "Vieques",
         "orientation": "v",
         "showlegend": true,
         "stackgroup": "1",
         "type": "scatter",
         "x": [
          "2010-12-01T00:00:00",
          "2011-12-01T00:00:00",
          "2012-12-01T00:00:00",
          "2013-12-01T00:00:00",
          "2014-12-01T00:00:00",
          "2015-12-01T00:00:00",
          "2016-12-01T00:00:00",
          "2017-12-01T00:00:00",
          "2018-12-01T00:00:00",
          "2019-12-01T00:00:00",
          "2020-12-01T00:00:00"
         ],
         "xaxis": "x",
         "y": [
          34,
          29,
          24,
          19,
          17,
          18,
          12,
          19,
          9,
          7,
          10
         ],
         "yaxis": "y"
        },
        {
         "customdata": [
          [
           "Villalba"
          ],
          [
           "Villalba"
          ],
          [
           "Villalba"
          ],
          [
           "Villalba"
          ],
          [
           "Villalba"
          ],
          [
           "Villalba"
          ],
          [
           "Villalba"
          ],
          [
           "Villalba"
          ],
          [
           "Villalba"
          ],
          [
           "Villalba"
          ],
          [
           "Villalba"
          ]
         ],
         "fillpattern": {
          "shape": ""
         },
         "hovertemplate": "Municipio=%{customdata[0]}<br>Fecha=%{x}<br>Total de Delitos=%{y}<extra></extra>",
         "legendgroup": "Villalba",
         "line": {
          "color": "#19d3f3"
         },
         "marker": {
          "symbol": "circle"
         },
         "mode": "lines",
         "name": "Villalba",
         "orientation": "v",
         "showlegend": true,
         "stackgroup": "1",
         "type": "scatter",
         "x": [
          "2010-12-01T00:00:00",
          "2011-12-01T00:00:00",
          "2012-12-01T00:00:00",
          "2013-12-01T00:00:00",
          "2014-12-01T00:00:00",
          "2015-12-01T00:00:00",
          "2016-12-01T00:00:00",
          "2017-12-01T00:00:00",
          "2018-12-01T00:00:00",
          "2019-12-01T00:00:00",
          "2020-12-01T00:00:00"
         ],
         "xaxis": "x",
         "y": [
          19,
          8,
          13,
          15,
          30,
          26,
          12,
          19,
          12,
          4,
          6
         ],
         "yaxis": "y"
        },
        {
         "customdata": [
          [
           "Yabucoa"
          ],
          [
           "Yabucoa"
          ],
          [
           "Yabucoa"
          ],
          [
           "Yabucoa"
          ],
          [
           "Yabucoa"
          ],
          [
           "Yabucoa"
          ],
          [
           "Yabucoa"
          ],
          [
           "Yabucoa"
          ],
          [
           "Yabucoa"
          ],
          [
           "Yabucoa"
          ],
          [
           "Yabucoa"
          ]
         ],
         "fillpattern": {
          "shape": ""
         },
         "hovertemplate": "Municipio=%{customdata[0]}<br>Fecha=%{x}<br>Total de Delitos=%{y}<extra></extra>",
         "legendgroup": "Yabucoa",
         "line": {
          "color": "#FF6692"
         },
         "marker": {
          "symbol": "circle"
         },
         "mode": "lines",
         "name": "Yabucoa",
         "orientation": "v",
         "showlegend": true,
         "stackgroup": "1",
         "type": "scatter",
         "x": [
          "2010-12-01T00:00:00",
          "2011-12-01T00:00:00",
          "2012-12-01T00:00:00",
          "2013-12-01T00:00:00",
          "2014-12-01T00:00:00",
          "2015-12-01T00:00:00",
          "2016-12-01T00:00:00",
          "2017-12-01T00:00:00",
          "2018-12-01T00:00:00",
          "2019-12-01T00:00:00",
          "2020-12-01T00:00:00"
         ],
         "xaxis": "x",
         "y": [
          44,
          47,
          112,
          30,
          40,
          23,
          15,
          16,
          12,
          9,
          5
         ],
         "yaxis": "y"
        },
        {
         "customdata": [
          [
           "Yauco"
          ],
          [
           "Yauco"
          ],
          [
           "Yauco"
          ],
          [
           "Yauco"
          ],
          [
           "Yauco"
          ],
          [
           "Yauco"
          ],
          [
           "Yauco"
          ],
          [
           "Yauco"
          ],
          [
           "Yauco"
          ],
          [
           "Yauco"
          ],
          [
           "Yauco"
          ]
         ],
         "fillpattern": {
          "shape": ""
         },
         "hovertemplate": "Municipio=%{customdata[0]}<br>Fecha=%{x}<br>Total de Delitos=%{y}<extra></extra>",
         "legendgroup": "Yauco",
         "line": {
          "color": "#B6E880"
         },
         "marker": {
          "symbol": "circle"
         },
         "mode": "lines",
         "name": "Yauco",
         "orientation": "v",
         "showlegend": true,
         "stackgroup": "1",
         "type": "scatter",
         "x": [
          "2010-12-01T00:00:00",
          "2011-12-01T00:00:00",
          "2012-12-01T00:00:00",
          "2013-12-01T00:00:00",
          "2014-12-01T00:00:00",
          "2015-12-01T00:00:00",
          "2016-12-01T00:00:00",
          "2017-12-01T00:00:00",
          "2018-12-01T00:00:00",
          "2019-12-01T00:00:00",
          "2020-12-01T00:00:00"
         ],
         "xaxis": "x",
         "y": [
          24,
          47,
          14,
          41,
          45,
          15,
          17,
          25,
          14,
          7,
          8
         ],
         "yaxis": "y"
        }
       ],
       "layout": {
        "legend": {
         "title": {
          "text": "Municipio"
         },
         "tracegroupgap": 0
        },
        "template": {
         "data": {
          "bar": [
           {
            "error_x": {
             "color": "#2a3f5f"
            },
            "error_y": {
             "color": "#2a3f5f"
            },
            "marker": {
             "line": {
              "color": "#E5ECF6",
              "width": 0.5
             },
             "pattern": {
              "fillmode": "overlay",
              "size": 10,
              "solidity": 0.2
             }
            },
            "type": "bar"
           }
          ],
          "barpolar": [
           {
            "marker": {
             "line": {
              "color": "#E5ECF6",
              "width": 0.5
             },
             "pattern": {
              "fillmode": "overlay",
              "size": 10,
              "solidity": 0.2
             }
            },
            "type": "barpolar"
           }
          ],
          "carpet": [
           {
            "aaxis": {
             "endlinecolor": "#2a3f5f",
             "gridcolor": "white",
             "linecolor": "white",
             "minorgridcolor": "white",
             "startlinecolor": "#2a3f5f"
            },
            "baxis": {
             "endlinecolor": "#2a3f5f",
             "gridcolor": "white",
             "linecolor": "white",
             "minorgridcolor": "white",
             "startlinecolor": "#2a3f5f"
            },
            "type": "carpet"
           }
          ],
          "choropleth": [
           {
            "colorbar": {
             "outlinewidth": 0,
             "ticks": ""
            },
            "type": "choropleth"
           }
          ],
          "contour": [
           {
            "colorbar": {
             "outlinewidth": 0,
             "ticks": ""
            },
            "colorscale": [
             [
              0,
              "#0d0887"
             ],
             [
              0.1111111111111111,
              "#46039f"
             ],
             [
              0.2222222222222222,
              "#7201a8"
             ],
             [
              0.3333333333333333,
              "#9c179e"
             ],
             [
              0.4444444444444444,
              "#bd3786"
             ],
             [
              0.5555555555555556,
              "#d8576b"
             ],
             [
              0.6666666666666666,
              "#ed7953"
             ],
             [
              0.7777777777777778,
              "#fb9f3a"
             ],
             [
              0.8888888888888888,
              "#fdca26"
             ],
             [
              1,
              "#f0f921"
             ]
            ],
            "type": "contour"
           }
          ],
          "contourcarpet": [
           {
            "colorbar": {
             "outlinewidth": 0,
             "ticks": ""
            },
            "type": "contourcarpet"
           }
          ],
          "heatmap": [
           {
            "colorbar": {
             "outlinewidth": 0,
             "ticks": ""
            },
            "colorscale": [
             [
              0,
              "#0d0887"
             ],
             [
              0.1111111111111111,
              "#46039f"
             ],
             [
              0.2222222222222222,
              "#7201a8"
             ],
             [
              0.3333333333333333,
              "#9c179e"
             ],
             [
              0.4444444444444444,
              "#bd3786"
             ],
             [
              0.5555555555555556,
              "#d8576b"
             ],
             [
              0.6666666666666666,
              "#ed7953"
             ],
             [
              0.7777777777777778,
              "#fb9f3a"
             ],
             [
              0.8888888888888888,
              "#fdca26"
             ],
             [
              1,
              "#f0f921"
             ]
            ],
            "type": "heatmap"
           }
          ],
          "heatmapgl": [
           {
            "colorbar": {
             "outlinewidth": 0,
             "ticks": ""
            },
            "colorscale": [
             [
              0,
              "#0d0887"
             ],
             [
              0.1111111111111111,
              "#46039f"
             ],
             [
              0.2222222222222222,
              "#7201a8"
             ],
             [
              0.3333333333333333,
              "#9c179e"
             ],
             [
              0.4444444444444444,
              "#bd3786"
             ],
             [
              0.5555555555555556,
              "#d8576b"
             ],
             [
              0.6666666666666666,
              "#ed7953"
             ],
             [
              0.7777777777777778,
              "#fb9f3a"
             ],
             [
              0.8888888888888888,
              "#fdca26"
             ],
             [
              1,
              "#f0f921"
             ]
            ],
            "type": "heatmapgl"
           }
          ],
          "histogram": [
           {
            "marker": {
             "pattern": {
              "fillmode": "overlay",
              "size": 10,
              "solidity": 0.2
             }
            },
            "type": "histogram"
           }
          ],
          "histogram2d": [
           {
            "colorbar": {
             "outlinewidth": 0,
             "ticks": ""
            },
            "colorscale": [
             [
              0,
              "#0d0887"
             ],
             [
              0.1111111111111111,
              "#46039f"
             ],
             [
              0.2222222222222222,
              "#7201a8"
             ],
             [
              0.3333333333333333,
              "#9c179e"
             ],
             [
              0.4444444444444444,
              "#bd3786"
             ],
             [
              0.5555555555555556,
              "#d8576b"
             ],
             [
              0.6666666666666666,
              "#ed7953"
             ],
             [
              0.7777777777777778,
              "#fb9f3a"
             ],
             [
              0.8888888888888888,
              "#fdca26"
             ],
             [
              1,
              "#f0f921"
             ]
            ],
            "type": "histogram2d"
           }
          ],
          "histogram2dcontour": [
           {
            "colorbar": {
             "outlinewidth": 0,
             "ticks": ""
            },
            "colorscale": [
             [
              0,
              "#0d0887"
             ],
             [
              0.1111111111111111,
              "#46039f"
             ],
             [
              0.2222222222222222,
              "#7201a8"
             ],
             [
              0.3333333333333333,
              "#9c179e"
             ],
             [
              0.4444444444444444,
              "#bd3786"
             ],
             [
              0.5555555555555556,
              "#d8576b"
             ],
             [
              0.6666666666666666,
              "#ed7953"
             ],
             [
              0.7777777777777778,
              "#fb9f3a"
             ],
             [
              0.8888888888888888,
              "#fdca26"
             ],
             [
              1,
              "#f0f921"
             ]
            ],
            "type": "histogram2dcontour"
           }
          ],
          "mesh3d": [
           {
            "colorbar": {
             "outlinewidth": 0,
             "ticks": ""
            },
            "type": "mesh3d"
           }
          ],
          "parcoords": [
           {
            "line": {
             "colorbar": {
              "outlinewidth": 0,
              "ticks": ""
             }
            },
            "type": "parcoords"
           }
          ],
          "pie": [
           {
            "automargin": true,
            "type": "pie"
           }
          ],
          "scatter": [
           {
            "fillpattern": {
             "fillmode": "overlay",
             "size": 10,
             "solidity": 0.2
            },
            "type": "scatter"
           }
          ],
          "scatter3d": [
           {
            "line": {
             "colorbar": {
              "outlinewidth": 0,
              "ticks": ""
             }
            },
            "marker": {
             "colorbar": {
              "outlinewidth": 0,
              "ticks": ""
             }
            },
            "type": "scatter3d"
           }
          ],
          "scattercarpet": [
           {
            "marker": {
             "colorbar": {
              "outlinewidth": 0,
              "ticks": ""
             }
            },
            "type": "scattercarpet"
           }
          ],
          "scattergeo": [
           {
            "marker": {
             "colorbar": {
              "outlinewidth": 0,
              "ticks": ""
             }
            },
            "type": "scattergeo"
           }
          ],
          "scattergl": [
           {
            "marker": {
             "colorbar": {
              "outlinewidth": 0,
              "ticks": ""
             }
            },
            "type": "scattergl"
           }
          ],
          "scattermapbox": [
           {
            "marker": {
             "colorbar": {
              "outlinewidth": 0,
              "ticks": ""
             }
            },
            "type": "scattermapbox"
           }
          ],
          "scatterpolar": [
           {
            "marker": {
             "colorbar": {
              "outlinewidth": 0,
              "ticks": ""
             }
            },
            "type": "scatterpolar"
           }
          ],
          "scatterpolargl": [
           {
            "marker": {
             "colorbar": {
              "outlinewidth": 0,
              "ticks": ""
             }
            },
            "type": "scatterpolargl"
           }
          ],
          "scatterternary": [
           {
            "marker": {
             "colorbar": {
              "outlinewidth": 0,
              "ticks": ""
             }
            },
            "type": "scatterternary"
           }
          ],
          "surface": [
           {
            "colorbar": {
             "outlinewidth": 0,
             "ticks": ""
            },
            "colorscale": [
             [
              0,
              "#0d0887"
             ],
             [
              0.1111111111111111,
              "#46039f"
             ],
             [
              0.2222222222222222,
              "#7201a8"
             ],
             [
              0.3333333333333333,
              "#9c179e"
             ],
             [
              0.4444444444444444,
              "#bd3786"
             ],
             [
              0.5555555555555556,
              "#d8576b"
             ],
             [
              0.6666666666666666,
              "#ed7953"
             ],
             [
              0.7777777777777778,
              "#fb9f3a"
             ],
             [
              0.8888888888888888,
              "#fdca26"
             ],
             [
              1,
              "#f0f921"
             ]
            ],
            "type": "surface"
           }
          ],
          "table": [
           {
            "cells": {
             "fill": {
              "color": "#EBF0F8"
             },
             "line": {
              "color": "white"
             }
            },
            "header": {
             "fill": {
              "color": "#C8D4E3"
             },
             "line": {
              "color": "white"
             }
            },
            "type": "table"
           }
          ]
         },
         "layout": {
          "annotationdefaults": {
           "arrowcolor": "#2a3f5f",
           "arrowhead": 0,
           "arrowwidth": 1
          },
          "autotypenumbers": "strict",
          "coloraxis": {
           "colorbar": {
            "outlinewidth": 0,
            "ticks": ""
           }
          },
          "colorscale": {
           "diverging": [
            [
             0,
             "#8e0152"
            ],
            [
             0.1,
             "#c51b7d"
            ],
            [
             0.2,
             "#de77ae"
            ],
            [
             0.3,
             "#f1b6da"
            ],
            [
             0.4,
             "#fde0ef"
            ],
            [
             0.5,
             "#f7f7f7"
            ],
            [
             0.6,
             "#e6f5d0"
            ],
            [
             0.7,
             "#b8e186"
            ],
            [
             0.8,
             "#7fbc41"
            ],
            [
             0.9,
             "#4d9221"
            ],
            [
             1,
             "#276419"
            ]
           ],
           "sequential": [
            [
             0,
             "#0d0887"
            ],
            [
             0.1111111111111111,
             "#46039f"
            ],
            [
             0.2222222222222222,
             "#7201a8"
            ],
            [
             0.3333333333333333,
             "#9c179e"
            ],
            [
             0.4444444444444444,
             "#bd3786"
            ],
            [
             0.5555555555555556,
             "#d8576b"
            ],
            [
             0.6666666666666666,
             "#ed7953"
            ],
            [
             0.7777777777777778,
             "#fb9f3a"
            ],
            [
             0.8888888888888888,
             "#fdca26"
            ],
            [
             1,
             "#f0f921"
            ]
           ],
           "sequentialminus": [
            [
             0,
             "#0d0887"
            ],
            [
             0.1111111111111111,
             "#46039f"
            ],
            [
             0.2222222222222222,
             "#7201a8"
            ],
            [
             0.3333333333333333,
             "#9c179e"
            ],
            [
             0.4444444444444444,
             "#bd3786"
            ],
            [
             0.5555555555555556,
             "#d8576b"
            ],
            [
             0.6666666666666666,
             "#ed7953"
            ],
            [
             0.7777777777777778,
             "#fb9f3a"
            ],
            [
             0.8888888888888888,
             "#fdca26"
            ],
            [
             1,
             "#f0f921"
            ]
           ]
          },
          "colorway": [
           "#636efa",
           "#EF553B",
           "#00cc96",
           "#ab63fa",
           "#FFA15A",
           "#19d3f3",
           "#FF6692",
           "#B6E880",
           "#FF97FF",
           "#FECB52"
          ],
          "font": {
           "color": "#2a3f5f"
          },
          "geo": {
           "bgcolor": "white",
           "lakecolor": "white",
           "landcolor": "#E5ECF6",
           "showlakes": true,
           "showland": true,
           "subunitcolor": "white"
          },
          "hoverlabel": {
           "align": "left"
          },
          "hovermode": "closest",
          "mapbox": {
           "style": "light"
          },
          "paper_bgcolor": "white",
          "plot_bgcolor": "#E5ECF6",
          "polar": {
           "angularaxis": {
            "gridcolor": "white",
            "linecolor": "white",
            "ticks": ""
           },
           "bgcolor": "#E5ECF6",
           "radialaxis": {
            "gridcolor": "white",
            "linecolor": "white",
            "ticks": ""
           }
          },
          "scene": {
           "xaxis": {
            "backgroundcolor": "#E5ECF6",
            "gridcolor": "white",
            "gridwidth": 2,
            "linecolor": "white",
            "showbackground": true,
            "ticks": "",
            "zerolinecolor": "white"
           },
           "yaxis": {
            "backgroundcolor": "#E5ECF6",
            "gridcolor": "white",
            "gridwidth": 2,
            "linecolor": "white",
            "showbackground": true,
            "ticks": "",
            "zerolinecolor": "white"
           },
           "zaxis": {
            "backgroundcolor": "#E5ECF6",
            "gridcolor": "white",
            "gridwidth": 2,
            "linecolor": "white",
            "showbackground": true,
            "ticks": "",
            "zerolinecolor": "white"
           }
          },
          "shapedefaults": {
           "line": {
            "color": "#2a3f5f"
           }
          },
          "ternary": {
           "aaxis": {
            "gridcolor": "white",
            "linecolor": "white",
            "ticks": ""
           },
           "baxis": {
            "gridcolor": "white",
            "linecolor": "white",
            "ticks": ""
           },
           "bgcolor": "#E5ECF6",
           "caxis": {
            "gridcolor": "white",
            "linecolor": "white",
            "ticks": ""
           }
          },
          "title": {
           "x": 0.05
          },
          "xaxis": {
           "automargin": true,
           "gridcolor": "white",
           "linecolor": "white",
           "ticks": "",
           "title": {
            "standoff": 15
           },
           "zerolinecolor": "white",
           "zerolinewidth": 2
          },
          "yaxis": {
           "automargin": true,
           "gridcolor": "white",
           "linecolor": "white",
           "ticks": "",
           "title": {
            "standoff": 15
           },
           "zerolinecolor": "white",
           "zerolinewidth": 2
          }
         }
        },
        "title": {
         "text": "Total de Delitos Tipo I por Municipio 2010-2020"
        },
        "xaxis": {
         "anchor": "y",
         "domain": [
          0,
          1
         ],
         "title": {
          "text": "Fecha"
         },
         "type": "category"
        },
        "yaxis": {
         "anchor": "x",
         "domain": [
          0,
          1
         ],
         "title": {
          "text": "Total de Delitos"
         }
        }
       }
      },
      "text/html": [
       "<div>                            <div id=\"72b28284-7f16-409d-a598-1e60908a125b\" class=\"plotly-graph-div\" style=\"height:525px; width:100%;\"></div>            <script type=\"text/javascript\">                require([\"plotly\"], function(Plotly) {                    window.PLOTLYENV=window.PLOTLYENV || {};                                    if (document.getElementById(\"72b28284-7f16-409d-a598-1e60908a125b\")) {                    Plotly.newPlot(                        \"72b28284-7f16-409d-a598-1e60908a125b\",                        [{\"customdata\":[[\"Adjuntas\"],[\"Adjuntas\"],[\"Adjuntas\"],[\"Adjuntas\"],[\"Adjuntas\"],[\"Adjuntas\"],[\"Adjuntas\"],[\"Adjuntas\"],[\"Adjuntas\"],[\"Adjuntas\"],[\"Adjuntas\"]],\"fillpattern\":{\"shape\":\"\"},\"hovertemplate\":\"Municipio=%{customdata[0]}<br>Fecha=%{x}<br>Total de Delitos=%{y}<extra></extra>\",\"legendgroup\":\"Adjuntas\",\"line\":{\"color\":\"#636efa\"},\"marker\":{\"symbol\":\"circle\"},\"mode\":\"lines\",\"name\":\"Adjuntas\",\"orientation\":\"v\",\"showlegend\":true,\"stackgroup\":\"1\",\"x\":[\"2010-12-01T00:00:00\",\"2011-12-01T00:00:00\",\"2012-12-01T00:00:00\",\"2013-12-01T00:00:00\",\"2014-12-01T00:00:00\",\"2015-12-01T00:00:00\",\"2016-12-01T00:00:00\",\"2017-12-01T00:00:00\",\"2018-12-01T00:00:00\",\"2019-12-01T00:00:00\",\"2020-12-01T00:00:00\"],\"xaxis\":\"x\",\"y\":[20.0,25.0,33.0,18.0,11.0,5.0,6.0,17.0,6.0,5.0,2.0],\"yaxis\":\"y\",\"type\":\"scatter\"},{\"customdata\":[[\"Aguada \"],[\"Aguada \"],[\"Aguada \"],[\"Aguada \"],[\"Aguada \"],[\"Aguada \"],[\"Aguada \"],[\"Aguada \"],[\"Aguada \"],[\"Aguada \"],[\"Aguada \"]],\"fillpattern\":{\"shape\":\"\"},\"hovertemplate\":\"Municipio=%{customdata[0]}<br>Fecha=%{x}<br>Total de Delitos=%{y}<extra></extra>\",\"legendgroup\":\"Aguada \",\"line\":{\"color\":\"#EF553B\"},\"marker\":{\"symbol\":\"circle\"},\"mode\":\"lines\",\"name\":\"Aguada \",\"orientation\":\"v\",\"showlegend\":true,\"stackgroup\":\"1\",\"x\":[\"2010-12-01T00:00:00\",\"2011-12-01T00:00:00\",\"2012-12-01T00:00:00\",\"2013-12-01T00:00:00\",\"2014-12-01T00:00:00\",\"2015-12-01T00:00:00\",\"2016-12-01T00:00:00\",\"2017-12-01T00:00:00\",\"2018-12-01T00:00:00\",\"2019-12-01T00:00:00\",\"2020-12-01T00:00:00\"],\"xaxis\":\"x\",\"y\":[25.0,44.0,29.0,18.0,55.0,19.0,56.0,31.0,24.0,11.0,11.0],\"yaxis\":\"y\",\"type\":\"scatter\"},{\"customdata\":[[\"Aguadilla\"],[\"Aguadilla\"],[\"Aguadilla\"],[\"Aguadilla\"],[\"Aguadilla\"],[\"Aguadilla\"],[\"Aguadilla\"],[\"Aguadilla\"],[\"Aguadilla\"],[\"Aguadilla\"],[\"Aguadilla\"]],\"fillpattern\":{\"shape\":\"\"},\"hovertemplate\":\"Municipio=%{customdata[0]}<br>Fecha=%{x}<br>Total de Delitos=%{y}<extra></extra>\",\"legendgroup\":\"Aguadilla\",\"line\":{\"color\":\"#00cc96\"},\"marker\":{\"symbol\":\"circle\"},\"mode\":\"lines\",\"name\":\"Aguadilla\",\"orientation\":\"v\",\"showlegend\":true,\"stackgroup\":\"1\",\"x\":[\"2010-12-01T00:00:00\",\"2011-12-01T00:00:00\",\"2012-12-01T00:00:00\",\"2013-12-01T00:00:00\",\"2014-12-01T00:00:00\",\"2015-12-01T00:00:00\",\"2016-12-01T00:00:00\",\"2017-12-01T00:00:00\",\"2018-12-01T00:00:00\",\"2019-12-01T00:00:00\",\"2020-12-01T00:00:00\"],\"xaxis\":\"x\",\"y\":[67.0,116.0,76.0,57.0,70.0,102.0,43.0,65.0,56.0,43.0,28.0],\"yaxis\":\"y\",\"type\":\"scatter\"},{\"customdata\":[[\"Aguas Buenas\"],[\"Aguas Buenas\"],[\"Aguas Buenas\"],[\"Aguas Buenas\"],[\"Aguas Buenas\"],[\"Aguas Buenas\"],[\"Aguas Buenas\"],[\"Aguas Buenas\"],[\"Aguas Buenas\"],[\"Aguas Buenas\"],[\"Aguas Buenas\"]],\"fillpattern\":{\"shape\":\"\"},\"hovertemplate\":\"Municipio=%{customdata[0]}<br>Fecha=%{x}<br>Total de Delitos=%{y}<extra></extra>\",\"legendgroup\":\"Aguas Buenas\",\"line\":{\"color\":\"#ab63fa\"},\"marker\":{\"symbol\":\"circle\"},\"mode\":\"lines\",\"name\":\"Aguas Buenas\",\"orientation\":\"v\",\"showlegend\":true,\"stackgroup\":\"1\",\"x\":[\"2010-12-01T00:00:00\",\"2011-12-01T00:00:00\",\"2012-12-01T00:00:00\",\"2013-12-01T00:00:00\",\"2014-12-01T00:00:00\",\"2015-12-01T00:00:00\",\"2016-12-01T00:00:00\",\"2017-12-01T00:00:00\",\"2018-12-01T00:00:00\",\"2019-12-01T00:00:00\",\"2020-12-01T00:00:00\"],\"xaxis\":\"x\",\"y\":[18.0,33.0,39.0,13.0,27.0,21.0,22.0,9.0,9.0,6.0,6.0],\"yaxis\":\"y\",\"type\":\"scatter\"},{\"customdata\":[[\"Aibonito\"],[\"Aibonito\"],[\"Aibonito\"],[\"Aibonito\"],[\"Aibonito\"],[\"Aibonito\"],[\"Aibonito\"],[\"Aibonito\"],[\"Aibonito\"],[\"Aibonito\"],[\"Aibonito\"]],\"fillpattern\":{\"shape\":\"\"},\"hovertemplate\":\"Municipio=%{customdata[0]}<br>Fecha=%{x}<br>Total de Delitos=%{y}<extra></extra>\",\"legendgroup\":\"Aibonito\",\"line\":{\"color\":\"#FFA15A\"},\"marker\":{\"symbol\":\"circle\"},\"mode\":\"lines\",\"name\":\"Aibonito\",\"orientation\":\"v\",\"showlegend\":true,\"stackgroup\":\"1\",\"x\":[\"2010-12-01T00:00:00\",\"2011-12-01T00:00:00\",\"2012-12-01T00:00:00\",\"2013-12-01T00:00:00\",\"2014-12-01T00:00:00\",\"2015-12-01T00:00:00\",\"2016-12-01T00:00:00\",\"2017-12-01T00:00:00\",\"2018-12-01T00:00:00\",\"2019-12-01T00:00:00\",\"2020-12-01T00:00:00\"],\"xaxis\":\"x\",\"y\":[46.0,50.0,34.0,25.0,28.0,22.0,22.0,9.0,12.0,13.0,13.0],\"yaxis\":\"y\",\"type\":\"scatter\"},{\"customdata\":[[\"Arecibo\"],[\"Arecibo\"],[\"Arecibo\"],[\"Arecibo\"],[\"Arecibo\"],[\"Arecibo\"],[\"Arecibo\"],[\"Arecibo\"],[\"Arecibo\"],[\"Arecibo\"],[\"Arecibo\"]],\"fillpattern\":{\"shape\":\"\"},\"hovertemplate\":\"Municipio=%{customdata[0]}<br>Fecha=%{x}<br>Total de Delitos=%{y}<extra></extra>\",\"legendgroup\":\"Arecibo\",\"line\":{\"color\":\"#19d3f3\"},\"marker\":{\"symbol\":\"circle\"},\"mode\":\"lines\",\"name\":\"Arecibo\",\"orientation\":\"v\",\"showlegend\":true,\"stackgroup\":\"1\",\"x\":[\"2010-12-01T00:00:00\",\"2011-12-01T00:00:00\",\"2012-12-01T00:00:00\",\"2013-12-01T00:00:00\",\"2014-12-01T00:00:00\",\"2015-12-01T00:00:00\",\"2016-12-01T00:00:00\",\"2017-12-01T00:00:00\",\"2018-12-01T00:00:00\",\"2019-12-01T00:00:00\",\"2020-12-01T00:00:00\"],\"xaxis\":\"x\",\"y\":[134.0,71.0,84.0,86.0,109.0,80.0,87.0,80.0,39.0,37.0,33.0],\"yaxis\":\"y\",\"type\":\"scatter\"},{\"customdata\":[[\"Arroyo\"],[\"Arroyo\"],[\"Arroyo\"],[\"Arroyo\"],[\"Arroyo\"],[\"Arroyo\"],[\"Arroyo\"],[\"Arroyo\"],[\"Arroyo\"],[\"Arroyo\"],[\"Arroyo\"]],\"fillpattern\":{\"shape\":\"\"},\"hovertemplate\":\"Municipio=%{customdata[0]}<br>Fecha=%{x}<br>Total de Delitos=%{y}<extra></extra>\",\"legendgroup\":\"Arroyo\",\"line\":{\"color\":\"#FF6692\"},\"marker\":{\"symbol\":\"circle\"},\"mode\":\"lines\",\"name\":\"Arroyo\",\"orientation\":\"v\",\"showlegend\":true,\"stackgroup\":\"1\",\"x\":[\"2010-12-01T00:00:00\",\"2011-12-01T00:00:00\",\"2012-12-01T00:00:00\",\"2013-12-01T00:00:00\",\"2014-12-01T00:00:00\",\"2015-12-01T00:00:00\",\"2016-12-01T00:00:00\",\"2017-12-01T00:00:00\",\"2018-12-01T00:00:00\",\"2019-12-01T00:00:00\",\"2020-12-01T00:00:00\"],\"xaxis\":\"x\",\"y\":[15.0,10.0,21.0,19.0,19.0,9.0,12.0,8.0,11.0,14.0,6.0],\"yaxis\":\"y\",\"type\":\"scatter\"},{\"customdata\":[[\"A\\u00f1asco\"],[\"A\\u00f1asco\"],[\"A\\u00f1asco\"],[\"A\\u00f1asco\"],[\"A\\u00f1asco\"],[\"A\\u00f1asco\"],[\"A\\u00f1asco\"],[\"A\\u00f1asco\"],[\"A\\u00f1asco\"],[\"A\\u00f1asco\"],[\"A\\u00f1asco\"]],\"fillpattern\":{\"shape\":\"\"},\"hovertemplate\":\"Municipio=%{customdata[0]}<br>Fecha=%{x}<br>Total de Delitos=%{y}<extra></extra>\",\"legendgroup\":\"A\\u00f1asco\",\"line\":{\"color\":\"#B6E880\"},\"marker\":{\"symbol\":\"circle\"},\"mode\":\"lines\",\"name\":\"A\\u00f1asco\",\"orientation\":\"v\",\"showlegend\":true,\"stackgroup\":\"1\",\"x\":[\"2010-12-01T00:00:00\",\"2011-12-01T00:00:00\",\"2012-12-01T00:00:00\",\"2013-12-01T00:00:00\",\"2014-12-01T00:00:00\",\"2015-12-01T00:00:00\",\"2016-12-01T00:00:00\",\"2017-12-01T00:00:00\",\"2018-12-01T00:00:00\",\"2019-12-01T00:00:00\",\"2020-12-01T00:00:00\"],\"xaxis\":\"x\",\"y\":[7.0,16.0,14.0,19.0,17.0,12.0,13.0,7.0,9.0,9.0,5.0],\"yaxis\":\"y\",\"type\":\"scatter\"},{\"customdata\":[[\"Barceloneta\"],[\"Barceloneta\"],[\"Barceloneta\"],[\"Barceloneta\"],[\"Barceloneta\"],[\"Barceloneta\"],[\"Barceloneta\"],[\"Barceloneta\"],[\"Barceloneta\"],[\"Barceloneta\"],[\"Barceloneta\"]],\"fillpattern\":{\"shape\":\"\"},\"hovertemplate\":\"Municipio=%{customdata[0]}<br>Fecha=%{x}<br>Total de Delitos=%{y}<extra></extra>\",\"legendgroup\":\"Barceloneta\",\"line\":{\"color\":\"#FF97FF\"},\"marker\":{\"symbol\":\"circle\"},\"mode\":\"lines\",\"name\":\"Barceloneta\",\"orientation\":\"v\",\"showlegend\":true,\"stackgroup\":\"1\",\"x\":[\"2010-12-01T00:00:00\",\"2011-12-01T00:00:00\",\"2012-12-01T00:00:00\",\"2013-12-01T00:00:00\",\"2014-12-01T00:00:00\",\"2015-12-01T00:00:00\",\"2016-12-01T00:00:00\",\"2017-12-01T00:00:00\",\"2018-12-01T00:00:00\",\"2019-12-01T00:00:00\",\"2020-12-01T00:00:00\"],\"xaxis\":\"x\",\"y\":[28.0,31.0,53.0,56.0,25.0,47.0,47.0,25.0,17.0,26.0,31.0],\"yaxis\":\"y\",\"type\":\"scatter\"},{\"customdata\":[[\"Barranquitas\"],[\"Barranquitas\"],[\"Barranquitas\"],[\"Barranquitas\"],[\"Barranquitas\"],[\"Barranquitas\"],[\"Barranquitas\"],[\"Barranquitas\"],[\"Barranquitas\"],[\"Barranquitas\"],[\"Barranquitas\"]],\"fillpattern\":{\"shape\":\"\"},\"hovertemplate\":\"Municipio=%{customdata[0]}<br>Fecha=%{x}<br>Total de Delitos=%{y}<extra></extra>\",\"legendgroup\":\"Barranquitas\",\"line\":{\"color\":\"#FECB52\"},\"marker\":{\"symbol\":\"circle\"},\"mode\":\"lines\",\"name\":\"Barranquitas\",\"orientation\":\"v\",\"showlegend\":true,\"stackgroup\":\"1\",\"x\":[\"2010-12-01T00:00:00\",\"2011-12-01T00:00:00\",\"2012-12-01T00:00:00\",\"2013-12-01T00:00:00\",\"2014-12-01T00:00:00\",\"2015-12-01T00:00:00\",\"2016-12-01T00:00:00\",\"2017-12-01T00:00:00\",\"2018-12-01T00:00:00\",\"2019-12-01T00:00:00\",\"2020-12-01T00:00:00\"],\"xaxis\":\"x\",\"y\":[35.0,51.0,61.0,46.0,38.0,39.0,27.0,13.0,18.0,25.0,10.0],\"yaxis\":\"y\",\"type\":\"scatter\"},{\"customdata\":[[\"Bayam\\u00f3n\"],[\"Bayam\\u00f3n\"],[\"Bayam\\u00f3n\"],[\"Bayam\\u00f3n\"],[\"Bayam\\u00f3n\"],[\"Bayam\\u00f3n\"],[\"Bayam\\u00f3n\"],[\"Bayam\\u00f3n\"],[\"Bayam\\u00f3n\"],[\"Bayam\\u00f3n\"],[\"Bayam\\u00f3n\"]],\"fillpattern\":{\"shape\":\"\"},\"hovertemplate\":\"Municipio=%{customdata[0]}<br>Fecha=%{x}<br>Total de Delitos=%{y}<extra></extra>\",\"legendgroup\":\"Bayam\\u00f3n\",\"line\":{\"color\":\"#636efa\"},\"marker\":{\"symbol\":\"circle\"},\"mode\":\"lines\",\"name\":\"Bayam\\u00f3n\",\"orientation\":\"v\",\"showlegend\":true,\"stackgroup\":\"1\",\"x\":[\"2010-12-01T00:00:00\",\"2011-12-01T00:00:00\",\"2012-12-01T00:00:00\",\"2013-12-01T00:00:00\",\"2014-12-01T00:00:00\",\"2015-12-01T00:00:00\",\"2016-12-01T00:00:00\",\"2017-12-01T00:00:00\",\"2018-12-01T00:00:00\",\"2019-12-01T00:00:00\",\"2020-12-01T00:00:00\"],\"xaxis\":\"x\",\"y\":[509.0,527.0,541.0,464.0,448.0,385.0,421.0,264.0,322.0,272.0,145.0],\"yaxis\":\"y\",\"type\":\"scatter\"},{\"customdata\":[[\"Cabo Rojo\"],[\"Cabo Rojo\"],[\"Cabo Rojo\"],[\"Cabo Rojo\"],[\"Cabo Rojo\"],[\"Cabo Rojo\"],[\"Cabo Rojo\"],[\"Cabo Rojo\"],[\"Cabo Rojo\"],[\"Cabo Rojo\"],[\"Cabo Rojo\"]],\"fillpattern\":{\"shape\":\"\"},\"hovertemplate\":\"Municipio=%{customdata[0]}<br>Fecha=%{x}<br>Total de Delitos=%{y}<extra></extra>\",\"legendgroup\":\"Cabo Rojo\",\"line\":{\"color\":\"#EF553B\"},\"marker\":{\"symbol\":\"circle\"},\"mode\":\"lines\",\"name\":\"Cabo Rojo\",\"orientation\":\"v\",\"showlegend\":true,\"stackgroup\":\"1\",\"x\":[\"2010-12-01T00:00:00\",\"2011-12-01T00:00:00\",\"2012-12-01T00:00:00\",\"2013-12-01T00:00:00\",\"2014-12-01T00:00:00\",\"2015-12-01T00:00:00\",\"2016-12-01T00:00:00\",\"2017-12-01T00:00:00\",\"2018-12-01T00:00:00\",\"2019-12-01T00:00:00\",\"2020-12-01T00:00:00\"],\"xaxis\":\"x\",\"y\":[42.0,50.0,30.0,38.0,39.0,26.0,18.0,21.0,28.0,34.0,13.0],\"yaxis\":\"y\",\"type\":\"scatter\"},{\"customdata\":[[\"Caguas\"],[\"Caguas\"],[\"Caguas\"],[\"Caguas\"],[\"Caguas\"],[\"Caguas\"],[\"Caguas\"],[\"Caguas\"],[\"Caguas\"],[\"Caguas\"],[\"Caguas\"]],\"fillpattern\":{\"shape\":\"\"},\"hovertemplate\":\"Municipio=%{customdata[0]}<br>Fecha=%{x}<br>Total de Delitos=%{y}<extra></extra>\",\"legendgroup\":\"Caguas\",\"line\":{\"color\":\"#00cc96\"},\"marker\":{\"symbol\":\"circle\"},\"mode\":\"lines\",\"name\":\"Caguas\",\"orientation\":\"v\",\"showlegend\":true,\"stackgroup\":\"1\",\"x\":[\"2010-12-01T00:00:00\",\"2011-12-01T00:00:00\",\"2012-12-01T00:00:00\",\"2013-12-01T00:00:00\",\"2014-12-01T00:00:00\",\"2015-12-01T00:00:00\",\"2016-12-01T00:00:00\",\"2017-12-01T00:00:00\",\"2018-12-01T00:00:00\",\"2019-12-01T00:00:00\",\"2020-12-01T00:00:00\"],\"xaxis\":\"x\",\"y\":[204.0,265.0,246.0,225.0,249.0,241.0,180.0,188.0,117.0,100.0,77.0],\"yaxis\":\"y\",\"type\":\"scatter\"},{\"customdata\":[[\"Camuy\"],[\"Camuy\"],[\"Camuy\"],[\"Camuy\"],[\"Camuy\"],[\"Camuy\"],[\"Camuy\"],[\"Camuy\"],[\"Camuy\"],[\"Camuy\"],[\"Camuy\"]],\"fillpattern\":{\"shape\":\"\"},\"hovertemplate\":\"Municipio=%{customdata[0]}<br>Fecha=%{x}<br>Total de Delitos=%{y}<extra></extra>\",\"legendgroup\":\"Camuy\",\"line\":{\"color\":\"#ab63fa\"},\"marker\":{\"symbol\":\"circle\"},\"mode\":\"lines\",\"name\":\"Camuy\",\"orientation\":\"v\",\"showlegend\":true,\"stackgroup\":\"1\",\"x\":[\"2010-12-01T00:00:00\",\"2011-12-01T00:00:00\",\"2012-12-01T00:00:00\",\"2013-12-01T00:00:00\",\"2014-12-01T00:00:00\",\"2015-12-01T00:00:00\",\"2016-12-01T00:00:00\",\"2017-12-01T00:00:00\",\"2018-12-01T00:00:00\",\"2019-12-01T00:00:00\",\"2020-12-01T00:00:00\"],\"xaxis\":\"x\",\"y\":[29.0,36.0,73.0,32.0,45.0,34.0,33.0,23.0,15.0,21.0,7.0],\"yaxis\":\"y\",\"type\":\"scatter\"},{\"customdata\":[[\"Can\\u00f3vanas\"],[\"Can\\u00f3vanas\"],[\"Can\\u00f3vanas\"],[\"Can\\u00f3vanas\"],[\"Can\\u00f3vanas\"],[\"Can\\u00f3vanas\"],[\"Can\\u00f3vanas\"],[\"Can\\u00f3vanas\"],[\"Can\\u00f3vanas\"],[\"Can\\u00f3vanas\"],[\"Can\\u00f3vanas\"]],\"fillpattern\":{\"shape\":\"\"},\"hovertemplate\":\"Municipio=%{customdata[0]}<br>Fecha=%{x}<br>Total de Delitos=%{y}<extra></extra>\",\"legendgroup\":\"Can\\u00f3vanas\",\"line\":{\"color\":\"#FFA15A\"},\"marker\":{\"symbol\":\"circle\"},\"mode\":\"lines\",\"name\":\"Can\\u00f3vanas\",\"orientation\":\"v\",\"showlegend\":true,\"stackgroup\":\"1\",\"x\":[\"2010-12-01T00:00:00\",\"2011-12-01T00:00:00\",\"2012-12-01T00:00:00\",\"2013-12-01T00:00:00\",\"2014-12-01T00:00:00\",\"2015-12-01T00:00:00\",\"2016-12-01T00:00:00\",\"2017-12-01T00:00:00\",\"2018-12-01T00:00:00\",\"2019-12-01T00:00:00\",\"2020-12-01T00:00:00\"],\"xaxis\":\"x\",\"y\":[54.0,46.0,69.0,68.0,60.0,48.0,41.0,30.0,33.0,23.0,26.0],\"yaxis\":\"y\",\"type\":\"scatter\"},{\"customdata\":[[\"Carolina\"],[\"Carolina\"],[\"Carolina\"],[\"Carolina\"],[\"Carolina\"],[\"Carolina\"],[\"Carolina\"],[\"Carolina\"],[\"Carolina\"],[\"Carolina\"],[\"Carolina\"]],\"fillpattern\":{\"shape\":\"\"},\"hovertemplate\":\"Municipio=%{customdata[0]}<br>Fecha=%{x}<br>Total de Delitos=%{y}<extra></extra>\",\"legendgroup\":\"Carolina\",\"line\":{\"color\":\"#19d3f3\"},\"marker\":{\"symbol\":\"circle\"},\"mode\":\"lines\",\"name\":\"Carolina\",\"orientation\":\"v\",\"showlegend\":true,\"stackgroup\":\"1\",\"x\":[\"2010-12-01T00:00:00\",\"2011-12-01T00:00:00\",\"2012-12-01T00:00:00\",\"2013-12-01T00:00:00\",\"2014-12-01T00:00:00\",\"2015-12-01T00:00:00\",\"2016-12-01T00:00:00\",\"2017-12-01T00:00:00\",\"2018-12-01T00:00:00\",\"2019-12-01T00:00:00\",\"2020-12-01T00:00:00\"],\"xaxis\":\"x\",\"y\":[321.0,313.0,363.0,355.0,262.0,227.0,245.0,133.0,174.0,148.0,104.0],\"yaxis\":\"y\",\"type\":\"scatter\"},{\"customdata\":[[\"Cata\\u00f1o\"],[\"Cata\\u00f1o\"],[\"Cata\\u00f1o\"],[\"Cata\\u00f1o\"],[\"Cata\\u00f1o\"],[\"Cata\\u00f1o\"],[\"Cata\\u00f1o\"],[\"Cata\\u00f1o\"],[\"Cata\\u00f1o\"],[\"Cata\\u00f1o\"],[\"Cata\\u00f1o\"]],\"fillpattern\":{\"shape\":\"\"},\"hovertemplate\":\"Municipio=%{customdata[0]}<br>Fecha=%{x}<br>Total de Delitos=%{y}<extra></extra>\",\"legendgroup\":\"Cata\\u00f1o\",\"line\":{\"color\":\"#FF6692\"},\"marker\":{\"symbol\":\"circle\"},\"mode\":\"lines\",\"name\":\"Cata\\u00f1o\",\"orientation\":\"v\",\"showlegend\":true,\"stackgroup\":\"1\",\"x\":[\"2010-12-01T00:00:00\",\"2011-12-01T00:00:00\",\"2012-12-01T00:00:00\",\"2013-12-01T00:00:00\",\"2014-12-01T00:00:00\",\"2015-12-01T00:00:00\",\"2016-12-01T00:00:00\",\"2017-12-01T00:00:00\",\"2018-12-01T00:00:00\",\"2019-12-01T00:00:00\",\"2020-12-01T00:00:00\"],\"xaxis\":\"x\",\"y\":[19.0,18.0,46.0,33.0,49.0,37.0,28.0,26.0,20.0,14.0,13.0],\"yaxis\":\"y\",\"type\":\"scatter\"},{\"customdata\":[[\"Cayey\"],[\"Cayey\"],[\"Cayey\"],[\"Cayey\"],[\"Cayey\"],[\"Cayey\"],[\"Cayey\"],[\"Cayey\"],[\"Cayey\"],[\"Cayey\"],[\"Cayey\"]],\"fillpattern\":{\"shape\":\"\"},\"hovertemplate\":\"Municipio=%{customdata[0]}<br>Fecha=%{x}<br>Total de Delitos=%{y}<extra></extra>\",\"legendgroup\":\"Cayey\",\"line\":{\"color\":\"#B6E880\"},\"marker\":{\"symbol\":\"circle\"},\"mode\":\"lines\",\"name\":\"Cayey\",\"orientation\":\"v\",\"showlegend\":true,\"stackgroup\":\"1\",\"x\":[\"2010-12-01T00:00:00\",\"2011-12-01T00:00:00\",\"2012-12-01T00:00:00\",\"2013-12-01T00:00:00\",\"2014-12-01T00:00:00\",\"2015-12-01T00:00:00\",\"2016-12-01T00:00:00\",\"2017-12-01T00:00:00\",\"2018-12-01T00:00:00\",\"2019-12-01T00:00:00\",\"2020-12-01T00:00:00\"],\"xaxis\":\"x\",\"y\":[103.0,92.0,90.0,62.0,111.0,59.0,37.0,42.0,28.0,28.0,17.0],\"yaxis\":\"y\",\"type\":\"scatter\"},{\"customdata\":[[\"Ceiba\"],[\"Ceiba\"],[\"Ceiba\"],[\"Ceiba\"],[\"Ceiba\"],[\"Ceiba\"],[\"Ceiba\"],[\"Ceiba\"],[\"Ceiba\"],[\"Ceiba\"],[\"Ceiba\"]],\"fillpattern\":{\"shape\":\"\"},\"hovertemplate\":\"Municipio=%{customdata[0]}<br>Fecha=%{x}<br>Total de Delitos=%{y}<extra></extra>\",\"legendgroup\":\"Ceiba\",\"line\":{\"color\":\"#FF97FF\"},\"marker\":{\"symbol\":\"circle\"},\"mode\":\"lines\",\"name\":\"Ceiba\",\"orientation\":\"v\",\"showlegend\":true,\"stackgroup\":\"1\",\"x\":[\"2010-12-01T00:00:00\",\"2011-12-01T00:00:00\",\"2012-12-01T00:00:00\",\"2013-12-01T00:00:00\",\"2014-12-01T00:00:00\",\"2015-12-01T00:00:00\",\"2016-12-01T00:00:00\",\"2017-12-01T00:00:00\",\"2018-12-01T00:00:00\",\"2019-12-01T00:00:00\",\"2020-12-01T00:00:00\"],\"xaxis\":\"x\",\"y\":[3.0,13.0,9.0,13.0,14.0,14.0,7.0,8.0,9.0,8.0,3.0],\"yaxis\":\"y\",\"type\":\"scatter\"},{\"customdata\":[[\"Ciales\"],[\"Ciales\"],[\"Ciales\"],[\"Ciales\"],[\"Ciales\"],[\"Ciales\"],[\"Ciales\"],[\"Ciales\"],[\"Ciales\"],[\"Ciales\"],[\"Ciales\"]],\"fillpattern\":{\"shape\":\"\"},\"hovertemplate\":\"Municipio=%{customdata[0]}<br>Fecha=%{x}<br>Total de Delitos=%{y}<extra></extra>\",\"legendgroup\":\"Ciales\",\"line\":{\"color\":\"#FECB52\"},\"marker\":{\"symbol\":\"circle\"},\"mode\":\"lines\",\"name\":\"Ciales\",\"orientation\":\"v\",\"showlegend\":true,\"stackgroup\":\"1\",\"x\":[\"2010-12-01T00:00:00\",\"2011-12-01T00:00:00\",\"2012-12-01T00:00:00\",\"2013-12-01T00:00:00\",\"2014-12-01T00:00:00\",\"2015-12-01T00:00:00\",\"2016-12-01T00:00:00\",\"2017-12-01T00:00:00\",\"2018-12-01T00:00:00\",\"2019-12-01T00:00:00\",\"2020-12-01T00:00:00\"],\"xaxis\":\"x\",\"y\":[25.0,27.0,18.0,28.0,25.0,23.0,24.0,13.0,14.0,13.0,5.0],\"yaxis\":\"y\",\"type\":\"scatter\"},{\"customdata\":[[\"Cidra\"],[\"Cidra\"],[\"Cidra\"],[\"Cidra\"],[\"Cidra\"],[\"Cidra\"],[\"Cidra\"],[\"Cidra\"],[\"Cidra\"],[\"Cidra\"],[\"Cidra\"]],\"fillpattern\":{\"shape\":\"\"},\"hovertemplate\":\"Municipio=%{customdata[0]}<br>Fecha=%{x}<br>Total de Delitos=%{y}<extra></extra>\",\"legendgroup\":\"Cidra\",\"line\":{\"color\":\"#636efa\"},\"marker\":{\"symbol\":\"circle\"},\"mode\":\"lines\",\"name\":\"Cidra\",\"orientation\":\"v\",\"showlegend\":true,\"stackgroup\":\"1\",\"x\":[\"2010-12-01T00:00:00\",\"2011-12-01T00:00:00\",\"2012-12-01T00:00:00\",\"2013-12-01T00:00:00\",\"2014-12-01T00:00:00\",\"2015-12-01T00:00:00\",\"2016-12-01T00:00:00\",\"2017-12-01T00:00:00\",\"2018-12-01T00:00:00\",\"2019-12-01T00:00:00\",\"2020-12-01T00:00:00\"],\"xaxis\":\"x\",\"y\":[39.0,42.0,30.0,50.0,38.0,32.0,34.0,18.0,17.0,21.0,8.0],\"yaxis\":\"y\",\"type\":\"scatter\"},{\"customdata\":[[\"Coamo\"],[\"Coamo\"],[\"Coamo\"],[\"Coamo\"],[\"Coamo\"],[\"Coamo\"],[\"Coamo\"],[\"Coamo\"],[\"Coamo\"],[\"Coamo\"],[\"Coamo\"]],\"fillpattern\":{\"shape\":\"\"},\"hovertemplate\":\"Municipio=%{customdata[0]}<br>Fecha=%{x}<br>Total de Delitos=%{y}<extra></extra>\",\"legendgroup\":\"Coamo\",\"line\":{\"color\":\"#EF553B\"},\"marker\":{\"symbol\":\"circle\"},\"mode\":\"lines\",\"name\":\"Coamo\",\"orientation\":\"v\",\"showlegend\":true,\"stackgroup\":\"1\",\"x\":[\"2010-12-01T00:00:00\",\"2011-12-01T00:00:00\",\"2012-12-01T00:00:00\",\"2013-12-01T00:00:00\",\"2014-12-01T00:00:00\",\"2015-12-01T00:00:00\",\"2016-12-01T00:00:00\",\"2017-12-01T00:00:00\",\"2018-12-01T00:00:00\",\"2019-12-01T00:00:00\",\"2020-12-01T00:00:00\"],\"xaxis\":\"x\",\"y\":[40.0,40.0,43.0,38.0,38.0,22.0,23.0,29.0,17.0,13.0,15.0],\"yaxis\":\"y\",\"type\":\"scatter\"},{\"customdata\":[[\"Comer\\u00edo\"],[\"Comer\\u00edo\"],[\"Comer\\u00edo\"],[\"Comer\\u00edo\"],[\"Comer\\u00edo\"],[\"Comer\\u00edo\"],[\"Comer\\u00edo\"],[\"Comer\\u00edo\"],[\"Comer\\u00edo\"],[\"Comer\\u00edo\"],[\"Comer\\u00edo\"]],\"fillpattern\":{\"shape\":\"\"},\"hovertemplate\":\"Municipio=%{customdata[0]}<br>Fecha=%{x}<br>Total de Delitos=%{y}<extra></extra>\",\"legendgroup\":\"Comer\\u00edo\",\"line\":{\"color\":\"#00cc96\"},\"marker\":{\"symbol\":\"circle\"},\"mode\":\"lines\",\"name\":\"Comer\\u00edo\",\"orientation\":\"v\",\"showlegend\":true,\"stackgroup\":\"1\",\"x\":[\"2010-12-01T00:00:00\",\"2011-12-01T00:00:00\",\"2012-12-01T00:00:00\",\"2013-12-01T00:00:00\",\"2014-12-01T00:00:00\",\"2015-12-01T00:00:00\",\"2016-12-01T00:00:00\",\"2017-12-01T00:00:00\",\"2018-12-01T00:00:00\",\"2019-12-01T00:00:00\",\"2020-12-01T00:00:00\"],\"xaxis\":\"x\",\"y\":[28.0,28.0,11.0,19.0,21.0,16.0,9.0,6.0,12.0,8.0,7.0],\"yaxis\":\"y\",\"type\":\"scatter\"},{\"customdata\":[[\"Corozal\"],[\"Corozal\"],[\"Corozal\"],[\"Corozal\"],[\"Corozal\"],[\"Corozal\"],[\"Corozal\"],[\"Corozal\"],[\"Corozal\"],[\"Corozal\"],[\"Corozal\"]],\"fillpattern\":{\"shape\":\"\"},\"hovertemplate\":\"Municipio=%{customdata[0]}<br>Fecha=%{x}<br>Total de Delitos=%{y}<extra></extra>\",\"legendgroup\":\"Corozal\",\"line\":{\"color\":\"#ab63fa\"},\"marker\":{\"symbol\":\"circle\"},\"mode\":\"lines\",\"name\":\"Corozal\",\"orientation\":\"v\",\"showlegend\":true,\"stackgroup\":\"1\",\"x\":[\"2010-12-01T00:00:00\",\"2011-12-01T00:00:00\",\"2012-12-01T00:00:00\",\"2013-12-01T00:00:00\",\"2014-12-01T00:00:00\",\"2015-12-01T00:00:00\",\"2016-12-01T00:00:00\",\"2017-12-01T00:00:00\",\"2018-12-01T00:00:00\",\"2019-12-01T00:00:00\",\"2020-12-01T00:00:00\"],\"xaxis\":\"x\",\"y\":[32.0,51.0,47.0,40.0,62.0,25.0,32.0,21.0,10.0,35.0,9.0],\"yaxis\":\"y\",\"type\":\"scatter\"},{\"customdata\":[[\"Culebra\"],[\"Culebra\"],[\"Culebra\"],[\"Culebra\"],[\"Culebra\"],[\"Culebra\"],[\"Culebra\"],[\"Culebra\"],[\"Culebra\"],[\"Culebra\"],[\"Culebra\"]],\"fillpattern\":{\"shape\":\"\"},\"hovertemplate\":\"Municipio=%{customdata[0]}<br>Fecha=%{x}<br>Total de Delitos=%{y}<extra></extra>\",\"legendgroup\":\"Culebra\",\"line\":{\"color\":\"#FFA15A\"},\"marker\":{\"symbol\":\"circle\"},\"mode\":\"lines\",\"name\":\"Culebra\",\"orientation\":\"v\",\"showlegend\":true,\"stackgroup\":\"1\",\"x\":[\"2010-12-01T00:00:00\",\"2011-12-01T00:00:00\",\"2012-12-01T00:00:00\",\"2013-12-01T00:00:00\",\"2014-12-01T00:00:00\",\"2015-12-01T00:00:00\",\"2016-12-01T00:00:00\",\"2017-12-01T00:00:00\",\"2018-12-01T00:00:00\",\"2019-12-01T00:00:00\",\"2020-12-01T00:00:00\"],\"xaxis\":\"x\",\"y\":[7.0,3.0,4.0,6.0,2.0,4.0,9.0,2.0,4.0,4.0,1.0],\"yaxis\":\"y\",\"type\":\"scatter\"},{\"customdata\":[[\"Dorado\"],[\"Dorado\"],[\"Dorado\"],[\"Dorado\"],[\"Dorado\"],[\"Dorado\"],[\"Dorado\"],[\"Dorado\"],[\"Dorado\"],[\"Dorado\"],[\"Dorado\"]],\"fillpattern\":{\"shape\":\"\"},\"hovertemplate\":\"Municipio=%{customdata[0]}<br>Fecha=%{x}<br>Total de Delitos=%{y}<extra></extra>\",\"legendgroup\":\"Dorado\",\"line\":{\"color\":\"#19d3f3\"},\"marker\":{\"symbol\":\"circle\"},\"mode\":\"lines\",\"name\":\"Dorado\",\"orientation\":\"v\",\"showlegend\":true,\"stackgroup\":\"1\",\"x\":[\"2010-12-01T00:00:00\",\"2011-12-01T00:00:00\",\"2012-12-01T00:00:00\",\"2013-12-01T00:00:00\",\"2014-12-01T00:00:00\",\"2015-12-01T00:00:00\",\"2016-12-01T00:00:00\",\"2017-12-01T00:00:00\",\"2018-12-01T00:00:00\",\"2019-12-01T00:00:00\",\"2020-12-01T00:00:00\"],\"xaxis\":\"x\",\"y\":[83.0,68.0,52.0,79.0,75.0,51.0,53.0,39.0,42.0,54.0,28.0],\"yaxis\":\"y\",\"type\":\"scatter\"},{\"customdata\":[[\"Fajardo\"],[\"Fajardo\"],[\"Fajardo\"],[\"Fajardo\"],[\"Fajardo\"],[\"Fajardo\"],[\"Fajardo\"],[\"Fajardo\"],[\"Fajardo\"],[\"Fajardo\"],[\"Fajardo\"]],\"fillpattern\":{\"shape\":\"\"},\"hovertemplate\":\"Municipio=%{customdata[0]}<br>Fecha=%{x}<br>Total de Delitos=%{y}<extra></extra>\",\"legendgroup\":\"Fajardo\",\"line\":{\"color\":\"#FF6692\"},\"marker\":{\"symbol\":\"circle\"},\"mode\":\"lines\",\"name\":\"Fajardo\",\"orientation\":\"v\",\"showlegend\":true,\"stackgroup\":\"1\",\"x\":[\"2010-12-01T00:00:00\",\"2011-12-01T00:00:00\",\"2012-12-01T00:00:00\",\"2013-12-01T00:00:00\",\"2014-12-01T00:00:00\",\"2015-12-01T00:00:00\",\"2016-12-01T00:00:00\",\"2017-12-01T00:00:00\",\"2018-12-01T00:00:00\",\"2019-12-01T00:00:00\",\"2020-12-01T00:00:00\"],\"xaxis\":\"x\",\"y\":[46.0,45.0,39.0,69.0,44.0,43.0,32.0,28.0,27.0,26.0,8.0],\"yaxis\":\"y\",\"type\":\"scatter\"},{\"customdata\":[[\"Florida\"],[\"Florida\"],[\"Florida\"],[\"Florida\"],[\"Florida\"],[\"Florida\"],[\"Florida\"],[\"Florida\"],[\"Florida\"],[\"Florida\"],[\"Florida\"]],\"fillpattern\":{\"shape\":\"\"},\"hovertemplate\":\"Municipio=%{customdata[0]}<br>Fecha=%{x}<br>Total de Delitos=%{y}<extra></extra>\",\"legendgroup\":\"Florida\",\"line\":{\"color\":\"#B6E880\"},\"marker\":{\"symbol\":\"circle\"},\"mode\":\"lines\",\"name\":\"Florida\",\"orientation\":\"v\",\"showlegend\":true,\"stackgroup\":\"1\",\"x\":[\"2010-12-01T00:00:00\",\"2011-12-01T00:00:00\",\"2012-12-01T00:00:00\",\"2013-12-01T00:00:00\",\"2014-12-01T00:00:00\",\"2015-12-01T00:00:00\",\"2016-12-01T00:00:00\",\"2017-12-01T00:00:00\",\"2018-12-01T00:00:00\",\"2019-12-01T00:00:00\",\"2020-12-01T00:00:00\"],\"xaxis\":\"x\",\"y\":[5.0,11.0,10.0,11.0,12.0,10.0,10.0,0.0,7.0,5.0,3.0],\"yaxis\":\"y\",\"type\":\"scatter\"},{\"customdata\":[[\"Guayama\"],[\"Guayama\"],[\"Guayama\"],[\"Guayama\"],[\"Guayama\"],[\"Guayama\"],[\"Guayama\"],[\"Guayama\"],[\"Guayama\"],[\"Guayama\"],[\"Guayama\"]],\"fillpattern\":{\"shape\":\"\"},\"hovertemplate\":\"Municipio=%{customdata[0]}<br>Fecha=%{x}<br>Total de Delitos=%{y}<extra></extra>\",\"legendgroup\":\"Guayama\",\"line\":{\"color\":\"#FF97FF\"},\"marker\":{\"symbol\":\"circle\"},\"mode\":\"lines\",\"name\":\"Guayama\",\"orientation\":\"v\",\"showlegend\":true,\"stackgroup\":\"1\",\"x\":[\"2010-12-01T00:00:00\",\"2011-12-01T00:00:00\",\"2012-12-01T00:00:00\",\"2013-12-01T00:00:00\",\"2014-12-01T00:00:00\",\"2015-12-01T00:00:00\",\"2016-12-01T00:00:00\",\"2017-12-01T00:00:00\",\"2018-12-01T00:00:00\",\"2019-12-01T00:00:00\",\"2020-12-01T00:00:00\"],\"xaxis\":\"x\",\"y\":[72.0,71.0,61.0,81.0,47.0,53.0,39.0,28.0,21.0,28.0,14.0],\"yaxis\":\"y\",\"type\":\"scatter\"},{\"customdata\":[[\"Guayanilla\"],[\"Guayanilla\"],[\"Guayanilla\"],[\"Guayanilla\"],[\"Guayanilla\"],[\"Guayanilla\"],[\"Guayanilla\"],[\"Guayanilla\"],[\"Guayanilla\"],[\"Guayanilla\"],[\"Guayanilla\"]],\"fillpattern\":{\"shape\":\"\"},\"hovertemplate\":\"Municipio=%{customdata[0]}<br>Fecha=%{x}<br>Total de Delitos=%{y}<extra></extra>\",\"legendgroup\":\"Guayanilla\",\"line\":{\"color\":\"#FECB52\"},\"marker\":{\"symbol\":\"circle\"},\"mode\":\"lines\",\"name\":\"Guayanilla\",\"orientation\":\"v\",\"showlegend\":true,\"stackgroup\":\"1\",\"x\":[\"2010-12-01T00:00:00\",\"2011-12-01T00:00:00\",\"2012-12-01T00:00:00\",\"2013-12-01T00:00:00\",\"2014-12-01T00:00:00\",\"2015-12-01T00:00:00\",\"2016-12-01T00:00:00\",\"2017-12-01T00:00:00\",\"2018-12-01T00:00:00\",\"2019-12-01T00:00:00\",\"2020-12-01T00:00:00\"],\"xaxis\":\"x\",\"y\":[19.0,18.0,15.0,20.0,20.0,6.0,17.0,15.0,14.0,5.0,6.0],\"yaxis\":\"y\",\"type\":\"scatter\"},{\"customdata\":[[\"Guaynabo\"],[\"Guaynabo\"],[\"Guaynabo\"],[\"Guaynabo\"],[\"Guaynabo\"],[\"Guaynabo\"],[\"Guaynabo\"],[\"Guaynabo\"],[\"Guaynabo\"],[\"Guaynabo\"],[\"Guaynabo\"]],\"fillpattern\":{\"shape\":\"\"},\"hovertemplate\":\"Municipio=%{customdata[0]}<br>Fecha=%{x}<br>Total de Delitos=%{y}<extra></extra>\",\"legendgroup\":\"Guaynabo\",\"line\":{\"color\":\"#636efa\"},\"marker\":{\"symbol\":\"circle\"},\"mode\":\"lines\",\"name\":\"Guaynabo\",\"orientation\":\"v\",\"showlegend\":true,\"stackgroup\":\"1\",\"x\":[\"2010-12-01T00:00:00\",\"2011-12-01T00:00:00\",\"2012-12-01T00:00:00\",\"2013-12-01T00:00:00\",\"2014-12-01T00:00:00\",\"2015-12-01T00:00:00\",\"2016-12-01T00:00:00\",\"2017-12-01T00:00:00\",\"2018-12-01T00:00:00\",\"2019-12-01T00:00:00\",\"2020-12-01T00:00:00\"],\"xaxis\":\"x\",\"y\":[115.0,162.0,129.0,162.0,96.0,99.0,70.0,91.0,104.0,92.0,43.0],\"yaxis\":\"y\",\"type\":\"scatter\"},{\"customdata\":[[\"Gurabo\"],[\"Gurabo\"],[\"Gurabo\"],[\"Gurabo\"],[\"Gurabo\"],[\"Gurabo\"],[\"Gurabo\"],[\"Gurabo\"],[\"Gurabo\"],[\"Gurabo\"],[\"Gurabo\"]],\"fillpattern\":{\"shape\":\"\"},\"hovertemplate\":\"Municipio=%{customdata[0]}<br>Fecha=%{x}<br>Total de Delitos=%{y}<extra></extra>\",\"legendgroup\":\"Gurabo\",\"line\":{\"color\":\"#EF553B\"},\"marker\":{\"symbol\":\"circle\"},\"mode\":\"lines\",\"name\":\"Gurabo\",\"orientation\":\"v\",\"showlegend\":true,\"stackgroup\":\"1\",\"x\":[\"2010-12-01T00:00:00\",\"2011-12-01T00:00:00\",\"2012-12-01T00:00:00\",\"2013-12-01T00:00:00\",\"2014-12-01T00:00:00\",\"2015-12-01T00:00:00\",\"2016-12-01T00:00:00\",\"2017-12-01T00:00:00\",\"2018-12-01T00:00:00\",\"2019-12-01T00:00:00\",\"2020-12-01T00:00:00\"],\"xaxis\":\"x\",\"y\":[21.0,24.0,51.0,12.0,13.0,19.0,20.0,20.0,9.0,11.0,10.0],\"yaxis\":\"y\",\"type\":\"scatter\"},{\"customdata\":[[\"Gu\\u00e1nica\"],[\"Gu\\u00e1nica\"],[\"Gu\\u00e1nica\"],[\"Gu\\u00e1nica\"],[\"Gu\\u00e1nica\"],[\"Gu\\u00e1nica\"],[\"Gu\\u00e1nica\"],[\"Gu\\u00e1nica\"],[\"Gu\\u00e1nica\"],[\"Gu\\u00e1nica\"],[\"Gu\\u00e1nica\"]],\"fillpattern\":{\"shape\":\"\"},\"hovertemplate\":\"Municipio=%{customdata[0]}<br>Fecha=%{x}<br>Total de Delitos=%{y}<extra></extra>\",\"legendgroup\":\"Gu\\u00e1nica\",\"line\":{\"color\":\"#00cc96\"},\"marker\":{\"symbol\":\"circle\"},\"mode\":\"lines\",\"name\":\"Gu\\u00e1nica\",\"orientation\":\"v\",\"showlegend\":true,\"stackgroup\":\"1\",\"x\":[\"2010-12-01T00:00:00\",\"2011-12-01T00:00:00\",\"2012-12-01T00:00:00\",\"2013-12-01T00:00:00\",\"2014-12-01T00:00:00\",\"2015-12-01T00:00:00\",\"2016-12-01T00:00:00\",\"2017-12-01T00:00:00\",\"2018-12-01T00:00:00\",\"2019-12-01T00:00:00\",\"2020-12-01T00:00:00\"],\"xaxis\":\"x\",\"y\":[18.0,13.0,15.0,4.0,10.0,22.0,31.0,16.0,16.0,6.0,4.0],\"yaxis\":\"y\",\"type\":\"scatter\"},{\"customdata\":[[\"Hatillo\"],[\"Hatillo\"],[\"Hatillo\"],[\"Hatillo\"],[\"Hatillo\"],[\"Hatillo\"],[\"Hatillo\"],[\"Hatillo\"],[\"Hatillo\"],[\"Hatillo\"],[\"Hatillo\"]],\"fillpattern\":{\"shape\":\"\"},\"hovertemplate\":\"Municipio=%{customdata[0]}<br>Fecha=%{x}<br>Total de Delitos=%{y}<extra></extra>\",\"legendgroup\":\"Hatillo\",\"line\":{\"color\":\"#ab63fa\"},\"marker\":{\"symbol\":\"circle\"},\"mode\":\"lines\",\"name\":\"Hatillo\",\"orientation\":\"v\",\"showlegend\":true,\"stackgroup\":\"1\",\"x\":[\"2010-12-01T00:00:00\",\"2011-12-01T00:00:00\",\"2012-12-01T00:00:00\",\"2013-12-01T00:00:00\",\"2014-12-01T00:00:00\",\"2015-12-01T00:00:00\",\"2016-12-01T00:00:00\",\"2017-12-01T00:00:00\",\"2018-12-01T00:00:00\",\"2019-12-01T00:00:00\",\"2020-12-01T00:00:00\"],\"xaxis\":\"x\",\"y\":[66.0,44.0,66.0,76.0,94.0,76.0,47.0,25.0,19.0,23.0,14.0],\"yaxis\":\"y\",\"type\":\"scatter\"},{\"customdata\":[[\"Hormigueros\"],[\"Hormigueros\"],[\"Hormigueros\"],[\"Hormigueros\"],[\"Hormigueros\"],[\"Hormigueros\"],[\"Hormigueros\"],[\"Hormigueros\"],[\"Hormigueros\"],[\"Hormigueros\"],[\"Hormigueros\"]],\"fillpattern\":{\"shape\":\"\"},\"hovertemplate\":\"Municipio=%{customdata[0]}<br>Fecha=%{x}<br>Total de Delitos=%{y}<extra></extra>\",\"legendgroup\":\"Hormigueros\",\"line\":{\"color\":\"#FFA15A\"},\"marker\":{\"symbol\":\"circle\"},\"mode\":\"lines\",\"name\":\"Hormigueros\",\"orientation\":\"v\",\"showlegend\":true,\"stackgroup\":\"1\",\"x\":[\"2010-12-01T00:00:00\",\"2011-12-01T00:00:00\",\"2012-12-01T00:00:00\",\"2013-12-01T00:00:00\",\"2014-12-01T00:00:00\",\"2015-12-01T00:00:00\",\"2016-12-01T00:00:00\",\"2017-12-01T00:00:00\",\"2018-12-01T00:00:00\",\"2019-12-01T00:00:00\",\"2020-12-01T00:00:00\"],\"xaxis\":\"x\",\"y\":[22.0,12.0,21.0,4.0,12.0,13.0,2.0,8.0,6.0,2.0,4.0],\"yaxis\":\"y\",\"type\":\"scatter\"},{\"customdata\":[[\"Humacao\"],[\"Humacao\"],[\"Humacao\"],[\"Humacao\"],[\"Humacao\"],[\"Humacao\"],[\"Humacao\"],[\"Humacao\"],[\"Humacao\"],[\"Humacao\"],[\"Humacao\"]],\"fillpattern\":{\"shape\":\"\"},\"hovertemplate\":\"Municipio=%{customdata[0]}<br>Fecha=%{x}<br>Total de Delitos=%{y}<extra></extra>\",\"legendgroup\":\"Humacao\",\"line\":{\"color\":\"#19d3f3\"},\"marker\":{\"symbol\":\"circle\"},\"mode\":\"lines\",\"name\":\"Humacao\",\"orientation\":\"v\",\"showlegend\":true,\"stackgroup\":\"1\",\"x\":[\"2010-12-01T00:00:00\",\"2011-12-01T00:00:00\",\"2012-12-01T00:00:00\",\"2013-12-01T00:00:00\",\"2014-12-01T00:00:00\",\"2015-12-01T00:00:00\",\"2016-12-01T00:00:00\",\"2017-12-01T00:00:00\",\"2018-12-01T00:00:00\",\"2019-12-01T00:00:00\",\"2020-12-01T00:00:00\"],\"xaxis\":\"x\",\"y\":[109.0,121.0,170.0,69.0,82.0,47.0,64.0,49.0,28.0,39.0,20.0],\"yaxis\":\"y\",\"type\":\"scatter\"},{\"customdata\":[[\"Isabela\"],[\"Isabela\"],[\"Isabela\"],[\"Isabela\"],[\"Isabela\"],[\"Isabela\"],[\"Isabela\"],[\"Isabela\"],[\"Isabela\"],[\"Isabela\"],[\"Isabela\"]],\"fillpattern\":{\"shape\":\"\"},\"hovertemplate\":\"Municipio=%{customdata[0]}<br>Fecha=%{x}<br>Total de Delitos=%{y}<extra></extra>\",\"legendgroup\":\"Isabela\",\"line\":{\"color\":\"#FF6692\"},\"marker\":{\"symbol\":\"circle\"},\"mode\":\"lines\",\"name\":\"Isabela\",\"orientation\":\"v\",\"showlegend\":true,\"stackgroup\":\"1\",\"x\":[\"2010-12-01T00:00:00\",\"2011-12-01T00:00:00\",\"2012-12-01T00:00:00\",\"2013-12-01T00:00:00\",\"2014-12-01T00:00:00\",\"2015-12-01T00:00:00\",\"2016-12-01T00:00:00\",\"2017-12-01T00:00:00\",\"2018-12-01T00:00:00\",\"2019-12-01T00:00:00\",\"2020-12-01T00:00:00\"],\"xaxis\":\"x\",\"y\":[47.0,70.0,60.0,72.0,130.0,80.0,53.0,50.0,72.0,22.0,9.0],\"yaxis\":\"y\",\"type\":\"scatter\"},{\"customdata\":[[\"Jayuya\"],[\"Jayuya\"],[\"Jayuya\"],[\"Jayuya\"],[\"Jayuya\"],[\"Jayuya\"],[\"Jayuya\"],[\"Jayuya\"],[\"Jayuya\"],[\"Jayuya\"],[\"Jayuya\"]],\"fillpattern\":{\"shape\":\"\"},\"hovertemplate\":\"Municipio=%{customdata[0]}<br>Fecha=%{x}<br>Total de Delitos=%{y}<extra></extra>\",\"legendgroup\":\"Jayuya\",\"line\":{\"color\":\"#B6E880\"},\"marker\":{\"symbol\":\"circle\"},\"mode\":\"lines\",\"name\":\"Jayuya\",\"orientation\":\"v\",\"showlegend\":true,\"stackgroup\":\"1\",\"x\":[\"2010-12-01T00:00:00\",\"2011-12-01T00:00:00\",\"2012-12-01T00:00:00\",\"2013-12-01T00:00:00\",\"2014-12-01T00:00:00\",\"2015-12-01T00:00:00\",\"2016-12-01T00:00:00\",\"2017-12-01T00:00:00\",\"2018-12-01T00:00:00\",\"2019-12-01T00:00:00\",\"2020-12-01T00:00:00\"],\"xaxis\":\"x\",\"y\":[8.0,6.0,8.0,17.0,11.0,3.0,8.0,8.0,3.0,5.0,2.0],\"yaxis\":\"y\",\"type\":\"scatter\"},{\"customdata\":[[\"Juana D\\u00edaz\"],[\"Juana D\\u00edaz\"],[\"Juana D\\u00edaz\"],[\"Juana D\\u00edaz\"],[\"Juana D\\u00edaz\"],[\"Juana D\\u00edaz\"],[\"Juana D\\u00edaz\"],[\"Juana D\\u00edaz\"],[\"Juana D\\u00edaz\"],[\"Juana D\\u00edaz\"],[\"Juana D\\u00edaz\"]],\"fillpattern\":{\"shape\":\"\"},\"hovertemplate\":\"Municipio=%{customdata[0]}<br>Fecha=%{x}<br>Total de Delitos=%{y}<extra></extra>\",\"legendgroup\":\"Juana D\\u00edaz\",\"line\":{\"color\":\"#FF97FF\"},\"marker\":{\"symbol\":\"circle\"},\"mode\":\"lines\",\"name\":\"Juana D\\u00edaz\",\"orientation\":\"v\",\"showlegend\":true,\"stackgroup\":\"1\",\"x\":[\"2010-12-01T00:00:00\",\"2011-12-01T00:00:00\",\"2012-12-01T00:00:00\",\"2013-12-01T00:00:00\",\"2014-12-01T00:00:00\",\"2015-12-01T00:00:00\",\"2016-12-01T00:00:00\",\"2017-12-01T00:00:00\",\"2018-12-01T00:00:00\",\"2019-12-01T00:00:00\",\"2020-12-01T00:00:00\"],\"xaxis\":\"x\",\"y\":[50.0,44.0,60.0,120.0,84.0,67.0,72.0,34.0,28.0,10.0,20.0],\"yaxis\":\"y\",\"type\":\"scatter\"},{\"customdata\":[[\"Juncos\"],[\"Juncos\"],[\"Juncos\"],[\"Juncos\"],[\"Juncos\"],[\"Juncos\"],[\"Juncos\"],[\"Juncos\"],[\"Juncos\"],[\"Juncos\"],[\"Juncos\"]],\"fillpattern\":{\"shape\":\"\"},\"hovertemplate\":\"Municipio=%{customdata[0]}<br>Fecha=%{x}<br>Total de Delitos=%{y}<extra></extra>\",\"legendgroup\":\"Juncos\",\"line\":{\"color\":\"#FECB52\"},\"marker\":{\"symbol\":\"circle\"},\"mode\":\"lines\",\"name\":\"Juncos\",\"orientation\":\"v\",\"showlegend\":true,\"stackgroup\":\"1\",\"x\":[\"2010-12-01T00:00:00\",\"2011-12-01T00:00:00\",\"2012-12-01T00:00:00\",\"2013-12-01T00:00:00\",\"2014-12-01T00:00:00\",\"2015-12-01T00:00:00\",\"2016-12-01T00:00:00\",\"2017-12-01T00:00:00\",\"2018-12-01T00:00:00\",\"2019-12-01T00:00:00\",\"2020-12-01T00:00:00\"],\"xaxis\":\"x\",\"y\":[22.0,23.0,37.0,38.0,32.0,33.0,26.0,25.0,11.0,11.0,10.0],\"yaxis\":\"y\",\"type\":\"scatter\"},{\"customdata\":[[\"Lajas\"],[\"Lajas\"],[\"Lajas\"],[\"Lajas\"],[\"Lajas\"],[\"Lajas\"],[\"Lajas\"],[\"Lajas\"],[\"Lajas\"],[\"Lajas\"],[\"Lajas\"]],\"fillpattern\":{\"shape\":\"\"},\"hovertemplate\":\"Municipio=%{customdata[0]}<br>Fecha=%{x}<br>Total de Delitos=%{y}<extra></extra>\",\"legendgroup\":\"Lajas\",\"line\":{\"color\":\"#636efa\"},\"marker\":{\"symbol\":\"circle\"},\"mode\":\"lines\",\"name\":\"Lajas\",\"orientation\":\"v\",\"showlegend\":true,\"stackgroup\":\"1\",\"x\":[\"2010-12-01T00:00:00\",\"2011-12-01T00:00:00\",\"2012-12-01T00:00:00\",\"2013-12-01T00:00:00\",\"2014-12-01T00:00:00\",\"2015-12-01T00:00:00\",\"2016-12-01T00:00:00\",\"2017-12-01T00:00:00\",\"2018-12-01T00:00:00\",\"2019-12-01T00:00:00\",\"2020-12-01T00:00:00\"],\"xaxis\":\"x\",\"y\":[11.0,10.0,16.0,6.0,13.0,13.0,8.0,17.0,4.0,5.0,1.0],\"yaxis\":\"y\",\"type\":\"scatter\"},{\"customdata\":[[\"Lares\"],[\"Lares\"],[\"Lares\"],[\"Lares\"],[\"Lares\"],[\"Lares\"],[\"Lares\"],[\"Lares\"],[\"Lares\"],[\"Lares\"],[\"Lares\"]],\"fillpattern\":{\"shape\":\"\"},\"hovertemplate\":\"Municipio=%{customdata[0]}<br>Fecha=%{x}<br>Total de Delitos=%{y}<extra></extra>\",\"legendgroup\":\"Lares\",\"line\":{\"color\":\"#EF553B\"},\"marker\":{\"symbol\":\"circle\"},\"mode\":\"lines\",\"name\":\"Lares\",\"orientation\":\"v\",\"showlegend\":true,\"stackgroup\":\"1\",\"x\":[\"2010-12-01T00:00:00\",\"2011-12-01T00:00:00\",\"2012-12-01T00:00:00\",\"2013-12-01T00:00:00\",\"2014-12-01T00:00:00\",\"2015-12-01T00:00:00\",\"2016-12-01T00:00:00\",\"2017-12-01T00:00:00\",\"2018-12-01T00:00:00\",\"2019-12-01T00:00:00\",\"2020-12-01T00:00:00\"],\"xaxis\":\"x\",\"y\":[26.0,25.0,44.0,17.0,30.0,23.0,17.0,20.0,26.0,11.0,7.0],\"yaxis\":\"y\",\"type\":\"scatter\"},{\"customdata\":[[\"Las Mar\\u00edas\"],[\"Las Mar\\u00edas\"],[\"Las Mar\\u00edas\"],[\"Las Mar\\u00edas\"],[\"Las Mar\\u00edas\"],[\"Las Mar\\u00edas\"],[\"Las Mar\\u00edas\"],[\"Las Mar\\u00edas\"],[\"Las Mar\\u00edas\"],[\"Las Mar\\u00edas\"],[\"Las Mar\\u00edas\"]],\"fillpattern\":{\"shape\":\"\"},\"hovertemplate\":\"Municipio=%{customdata[0]}<br>Fecha=%{x}<br>Total de Delitos=%{y}<extra></extra>\",\"legendgroup\":\"Las Mar\\u00edas\",\"line\":{\"color\":\"#00cc96\"},\"marker\":{\"symbol\":\"circle\"},\"mode\":\"lines\",\"name\":\"Las Mar\\u00edas\",\"orientation\":\"v\",\"showlegend\":true,\"stackgroup\":\"1\",\"x\":[\"2010-12-01T00:00:00\",\"2011-12-01T00:00:00\",\"2012-12-01T00:00:00\",\"2013-12-01T00:00:00\",\"2014-12-01T00:00:00\",\"2015-12-01T00:00:00\",\"2016-12-01T00:00:00\",\"2017-12-01T00:00:00\",\"2018-12-01T00:00:00\",\"2019-12-01T00:00:00\",\"2020-12-01T00:00:00\"],\"xaxis\":\"x\",\"y\":[11.0,6.0,9.0,9.0,4.0,8.0,8.0,4.0,2.0,0.0,1.0],\"yaxis\":\"y\",\"type\":\"scatter\"},{\"customdata\":[[\"Las Piedras\"],[\"Las Piedras\"],[\"Las Piedras\"],[\"Las Piedras\"],[\"Las Piedras\"],[\"Las Piedras\"],[\"Las Piedras\"],[\"Las Piedras\"],[\"Las Piedras\"],[\"Las Piedras\"],[\"Las Piedras\"]],\"fillpattern\":{\"shape\":\"\"},\"hovertemplate\":\"Municipio=%{customdata[0]}<br>Fecha=%{x}<br>Total de Delitos=%{y}<extra></extra>\",\"legendgroup\":\"Las Piedras\",\"line\":{\"color\":\"#ab63fa\"},\"marker\":{\"symbol\":\"circle\"},\"mode\":\"lines\",\"name\":\"Las Piedras\",\"orientation\":\"v\",\"showlegend\":true,\"stackgroup\":\"1\",\"x\":[\"2010-12-01T00:00:00\",\"2011-12-01T00:00:00\",\"2012-12-01T00:00:00\",\"2013-12-01T00:00:00\",\"2014-12-01T00:00:00\",\"2015-12-01T00:00:00\",\"2016-12-01T00:00:00\",\"2017-12-01T00:00:00\",\"2018-12-01T00:00:00\",\"2019-12-01T00:00:00\",\"2020-12-01T00:00:00\"],\"xaxis\":\"x\",\"y\":[66.0,86.0,90.0,27.0,58.0,22.0,23.0,20.0,11.0,23.0,25.0],\"yaxis\":\"y\",\"type\":\"scatter\"},{\"customdata\":[[\"Loiza\"],[\"Loiza\"],[\"Loiza\"],[\"Loiza\"],[\"Loiza\"],[\"Loiza\"],[\"Loiza\"],[\"Loiza\"],[\"Loiza\"],[\"Loiza\"],[\"Loiza\"]],\"fillpattern\":{\"shape\":\"\"},\"hovertemplate\":\"Municipio=%{customdata[0]}<br>Fecha=%{x}<br>Total de Delitos=%{y}<extra></extra>\",\"legendgroup\":\"Loiza\",\"line\":{\"color\":\"#FFA15A\"},\"marker\":{\"symbol\":\"circle\"},\"mode\":\"lines\",\"name\":\"Loiza\",\"orientation\":\"v\",\"showlegend\":true,\"stackgroup\":\"1\",\"x\":[\"2010-12-01T00:00:00\",\"2011-12-01T00:00:00\",\"2012-12-01T00:00:00\",\"2013-12-01T00:00:00\",\"2014-12-01T00:00:00\",\"2015-12-01T00:00:00\",\"2016-12-01T00:00:00\",\"2017-12-01T00:00:00\",\"2018-12-01T00:00:00\",\"2019-12-01T00:00:00\",\"2020-12-01T00:00:00\"],\"xaxis\":\"x\",\"y\":[47.0,17.0,26.0,29.0,25.0,24.0,26.0,22.0,21.0,19.0,11.0],\"yaxis\":\"y\",\"type\":\"scatter\"},{\"customdata\":[[\"Luquillo\"],[\"Luquillo\"],[\"Luquillo\"],[\"Luquillo\"],[\"Luquillo\"],[\"Luquillo\"],[\"Luquillo\"],[\"Luquillo\"],[\"Luquillo\"],[\"Luquillo\"],[\"Luquillo\"]],\"fillpattern\":{\"shape\":\"\"},\"hovertemplate\":\"Municipio=%{customdata[0]}<br>Fecha=%{x}<br>Total de Delitos=%{y}<extra></extra>\",\"legendgroup\":\"Luquillo\",\"line\":{\"color\":\"#19d3f3\"},\"marker\":{\"symbol\":\"circle\"},\"mode\":\"lines\",\"name\":\"Luquillo\",\"orientation\":\"v\",\"showlegend\":true,\"stackgroup\":\"1\",\"x\":[\"2010-12-01T00:00:00\",\"2011-12-01T00:00:00\",\"2012-12-01T00:00:00\",\"2013-12-01T00:00:00\",\"2014-12-01T00:00:00\",\"2015-12-01T00:00:00\",\"2016-12-01T00:00:00\",\"2017-12-01T00:00:00\",\"2018-12-01T00:00:00\",\"2019-12-01T00:00:00\",\"2020-12-01T00:00:00\"],\"xaxis\":\"x\",\"y\":[35.0,21.0,19.0,26.0,23.0,28.0,26.0,17.0,13.0,39.0,5.0],\"yaxis\":\"y\",\"type\":\"scatter\"},{\"customdata\":[[\"Manat\\u00ed\"],[\"Manat\\u00ed\"],[\"Manat\\u00ed\"],[\"Manat\\u00ed\"],[\"Manat\\u00ed\"],[\"Manat\\u00ed\"],[\"Manat\\u00ed\"],[\"Manat\\u00ed\"],[\"Manat\\u00ed\"],[\"Manat\\u00ed\"],[\"Manat\\u00ed\"]],\"fillpattern\":{\"shape\":\"\"},\"hovertemplate\":\"Municipio=%{customdata[0]}<br>Fecha=%{x}<br>Total de Delitos=%{y}<extra></extra>\",\"legendgroup\":\"Manat\\u00ed\",\"line\":{\"color\":\"#FF6692\"},\"marker\":{\"symbol\":\"circle\"},\"mode\":\"lines\",\"name\":\"Manat\\u00ed\",\"orientation\":\"v\",\"showlegend\":true,\"stackgroup\":\"1\",\"x\":[\"2010-12-01T00:00:00\",\"2011-12-01T00:00:00\",\"2012-12-01T00:00:00\",\"2013-12-01T00:00:00\",\"2014-12-01T00:00:00\",\"2015-12-01T00:00:00\",\"2016-12-01T00:00:00\",\"2017-12-01T00:00:00\",\"2018-12-01T00:00:00\",\"2019-12-01T00:00:00\",\"2020-12-01T00:00:00\"],\"xaxis\":\"x\",\"y\":[77.0,62.0,60.0,66.0,55.0,81.0,43.0,31.0,37.0,42.0,33.0],\"yaxis\":\"y\",\"type\":\"scatter\"},{\"customdata\":[[\"Maricao\"],[\"Maricao\"],[\"Maricao\"],[\"Maricao\"],[\"Maricao\"],[\"Maricao\"],[\"Maricao\"],[\"Maricao\"],[\"Maricao\"],[\"Maricao\"],[\"Maricao\"]],\"fillpattern\":{\"shape\":\"\"},\"hovertemplate\":\"Municipio=%{customdata[0]}<br>Fecha=%{x}<br>Total de Delitos=%{y}<extra></extra>\",\"legendgroup\":\"Maricao\",\"line\":{\"color\":\"#B6E880\"},\"marker\":{\"symbol\":\"circle\"},\"mode\":\"lines\",\"name\":\"Maricao\",\"orientation\":\"v\",\"showlegend\":true,\"stackgroup\":\"1\",\"x\":[\"2010-12-01T00:00:00\",\"2011-12-01T00:00:00\",\"2012-12-01T00:00:00\",\"2013-12-01T00:00:00\",\"2014-12-01T00:00:00\",\"2015-12-01T00:00:00\",\"2016-12-01T00:00:00\",\"2017-12-01T00:00:00\",\"2018-12-01T00:00:00\",\"2019-12-01T00:00:00\",\"2020-12-01T00:00:00\"],\"xaxis\":\"x\",\"y\":[5.0,6.0,9.0,6.0,1.0,6.0,5.0,14.0,7.0,4.0,1.0],\"yaxis\":\"y\",\"type\":\"scatter\"},{\"customdata\":[[\"Maunabo\"],[\"Maunabo\"],[\"Maunabo\"],[\"Maunabo\"],[\"Maunabo\"],[\"Maunabo\"],[\"Maunabo\"],[\"Maunabo\"],[\"Maunabo\"],[\"Maunabo\"],[\"Maunabo\"]],\"fillpattern\":{\"shape\":\"\"},\"hovertemplate\":\"Municipio=%{customdata[0]}<br>Fecha=%{x}<br>Total de Delitos=%{y}<extra></extra>\",\"legendgroup\":\"Maunabo\",\"line\":{\"color\":\"#FF97FF\"},\"marker\":{\"symbol\":\"circle\"},\"mode\":\"lines\",\"name\":\"Maunabo\",\"orientation\":\"v\",\"showlegend\":true,\"stackgroup\":\"1\",\"x\":[\"2010-12-01T00:00:00\",\"2011-12-01T00:00:00\",\"2012-12-01T00:00:00\",\"2013-12-01T00:00:00\",\"2014-12-01T00:00:00\",\"2015-12-01T00:00:00\",\"2016-12-01T00:00:00\",\"2017-12-01T00:00:00\",\"2018-12-01T00:00:00\",\"2019-12-01T00:00:00\",\"2020-12-01T00:00:00\"],\"xaxis\":\"x\",\"y\":[3.0,11.0,26.0,20.0,16.0,9.0,6.0,6.0,4.0,9.0,6.0],\"yaxis\":\"y\",\"type\":\"scatter\"},{\"customdata\":[[\"Mayag\\u00fcez\"],[\"Mayag\\u00fcez\"],[\"Mayag\\u00fcez\"],[\"Mayag\\u00fcez\"],[\"Mayag\\u00fcez\"],[\"Mayag\\u00fcez\"],[\"Mayag\\u00fcez\"],[\"Mayag\\u00fcez\"],[\"Mayag\\u00fcez\"],[\"Mayag\\u00fcez\"],[\"Mayag\\u00fcez\"]],\"fillpattern\":{\"shape\":\"\"},\"hovertemplate\":\"Municipio=%{customdata[0]}<br>Fecha=%{x}<br>Total de Delitos=%{y}<extra></extra>\",\"legendgroup\":\"Mayag\\u00fcez\",\"line\":{\"color\":\"#FECB52\"},\"marker\":{\"symbol\":\"circle\"},\"mode\":\"lines\",\"name\":\"Mayag\\u00fcez\",\"orientation\":\"v\",\"showlegend\":true,\"stackgroup\":\"1\",\"x\":[\"2010-12-01T00:00:00\",\"2011-12-01T00:00:00\",\"2012-12-01T00:00:00\",\"2013-12-01T00:00:00\",\"2014-12-01T00:00:00\",\"2015-12-01T00:00:00\",\"2016-12-01T00:00:00\",\"2017-12-01T00:00:00\",\"2018-12-01T00:00:00\",\"2019-12-01T00:00:00\",\"2020-12-01T00:00:00\"],\"xaxis\":\"x\",\"y\":[303.0,190.0,125.0,179.0,148.0,150.0,113.0,81.0,52.0,23.0,34.0],\"yaxis\":\"y\",\"type\":\"scatter\"},{\"customdata\":[[\"Moca\"],[\"Moca\"],[\"Moca\"],[\"Moca\"],[\"Moca\"],[\"Moca\"],[\"Moca\"],[\"Moca\"],[\"Moca\"],[\"Moca\"],[\"Moca\"]],\"fillpattern\":{\"shape\":\"\"},\"hovertemplate\":\"Municipio=%{customdata[0]}<br>Fecha=%{x}<br>Total de Delitos=%{y}<extra></extra>\",\"legendgroup\":\"Moca\",\"line\":{\"color\":\"#636efa\"},\"marker\":{\"symbol\":\"circle\"},\"mode\":\"lines\",\"name\":\"Moca\",\"orientation\":\"v\",\"showlegend\":true,\"stackgroup\":\"1\",\"x\":[\"2010-12-01T00:00:00\",\"2011-12-01T00:00:00\",\"2012-12-01T00:00:00\",\"2013-12-01T00:00:00\",\"2014-12-01T00:00:00\",\"2015-12-01T00:00:00\",\"2016-12-01T00:00:00\",\"2017-12-01T00:00:00\",\"2018-12-01T00:00:00\",\"2019-12-01T00:00:00\",\"2020-12-01T00:00:00\"],\"xaxis\":\"x\",\"y\":[15.0,33.0,32.0,38.0,19.0,18.0,11.0,21.0,31.0,11.0,6.0],\"yaxis\":\"y\",\"type\":\"scatter\"},{\"customdata\":[[\"Morovis\"],[\"Morovis\"],[\"Morovis\"],[\"Morovis\"],[\"Morovis\"],[\"Morovis\"],[\"Morovis\"],[\"Morovis\"],[\"Morovis\"],[\"Morovis\"],[\"Morovis\"]],\"fillpattern\":{\"shape\":\"\"},\"hovertemplate\":\"Municipio=%{customdata[0]}<br>Fecha=%{x}<br>Total de Delitos=%{y}<extra></extra>\",\"legendgroup\":\"Morovis\",\"line\":{\"color\":\"#EF553B\"},\"marker\":{\"symbol\":\"circle\"},\"mode\":\"lines\",\"name\":\"Morovis\",\"orientation\":\"v\",\"showlegend\":true,\"stackgroup\":\"1\",\"x\":[\"2010-12-01T00:00:00\",\"2011-12-01T00:00:00\",\"2012-12-01T00:00:00\",\"2013-12-01T00:00:00\",\"2014-12-01T00:00:00\",\"2015-12-01T00:00:00\",\"2016-12-01T00:00:00\",\"2017-12-01T00:00:00\",\"2018-12-01T00:00:00\",\"2019-12-01T00:00:00\",\"2020-12-01T00:00:00\"],\"xaxis\":\"x\",\"y\":[29.0,24.0,36.0,23.0,35.0,27.0,37.0,27.0,14.0,21.0,7.0],\"yaxis\":\"y\",\"type\":\"scatter\"},{\"customdata\":[[\"Naguabo\"],[\"Naguabo\"],[\"Naguabo\"],[\"Naguabo\"],[\"Naguabo\"],[\"Naguabo\"],[\"Naguabo\"],[\"Naguabo\"],[\"Naguabo\"],[\"Naguabo\"],[\"Naguabo\"]],\"fillpattern\":{\"shape\":\"\"},\"hovertemplate\":\"Municipio=%{customdata[0]}<br>Fecha=%{x}<br>Total de Delitos=%{y}<extra></extra>\",\"legendgroup\":\"Naguabo\",\"line\":{\"color\":\"#00cc96\"},\"marker\":{\"symbol\":\"circle\"},\"mode\":\"lines\",\"name\":\"Naguabo\",\"orientation\":\"v\",\"showlegend\":true,\"stackgroup\":\"1\",\"x\":[\"2010-12-01T00:00:00\",\"2011-12-01T00:00:00\",\"2012-12-01T00:00:00\",\"2013-12-01T00:00:00\",\"2014-12-01T00:00:00\",\"2015-12-01T00:00:00\",\"2016-12-01T00:00:00\",\"2017-12-01T00:00:00\",\"2018-12-01T00:00:00\",\"2019-12-01T00:00:00\",\"2020-12-01T00:00:00\"],\"xaxis\":\"x\",\"y\":[14.0,22.0,40.0,27.0,30.0,11.0,12.0,12.0,6.0,16.0,8.0],\"yaxis\":\"y\",\"type\":\"scatter\"},{\"customdata\":[[\"Naranjito\"],[\"Naranjito\"],[\"Naranjito\"],[\"Naranjito\"],[\"Naranjito\"],[\"Naranjito\"],[\"Naranjito\"],[\"Naranjito\"],[\"Naranjito\"],[\"Naranjito\"],[\"Naranjito\"]],\"fillpattern\":{\"shape\":\"\"},\"hovertemplate\":\"Municipio=%{customdata[0]}<br>Fecha=%{x}<br>Total de Delitos=%{y}<extra></extra>\",\"legendgroup\":\"Naranjito\",\"line\":{\"color\":\"#ab63fa\"},\"marker\":{\"symbol\":\"circle\"},\"mode\":\"lines\",\"name\":\"Naranjito\",\"orientation\":\"v\",\"showlegend\":true,\"stackgroup\":\"1\",\"x\":[\"2010-12-01T00:00:00\",\"2011-12-01T00:00:00\",\"2012-12-01T00:00:00\",\"2013-12-01T00:00:00\",\"2014-12-01T00:00:00\",\"2015-12-01T00:00:00\",\"2016-12-01T00:00:00\",\"2017-12-01T00:00:00\",\"2018-12-01T00:00:00\",\"2019-12-01T00:00:00\",\"2020-12-01T00:00:00\"],\"xaxis\":\"x\",\"y\":[51.0,43.0,42.0,39.0,62.0,30.0,32.0,39.0,32.0,55.0,15.0],\"yaxis\":\"y\",\"type\":\"scatter\"},{\"customdata\":[[\"Orocovis\"],[\"Orocovis\"],[\"Orocovis\"],[\"Orocovis\"],[\"Orocovis\"],[\"Orocovis\"],[\"Orocovis\"],[\"Orocovis\"],[\"Orocovis\"],[\"Orocovis\"],[\"Orocovis\"]],\"fillpattern\":{\"shape\":\"\"},\"hovertemplate\":\"Municipio=%{customdata[0]}<br>Fecha=%{x}<br>Total de Delitos=%{y}<extra></extra>\",\"legendgroup\":\"Orocovis\",\"line\":{\"color\":\"#FFA15A\"},\"marker\":{\"symbol\":\"circle\"},\"mode\":\"lines\",\"name\":\"Orocovis\",\"orientation\":\"v\",\"showlegend\":true,\"stackgroup\":\"1\",\"x\":[\"2010-12-01T00:00:00\",\"2011-12-01T00:00:00\",\"2012-12-01T00:00:00\",\"2013-12-01T00:00:00\",\"2014-12-01T00:00:00\",\"2015-12-01T00:00:00\",\"2016-12-01T00:00:00\",\"2017-12-01T00:00:00\",\"2018-12-01T00:00:00\",\"2019-12-01T00:00:00\",\"2020-12-01T00:00:00\"],\"xaxis\":\"x\",\"y\":[19.0,22.0,21.0,21.0,37.0,32.0,14.0,9.0,9.0,14.0,11.0],\"yaxis\":\"y\",\"type\":\"scatter\"},{\"customdata\":[[\"Patillas\"],[\"Patillas\"],[\"Patillas\"],[\"Patillas\"],[\"Patillas\"],[\"Patillas\"],[\"Patillas\"],[\"Patillas\"],[\"Patillas\"],[\"Patillas\"],[\"Patillas\"]],\"fillpattern\":{\"shape\":\"\"},\"hovertemplate\":\"Municipio=%{customdata[0]}<br>Fecha=%{x}<br>Total de Delitos=%{y}<extra></extra>\",\"legendgroup\":\"Patillas\",\"line\":{\"color\":\"#19d3f3\"},\"marker\":{\"symbol\":\"circle\"},\"mode\":\"lines\",\"name\":\"Patillas\",\"orientation\":\"v\",\"showlegend\":true,\"stackgroup\":\"1\",\"x\":[\"2010-12-01T00:00:00\",\"2011-12-01T00:00:00\",\"2012-12-01T00:00:00\",\"2013-12-01T00:00:00\",\"2014-12-01T00:00:00\",\"2015-12-01T00:00:00\",\"2016-12-01T00:00:00\",\"2017-12-01T00:00:00\",\"2018-12-01T00:00:00\",\"2019-12-01T00:00:00\",\"2020-12-01T00:00:00\"],\"xaxis\":\"x\",\"y\":[11.0,9.0,19.0,11.0,16.0,7.0,6.0,5.0,8.0,13.0,8.0],\"yaxis\":\"y\",\"type\":\"scatter\"},{\"customdata\":[[\"Pe\\u00f1uelas\"],[\"Pe\\u00f1uelas\"],[\"Pe\\u00f1uelas\"],[\"Pe\\u00f1uelas\"],[\"Pe\\u00f1uelas\"],[\"Pe\\u00f1uelas\"],[\"Pe\\u00f1uelas\"],[\"Pe\\u00f1uelas\"],[\"Pe\\u00f1uelas\"],[\"Pe\\u00f1uelas\"],[\"Pe\\u00f1uelas\"]],\"fillpattern\":{\"shape\":\"\"},\"hovertemplate\":\"Municipio=%{customdata[0]}<br>Fecha=%{x}<br>Total de Delitos=%{y}<extra></extra>\",\"legendgroup\":\"Pe\\u00f1uelas\",\"line\":{\"color\":\"#FF6692\"},\"marker\":{\"symbol\":\"circle\"},\"mode\":\"lines\",\"name\":\"Pe\\u00f1uelas\",\"orientation\":\"v\",\"showlegend\":true,\"stackgroup\":\"1\",\"x\":[\"2010-12-01T00:00:00\",\"2011-12-01T00:00:00\",\"2012-12-01T00:00:00\",\"2013-12-01T00:00:00\",\"2014-12-01T00:00:00\",\"2015-12-01T00:00:00\",\"2016-12-01T00:00:00\",\"2017-12-01T00:00:00\",\"2018-12-01T00:00:00\",\"2019-12-01T00:00:00\",\"2020-12-01T00:00:00\"],\"xaxis\":\"x\",\"y\":[27.0,20.0,21.0,13.0,31.0,17.0,15.0,13.0,15.0,3.0,8.0],\"yaxis\":\"y\",\"type\":\"scatter\"},{\"customdata\":[[\"Ponce\"],[\"Ponce\"],[\"Ponce\"],[\"Ponce\"],[\"Ponce\"],[\"Ponce\"],[\"Ponce\"],[\"Ponce\"],[\"Ponce\"],[\"Ponce\"],[\"Ponce\"]],\"fillpattern\":{\"shape\":\"\"},\"hovertemplate\":\"Municipio=%{customdata[0]}<br>Fecha=%{x}<br>Total de Delitos=%{y}<extra></extra>\",\"legendgroup\":\"Ponce\",\"line\":{\"color\":\"#B6E880\"},\"marker\":{\"symbol\":\"circle\"},\"mode\":\"lines\",\"name\":\"Ponce\",\"orientation\":\"v\",\"showlegend\":true,\"stackgroup\":\"1\",\"x\":[\"2010-12-01T00:00:00\",\"2011-12-01T00:00:00\",\"2012-12-01T00:00:00\",\"2013-12-01T00:00:00\",\"2014-12-01T00:00:00\",\"2015-12-01T00:00:00\",\"2016-12-01T00:00:00\",\"2017-12-01T00:00:00\",\"2018-12-01T00:00:00\",\"2019-12-01T00:00:00\",\"2020-12-01T00:00:00\"],\"xaxis\":\"x\",\"y\":[305.0,230.0,243.0,313.0,318.0,242.0,129.0,220.0,161.0,89.0,71.0],\"yaxis\":\"y\",\"type\":\"scatter\"},{\"customdata\":[[\"Quebradillas\"],[\"Quebradillas\"],[\"Quebradillas\"],[\"Quebradillas\"],[\"Quebradillas\"],[\"Quebradillas\"],[\"Quebradillas\"],[\"Quebradillas\"],[\"Quebradillas\"],[\"Quebradillas\"],[\"Quebradillas\"]],\"fillpattern\":{\"shape\":\"\"},\"hovertemplate\":\"Municipio=%{customdata[0]}<br>Fecha=%{x}<br>Total de Delitos=%{y}<extra></extra>\",\"legendgroup\":\"Quebradillas\",\"line\":{\"color\":\"#FF97FF\"},\"marker\":{\"symbol\":\"circle\"},\"mode\":\"lines\",\"name\":\"Quebradillas\",\"orientation\":\"v\",\"showlegend\":true,\"stackgroup\":\"1\",\"x\":[\"2010-12-01T00:00:00\",\"2011-12-01T00:00:00\",\"2012-12-01T00:00:00\",\"2013-12-01T00:00:00\",\"2014-12-01T00:00:00\",\"2015-12-01T00:00:00\",\"2016-12-01T00:00:00\",\"2017-12-01T00:00:00\",\"2018-12-01T00:00:00\",\"2019-12-01T00:00:00\",\"2020-12-01T00:00:00\"],\"xaxis\":\"x\",\"y\":[31.0,11.0,29.0,36.0,28.0,19.0,19.0,28.0,16.0,19.0,8.0],\"yaxis\":\"y\",\"type\":\"scatter\"},{\"customdata\":[[\"Rinc\\u00f3n\"],[\"Rinc\\u00f3n\"],[\"Rinc\\u00f3n\"],[\"Rinc\\u00f3n\"],[\"Rinc\\u00f3n\"],[\"Rinc\\u00f3n\"],[\"Rinc\\u00f3n\"],[\"Rinc\\u00f3n\"],[\"Rinc\\u00f3n\"],[\"Rinc\\u00f3n\"],[\"Rinc\\u00f3n\"]],\"fillpattern\":{\"shape\":\"\"},\"hovertemplate\":\"Municipio=%{customdata[0]}<br>Fecha=%{x}<br>Total de Delitos=%{y}<extra></extra>\",\"legendgroup\":\"Rinc\\u00f3n\",\"line\":{\"color\":\"#FECB52\"},\"marker\":{\"symbol\":\"circle\"},\"mode\":\"lines\",\"name\":\"Rinc\\u00f3n\",\"orientation\":\"v\",\"showlegend\":true,\"stackgroup\":\"1\",\"x\":[\"2010-12-01T00:00:00\",\"2011-12-01T00:00:00\",\"2012-12-01T00:00:00\",\"2013-12-01T00:00:00\",\"2014-12-01T00:00:00\",\"2015-12-01T00:00:00\",\"2016-12-01T00:00:00\",\"2017-12-01T00:00:00\",\"2018-12-01T00:00:00\",\"2019-12-01T00:00:00\",\"2020-12-01T00:00:00\"],\"xaxis\":\"x\",\"y\":[7.0,12.0,12.0,28.0,14.0,8.0,17.0,13.0,14.0,19.0,4.0],\"yaxis\":\"y\",\"type\":\"scatter\"},{\"customdata\":[[\"Rio Grande\"],[\"Rio Grande\"],[\"Rio Grande\"],[\"Rio Grande\"],[\"Rio Grande\"],[\"Rio Grande\"],[\"Rio Grande\"],[\"Rio Grande\"],[\"Rio Grande\"],[\"Rio Grande\"],[\"Rio Grande\"]],\"fillpattern\":{\"shape\":\"\"},\"hovertemplate\":\"Municipio=%{customdata[0]}<br>Fecha=%{x}<br>Total de Delitos=%{y}<extra></extra>\",\"legendgroup\":\"Rio Grande\",\"line\":{\"color\":\"#636efa\"},\"marker\":{\"symbol\":\"circle\"},\"mode\":\"lines\",\"name\":\"Rio Grande\",\"orientation\":\"v\",\"showlegend\":true,\"stackgroup\":\"1\",\"x\":[\"2010-12-01T00:00:00\",\"2011-12-01T00:00:00\",\"2012-12-01T00:00:00\",\"2013-12-01T00:00:00\",\"2014-12-01T00:00:00\",\"2015-12-01T00:00:00\",\"2016-12-01T00:00:00\",\"2017-12-01T00:00:00\",\"2018-12-01T00:00:00\",\"2019-12-01T00:00:00\",\"2020-12-01T00:00:00\"],\"xaxis\":\"x\",\"y\":[65.0,58.0,43.0,56.0,44.0,51.0,44.0,31.0,9.0,20.0,15.0],\"yaxis\":\"y\",\"type\":\"scatter\"},{\"customdata\":[[\"Sabana Grande\"],[\"Sabana Grande\"],[\"Sabana Grande\"],[\"Sabana Grande\"],[\"Sabana Grande\"],[\"Sabana Grande\"],[\"Sabana Grande\"],[\"Sabana Grande\"],[\"Sabana Grande\"],[\"Sabana Grande\"],[\"Sabana Grande\"]],\"fillpattern\":{\"shape\":\"\"},\"hovertemplate\":\"Municipio=%{customdata[0]}<br>Fecha=%{x}<br>Total de Delitos=%{y}<extra></extra>\",\"legendgroup\":\"Sabana Grande\",\"line\":{\"color\":\"#EF553B\"},\"marker\":{\"symbol\":\"circle\"},\"mode\":\"lines\",\"name\":\"Sabana Grande\",\"orientation\":\"v\",\"showlegend\":true,\"stackgroup\":\"1\",\"x\":[\"2010-12-01T00:00:00\",\"2011-12-01T00:00:00\",\"2012-12-01T00:00:00\",\"2013-12-01T00:00:00\",\"2014-12-01T00:00:00\",\"2015-12-01T00:00:00\",\"2016-12-01T00:00:00\",\"2017-12-01T00:00:00\",\"2018-12-01T00:00:00\",\"2019-12-01T00:00:00\",\"2020-12-01T00:00:00\"],\"xaxis\":\"x\",\"y\":[14.0,12.0,21.0,16.0,9.0,11.0,17.0,9.0,3.0,6.0,2.0],\"yaxis\":\"y\",\"type\":\"scatter\"},{\"customdata\":[[\"Salinas\"],[\"Salinas\"],[\"Salinas\"],[\"Salinas\"],[\"Salinas\"],[\"Salinas\"],[\"Salinas\"],[\"Salinas\"],[\"Salinas\"],[\"Salinas\"],[\"Salinas\"]],\"fillpattern\":{\"shape\":\"\"},\"hovertemplate\":\"Municipio=%{customdata[0]}<br>Fecha=%{x}<br>Total de Delitos=%{y}<extra></extra>\",\"legendgroup\":\"Salinas\",\"line\":{\"color\":\"#00cc96\"},\"marker\":{\"symbol\":\"circle\"},\"mode\":\"lines\",\"name\":\"Salinas\",\"orientation\":\"v\",\"showlegend\":true,\"stackgroup\":\"1\",\"x\":[\"2010-12-01T00:00:00\",\"2011-12-01T00:00:00\",\"2012-12-01T00:00:00\",\"2013-12-01T00:00:00\",\"2014-12-01T00:00:00\",\"2015-12-01T00:00:00\",\"2016-12-01T00:00:00\",\"2017-12-01T00:00:00\",\"2018-12-01T00:00:00\",\"2019-12-01T00:00:00\",\"2020-12-01T00:00:00\"],\"xaxis\":\"x\",\"y\":[57.0,64.0,78.0,31.0,31.0,29.0,28.0,11.0,9.0,19.0,7.0],\"yaxis\":\"y\",\"type\":\"scatter\"},{\"customdata\":[[\"San Germ\\u00e1n\"],[\"San Germ\\u00e1n\"],[\"San Germ\\u00e1n\"],[\"San Germ\\u00e1n\"],[\"San Germ\\u00e1n\"],[\"San Germ\\u00e1n\"],[\"San Germ\\u00e1n\"],[\"San Germ\\u00e1n\"],[\"San Germ\\u00e1n\"],[\"San Germ\\u00e1n\"],[\"San Germ\\u00e1n\"]],\"fillpattern\":{\"shape\":\"\"},\"hovertemplate\":\"Municipio=%{customdata[0]}<br>Fecha=%{x}<br>Total de Delitos=%{y}<extra></extra>\",\"legendgroup\":\"San Germ\\u00e1n\",\"line\":{\"color\":\"#ab63fa\"},\"marker\":{\"symbol\":\"circle\"},\"mode\":\"lines\",\"name\":\"San Germ\\u00e1n\",\"orientation\":\"v\",\"showlegend\":true,\"stackgroup\":\"1\",\"x\":[\"2010-12-01T00:00:00\",\"2011-12-01T00:00:00\",\"2012-12-01T00:00:00\",\"2013-12-01T00:00:00\",\"2014-12-01T00:00:00\",\"2015-12-01T00:00:00\",\"2016-12-01T00:00:00\",\"2017-12-01T00:00:00\",\"2018-12-01T00:00:00\",\"2019-12-01T00:00:00\",\"2020-12-01T00:00:00\"],\"xaxis\":\"x\",\"y\":[26.0,24.0,38.0,23.0,23.0,17.0,10.0,7.0,8.0,9.0,6.0],\"yaxis\":\"y\",\"type\":\"scatter\"},{\"customdata\":[[\"San Juan\"],[\"San Juan\"],[\"San Juan\"],[\"San Juan\"],[\"San Juan\"],[\"San Juan\"],[\"San Juan\"],[\"San Juan\"],[\"San Juan\"],[\"San Juan\"],[\"San Juan\"]],\"fillpattern\":{\"shape\":\"\"},\"hovertemplate\":\"Municipio=%{customdata[0]}<br>Fecha=%{x}<br>Total de Delitos=%{y}<extra></extra>\",\"legendgroup\":\"San Juan\",\"line\":{\"color\":\"#FFA15A\"},\"marker\":{\"symbol\":\"circle\"},\"mode\":\"lines\",\"name\":\"San Juan\",\"orientation\":\"v\",\"showlegend\":true,\"stackgroup\":\"1\",\"x\":[\"2010-12-01T00:00:00\",\"2011-12-01T00:00:00\",\"2012-12-01T00:00:00\",\"2013-12-01T00:00:00\",\"2014-12-01T00:00:00\",\"2015-12-01T00:00:00\",\"2016-12-01T00:00:00\",\"2017-12-01T00:00:00\",\"2018-12-01T00:00:00\",\"2019-12-01T00:00:00\",\"2020-12-01T00:00:00\"],\"xaxis\":\"x\",\"y\":[884.0,965.0,951.0,1132.0,767.0,739.0,582.0,553.0,657.0,517.0,356.0],\"yaxis\":\"y\",\"type\":\"scatter\"},{\"customdata\":[[\"San Lorenzo\"],[\"San Lorenzo\"],[\"San Lorenzo\"],[\"San Lorenzo\"],[\"San Lorenzo\"],[\"San Lorenzo\"],[\"San Lorenzo\"],[\"San Lorenzo\"],[\"San Lorenzo\"],[\"San Lorenzo\"],[\"San Lorenzo\"]],\"fillpattern\":{\"shape\":\"\"},\"hovertemplate\":\"Municipio=%{customdata[0]}<br>Fecha=%{x}<br>Total de Delitos=%{y}<extra></extra>\",\"legendgroup\":\"San Lorenzo\",\"line\":{\"color\":\"#19d3f3\"},\"marker\":{\"symbol\":\"circle\"},\"mode\":\"lines\",\"name\":\"San Lorenzo\",\"orientation\":\"v\",\"showlegend\":true,\"stackgroup\":\"1\",\"x\":[\"2010-12-01T00:00:00\",\"2011-12-01T00:00:00\",\"2012-12-01T00:00:00\",\"2013-12-01T00:00:00\",\"2014-12-01T00:00:00\",\"2015-12-01T00:00:00\",\"2016-12-01T00:00:00\",\"2017-12-01T00:00:00\",\"2018-12-01T00:00:00\",\"2019-12-01T00:00:00\",\"2020-12-01T00:00:00\"],\"xaxis\":\"x\",\"y\":[29.0,31.0,68.0,42.0,35.0,32.0,17.0,14.0,13.0,12.0,16.0],\"yaxis\":\"y\",\"type\":\"scatter\"},{\"customdata\":[[\"San Sebasti\\u00e1n\"],[\"San Sebasti\\u00e1n\"],[\"San Sebasti\\u00e1n\"],[\"San Sebasti\\u00e1n\"],[\"San Sebasti\\u00e1n\"],[\"San Sebasti\\u00e1n\"],[\"San Sebasti\\u00e1n\"],[\"San Sebasti\\u00e1n\"],[\"San Sebasti\\u00e1n\"],[\"San Sebasti\\u00e1n\"],[\"San Sebasti\\u00e1n\"]],\"fillpattern\":{\"shape\":\"\"},\"hovertemplate\":\"Municipio=%{customdata[0]}<br>Fecha=%{x}<br>Total de Delitos=%{y}<extra></extra>\",\"legendgroup\":\"San Sebasti\\u00e1n\",\"line\":{\"color\":\"#FF6692\"},\"marker\":{\"symbol\":\"circle\"},\"mode\":\"lines\",\"name\":\"San Sebasti\\u00e1n\",\"orientation\":\"v\",\"showlegend\":true,\"stackgroup\":\"1\",\"x\":[\"2010-12-01T00:00:00\",\"2011-12-01T00:00:00\",\"2012-12-01T00:00:00\",\"2013-12-01T00:00:00\",\"2014-12-01T00:00:00\",\"2015-12-01T00:00:00\",\"2016-12-01T00:00:00\",\"2017-12-01T00:00:00\",\"2018-12-01T00:00:00\",\"2019-12-01T00:00:00\",\"2020-12-01T00:00:00\"],\"xaxis\":\"x\",\"y\":[26.0,39.0,45.0,47.0,52.0,38.0,27.0,51.0,15.0,15.0,18.0],\"yaxis\":\"y\",\"type\":\"scatter\"},{\"customdata\":[[\"Santa Isabel\"],[\"Santa Isabel\"],[\"Santa Isabel\"],[\"Santa Isabel\"],[\"Santa Isabel\"],[\"Santa Isabel\"],[\"Santa Isabel\"],[\"Santa Isabel\"],[\"Santa Isabel\"],[\"Santa Isabel\"],[\"Santa Isabel\"]],\"fillpattern\":{\"shape\":\"\"},\"hovertemplate\":\"Municipio=%{customdata[0]}<br>Fecha=%{x}<br>Total de Delitos=%{y}<extra></extra>\",\"legendgroup\":\"Santa Isabel\",\"line\":{\"color\":\"#B6E880\"},\"marker\":{\"symbol\":\"circle\"},\"mode\":\"lines\",\"name\":\"Santa Isabel\",\"orientation\":\"v\",\"showlegend\":true,\"stackgroup\":\"1\",\"x\":[\"2010-12-01T00:00:00\",\"2011-12-01T00:00:00\",\"2012-12-01T00:00:00\",\"2013-12-01T00:00:00\",\"2014-12-01T00:00:00\",\"2015-12-01T00:00:00\",\"2016-12-01T00:00:00\",\"2017-12-01T00:00:00\",\"2018-12-01T00:00:00\",\"2019-12-01T00:00:00\",\"2020-12-01T00:00:00\"],\"xaxis\":\"x\",\"y\":[31.0,19.0,33.0,90.0,31.0,36.0,36.0,30.0,38.0,7.0,5.0],\"yaxis\":\"y\",\"type\":\"scatter\"},{\"customdata\":[[\"Toa Alta\"],[\"Toa Alta\"],[\"Toa Alta\"],[\"Toa Alta\"],[\"Toa Alta\"],[\"Toa Alta\"],[\"Toa Alta\"],[\"Toa Alta\"],[\"Toa Alta\"],[\"Toa Alta\"],[\"Toa Alta\"]],\"fillpattern\":{\"shape\":\"\"},\"hovertemplate\":\"Municipio=%{customdata[0]}<br>Fecha=%{x}<br>Total de Delitos=%{y}<extra></extra>\",\"legendgroup\":\"Toa Alta\",\"line\":{\"color\":\"#FF97FF\"},\"marker\":{\"symbol\":\"circle\"},\"mode\":\"lines\",\"name\":\"Toa Alta\",\"orientation\":\"v\",\"showlegend\":true,\"stackgroup\":\"1\",\"x\":[\"2010-12-01T00:00:00\",\"2011-12-01T00:00:00\",\"2012-12-01T00:00:00\",\"2013-12-01T00:00:00\",\"2014-12-01T00:00:00\",\"2015-12-01T00:00:00\",\"2016-12-01T00:00:00\",\"2017-12-01T00:00:00\",\"2018-12-01T00:00:00\",\"2019-12-01T00:00:00\",\"2020-12-01T00:00:00\"],\"xaxis\":\"x\",\"y\":[46.0,67.0,71.0,52.0,46.0,64.0,54.0,31.0,35.0,36.0,19.0],\"yaxis\":\"y\",\"type\":\"scatter\"},{\"customdata\":[[\"Toa Baja\"],[\"Toa Baja\"],[\"Toa Baja\"],[\"Toa Baja\"],[\"Toa Baja\"],[\"Toa Baja\"],[\"Toa Baja\"],[\"Toa Baja\"],[\"Toa Baja\"],[\"Toa Baja\"],[\"Toa Baja\"]],\"fillpattern\":{\"shape\":\"\"},\"hovertemplate\":\"Municipio=%{customdata[0]}<br>Fecha=%{x}<br>Total de Delitos=%{y}<extra></extra>\",\"legendgroup\":\"Toa Baja\",\"line\":{\"color\":\"#FECB52\"},\"marker\":{\"symbol\":\"circle\"},\"mode\":\"lines\",\"name\":\"Toa Baja\",\"orientation\":\"v\",\"showlegend\":true,\"stackgroup\":\"1\",\"x\":[\"2010-12-01T00:00:00\",\"2011-12-01T00:00:00\",\"2012-12-01T00:00:00\",\"2013-12-01T00:00:00\",\"2014-12-01T00:00:00\",\"2015-12-01T00:00:00\",\"2016-12-01T00:00:00\",\"2017-12-01T00:00:00\",\"2018-12-01T00:00:00\",\"2019-12-01T00:00:00\",\"2020-12-01T00:00:00\"],\"xaxis\":\"x\",\"y\":[120.0,181.0,157.0,124.0,132.0,127.0,115.0,51.0,81.0,82.0,53.0],\"yaxis\":\"y\",\"type\":\"scatter\"},{\"customdata\":[[\"Trujillo Alto\"],[\"Trujillo Alto\"],[\"Trujillo Alto\"],[\"Trujillo Alto\"],[\"Trujillo Alto\"],[\"Trujillo Alto\"],[\"Trujillo Alto\"],[\"Trujillo Alto\"],[\"Trujillo Alto\"],[\"Trujillo Alto\"],[\"Trujillo Alto\"]],\"fillpattern\":{\"shape\":\"\"},\"hovertemplate\":\"Municipio=%{customdata[0]}<br>Fecha=%{x}<br>Total de Delitos=%{y}<extra></extra>\",\"legendgroup\":\"Trujillo Alto\",\"line\":{\"color\":\"#636efa\"},\"marker\":{\"symbol\":\"circle\"},\"mode\":\"lines\",\"name\":\"Trujillo Alto\",\"orientation\":\"v\",\"showlegend\":true,\"stackgroup\":\"1\",\"x\":[\"2010-12-01T00:00:00\",\"2011-12-01T00:00:00\",\"2012-12-01T00:00:00\",\"2013-12-01T00:00:00\",\"2014-12-01T00:00:00\",\"2015-12-01T00:00:00\",\"2016-12-01T00:00:00\",\"2017-12-01T00:00:00\",\"2018-12-01T00:00:00\",\"2019-12-01T00:00:00\",\"2020-12-01T00:00:00\"],\"xaxis\":\"x\",\"y\":[93.0,83.0,70.0,69.0,73.0,49.0,53.0,53.0,33.0,22.0,26.0],\"yaxis\":\"y\",\"type\":\"scatter\"},{\"customdata\":[[\"Utuado\"],[\"Utuado\"],[\"Utuado\"],[\"Utuado\"],[\"Utuado\"],[\"Utuado\"],[\"Utuado\"],[\"Utuado\"],[\"Utuado\"],[\"Utuado\"],[\"Utuado\"]],\"fillpattern\":{\"shape\":\"\"},\"hovertemplate\":\"Municipio=%{customdata[0]}<br>Fecha=%{x}<br>Total de Delitos=%{y}<extra></extra>\",\"legendgroup\":\"Utuado\",\"line\":{\"color\":\"#EF553B\"},\"marker\":{\"symbol\":\"circle\"},\"mode\":\"lines\",\"name\":\"Utuado\",\"orientation\":\"v\",\"showlegend\":true,\"stackgroup\":\"1\",\"x\":[\"2010-12-01T00:00:00\",\"2011-12-01T00:00:00\",\"2012-12-01T00:00:00\",\"2013-12-01T00:00:00\",\"2014-12-01T00:00:00\",\"2015-12-01T00:00:00\",\"2016-12-01T00:00:00\",\"2017-12-01T00:00:00\",\"2018-12-01T00:00:00\",\"2019-12-01T00:00:00\",\"2020-12-01T00:00:00\"],\"xaxis\":\"x\",\"y\":[59.0,60.0,32.0,21.0,23.0,17.0,24.0,15.0,10.0,12.0,8.0],\"yaxis\":\"y\",\"type\":\"scatter\"},{\"customdata\":[[\"Vega Alta\"],[\"Vega Alta\"],[\"Vega Alta\"],[\"Vega Alta\"],[\"Vega Alta\"],[\"Vega Alta\"],[\"Vega Alta\"],[\"Vega Alta\"],[\"Vega Alta\"],[\"Vega Alta\"],[\"Vega Alta\"]],\"fillpattern\":{\"shape\":\"\"},\"hovertemplate\":\"Municipio=%{customdata[0]}<br>Fecha=%{x}<br>Total de Delitos=%{y}<extra></extra>\",\"legendgroup\":\"Vega Alta\",\"line\":{\"color\":\"#00cc96\"},\"marker\":{\"symbol\":\"circle\"},\"mode\":\"lines\",\"name\":\"Vega Alta\",\"orientation\":\"v\",\"showlegend\":true,\"stackgroup\":\"1\",\"x\":[\"2010-12-01T00:00:00\",\"2011-12-01T00:00:00\",\"2012-12-01T00:00:00\",\"2013-12-01T00:00:00\",\"2014-12-01T00:00:00\",\"2015-12-01T00:00:00\",\"2016-12-01T00:00:00\",\"2017-12-01T00:00:00\",\"2018-12-01T00:00:00\",\"2019-12-01T00:00:00\",\"2020-12-01T00:00:00\"],\"xaxis\":\"x\",\"y\":[42.0,53.0,70.0,64.0,69.0,74.0,64.0,33.0,32.0,32.0,18.0],\"yaxis\":\"y\",\"type\":\"scatter\"},{\"customdata\":[[\"Vega Baja\"],[\"Vega Baja\"],[\"Vega Baja\"],[\"Vega Baja\"],[\"Vega Baja\"],[\"Vega Baja\"],[\"Vega Baja\"],[\"Vega Baja\"],[\"Vega Baja\"],[\"Vega Baja\"],[\"Vega Baja\"]],\"fillpattern\":{\"shape\":\"\"},\"hovertemplate\":\"Municipio=%{customdata[0]}<br>Fecha=%{x}<br>Total de Delitos=%{y}<extra></extra>\",\"legendgroup\":\"Vega Baja\",\"line\":{\"color\":\"#ab63fa\"},\"marker\":{\"symbol\":\"circle\"},\"mode\":\"lines\",\"name\":\"Vega Baja\",\"orientation\":\"v\",\"showlegend\":true,\"stackgroup\":\"1\",\"x\":[\"2010-12-01T00:00:00\",\"2011-12-01T00:00:00\",\"2012-12-01T00:00:00\",\"2013-12-01T00:00:00\",\"2014-12-01T00:00:00\",\"2015-12-01T00:00:00\",\"2016-12-01T00:00:00\",\"2017-12-01T00:00:00\",\"2018-12-01T00:00:00\",\"2019-12-01T00:00:00\",\"2020-12-01T00:00:00\"],\"xaxis\":\"x\",\"y\":[61.0,91.0,119.0,64.0,120.0,100.0,56.0,75.0,32.0,59.0,45.0],\"yaxis\":\"y\",\"type\":\"scatter\"},{\"customdata\":[[\"Vieques\"],[\"Vieques\"],[\"Vieques\"],[\"Vieques\"],[\"Vieques\"],[\"Vieques\"],[\"Vieques\"],[\"Vieques\"],[\"Vieques\"],[\"Vieques\"],[\"Vieques\"]],\"fillpattern\":{\"shape\":\"\"},\"hovertemplate\":\"Municipio=%{customdata[0]}<br>Fecha=%{x}<br>Total de Delitos=%{y}<extra></extra>\",\"legendgroup\":\"Vieques\",\"line\":{\"color\":\"#FFA15A\"},\"marker\":{\"symbol\":\"circle\"},\"mode\":\"lines\",\"name\":\"Vieques\",\"orientation\":\"v\",\"showlegend\":true,\"stackgroup\":\"1\",\"x\":[\"2010-12-01T00:00:00\",\"2011-12-01T00:00:00\",\"2012-12-01T00:00:00\",\"2013-12-01T00:00:00\",\"2014-12-01T00:00:00\",\"2015-12-01T00:00:00\",\"2016-12-01T00:00:00\",\"2017-12-01T00:00:00\",\"2018-12-01T00:00:00\",\"2019-12-01T00:00:00\",\"2020-12-01T00:00:00\"],\"xaxis\":\"x\",\"y\":[34.0,29.0,24.0,19.0,17.0,18.0,12.0,19.0,9.0,7.0,10.0],\"yaxis\":\"y\",\"type\":\"scatter\"},{\"customdata\":[[\"Villalba\"],[\"Villalba\"],[\"Villalba\"],[\"Villalba\"],[\"Villalba\"],[\"Villalba\"],[\"Villalba\"],[\"Villalba\"],[\"Villalba\"],[\"Villalba\"],[\"Villalba\"]],\"fillpattern\":{\"shape\":\"\"},\"hovertemplate\":\"Municipio=%{customdata[0]}<br>Fecha=%{x}<br>Total de Delitos=%{y}<extra></extra>\",\"legendgroup\":\"Villalba\",\"line\":{\"color\":\"#19d3f3\"},\"marker\":{\"symbol\":\"circle\"},\"mode\":\"lines\",\"name\":\"Villalba\",\"orientation\":\"v\",\"showlegend\":true,\"stackgroup\":\"1\",\"x\":[\"2010-12-01T00:00:00\",\"2011-12-01T00:00:00\",\"2012-12-01T00:00:00\",\"2013-12-01T00:00:00\",\"2014-12-01T00:00:00\",\"2015-12-01T00:00:00\",\"2016-12-01T00:00:00\",\"2017-12-01T00:00:00\",\"2018-12-01T00:00:00\",\"2019-12-01T00:00:00\",\"2020-12-01T00:00:00\"],\"xaxis\":\"x\",\"y\":[19.0,8.0,13.0,15.0,30.0,26.0,12.0,19.0,12.0,4.0,6.0],\"yaxis\":\"y\",\"type\":\"scatter\"},{\"customdata\":[[\"Yabucoa\"],[\"Yabucoa\"],[\"Yabucoa\"],[\"Yabucoa\"],[\"Yabucoa\"],[\"Yabucoa\"],[\"Yabucoa\"],[\"Yabucoa\"],[\"Yabucoa\"],[\"Yabucoa\"],[\"Yabucoa\"]],\"fillpattern\":{\"shape\":\"\"},\"hovertemplate\":\"Municipio=%{customdata[0]}<br>Fecha=%{x}<br>Total de Delitos=%{y}<extra></extra>\",\"legendgroup\":\"Yabucoa\",\"line\":{\"color\":\"#FF6692\"},\"marker\":{\"symbol\":\"circle\"},\"mode\":\"lines\",\"name\":\"Yabucoa\",\"orientation\":\"v\",\"showlegend\":true,\"stackgroup\":\"1\",\"x\":[\"2010-12-01T00:00:00\",\"2011-12-01T00:00:00\",\"2012-12-01T00:00:00\",\"2013-12-01T00:00:00\",\"2014-12-01T00:00:00\",\"2015-12-01T00:00:00\",\"2016-12-01T00:00:00\",\"2017-12-01T00:00:00\",\"2018-12-01T00:00:00\",\"2019-12-01T00:00:00\",\"2020-12-01T00:00:00\"],\"xaxis\":\"x\",\"y\":[44.0,47.0,112.0,30.0,40.0,23.0,15.0,16.0,12.0,9.0,5.0],\"yaxis\":\"y\",\"type\":\"scatter\"},{\"customdata\":[[\"Yauco\"],[\"Yauco\"],[\"Yauco\"],[\"Yauco\"],[\"Yauco\"],[\"Yauco\"],[\"Yauco\"],[\"Yauco\"],[\"Yauco\"],[\"Yauco\"],[\"Yauco\"]],\"fillpattern\":{\"shape\":\"\"},\"hovertemplate\":\"Municipio=%{customdata[0]}<br>Fecha=%{x}<br>Total de Delitos=%{y}<extra></extra>\",\"legendgroup\":\"Yauco\",\"line\":{\"color\":\"#B6E880\"},\"marker\":{\"symbol\":\"circle\"},\"mode\":\"lines\",\"name\":\"Yauco\",\"orientation\":\"v\",\"showlegend\":true,\"stackgroup\":\"1\",\"x\":[\"2010-12-01T00:00:00\",\"2011-12-01T00:00:00\",\"2012-12-01T00:00:00\",\"2013-12-01T00:00:00\",\"2014-12-01T00:00:00\",\"2015-12-01T00:00:00\",\"2016-12-01T00:00:00\",\"2017-12-01T00:00:00\",\"2018-12-01T00:00:00\",\"2019-12-01T00:00:00\",\"2020-12-01T00:00:00\"],\"xaxis\":\"x\",\"y\":[24.0,47.0,14.0,41.0,45.0,15.0,17.0,25.0,14.0,7.0,8.0],\"yaxis\":\"y\",\"type\":\"scatter\"}],                        {\"template\":{\"data\":{\"histogram2dcontour\":[{\"type\":\"histogram2dcontour\",\"colorbar\":{\"outlinewidth\":0,\"ticks\":\"\"},\"colorscale\":[[0.0,\"#0d0887\"],[0.1111111111111111,\"#46039f\"],[0.2222222222222222,\"#7201a8\"],[0.3333333333333333,\"#9c179e\"],[0.4444444444444444,\"#bd3786\"],[0.5555555555555556,\"#d8576b\"],[0.6666666666666666,\"#ed7953\"],[0.7777777777777778,\"#fb9f3a\"],[0.8888888888888888,\"#fdca26\"],[1.0,\"#f0f921\"]]}],\"choropleth\":[{\"type\":\"choropleth\",\"colorbar\":{\"outlinewidth\":0,\"ticks\":\"\"}}],\"histogram2d\":[{\"type\":\"histogram2d\",\"colorbar\":{\"outlinewidth\":0,\"ticks\":\"\"},\"colorscale\":[[0.0,\"#0d0887\"],[0.1111111111111111,\"#46039f\"],[0.2222222222222222,\"#7201a8\"],[0.3333333333333333,\"#9c179e\"],[0.4444444444444444,\"#bd3786\"],[0.5555555555555556,\"#d8576b\"],[0.6666666666666666,\"#ed7953\"],[0.7777777777777778,\"#fb9f3a\"],[0.8888888888888888,\"#fdca26\"],[1.0,\"#f0f921\"]]}],\"heatmap\":[{\"type\":\"heatmap\",\"colorbar\":{\"outlinewidth\":0,\"ticks\":\"\"},\"colorscale\":[[0.0,\"#0d0887\"],[0.1111111111111111,\"#46039f\"],[0.2222222222222222,\"#7201a8\"],[0.3333333333333333,\"#9c179e\"],[0.4444444444444444,\"#bd3786\"],[0.5555555555555556,\"#d8576b\"],[0.6666666666666666,\"#ed7953\"],[0.7777777777777778,\"#fb9f3a\"],[0.8888888888888888,\"#fdca26\"],[1.0,\"#f0f921\"]]}],\"heatmapgl\":[{\"type\":\"heatmapgl\",\"colorbar\":{\"outlinewidth\":0,\"ticks\":\"\"},\"colorscale\":[[0.0,\"#0d0887\"],[0.1111111111111111,\"#46039f\"],[0.2222222222222222,\"#7201a8\"],[0.3333333333333333,\"#9c179e\"],[0.4444444444444444,\"#bd3786\"],[0.5555555555555556,\"#d8576b\"],[0.6666666666666666,\"#ed7953\"],[0.7777777777777778,\"#fb9f3a\"],[0.8888888888888888,\"#fdca26\"],[1.0,\"#f0f921\"]]}],\"contourcarpet\":[{\"type\":\"contourcarpet\",\"colorbar\":{\"outlinewidth\":0,\"ticks\":\"\"}}],\"contour\":[{\"type\":\"contour\",\"colorbar\":{\"outlinewidth\":0,\"ticks\":\"\"},\"colorscale\":[[0.0,\"#0d0887\"],[0.1111111111111111,\"#46039f\"],[0.2222222222222222,\"#7201a8\"],[0.3333333333333333,\"#9c179e\"],[0.4444444444444444,\"#bd3786\"],[0.5555555555555556,\"#d8576b\"],[0.6666666666666666,\"#ed7953\"],[0.7777777777777778,\"#fb9f3a\"],[0.8888888888888888,\"#fdca26\"],[1.0,\"#f0f921\"]]}],\"surface\":[{\"type\":\"surface\",\"colorbar\":{\"outlinewidth\":0,\"ticks\":\"\"},\"colorscale\":[[0.0,\"#0d0887\"],[0.1111111111111111,\"#46039f\"],[0.2222222222222222,\"#7201a8\"],[0.3333333333333333,\"#9c179e\"],[0.4444444444444444,\"#bd3786\"],[0.5555555555555556,\"#d8576b\"],[0.6666666666666666,\"#ed7953\"],[0.7777777777777778,\"#fb9f3a\"],[0.8888888888888888,\"#fdca26\"],[1.0,\"#f0f921\"]]}],\"mesh3d\":[{\"type\":\"mesh3d\",\"colorbar\":{\"outlinewidth\":0,\"ticks\":\"\"}}],\"scatter\":[{\"fillpattern\":{\"fillmode\":\"overlay\",\"size\":10,\"solidity\":0.2},\"type\":\"scatter\"}],\"parcoords\":[{\"type\":\"parcoords\",\"line\":{\"colorbar\":{\"outlinewidth\":0,\"ticks\":\"\"}}}],\"scatterpolargl\":[{\"type\":\"scatterpolargl\",\"marker\":{\"colorbar\":{\"outlinewidth\":0,\"ticks\":\"\"}}}],\"bar\":[{\"error_x\":{\"color\":\"#2a3f5f\"},\"error_y\":{\"color\":\"#2a3f5f\"},\"marker\":{\"line\":{\"color\":\"#E5ECF6\",\"width\":0.5},\"pattern\":{\"fillmode\":\"overlay\",\"size\":10,\"solidity\":0.2}},\"type\":\"bar\"}],\"scattergeo\":[{\"type\":\"scattergeo\",\"marker\":{\"colorbar\":{\"outlinewidth\":0,\"ticks\":\"\"}}}],\"scatterpolar\":[{\"type\":\"scatterpolar\",\"marker\":{\"colorbar\":{\"outlinewidth\":0,\"ticks\":\"\"}}}],\"histogram\":[{\"marker\":{\"pattern\":{\"fillmode\":\"overlay\",\"size\":10,\"solidity\":0.2}},\"type\":\"histogram\"}],\"scattergl\":[{\"type\":\"scattergl\",\"marker\":{\"colorbar\":{\"outlinewidth\":0,\"ticks\":\"\"}}}],\"scatter3d\":[{\"type\":\"scatter3d\",\"line\":{\"colorbar\":{\"outlinewidth\":0,\"ticks\":\"\"}},\"marker\":{\"colorbar\":{\"outlinewidth\":0,\"ticks\":\"\"}}}],\"scattermapbox\":[{\"type\":\"scattermapbox\",\"marker\":{\"colorbar\":{\"outlinewidth\":0,\"ticks\":\"\"}}}],\"scatterternary\":[{\"type\":\"scatterternary\",\"marker\":{\"colorbar\":{\"outlinewidth\":0,\"ticks\":\"\"}}}],\"scattercarpet\":[{\"type\":\"scattercarpet\",\"marker\":{\"colorbar\":{\"outlinewidth\":0,\"ticks\":\"\"}}}],\"carpet\":[{\"aaxis\":{\"endlinecolor\":\"#2a3f5f\",\"gridcolor\":\"white\",\"linecolor\":\"white\",\"minorgridcolor\":\"white\",\"startlinecolor\":\"#2a3f5f\"},\"baxis\":{\"endlinecolor\":\"#2a3f5f\",\"gridcolor\":\"white\",\"linecolor\":\"white\",\"minorgridcolor\":\"white\",\"startlinecolor\":\"#2a3f5f\"},\"type\":\"carpet\"}],\"table\":[{\"cells\":{\"fill\":{\"color\":\"#EBF0F8\"},\"line\":{\"color\":\"white\"}},\"header\":{\"fill\":{\"color\":\"#C8D4E3\"},\"line\":{\"color\":\"white\"}},\"type\":\"table\"}],\"barpolar\":[{\"marker\":{\"line\":{\"color\":\"#E5ECF6\",\"width\":0.5},\"pattern\":{\"fillmode\":\"overlay\",\"size\":10,\"solidity\":0.2}},\"type\":\"barpolar\"}],\"pie\":[{\"automargin\":true,\"type\":\"pie\"}]},\"layout\":{\"autotypenumbers\":\"strict\",\"colorway\":[\"#636efa\",\"#EF553B\",\"#00cc96\",\"#ab63fa\",\"#FFA15A\",\"#19d3f3\",\"#FF6692\",\"#B6E880\",\"#FF97FF\",\"#FECB52\"],\"font\":{\"color\":\"#2a3f5f\"},\"hovermode\":\"closest\",\"hoverlabel\":{\"align\":\"left\"},\"paper_bgcolor\":\"white\",\"plot_bgcolor\":\"#E5ECF6\",\"polar\":{\"bgcolor\":\"#E5ECF6\",\"angularaxis\":{\"gridcolor\":\"white\",\"linecolor\":\"white\",\"ticks\":\"\"},\"radialaxis\":{\"gridcolor\":\"white\",\"linecolor\":\"white\",\"ticks\":\"\"}},\"ternary\":{\"bgcolor\":\"#E5ECF6\",\"aaxis\":{\"gridcolor\":\"white\",\"linecolor\":\"white\",\"ticks\":\"\"},\"baxis\":{\"gridcolor\":\"white\",\"linecolor\":\"white\",\"ticks\":\"\"},\"caxis\":{\"gridcolor\":\"white\",\"linecolor\":\"white\",\"ticks\":\"\"}},\"coloraxis\":{\"colorbar\":{\"outlinewidth\":0,\"ticks\":\"\"}},\"colorscale\":{\"sequential\":[[0.0,\"#0d0887\"],[0.1111111111111111,\"#46039f\"],[0.2222222222222222,\"#7201a8\"],[0.3333333333333333,\"#9c179e\"],[0.4444444444444444,\"#bd3786\"],[0.5555555555555556,\"#d8576b\"],[0.6666666666666666,\"#ed7953\"],[0.7777777777777778,\"#fb9f3a\"],[0.8888888888888888,\"#fdca26\"],[1.0,\"#f0f921\"]],\"sequentialminus\":[[0.0,\"#0d0887\"],[0.1111111111111111,\"#46039f\"],[0.2222222222222222,\"#7201a8\"],[0.3333333333333333,\"#9c179e\"],[0.4444444444444444,\"#bd3786\"],[0.5555555555555556,\"#d8576b\"],[0.6666666666666666,\"#ed7953\"],[0.7777777777777778,\"#fb9f3a\"],[0.8888888888888888,\"#fdca26\"],[1.0,\"#f0f921\"]],\"diverging\":[[0,\"#8e0152\"],[0.1,\"#c51b7d\"],[0.2,\"#de77ae\"],[0.3,\"#f1b6da\"],[0.4,\"#fde0ef\"],[0.5,\"#f7f7f7\"],[0.6,\"#e6f5d0\"],[0.7,\"#b8e186\"],[0.8,\"#7fbc41\"],[0.9,\"#4d9221\"],[1,\"#276419\"]]},\"xaxis\":{\"gridcolor\":\"white\",\"linecolor\":\"white\",\"ticks\":\"\",\"title\":{\"standoff\":15},\"zerolinecolor\":\"white\",\"automargin\":true,\"zerolinewidth\":2},\"yaxis\":{\"gridcolor\":\"white\",\"linecolor\":\"white\",\"ticks\":\"\",\"title\":{\"standoff\":15},\"zerolinecolor\":\"white\",\"automargin\":true,\"zerolinewidth\":2},\"scene\":{\"xaxis\":{\"backgroundcolor\":\"#E5ECF6\",\"gridcolor\":\"white\",\"linecolor\":\"white\",\"showbackground\":true,\"ticks\":\"\",\"zerolinecolor\":\"white\",\"gridwidth\":2},\"yaxis\":{\"backgroundcolor\":\"#E5ECF6\",\"gridcolor\":\"white\",\"linecolor\":\"white\",\"showbackground\":true,\"ticks\":\"\",\"zerolinecolor\":\"white\",\"gridwidth\":2},\"zaxis\":{\"backgroundcolor\":\"#E5ECF6\",\"gridcolor\":\"white\",\"linecolor\":\"white\",\"showbackground\":true,\"ticks\":\"\",\"zerolinecolor\":\"white\",\"gridwidth\":2}},\"shapedefaults\":{\"line\":{\"color\":\"#2a3f5f\"}},\"annotationdefaults\":{\"arrowcolor\":\"#2a3f5f\",\"arrowhead\":0,\"arrowwidth\":1},\"geo\":{\"bgcolor\":\"white\",\"landcolor\":\"#E5ECF6\",\"subunitcolor\":\"white\",\"showland\":true,\"showlakes\":true,\"lakecolor\":\"white\"},\"title\":{\"x\":0.05},\"mapbox\":{\"style\":\"light\"}}},\"xaxis\":{\"anchor\":\"y\",\"domain\":[0.0,1.0],\"title\":{\"text\":\"Fecha\"},\"type\":\"category\"},\"yaxis\":{\"anchor\":\"x\",\"domain\":[0.0,1.0],\"title\":{\"text\":\"Total de Delitos\"}},\"legend\":{\"title\":{\"text\":\"Municipio\"},\"tracegroupgap\":0},\"title\":{\"text\":\"Total de Delitos Tipo I por Municipio 2010-2020\"}},                        {\"responsive\": true}                    ).then(function(){\n",
       "                            \n",
       "var gd = document.getElementById('72b28284-7f16-409d-a598-1e60908a125b');\n",
       "var x = new MutationObserver(function (mutations, observer) {{\n",
       "        var display = window.getComputedStyle(gd).display;\n",
       "        if (!display || display === 'none') {{\n",
       "            console.log([gd, 'removed!']);\n",
       "            Plotly.purge(gd);\n",
       "            observer.disconnect();\n",
       "        }}\n",
       "}});\n",
       "\n",
       "// Listen for the removal of the full notebook cells\n",
       "var notebookContainer = gd.closest('#notebook-container');\n",
       "if (notebookContainer) {{\n",
       "    x.observe(notebookContainer, {childList: true});\n",
       "}}\n",
       "\n",
       "// Listen for the clearing of the current output cell\n",
       "var outputEl = gd.closest('.output');\n",
       "if (outputEl) {{\n",
       "    x.observe(outputEl, {childList: true});\n",
       "}}\n",
       "\n",
       "                        })                };                });            </script>        </div>"
      ]
     },
     "metadata": {},
     "output_type": "display_data"
    }
   ],
   "source": [
    "\n",
    "# Group the data by 'Date' and 'Distrito' and calculate the sum of 'Tipo I' (total deaths)\n",
    "grouped_data = date.groupby(['Date', 'Distrito'])['Tipo I'].sum().reset_index()\n",
    "\n",
    "#stacked streamgraph\n",
    "fig = px.area(grouped_data, x='Date', y='Tipo I', color='Distrito',\n",
    "              title='Total de Delitos Tipo I por Municipio 2010-2020',\n",
    "              labels={'Date': 'Fecha', 'Tipo I': 'Total de Delitos', 'Distrito': 'Municipio'}, ##labels\n",
    "              hover_data={'Date': True, 'Distrito': True, 'Tipo I': True}, ##la data en el cuadrito\n",
    "              line_group='Distrito')\n",
    "\n",
    "fig.update_layout(xaxis={'type': 'category'})\n",
    "\n",
    "fig.show()\n"
   ]
  },
  {
   "cell_type": "code",
   "execution_count": 52,
   "id": "25f263c7",
   "metadata": {},
   "outputs": [
    {
     "data": {
      "application/vnd.plotly.v1+json": {
       "config": {
        "plotlyServerURL": "https://plot.ly"
       },
       "data": [
        {
         "customdata": [
          [
           "Adjuntas"
          ],
          [
           "Adjuntas"
          ],
          [
           "Adjuntas"
          ],
          [
           "Adjuntas"
          ],
          [
           "Adjuntas"
          ],
          [
           "Adjuntas"
          ],
          [
           "Adjuntas"
          ],
          [
           "Adjuntas"
          ],
          [
           "Adjuntas"
          ],
          [
           "Adjuntas"
          ],
          [
           "Adjuntas"
          ],
          [
           "Adjuntas"
          ]
         ],
         "fillpattern": {
          "shape": ""
         },
         "hovertemplate": "Municipio=%{customdata[0]}<br>Fecha=%{x}<br>Total de Delitos=%{y}<extra></extra>",
         "legendgroup": "Adjuntas",
         "line": {
          "color": "#636efa"
         },
         "marker": {
          "symbol": "circle"
         },
         "mode": "lines",
         "name": "Adjuntas",
         "orientation": "v",
         "showlegend": true,
         "stackgroup": "1",
         "type": "scatter",
         "x": [
          "2020-01-01T00:00:00",
          "2020-02-01T00:00:00",
          "2020-03-01T00:00:00",
          "2020-04-01T00:00:00",
          "2020-05-01T00:00:00",
          "2020-06-01T00:00:00",
          "2020-07-01T00:00:00",
          "2020-08-01T00:00:00",
          "2020-09-01T00:00:00",
          "2020-10-01T00:00:00",
          "2020-11-01T00:00:00",
          "2020-12-01T00:00:00"
         ],
         "xaxis": "x",
         "y": [
          3,
          1,
          2,
          0,
          6,
          7,
          7,
          7,
          10,
          6,
          4,
          2
         ],
         "yaxis": "y"
        },
        {
         "customdata": [
          [
           "Aguada "
          ],
          [
           "Aguada "
          ],
          [
           "Aguada "
          ],
          [
           "Aguada "
          ],
          [
           "Aguada "
          ],
          [
           "Aguada "
          ],
          [
           "Aguada "
          ],
          [
           "Aguada "
          ],
          [
           "Aguada "
          ],
          [
           "Aguada "
          ]
         ],
         "fillpattern": {
          "shape": ""
         },
         "hovertemplate": "Municipio=%{customdata[0]}<br>Fecha=%{x}<br>Total de Delitos=%{y}<extra></extra>",
         "legendgroup": "Aguada ",
         "line": {
          "color": "#EF553B"
         },
         "marker": {
          "symbol": "circle"
         },
         "mode": "lines",
         "name": "Aguada ",
         "orientation": "v",
         "showlegend": true,
         "stackgroup": "1",
         "type": "scatter",
         "x": [
          "2020-01-01T00:00:00",
          "2020-02-01T00:00:00",
          "2020-05-01T00:00:00",
          "2020-06-01T00:00:00",
          "2020-07-01T00:00:00",
          "2020-08-01T00:00:00",
          "2020-09-01T00:00:00",
          "2020-10-01T00:00:00",
          "2020-11-01T00:00:00",
          "2020-12-01T00:00:00"
         ],
         "xaxis": "x",
         "y": [
          8.5,
          6,
          34,
          18,
          5,
          9,
          5,
          8,
          12,
          11
         ],
         "yaxis": "y"
        },
        {
         "customdata": [
          [
           "Aguadilla"
          ],
          [
           "Aguadilla"
          ],
          [
           "Aguadilla"
          ],
          [
           "Aguadilla"
          ],
          [
           "Aguadilla"
          ],
          [
           "Aguadilla"
          ],
          [
           "Aguadilla"
          ],
          [
           "Aguadilla"
          ],
          [
           "Aguadilla"
          ],
          [
           "Aguadilla"
          ],
          [
           "Aguadilla"
          ],
          [
           "Aguadilla"
          ]
         ],
         "fillpattern": {
          "shape": ""
         },
         "hovertemplate": "Municipio=%{customdata[0]}<br>Fecha=%{x}<br>Total de Delitos=%{y}<extra></extra>",
         "legendgroup": "Aguadilla",
         "line": {
          "color": "#00cc96"
         },
         "marker": {
          "symbol": "circle"
         },
         "mode": "lines",
         "name": "Aguadilla",
         "orientation": "v",
         "showlegend": true,
         "stackgroup": "1",
         "type": "scatter",
         "x": [
          "2020-01-01T00:00:00",
          "2020-02-01T00:00:00",
          "2020-03-01T00:00:00",
          "2020-04-01T00:00:00",
          "2020-05-01T00:00:00",
          "2020-06-01T00:00:00",
          "2020-07-01T00:00:00",
          "2020-08-01T00:00:00",
          "2020-09-01T00:00:00",
          "2020-10-01T00:00:00",
          "2020-11-01T00:00:00",
          "2020-12-01T00:00:00"
         ],
         "xaxis": "x",
         "y": [
          38.5,
          34,
          25,
          20,
          29,
          23,
          11,
          23,
          29,
          23,
          25,
          28
         ],
         "yaxis": "y"
        },
        {
         "customdata": [
          [
           "Aguas Buenas"
          ],
          [
           "Aguas Buenas"
          ],
          [
           "Aguas Buenas"
          ],
          [
           "Aguas Buenas"
          ],
          [
           "Aguas Buenas"
          ],
          [
           "Aguas Buenas"
          ],
          [
           "Aguas Buenas"
          ],
          [
           "Aguas Buenas"
          ],
          [
           "Aguas Buenas"
          ],
          [
           "Aguas Buenas"
          ],
          [
           "Aguas Buenas"
          ],
          [
           "Aguas Buenas"
          ]
         ],
         "fillpattern": {
          "shape": ""
         },
         "hovertemplate": "Municipio=%{customdata[0]}<br>Fecha=%{x}<br>Total de Delitos=%{y}<extra></extra>",
         "legendgroup": "Aguas Buenas",
         "line": {
          "color": "#ab63fa"
         },
         "marker": {
          "symbol": "circle"
         },
         "mode": "lines",
         "name": "Aguas Buenas",
         "orientation": "v",
         "showlegend": true,
         "stackgroup": "1",
         "type": "scatter",
         "x": [
          "2020-01-01T00:00:00",
          "2020-02-01T00:00:00",
          "2020-03-01T00:00:00",
          "2020-04-01T00:00:00",
          "2020-05-01T00:00:00",
          "2020-06-01T00:00:00",
          "2020-07-01T00:00:00",
          "2020-08-01T00:00:00",
          "2020-09-01T00:00:00",
          "2020-10-01T00:00:00",
          "2020-11-01T00:00:00",
          "2020-12-01T00:00:00"
         ],
         "xaxis": "x",
         "y": [
          6,
          6,
          10,
          7,
          3,
          3,
          4,
          5,
          1,
          4,
          2,
          6
         ],
         "yaxis": "y"
        },
        {
         "customdata": [
          [
           "Aibonito"
          ],
          [
           "Aibonito"
          ],
          [
           "Aibonito"
          ],
          [
           "Aibonito"
          ],
          [
           "Aibonito"
          ],
          [
           "Aibonito"
          ],
          [
           "Aibonito"
          ],
          [
           "Aibonito"
          ],
          [
           "Aibonito"
          ],
          [
           "Aibonito"
          ],
          [
           "Aibonito"
          ],
          [
           "Aibonito"
          ]
         ],
         "fillpattern": {
          "shape": ""
         },
         "hovertemplate": "Municipio=%{customdata[0]}<br>Fecha=%{x}<br>Total de Delitos=%{y}<extra></extra>",
         "legendgroup": "Aibonito",
         "line": {
          "color": "#FFA15A"
         },
         "marker": {
          "symbol": "circle"
         },
         "mode": "lines",
         "name": "Aibonito",
         "orientation": "v",
         "showlegend": true,
         "stackgroup": "1",
         "type": "scatter",
         "x": [
          "2020-01-01T00:00:00",
          "2020-02-01T00:00:00",
          "2020-03-01T00:00:00",
          "2020-04-01T00:00:00",
          "2020-05-01T00:00:00",
          "2020-06-01T00:00:00",
          "2020-07-01T00:00:00",
          "2020-08-01T00:00:00",
          "2020-09-01T00:00:00",
          "2020-10-01T00:00:00",
          "2020-11-01T00:00:00",
          "2020-12-01T00:00:00"
         ],
         "xaxis": "x",
         "y": [
          9,
          5,
          6,
          4,
          6,
          5,
          8,
          4,
          5,
          5,
          6,
          13
         ],
         "yaxis": "y"
        },
        {
         "customdata": [
          [
           "Arecibo"
          ],
          [
           "Arecibo"
          ],
          [
           "Arecibo"
          ],
          [
           "Arecibo"
          ],
          [
           "Arecibo"
          ],
          [
           "Arecibo"
          ],
          [
           "Arecibo"
          ],
          [
           "Arecibo"
          ],
          [
           "Arecibo"
          ],
          [
           "Arecibo"
          ],
          [
           "Arecibo"
          ],
          [
           "Arecibo"
          ]
         ],
         "fillpattern": {
          "shape": ""
         },
         "hovertemplate": "Municipio=%{customdata[0]}<br>Fecha=%{x}<br>Total de Delitos=%{y}<extra></extra>",
         "legendgroup": "Arecibo",
         "line": {
          "color": "#19d3f3"
         },
         "marker": {
          "symbol": "circle"
         },
         "mode": "lines",
         "name": "Arecibo",
         "orientation": "v",
         "showlegend": true,
         "stackgroup": "1",
         "type": "scatter",
         "x": [
          "2020-01-01T00:00:00",
          "2020-02-01T00:00:00",
          "2020-03-01T00:00:00",
          "2020-04-01T00:00:00",
          "2020-05-01T00:00:00",
          "2020-06-01T00:00:00",
          "2020-07-01T00:00:00",
          "2020-08-01T00:00:00",
          "2020-09-01T00:00:00",
          "2020-10-01T00:00:00",
          "2020-11-01T00:00:00",
          "2020-12-01T00:00:00"
         ],
         "xaxis": "x",
         "y": [
          35.5,
          34,
          30,
          22,
          30,
          30,
          18,
          30,
          41,
          30,
          36,
          33
         ],
         "yaxis": "y"
        },
        {
         "customdata": [
          [
           "Arroyo"
          ],
          [
           "Arroyo"
          ],
          [
           "Arroyo"
          ],
          [
           "Arroyo"
          ],
          [
           "Arroyo"
          ],
          [
           "Arroyo"
          ],
          [
           "Arroyo"
          ],
          [
           "Arroyo"
          ],
          [
           "Arroyo"
          ],
          [
           "Arroyo"
          ],
          [
           "Arroyo"
          ],
          [
           "Arroyo"
          ]
         ],
         "fillpattern": {
          "shape": ""
         },
         "hovertemplate": "Municipio=%{customdata[0]}<br>Fecha=%{x}<br>Total de Delitos=%{y}<extra></extra>",
         "legendgroup": "Arroyo",
         "line": {
          "color": "#FF6692"
         },
         "marker": {
          "symbol": "circle"
         },
         "mode": "lines",
         "name": "Arroyo",
         "orientation": "v",
         "showlegend": true,
         "stackgroup": "1",
         "type": "scatter",
         "x": [
          "2020-01-01T00:00:00",
          "2020-02-01T00:00:00",
          "2020-03-01T00:00:00",
          "2020-04-01T00:00:00",
          "2020-05-01T00:00:00",
          "2020-06-01T00:00:00",
          "2020-07-01T00:00:00",
          "2020-08-01T00:00:00",
          "2020-09-01T00:00:00",
          "2020-10-01T00:00:00",
          "2020-11-01T00:00:00",
          "2020-12-01T00:00:00"
         ],
         "xaxis": "x",
         "y": [
          16.5,
          19,
          18,
          5,
          8,
          2,
          5,
          1,
          1,
          7,
          4,
          6
         ],
         "yaxis": "y"
        },
        {
         "customdata": [
          [
           "Añasco"
          ],
          [
           "Añasco"
          ],
          [
           "Añasco"
          ],
          [
           "Añasco"
          ],
          [
           "Añasco"
          ],
          [
           "Añasco"
          ],
          [
           "Añasco"
          ],
          [
           "Añasco"
          ],
          [
           "Añasco"
          ],
          [
           "Añasco"
          ],
          [
           "Añasco"
          ],
          [
           "Añasco"
          ]
         ],
         "fillpattern": {
          "shape": ""
         },
         "hovertemplate": "Municipio=%{customdata[0]}<br>Fecha=%{x}<br>Total de Delitos=%{y}<extra></extra>",
         "legendgroup": "Añasco",
         "line": {
          "color": "#B6E880"
         },
         "marker": {
          "symbol": "circle"
         },
         "mode": "lines",
         "name": "Añasco",
         "orientation": "v",
         "showlegend": true,
         "stackgroup": "1",
         "type": "scatter",
         "x": [
          "2020-01-01T00:00:00",
          "2020-02-01T00:00:00",
          "2020-03-01T00:00:00",
          "2020-04-01T00:00:00",
          "2020-05-01T00:00:00",
          "2020-06-01T00:00:00",
          "2020-07-01T00:00:00",
          "2020-08-01T00:00:00",
          "2020-09-01T00:00:00",
          "2020-10-01T00:00:00",
          "2020-11-01T00:00:00",
          "2020-12-01T00:00:00"
         ],
         "xaxis": "x",
         "y": [
          12.5,
          16,
          10,
          3,
          6,
          8,
          6,
          6,
          4,
          0,
          3,
          5
         ],
         "yaxis": "y"
        },
        {
         "customdata": [
          [
           "Barceloneta"
          ],
          [
           "Barceloneta"
          ],
          [
           "Barceloneta"
          ],
          [
           "Barceloneta"
          ],
          [
           "Barceloneta"
          ],
          [
           "Barceloneta"
          ],
          [
           "Barceloneta"
          ],
          [
           "Barceloneta"
          ],
          [
           "Barceloneta"
          ],
          [
           "Barceloneta"
          ],
          [
           "Barceloneta"
          ],
          [
           "Barceloneta"
          ]
         ],
         "fillpattern": {
          "shape": ""
         },
         "hovertemplate": "Municipio=%{customdata[0]}<br>Fecha=%{x}<br>Total de Delitos=%{y}<extra></extra>",
         "legendgroup": "Barceloneta",
         "line": {
          "color": "#FF97FF"
         },
         "marker": {
          "symbol": "circle"
         },
         "mode": "lines",
         "name": "Barceloneta",
         "orientation": "v",
         "showlegend": true,
         "stackgroup": "1",
         "type": "scatter",
         "x": [
          "2020-01-01T00:00:00",
          "2020-02-01T00:00:00",
          "2020-03-01T00:00:00",
          "2020-04-01T00:00:00",
          "2020-05-01T00:00:00",
          "2020-06-01T00:00:00",
          "2020-07-01T00:00:00",
          "2020-08-01T00:00:00",
          "2020-09-01T00:00:00",
          "2020-10-01T00:00:00",
          "2020-11-01T00:00:00",
          "2020-12-01T00:00:00"
         ],
         "xaxis": "x",
         "y": [
          24,
          22,
          18,
          11,
          11,
          9,
          9,
          12,
          11,
          13,
          14,
          31
         ],
         "yaxis": "y"
        },
        {
         "customdata": [
          [
           "Barranquitas"
          ],
          [
           "Barranquitas"
          ],
          [
           "Barranquitas"
          ],
          [
           "Barranquitas"
          ],
          [
           "Barranquitas"
          ],
          [
           "Barranquitas"
          ],
          [
           "Barranquitas"
          ],
          [
           "Barranquitas"
          ],
          [
           "Barranquitas"
          ],
          [
           "Barranquitas"
          ],
          [
           "Barranquitas"
          ],
          [
           "Barranquitas"
          ]
         ],
         "fillpattern": {
          "shape": ""
         },
         "hovertemplate": "Municipio=%{customdata[0]}<br>Fecha=%{x}<br>Total de Delitos=%{y}<extra></extra>",
         "legendgroup": "Barranquitas",
         "line": {
          "color": "#FECB52"
         },
         "marker": {
          "symbol": "circle"
         },
         "mode": "lines",
         "name": "Barranquitas",
         "orientation": "v",
         "showlegend": true,
         "stackgroup": "1",
         "type": "scatter",
         "x": [
          "2020-01-01T00:00:00",
          "2020-02-01T00:00:00",
          "2020-03-01T00:00:00",
          "2020-04-01T00:00:00",
          "2020-05-01T00:00:00",
          "2020-06-01T00:00:00",
          "2020-07-01T00:00:00",
          "2020-08-01T00:00:00",
          "2020-09-01T00:00:00",
          "2020-10-01T00:00:00",
          "2020-11-01T00:00:00",
          "2020-12-01T00:00:00"
         ],
         "xaxis": "x",
         "y": [
          21,
          17,
          21,
          6,
          6,
          6,
          6,
          2,
          3,
          4,
          6,
          10
         ],
         "yaxis": "y"
        },
        {
         "customdata": [
          [
           "Bayamón"
          ],
          [
           "Bayamón"
          ],
          [
           "Bayamón"
          ],
          [
           "Bayamón"
          ],
          [
           "Bayamón"
          ],
          [
           "Bayamón"
          ],
          [
           "Bayamón"
          ],
          [
           "Bayamón"
          ],
          [
           "Bayamón"
          ],
          [
           "Bayamón"
          ],
          [
           "Bayamón"
          ],
          [
           "Bayamón"
          ]
         ],
         "fillpattern": {
          "shape": ""
         },
         "hovertemplate": "Municipio=%{customdata[0]}<br>Fecha=%{x}<br>Total de Delitos=%{y}<extra></extra>",
         "legendgroup": "Bayamón",
         "line": {
          "color": "#636efa"
         },
         "marker": {
          "symbol": "circle"
         },
         "mode": "lines",
         "name": "Bayamón",
         "orientation": "v",
         "showlegend": true,
         "stackgroup": "1",
         "type": "scatter",
         "x": [
          "2020-01-01T00:00:00",
          "2020-02-01T00:00:00",
          "2020-03-01T00:00:00",
          "2020-04-01T00:00:00",
          "2020-05-01T00:00:00",
          "2020-06-01T00:00:00",
          "2020-07-01T00:00:00",
          "2020-08-01T00:00:00",
          "2020-09-01T00:00:00",
          "2020-10-01T00:00:00",
          "2020-11-01T00:00:00",
          "2020-12-01T00:00:00"
         ],
         "xaxis": "x",
         "y": [
          246,
          220,
          253,
          110,
          0,
          117,
          126,
          98,
          107,
          129,
          127,
          145
         ],
         "yaxis": "y"
        },
        {
         "customdata": [
          [
           "Cabo Rojo"
          ],
          [
           "Cabo Rojo"
          ],
          [
           "Cabo Rojo"
          ],
          [
           "Cabo Rojo"
          ],
          [
           "Cabo Rojo"
          ],
          [
           "Cabo Rojo"
          ],
          [
           "Cabo Rojo"
          ],
          [
           "Cabo Rojo"
          ],
          [
           "Cabo Rojo"
          ],
          [
           "Cabo Rojo"
          ],
          [
           "Cabo Rojo"
          ],
          [
           "Cabo Rojo"
          ]
         ],
         "fillpattern": {
          "shape": ""
         },
         "hovertemplate": "Municipio=%{customdata[0]}<br>Fecha=%{x}<br>Total de Delitos=%{y}<extra></extra>",
         "legendgroup": "Cabo Rojo",
         "line": {
          "color": "#EF553B"
         },
         "marker": {
          "symbol": "circle"
         },
         "mode": "lines",
         "name": "Cabo Rojo",
         "orientation": "v",
         "showlegend": true,
         "stackgroup": "1",
         "type": "scatter",
         "x": [
          "2020-01-01T00:00:00",
          "2020-02-01T00:00:00",
          "2020-03-01T00:00:00",
          "2020-04-01T00:00:00",
          "2020-05-01T00:00:00",
          "2020-06-01T00:00:00",
          "2020-07-01T00:00:00",
          "2020-08-01T00:00:00",
          "2020-09-01T00:00:00",
          "2020-10-01T00:00:00",
          "2020-11-01T00:00:00",
          "2020-12-01T00:00:00"
         ],
         "xaxis": "x",
         "y": [
          24,
          14,
          6,
          8,
          8,
          12,
          8,
          6,
          7,
          14,
          8,
          13
         ],
         "yaxis": "y"
        },
        {
         "customdata": [
          [
           "Caguas"
          ],
          [
           "Caguas"
          ],
          [
           "Caguas"
          ],
          [
           "Caguas"
          ],
          [
           "Caguas"
          ],
          [
           "Caguas"
          ],
          [
           "Caguas"
          ],
          [
           "Caguas"
          ],
          [
           "Caguas"
          ],
          [
           "Caguas"
          ],
          [
           "Caguas"
          ],
          [
           "Caguas"
          ]
         ],
         "fillpattern": {
          "shape": ""
         },
         "hovertemplate": "Municipio=%{customdata[0]}<br>Fecha=%{x}<br>Total de Delitos=%{y}<extra></extra>",
         "legendgroup": "Caguas",
         "line": {
          "color": "#00cc96"
         },
         "marker": {
          "symbol": "circle"
         },
         "mode": "lines",
         "name": "Caguas",
         "orientation": "v",
         "showlegend": true,
         "stackgroup": "1",
         "type": "scatter",
         "x": [
          "2020-01-01T00:00:00",
          "2020-02-01T00:00:00",
          "2020-03-01T00:00:00",
          "2020-04-01T00:00:00",
          "2020-05-01T00:00:00",
          "2020-06-01T00:00:00",
          "2020-07-01T00:00:00",
          "2020-08-01T00:00:00",
          "2020-09-01T00:00:00",
          "2020-10-01T00:00:00",
          "2020-11-01T00:00:00",
          "2020-12-01T00:00:00"
         ],
         "xaxis": "x",
         "y": [
          98.5,
          97,
          78,
          39,
          40,
          50,
          49,
          41,
          67,
          66,
          61,
          77
         ],
         "yaxis": "y"
        },
        {
         "customdata": [
          [
           "Camuy"
          ],
          [
           "Camuy"
          ],
          [
           "Camuy"
          ],
          [
           "Camuy"
          ],
          [
           "Camuy"
          ],
          [
           "Camuy"
          ],
          [
           "Camuy"
          ],
          [
           "Camuy"
          ],
          [
           "Camuy"
          ],
          [
           "Camuy"
          ],
          [
           "Camuy"
          ],
          [
           "Camuy"
          ]
         ],
         "fillpattern": {
          "shape": ""
         },
         "hovertemplate": "Municipio=%{customdata[0]}<br>Fecha=%{x}<br>Total de Delitos=%{y}<extra></extra>",
         "legendgroup": "Camuy",
         "line": {
          "color": "#ab63fa"
         },
         "marker": {
          "symbol": "circle"
         },
         "mode": "lines",
         "name": "Camuy",
         "orientation": "v",
         "showlegend": true,
         "stackgroup": "1",
         "type": "scatter",
         "x": [
          "2020-01-01T00:00:00",
          "2020-02-01T00:00:00",
          "2020-03-01T00:00:00",
          "2020-04-01T00:00:00",
          "2020-05-01T00:00:00",
          "2020-06-01T00:00:00",
          "2020-07-01T00:00:00",
          "2020-08-01T00:00:00",
          "2020-09-01T00:00:00",
          "2020-10-01T00:00:00",
          "2020-11-01T00:00:00",
          "2020-12-01T00:00:00"
         ],
         "xaxis": "x",
         "y": [
          18,
          15,
          20,
          12,
          9,
          9,
          11,
          25,
          11,
          12,
          17,
          7
         ],
         "yaxis": "y"
        },
        {
         "customdata": [
          [
           "Canóvanas"
          ],
          [
           "Canóvanas"
          ],
          [
           "Canóvanas"
          ],
          [
           "Canóvanas"
          ],
          [
           "Canóvanas"
          ],
          [
           "Canóvanas"
          ],
          [
           "Canóvanas"
          ],
          [
           "Canóvanas"
          ],
          [
           "Canóvanas"
          ],
          [
           "Canóvanas"
          ],
          [
           "Canóvanas"
          ],
          [
           "Canóvanas"
          ]
         ],
         "fillpattern": {
          "shape": ""
         },
         "hovertemplate": "Municipio=%{customdata[0]}<br>Fecha=%{x}<br>Total de Delitos=%{y}<extra></extra>",
         "legendgroup": "Canóvanas",
         "line": {
          "color": "#FFA15A"
         },
         "marker": {
          "symbol": "circle"
         },
         "mode": "lines",
         "name": "Canóvanas",
         "orientation": "v",
         "showlegend": true,
         "stackgroup": "1",
         "type": "scatter",
         "x": [
          "2020-01-01T00:00:00",
          "2020-02-01T00:00:00",
          "2020-03-01T00:00:00",
          "2020-04-01T00:00:00",
          "2020-05-01T00:00:00",
          "2020-06-01T00:00:00",
          "2020-07-01T00:00:00",
          "2020-08-01T00:00:00",
          "2020-09-01T00:00:00",
          "2020-10-01T00:00:00",
          "2020-11-01T00:00:00",
          "2020-12-01T00:00:00"
         ],
         "xaxis": "x",
         "y": [
          20,
          17,
          22,
          8,
          17,
          14,
          12,
          13,
          17,
          23,
          14,
          26
         ],
         "yaxis": "y"
        },
        {
         "customdata": [
          [
           "Carolina"
          ],
          [
           "Carolina"
          ],
          [
           "Carolina"
          ],
          [
           "Carolina"
          ],
          [
           "Carolina"
          ],
          [
           "Carolina"
          ],
          [
           "Carolina"
          ],
          [
           "Carolina"
          ],
          [
           "Carolina"
          ],
          [
           "Carolina"
          ],
          [
           "Carolina"
          ],
          [
           "Carolina"
          ]
         ],
         "fillpattern": {
          "shape": ""
         },
         "hovertemplate": "Municipio=%{customdata[0]}<br>Fecha=%{x}<br>Total de Delitos=%{y}<extra></extra>",
         "legendgroup": "Carolina",
         "line": {
          "color": "#19d3f3"
         },
         "marker": {
          "symbol": "circle"
         },
         "mode": "lines",
         "name": "Carolina",
         "orientation": "v",
         "showlegend": true,
         "stackgroup": "1",
         "type": "scatter",
         "x": [
          "2020-01-01T00:00:00",
          "2020-02-01T00:00:00",
          "2020-03-01T00:00:00",
          "2020-04-01T00:00:00",
          "2020-05-01T00:00:00",
          "2020-06-01T00:00:00",
          "2020-07-01T00:00:00",
          "2020-08-01T00:00:00",
          "2020-09-01T00:00:00",
          "2020-10-01T00:00:00",
          "2020-11-01T00:00:00",
          "2020-12-01T00:00:00"
         ],
         "xaxis": "x",
         "y": [
          153,
          158,
          130,
          58,
          69,
          93,
          91,
          77,
          61,
          87,
          97,
          104
         ],
         "yaxis": "y"
        },
        {
         "customdata": [
          [
           "Cataño"
          ],
          [
           "Cataño"
          ],
          [
           "Cataño"
          ],
          [
           "Cataño"
          ],
          [
           "Cataño"
          ],
          [
           "Cataño"
          ],
          [
           "Cataño"
          ],
          [
           "Cataño"
          ],
          [
           "Cataño"
          ],
          [
           "Cataño"
          ],
          [
           "Cataño"
          ],
          [
           "Cataño"
          ]
         ],
         "fillpattern": {
          "shape": ""
         },
         "hovertemplate": "Municipio=%{customdata[0]}<br>Fecha=%{x}<br>Total de Delitos=%{y}<extra></extra>",
         "legendgroup": "Cataño",
         "line": {
          "color": "#FF6692"
         },
         "marker": {
          "symbol": "circle"
         },
         "mode": "lines",
         "name": "Cataño",
         "orientation": "v",
         "showlegend": true,
         "stackgroup": "1",
         "type": "scatter",
         "x": [
          "2020-01-01T00:00:00",
          "2020-02-01T00:00:00",
          "2020-03-01T00:00:00",
          "2020-04-01T00:00:00",
          "2020-05-01T00:00:00",
          "2020-06-01T00:00:00",
          "2020-07-01T00:00:00",
          "2020-08-01T00:00:00",
          "2020-09-01T00:00:00",
          "2020-10-01T00:00:00",
          "2020-11-01T00:00:00",
          "2020-12-01T00:00:00"
         ],
         "xaxis": "x",
         "y": [
          15.5,
          17,
          14,
          5,
          11,
          5,
          2,
          4,
          9,
          3,
          4,
          13
         ],
         "yaxis": "y"
        },
        {
         "customdata": [
          [
           "Cayey"
          ],
          [
           "Cayey"
          ],
          [
           "Cayey"
          ],
          [
           "Cayey"
          ],
          [
           "Cayey"
          ],
          [
           "Cayey"
          ],
          [
           "Cayey"
          ],
          [
           "Cayey"
          ],
          [
           "Cayey"
          ],
          [
           "Cayey"
          ],
          [
           "Cayey"
          ],
          [
           "Cayey"
          ]
         ],
         "fillpattern": {
          "shape": ""
         },
         "hovertemplate": "Municipio=%{customdata[0]}<br>Fecha=%{x}<br>Total de Delitos=%{y}<extra></extra>",
         "legendgroup": "Cayey",
         "line": {
          "color": "#B6E880"
         },
         "marker": {
          "symbol": "circle"
         },
         "mode": "lines",
         "name": "Cayey",
         "orientation": "v",
         "showlegend": true,
         "stackgroup": "1",
         "type": "scatter",
         "x": [
          "2020-01-01T00:00:00",
          "2020-02-01T00:00:00",
          "2020-03-01T00:00:00",
          "2020-04-01T00:00:00",
          "2020-05-01T00:00:00",
          "2020-06-01T00:00:00",
          "2020-07-01T00:00:00",
          "2020-08-01T00:00:00",
          "2020-09-01T00:00:00",
          "2020-10-01T00:00:00",
          "2020-11-01T00:00:00",
          "2020-12-01T00:00:00"
         ],
         "xaxis": "x",
         "y": [
          23.5,
          19,
          23,
          12,
          10,
          21,
          14,
          15,
          18,
          11,
          16,
          17
         ],
         "yaxis": "y"
        },
        {
         "customdata": [
          [
           "Ceiba"
          ],
          [
           "Ceiba"
          ],
          [
           "Ceiba"
          ],
          [
           "Ceiba"
          ],
          [
           "Ceiba"
          ],
          [
           "Ceiba"
          ],
          [
           "Ceiba"
          ],
          [
           "Ceiba"
          ],
          [
           "Ceiba"
          ],
          [
           "Ceiba"
          ],
          [
           "Ceiba"
          ],
          [
           "Ceiba"
          ]
         ],
         "fillpattern": {
          "shape": ""
         },
         "hovertemplate": "Municipio=%{customdata[0]}<br>Fecha=%{x}<br>Total de Delitos=%{y}<extra></extra>",
         "legendgroup": "Ceiba",
         "line": {
          "color": "#FF97FF"
         },
         "marker": {
          "symbol": "circle"
         },
         "mode": "lines",
         "name": "Ceiba",
         "orientation": "v",
         "showlegend": true,
         "stackgroup": "1",
         "type": "scatter",
         "x": [
          "2020-01-01T00:00:00",
          "2020-02-01T00:00:00",
          "2020-03-01T00:00:00",
          "2020-04-01T00:00:00",
          "2020-05-01T00:00:00",
          "2020-06-01T00:00:00",
          "2020-07-01T00:00:00",
          "2020-08-01T00:00:00",
          "2020-09-01T00:00:00",
          "2020-10-01T00:00:00",
          "2020-11-01T00:00:00",
          "2020-12-01T00:00:00"
         ],
         "xaxis": "x",
         "y": [
          7,
          6,
          4,
          3,
          1,
          8,
          1,
          2,
          4,
          2,
          6,
          3
         ],
         "yaxis": "y"
        },
        {
         "customdata": [
          [
           "Ciales"
          ],
          [
           "Ciales"
          ],
          [
           "Ciales"
          ],
          [
           "Ciales"
          ],
          [
           "Ciales"
          ],
          [
           "Ciales"
          ],
          [
           "Ciales"
          ],
          [
           "Ciales"
          ],
          [
           "Ciales"
          ],
          [
           "Ciales"
          ],
          [
           "Ciales"
          ],
          [
           "Ciales"
          ]
         ],
         "fillpattern": {
          "shape": ""
         },
         "hovertemplate": "Municipio=%{customdata[0]}<br>Fecha=%{x}<br>Total de Delitos=%{y}<extra></extra>",
         "legendgroup": "Ciales",
         "line": {
          "color": "#FECB52"
         },
         "marker": {
          "symbol": "circle"
         },
         "mode": "lines",
         "name": "Ciales",
         "orientation": "v",
         "showlegend": true,
         "stackgroup": "1",
         "type": "scatter",
         "x": [
          "2020-01-01T00:00:00",
          "2020-02-01T00:00:00",
          "2020-03-01T00:00:00",
          "2020-04-01T00:00:00",
          "2020-05-01T00:00:00",
          "2020-06-01T00:00:00",
          "2020-07-01T00:00:00",
          "2020-08-01T00:00:00",
          "2020-09-01T00:00:00",
          "2020-10-01T00:00:00",
          "2020-11-01T00:00:00",
          "2020-12-01T00:00:00"
         ],
         "xaxis": "x",
         "y": [
          9,
          5,
          8,
          4,
          8,
          5,
          5,
          5,
          6,
          4,
          8,
          5
         ],
         "yaxis": "y"
        },
        {
         "customdata": [
          [
           "Cidra"
          ],
          [
           "Cidra"
          ],
          [
           "Cidra"
          ],
          [
           "Cidra"
          ],
          [
           "Cidra"
          ],
          [
           "Cidra"
          ],
          [
           "Cidra"
          ],
          [
           "Cidra"
          ],
          [
           "Cidra"
          ],
          [
           "Cidra"
          ],
          [
           "Cidra"
          ],
          [
           "Cidra"
          ]
         ],
         "fillpattern": {
          "shape": ""
         },
         "hovertemplate": "Municipio=%{customdata[0]}<br>Fecha=%{x}<br>Total de Delitos=%{y}<extra></extra>",
         "legendgroup": "Cidra",
         "line": {
          "color": "#636efa"
         },
         "marker": {
          "symbol": "circle"
         },
         "mode": "lines",
         "name": "Cidra",
         "orientation": "v",
         "showlegend": true,
         "stackgroup": "1",
         "type": "scatter",
         "x": [
          "2020-01-01T00:00:00",
          "2020-02-01T00:00:00",
          "2020-03-01T00:00:00",
          "2020-04-01T00:00:00",
          "2020-05-01T00:00:00",
          "2020-06-01T00:00:00",
          "2020-07-01T00:00:00",
          "2020-08-01T00:00:00",
          "2020-09-01T00:00:00",
          "2020-10-01T00:00:00",
          "2020-11-01T00:00:00",
          "2020-12-01T00:00:00"
         ],
         "xaxis": "x",
         "y": [
          15.5,
          10,
          6,
          4,
          6,
          6,
          5,
          9,
          12,
          17,
          6,
          8
         ],
         "yaxis": "y"
        },
        {
         "customdata": [
          [
           "Coamo"
          ],
          [
           "Coamo"
          ],
          [
           "Coamo"
          ],
          [
           "Coamo"
          ],
          [
           "Coamo"
          ],
          [
           "Coamo"
          ],
          [
           "Coamo"
          ],
          [
           "Coamo"
          ],
          [
           "Coamo"
          ],
          [
           "Coamo"
          ],
          [
           "Coamo"
          ],
          [
           "Coamo"
          ]
         ],
         "fillpattern": {
          "shape": ""
         },
         "hovertemplate": "Municipio=%{customdata[0]}<br>Fecha=%{x}<br>Total de Delitos=%{y}<extra></extra>",
         "legendgroup": "Coamo",
         "line": {
          "color": "#EF553B"
         },
         "marker": {
          "symbol": "circle"
         },
         "mode": "lines",
         "name": "Coamo",
         "orientation": "v",
         "showlegend": true,
         "stackgroup": "1",
         "type": "scatter",
         "x": [
          "2020-01-01T00:00:00",
          "2020-02-01T00:00:00",
          "2020-03-01T00:00:00",
          "2020-04-01T00:00:00",
          "2020-05-01T00:00:00",
          "2020-06-01T00:00:00",
          "2020-07-01T00:00:00",
          "2020-08-01T00:00:00",
          "2020-09-01T00:00:00",
          "2020-10-01T00:00:00",
          "2020-11-01T00:00:00",
          "2020-12-01T00:00:00"
         ],
         "xaxis": "x",
         "y": [
          10.5,
          8,
          5,
          6,
          12,
          6,
          6,
          7,
          11,
          15,
          7,
          15
         ],
         "yaxis": "y"
        },
        {
         "customdata": [
          [
           "Comerío"
          ],
          [
           "Comerío"
          ],
          [
           "Comerío"
          ],
          [
           "Comerío"
          ],
          [
           "Comerío"
          ],
          [
           "Comerío"
          ],
          [
           "Comerío"
          ],
          [
           "Comerío"
          ],
          [
           "Comerío"
          ],
          [
           "Comerío"
          ],
          [
           "Comerío"
          ],
          [
           "Comerío"
          ]
         ],
         "fillpattern": {
          "shape": ""
         },
         "hovertemplate": "Municipio=%{customdata[0]}<br>Fecha=%{x}<br>Total de Delitos=%{y}<extra></extra>",
         "legendgroup": "Comerío",
         "line": {
          "color": "#00cc96"
         },
         "marker": {
          "symbol": "circle"
         },
         "mode": "lines",
         "name": "Comerío",
         "orientation": "v",
         "showlegend": true,
         "stackgroup": "1",
         "type": "scatter",
         "x": [
          "2020-01-01T00:00:00",
          "2020-02-01T00:00:00",
          "2020-03-01T00:00:00",
          "2020-04-01T00:00:00",
          "2020-05-01T00:00:00",
          "2020-06-01T00:00:00",
          "2020-07-01T00:00:00",
          "2020-08-01T00:00:00",
          "2020-09-01T00:00:00",
          "2020-10-01T00:00:00",
          "2020-11-01T00:00:00",
          "2020-12-01T00:00:00"
         ],
         "xaxis": "x",
         "y": [
          9,
          10,
          5,
          7,
          7,
          6,
          7,
          2,
          1,
          4,
          11,
          7
         ],
         "yaxis": "y"
        },
        {
         "customdata": [
          [
           "Corozal"
          ],
          [
           "Corozal"
          ],
          [
           "Corozal"
          ],
          [
           "Corozal"
          ],
          [
           "Corozal"
          ],
          [
           "Corozal"
          ],
          [
           "Corozal"
          ],
          [
           "Corozal"
          ],
          [
           "Corozal"
          ],
          [
           "Corozal"
          ],
          [
           "Corozal"
          ],
          [
           "Corozal"
          ]
         ],
         "fillpattern": {
          "shape": ""
         },
         "hovertemplate": "Municipio=%{customdata[0]}<br>Fecha=%{x}<br>Total de Delitos=%{y}<extra></extra>",
         "legendgroup": "Corozal",
         "line": {
          "color": "#ab63fa"
         },
         "marker": {
          "symbol": "circle"
         },
         "mode": "lines",
         "name": "Corozal",
         "orientation": "v",
         "showlegend": true,
         "stackgroup": "1",
         "type": "scatter",
         "x": [
          "2020-01-01T00:00:00",
          "2020-02-01T00:00:00",
          "2020-03-01T00:00:00",
          "2020-04-01T00:00:00",
          "2020-05-01T00:00:00",
          "2020-06-01T00:00:00",
          "2020-07-01T00:00:00",
          "2020-08-01T00:00:00",
          "2020-09-01T00:00:00",
          "2020-10-01T00:00:00",
          "2020-11-01T00:00:00",
          "2020-12-01T00:00:00"
         ],
         "xaxis": "x",
         "y": [
          23,
          11,
          1,
          5,
          32,
          9,
          12,
          10,
          3,
          9,
          6,
          9
         ],
         "yaxis": "y"
        },
        {
         "customdata": [
          [
           "Culebra"
          ],
          [
           "Culebra"
          ],
          [
           "Culebra"
          ],
          [
           "Culebra"
          ],
          [
           "Culebra"
          ],
          [
           "Culebra"
          ],
          [
           "Culebra"
          ],
          [
           "Culebra"
          ],
          [
           "Culebra"
          ],
          [
           "Culebra"
          ],
          [
           "Culebra"
          ],
          [
           "Culebra"
          ]
         ],
         "fillpattern": {
          "shape": ""
         },
         "hovertemplate": "Municipio=%{customdata[0]}<br>Fecha=%{x}<br>Total de Delitos=%{y}<extra></extra>",
         "legendgroup": "Culebra",
         "line": {
          "color": "#FFA15A"
         },
         "marker": {
          "symbol": "circle"
         },
         "mode": "lines",
         "name": "Culebra",
         "orientation": "v",
         "showlegend": true,
         "stackgroup": "1",
         "type": "scatter",
         "x": [
          "2020-01-01T00:00:00",
          "2020-02-01T00:00:00",
          "2020-03-01T00:00:00",
          "2020-04-01T00:00:00",
          "2020-05-01T00:00:00",
          "2020-06-01T00:00:00",
          "2020-07-01T00:00:00",
          "2020-08-01T00:00:00",
          "2020-09-01T00:00:00",
          "2020-10-01T00:00:00",
          "2020-11-01T00:00:00",
          "2020-12-01T00:00:00"
         ],
         "xaxis": "x",
         "y": [
          4.5,
          5,
          1,
          3,
          5,
          3,
          0,
          2,
          2,
          1,
          1,
          1
         ],
         "yaxis": "y"
        },
        {
         "customdata": [
          [
           "Dorado"
          ],
          [
           "Dorado"
          ],
          [
           "Dorado"
          ],
          [
           "Dorado"
          ],
          [
           "Dorado"
          ],
          [
           "Dorado"
          ],
          [
           "Dorado"
          ],
          [
           "Dorado"
          ],
          [
           "Dorado"
          ],
          [
           "Dorado"
          ],
          [
           "Dorado"
          ],
          [
           "Dorado"
          ]
         ],
         "fillpattern": {
          "shape": ""
         },
         "hovertemplate": "Municipio=%{customdata[0]}<br>Fecha=%{x}<br>Total de Delitos=%{y}<extra></extra>",
         "legendgroup": "Dorado",
         "line": {
          "color": "#19d3f3"
         },
         "marker": {
          "symbol": "circle"
         },
         "mode": "lines",
         "name": "Dorado",
         "orientation": "v",
         "showlegend": true,
         "stackgroup": "1",
         "type": "scatter",
         "x": [
          "2020-01-01T00:00:00",
          "2020-02-01T00:00:00",
          "2020-03-01T00:00:00",
          "2020-04-01T00:00:00",
          "2020-05-01T00:00:00",
          "2020-06-01T00:00:00",
          "2020-07-01T00:00:00",
          "2020-08-01T00:00:00",
          "2020-09-01T00:00:00",
          "2020-10-01T00:00:00",
          "2020-11-01T00:00:00",
          "2020-12-01T00:00:00"
         ],
         "xaxis": "x",
         "y": [
          46,
          38,
          36,
          11,
          30,
          23,
          12,
          12,
          12,
          18,
          22,
          28
         ],
         "yaxis": "y"
        },
        {
         "customdata": [
          [
           "Fajardo"
          ],
          [
           "Fajardo"
          ],
          [
           "Fajardo"
          ],
          [
           "Fajardo"
          ],
          [
           "Fajardo"
          ],
          [
           "Fajardo"
          ],
          [
           "Fajardo"
          ],
          [
           "Fajardo"
          ],
          [
           "Fajardo"
          ],
          [
           "Fajardo"
          ],
          [
           "Fajardo"
          ],
          [
           "Fajardo"
          ]
         ],
         "fillpattern": {
          "shape": ""
         },
         "hovertemplate": "Municipio=%{customdata[0]}<br>Fecha=%{x}<br>Total de Delitos=%{y}<extra></extra>",
         "legendgroup": "Fajardo",
         "line": {
          "color": "#FF6692"
         },
         "marker": {
          "symbol": "circle"
         },
         "mode": "lines",
         "name": "Fajardo",
         "orientation": "v",
         "showlegend": true,
         "stackgroup": "1",
         "type": "scatter",
         "x": [
          "2020-01-01T00:00:00",
          "2020-02-01T00:00:00",
          "2020-03-01T00:00:00",
          "2020-04-01T00:00:00",
          "2020-05-01T00:00:00",
          "2020-06-01T00:00:00",
          "2020-07-01T00:00:00",
          "2020-08-01T00:00:00",
          "2020-09-01T00:00:00",
          "2020-10-01T00:00:00",
          "2020-11-01T00:00:00",
          "2020-12-01T00:00:00"
         ],
         "xaxis": "x",
         "y": [
          23.5,
          21,
          14,
          10,
          14,
          4,
          12,
          8,
          9,
          19,
          17,
          8
         ],
         "yaxis": "y"
        },
        {
         "customdata": [
          [
           "Florida"
          ],
          [
           "Florida"
          ],
          [
           "Florida"
          ],
          [
           "Florida"
          ],
          [
           "Florida"
          ],
          [
           "Florida"
          ],
          [
           "Florida"
          ],
          [
           "Florida"
          ],
          [
           "Florida"
          ],
          [
           "Florida"
          ],
          [
           "Florida"
          ],
          [
           "Florida"
          ]
         ],
         "fillpattern": {
          "shape": ""
         },
         "hovertemplate": "Municipio=%{customdata[0]}<br>Fecha=%{x}<br>Total de Delitos=%{y}<extra></extra>",
         "legendgroup": "Florida",
         "line": {
          "color": "#B6E880"
         },
         "marker": {
          "symbol": "circle"
         },
         "mode": "lines",
         "name": "Florida",
         "orientation": "v",
         "showlegend": true,
         "stackgroup": "1",
         "type": "scatter",
         "x": [
          "2020-01-01T00:00:00",
          "2020-02-01T00:00:00",
          "2020-03-01T00:00:00",
          "2020-04-01T00:00:00",
          "2020-05-01T00:00:00",
          "2020-06-01T00:00:00",
          "2020-07-01T00:00:00",
          "2020-08-01T00:00:00",
          "2020-09-01T00:00:00",
          "2020-10-01T00:00:00",
          "2020-11-01T00:00:00",
          "2020-12-01T00:00:00"
         ],
         "xaxis": "x",
         "y": [
          4.5,
          4,
          3,
          2,
          4,
          5,
          3,
          0,
          0,
          0,
          2,
          3
         ],
         "yaxis": "y"
        },
        {
         "customdata": [
          [
           "Guayama"
          ],
          [
           "Guayama"
          ],
          [
           "Guayama"
          ],
          [
           "Guayama"
          ],
          [
           "Guayama"
          ],
          [
           "Guayama"
          ],
          [
           "Guayama"
          ],
          [
           "Guayama"
          ],
          [
           "Guayama"
          ],
          [
           "Guayama"
          ],
          [
           "Guayama"
          ],
          [
           "Guayama"
          ]
         ],
         "fillpattern": {
          "shape": ""
         },
         "hovertemplate": "Municipio=%{customdata[0]}<br>Fecha=%{x}<br>Total de Delitos=%{y}<extra></extra>",
         "legendgroup": "Guayama",
         "line": {
          "color": "#FF97FF"
         },
         "marker": {
          "symbol": "circle"
         },
         "mode": "lines",
         "name": "Guayama",
         "orientation": "v",
         "showlegend": true,
         "stackgroup": "1",
         "type": "scatter",
         "x": [
          "2020-01-01T00:00:00",
          "2020-02-01T00:00:00",
          "2020-03-01T00:00:00",
          "2020-04-01T00:00:00",
          "2020-05-01T00:00:00",
          "2020-06-01T00:00:00",
          "2020-07-01T00:00:00",
          "2020-08-01T00:00:00",
          "2020-09-01T00:00:00",
          "2020-10-01T00:00:00",
          "2020-11-01T00:00:00",
          "2020-12-01T00:00:00"
         ],
         "xaxis": "x",
         "y": [
          32,
          36,
          29,
          27,
          17,
          20,
          20,
          6,
          23,
          29,
          21,
          14
         ],
         "yaxis": "y"
        },
        {
         "customdata": [
          [
           "Guayanilla"
          ],
          [
           "Guayanilla"
          ],
          [
           "Guayanilla"
          ],
          [
           "Guayanilla"
          ],
          [
           "Guayanilla"
          ],
          [
           "Guayanilla"
          ],
          [
           "Guayanilla"
          ],
          [
           "Guayanilla"
          ],
          [
           "Guayanilla"
          ],
          [
           "Guayanilla"
          ],
          [
           "Guayanilla"
          ],
          [
           "Guayanilla"
          ]
         ],
         "fillpattern": {
          "shape": ""
         },
         "hovertemplate": "Municipio=%{customdata[0]}<br>Fecha=%{x}<br>Total de Delitos=%{y}<extra></extra>",
         "legendgroup": "Guayanilla",
         "line": {
          "color": "#FECB52"
         },
         "marker": {
          "symbol": "circle"
         },
         "mode": "lines",
         "name": "Guayanilla",
         "orientation": "v",
         "showlegend": true,
         "stackgroup": "1",
         "type": "scatter",
         "x": [
          "2020-01-01T00:00:00",
          "2020-02-01T00:00:00",
          "2020-03-01T00:00:00",
          "2020-04-01T00:00:00",
          "2020-05-01T00:00:00",
          "2020-06-01T00:00:00",
          "2020-07-01T00:00:00",
          "2020-08-01T00:00:00",
          "2020-09-01T00:00:00",
          "2020-10-01T00:00:00",
          "2020-11-01T00:00:00",
          "2020-12-01T00:00:00"
         ],
         "xaxis": "x",
         "y": [
          5,
          5,
          9,
          4,
          2,
          1,
          3,
          4,
          8,
          7,
          6,
          6
         ],
         "yaxis": "y"
        },
        {
         "customdata": [
          [
           "Guaynabo"
          ],
          [
           "Guaynabo"
          ],
          [
           "Guaynabo"
          ],
          [
           "Guaynabo"
          ],
          [
           "Guaynabo"
          ],
          [
           "Guaynabo"
          ],
          [
           "Guaynabo"
          ],
          [
           "Guaynabo"
          ],
          [
           "Guaynabo"
          ],
          [
           "Guaynabo"
          ],
          [
           "Guaynabo"
          ],
          [
           "Guaynabo"
          ]
         ],
         "fillpattern": {
          "shape": ""
         },
         "hovertemplate": "Municipio=%{customdata[0]}<br>Fecha=%{x}<br>Total de Delitos=%{y}<extra></extra>",
         "legendgroup": "Guaynabo",
         "line": {
          "color": "#636efa"
         },
         "marker": {
          "symbol": "circle"
         },
         "mode": "lines",
         "name": "Guaynabo",
         "orientation": "v",
         "showlegend": true,
         "stackgroup": "1",
         "type": "scatter",
         "x": [
          "2020-01-01T00:00:00",
          "2020-02-01T00:00:00",
          "2020-03-01T00:00:00",
          "2020-04-01T00:00:00",
          "2020-05-01T00:00:00",
          "2020-06-01T00:00:00",
          "2020-07-01T00:00:00",
          "2020-08-01T00:00:00",
          "2020-09-01T00:00:00",
          "2020-10-01T00:00:00",
          "2020-11-01T00:00:00",
          "2020-12-01T00:00:00"
         ],
         "xaxis": "x",
         "y": [
          81,
          70,
          48,
          28,
          49,
          37,
          49,
          26,
          32,
          46,
          33,
          43
         ],
         "yaxis": "y"
        },
        {
         "customdata": [
          [
           "Gurabo"
          ],
          [
           "Gurabo"
          ],
          [
           "Gurabo"
          ],
          [
           "Gurabo"
          ],
          [
           "Gurabo"
          ],
          [
           "Gurabo"
          ],
          [
           "Gurabo"
          ],
          [
           "Gurabo"
          ],
          [
           "Gurabo"
          ],
          [
           "Gurabo"
          ],
          [
           "Gurabo"
          ],
          [
           "Gurabo"
          ]
         ],
         "fillpattern": {
          "shape": ""
         },
         "hovertemplate": "Municipio=%{customdata[0]}<br>Fecha=%{x}<br>Total de Delitos=%{y}<extra></extra>",
         "legendgroup": "Gurabo",
         "line": {
          "color": "#EF553B"
         },
         "marker": {
          "symbol": "circle"
         },
         "mode": "lines",
         "name": "Gurabo",
         "orientation": "v",
         "showlegend": true,
         "stackgroup": "1",
         "type": "scatter",
         "x": [
          "2020-01-01T00:00:00",
          "2020-02-01T00:00:00",
          "2020-03-01T00:00:00",
          "2020-04-01T00:00:00",
          "2020-05-01T00:00:00",
          "2020-06-01T00:00:00",
          "2020-07-01T00:00:00",
          "2020-08-01T00:00:00",
          "2020-09-01T00:00:00",
          "2020-10-01T00:00:00",
          "2020-11-01T00:00:00",
          "2020-12-01T00:00:00"
         ],
         "xaxis": "x",
         "y": [
          10.5,
          10,
          6,
          3,
          13,
          8,
          7,
          9,
          5,
          10,
          8,
          10
         ],
         "yaxis": "y"
        },
        {
         "customdata": [
          [
           "Guánica"
          ],
          [
           "Guánica"
          ],
          [
           "Guánica"
          ],
          [
           "Guánica"
          ],
          [
           "Guánica"
          ],
          [
           "Guánica"
          ],
          [
           "Guánica"
          ],
          [
           "Guánica"
          ],
          [
           "Guánica"
          ],
          [
           "Guánica"
          ],
          [
           "Guánica"
          ],
          [
           "Guánica"
          ]
         ],
         "fillpattern": {
          "shape": ""
         },
         "hovertemplate": "Municipio=%{customdata[0]}<br>Fecha=%{x}<br>Total de Delitos=%{y}<extra></extra>",
         "legendgroup": "Guánica",
         "line": {
          "color": "#00cc96"
         },
         "marker": {
          "symbol": "circle"
         },
         "mode": "lines",
         "name": "Guánica",
         "orientation": "v",
         "showlegend": true,
         "stackgroup": "1",
         "type": "scatter",
         "x": [
          "2020-01-01T00:00:00",
          "2020-02-01T00:00:00",
          "2020-03-01T00:00:00",
          "2020-04-01T00:00:00",
          "2020-05-01T00:00:00",
          "2020-06-01T00:00:00",
          "2020-07-01T00:00:00",
          "2020-08-01T00:00:00",
          "2020-09-01T00:00:00",
          "2020-10-01T00:00:00",
          "2020-11-01T00:00:00",
          "2020-12-01T00:00:00"
         ],
         "xaxis": "x",
         "y": [
          4.5,
          3,
          7,
          3,
          5,
          6,
          9,
          3,
          7,
          11,
          2,
          4
         ],
         "yaxis": "y"
        },
        {
         "customdata": [
          [
           "Hatillo"
          ],
          [
           "Hatillo"
          ],
          [
           "Hatillo"
          ],
          [
           "Hatillo"
          ],
          [
           "Hatillo"
          ],
          [
           "Hatillo"
          ],
          [
           "Hatillo"
          ],
          [
           "Hatillo"
          ],
          [
           "Hatillo"
          ],
          [
           "Hatillo"
          ],
          [
           "Hatillo"
          ],
          [
           "Hatillo"
          ]
         ],
         "fillpattern": {
          "shape": ""
         },
         "hovertemplate": "Municipio=%{customdata[0]}<br>Fecha=%{x}<br>Total de Delitos=%{y}<extra></extra>",
         "legendgroup": "Hatillo",
         "line": {
          "color": "#ab63fa"
         },
         "marker": {
          "symbol": "circle"
         },
         "mode": "lines",
         "name": "Hatillo",
         "orientation": "v",
         "showlegend": true,
         "stackgroup": "1",
         "type": "scatter",
         "x": [
          "2020-01-01T00:00:00",
          "2020-02-01T00:00:00",
          "2020-03-01T00:00:00",
          "2020-04-01T00:00:00",
          "2020-05-01T00:00:00",
          "2020-06-01T00:00:00",
          "2020-07-01T00:00:00",
          "2020-08-01T00:00:00",
          "2020-09-01T00:00:00",
          "2020-10-01T00:00:00",
          "2020-11-01T00:00:00",
          "2020-12-01T00:00:00"
         ],
         "xaxis": "x",
         "y": [
          27.5,
          32,
          26,
          5,
          13,
          13,
          12,
          18,
          13,
          24,
          17,
          14
         ],
         "yaxis": "y"
        },
        {
         "customdata": [
          [
           "Hormigueros"
          ],
          [
           "Hormigueros"
          ],
          [
           "Hormigueros"
          ],
          [
           "Hormigueros"
          ],
          [
           "Hormigueros"
          ],
          [
           "Hormigueros"
          ],
          [
           "Hormigueros"
          ],
          [
           "Hormigueros"
          ],
          [
           "Hormigueros"
          ],
          [
           "Hormigueros"
          ],
          [
           "Hormigueros"
          ],
          [
           "Hormigueros"
          ]
         ],
         "fillpattern": {
          "shape": ""
         },
         "hovertemplate": "Municipio=%{customdata[0]}<br>Fecha=%{x}<br>Total de Delitos=%{y}<extra></extra>",
         "legendgroup": "Hormigueros",
         "line": {
          "color": "#FFA15A"
         },
         "marker": {
          "symbol": "circle"
         },
         "mode": "lines",
         "name": "Hormigueros",
         "orientation": "v",
         "showlegend": true,
         "stackgroup": "1",
         "type": "scatter",
         "x": [
          "2020-01-01T00:00:00",
          "2020-02-01T00:00:00",
          "2020-03-01T00:00:00",
          "2020-04-01T00:00:00",
          "2020-05-01T00:00:00",
          "2020-06-01T00:00:00",
          "2020-07-01T00:00:00",
          "2020-08-01T00:00:00",
          "2020-09-01T00:00:00",
          "2020-10-01T00:00:00",
          "2020-11-01T00:00:00",
          "2020-12-01T00:00:00"
         ],
         "xaxis": "x",
         "y": [
          1.5,
          1,
          2,
          0,
          4,
          2,
          6,
          2,
          0,
          3,
          3,
          4
         ],
         "yaxis": "y"
        },
        {
         "customdata": [
          [
           "Humacao"
          ],
          [
           "Humacao"
          ],
          [
           "Humacao"
          ],
          [
           "Humacao"
          ],
          [
           "Humacao"
          ],
          [
           "Humacao"
          ],
          [
           "Humacao"
          ],
          [
           "Humacao"
          ],
          [
           "Humacao"
          ],
          [
           "Humacao"
          ],
          [
           "Humacao"
          ],
          [
           "Humacao"
          ]
         ],
         "fillpattern": {
          "shape": ""
         },
         "hovertemplate": "Municipio=%{customdata[0]}<br>Fecha=%{x}<br>Total de Delitos=%{y}<extra></extra>",
         "legendgroup": "Humacao",
         "line": {
          "color": "#19d3f3"
         },
         "marker": {
          "symbol": "circle"
         },
         "mode": "lines",
         "name": "Humacao",
         "orientation": "v",
         "showlegend": true,
         "stackgroup": "1",
         "type": "scatter",
         "x": [
          "2020-01-01T00:00:00",
          "2020-02-01T00:00:00",
          "2020-03-01T00:00:00",
          "2020-04-01T00:00:00",
          "2020-05-01T00:00:00",
          "2020-06-01T00:00:00",
          "2020-07-01T00:00:00",
          "2020-08-01T00:00:00",
          "2020-09-01T00:00:00",
          "2020-10-01T00:00:00",
          "2020-11-01T00:00:00",
          "2020-12-01T00:00:00"
         ],
         "xaxis": "x",
         "y": [
          32.5,
          26,
          11,
          8,
          8,
          17,
          7,
          19,
          10,
          16,
          24,
          20
         ],
         "yaxis": "y"
        },
        {
         "customdata": [
          [
           "Isabela"
          ],
          [
           "Isabela"
          ],
          [
           "Isabela"
          ],
          [
           "Isabela"
          ],
          [
           "Isabela"
          ],
          [
           "Isabela"
          ],
          [
           "Isabela"
          ],
          [
           "Isabela"
          ],
          [
           "Isabela"
          ],
          [
           "Isabela"
          ],
          [
           "Isabela"
          ],
          [
           "Isabela"
          ]
         ],
         "fillpattern": {
          "shape": ""
         },
         "hovertemplate": "Municipio=%{customdata[0]}<br>Fecha=%{x}<br>Total de Delitos=%{y}<extra></extra>",
         "legendgroup": "Isabela",
         "line": {
          "color": "#FF6692"
         },
         "marker": {
          "symbol": "circle"
         },
         "mode": "lines",
         "name": "Isabela",
         "orientation": "v",
         "showlegend": true,
         "stackgroup": "1",
         "type": "scatter",
         "x": [
          "2020-01-01T00:00:00",
          "2020-02-01T00:00:00",
          "2020-03-01T00:00:00",
          "2020-04-01T00:00:00",
          "2020-05-01T00:00:00",
          "2020-06-01T00:00:00",
          "2020-07-01T00:00:00",
          "2020-08-01T00:00:00",
          "2020-09-01T00:00:00",
          "2020-10-01T00:00:00",
          "2020-11-01T00:00:00",
          "2020-12-01T00:00:00"
         ],
         "xaxis": "x",
         "y": [
          20,
          18,
          8,
          11,
          6,
          9,
          9,
          14,
          8,
          11,
          9,
          9
         ],
         "yaxis": "y"
        },
        {
         "customdata": [
          [
           "Jayuya"
          ],
          [
           "Jayuya"
          ],
          [
           "Jayuya"
          ],
          [
           "Jayuya"
          ],
          [
           "Jayuya"
          ],
          [
           "Jayuya"
          ],
          [
           "Jayuya"
          ],
          [
           "Jayuya"
          ],
          [
           "Jayuya"
          ],
          [
           "Jayuya"
          ],
          [
           "Jayuya"
          ],
          [
           "Jayuya"
          ]
         ],
         "fillpattern": {
          "shape": ""
         },
         "hovertemplate": "Municipio=%{customdata[0]}<br>Fecha=%{x}<br>Total de Delitos=%{y}<extra></extra>",
         "legendgroup": "Jayuya",
         "line": {
          "color": "#B6E880"
         },
         "marker": {
          "symbol": "circle"
         },
         "mode": "lines",
         "name": "Jayuya",
         "orientation": "v",
         "showlegend": true,
         "stackgroup": "1",
         "type": "scatter",
         "x": [
          "2020-01-01T00:00:00",
          "2020-02-01T00:00:00",
          "2020-03-01T00:00:00",
          "2020-04-01T00:00:00",
          "2020-05-01T00:00:00",
          "2020-06-01T00:00:00",
          "2020-07-01T00:00:00",
          "2020-08-01T00:00:00",
          "2020-09-01T00:00:00",
          "2020-10-01T00:00:00",
          "2020-11-01T00:00:00",
          "2020-12-01T00:00:00"
         ],
         "xaxis": "x",
         "y": [
          7.5,
          10,
          6,
          4,
          3,
          3,
          0,
          3,
          6,
          0,
          4,
          2
         ],
         "yaxis": "y"
        },
        {
         "customdata": [
          [
           "Juana Díaz"
          ],
          [
           "Juana Díaz"
          ],
          [
           "Juana Díaz"
          ],
          [
           "Juana Díaz"
          ],
          [
           "Juana Díaz"
          ],
          [
           "Juana Díaz"
          ],
          [
           "Juana Díaz"
          ],
          [
           "Juana Díaz"
          ],
          [
           "Juana Díaz"
          ],
          [
           "Juana Díaz"
          ],
          [
           "Juana Díaz"
          ],
          [
           "Juana Díaz"
          ]
         ],
         "fillpattern": {
          "shape": ""
         },
         "hovertemplate": "Municipio=%{customdata[0]}<br>Fecha=%{x}<br>Total de Delitos=%{y}<extra></extra>",
         "legendgroup": "Juana Díaz",
         "line": {
          "color": "#FF97FF"
         },
         "marker": {
          "symbol": "circle"
         },
         "mode": "lines",
         "name": "Juana Díaz",
         "orientation": "v",
         "showlegend": true,
         "stackgroup": "1",
         "type": "scatter",
         "x": [
          "2020-01-01T00:00:00",
          "2020-02-01T00:00:00",
          "2020-03-01T00:00:00",
          "2020-04-01T00:00:00",
          "2020-05-01T00:00:00",
          "2020-06-01T00:00:00",
          "2020-07-01T00:00:00",
          "2020-08-01T00:00:00",
          "2020-09-01T00:00:00",
          "2020-10-01T00:00:00",
          "2020-11-01T00:00:00",
          "2020-12-01T00:00:00"
         ],
         "xaxis": "x",
         "y": [
          14,
          18,
          10,
          6,
          5,
          9,
          6,
          11,
          9,
          19,
          12,
          20
         ],
         "yaxis": "y"
        },
        {
         "customdata": [
          [
           "Juncos"
          ],
          [
           "Juncos"
          ],
          [
           "Juncos"
          ],
          [
           "Juncos"
          ],
          [
           "Juncos"
          ],
          [
           "Juncos"
          ],
          [
           "Juncos"
          ],
          [
           "Juncos"
          ],
          [
           "Juncos"
          ],
          [
           "Juncos"
          ],
          [
           "Juncos"
          ],
          [
           "Juncos"
          ]
         ],
         "fillpattern": {
          "shape": ""
         },
         "hovertemplate": "Municipio=%{customdata[0]}<br>Fecha=%{x}<br>Total de Delitos=%{y}<extra></extra>",
         "legendgroup": "Juncos",
         "line": {
          "color": "#FECB52"
         },
         "marker": {
          "symbol": "circle"
         },
         "mode": "lines",
         "name": "Juncos",
         "orientation": "v",
         "showlegend": true,
         "stackgroup": "1",
         "type": "scatter",
         "x": [
          "2020-01-01T00:00:00",
          "2020-02-01T00:00:00",
          "2020-03-01T00:00:00",
          "2020-04-01T00:00:00",
          "2020-05-01T00:00:00",
          "2020-06-01T00:00:00",
          "2020-07-01T00:00:00",
          "2020-08-01T00:00:00",
          "2020-09-01T00:00:00",
          "2020-10-01T00:00:00",
          "2020-11-01T00:00:00",
          "2020-12-01T00:00:00"
         ],
         "xaxis": "x",
         "y": [
          17,
          23,
          15,
          4,
          9,
          7,
          7,
          10,
          10,
          10,
          9,
          10
         ],
         "yaxis": "y"
        },
        {
         "customdata": [
          [
           "Lajas"
          ],
          [
           "Lajas"
          ],
          [
           "Lajas"
          ],
          [
           "Lajas"
          ],
          [
           "Lajas"
          ],
          [
           "Lajas"
          ],
          [
           "Lajas"
          ],
          [
           "Lajas"
          ],
          [
           "Lajas"
          ],
          [
           "Lajas"
          ],
          [
           "Lajas"
          ],
          [
           "Lajas"
          ]
         ],
         "fillpattern": {
          "shape": ""
         },
         "hovertemplate": "Municipio=%{customdata[0]}<br>Fecha=%{x}<br>Total de Delitos=%{y}<extra></extra>",
         "legendgroup": "Lajas",
         "line": {
          "color": "#636efa"
         },
         "marker": {
          "symbol": "circle"
         },
         "mode": "lines",
         "name": "Lajas",
         "orientation": "v",
         "showlegend": true,
         "stackgroup": "1",
         "type": "scatter",
         "x": [
          "2020-01-01T00:00:00",
          "2020-02-01T00:00:00",
          "2020-03-01T00:00:00",
          "2020-04-01T00:00:00",
          "2020-05-01T00:00:00",
          "2020-06-01T00:00:00",
          "2020-07-01T00:00:00",
          "2020-08-01T00:00:00",
          "2020-09-01T00:00:00",
          "2020-10-01T00:00:00",
          "2020-11-01T00:00:00",
          "2020-12-01T00:00:00"
         ],
         "xaxis": "x",
         "y": [
          5,
          5,
          4,
          3,
          4,
          4,
          3,
          5,
          9,
          9,
          5,
          1
         ],
         "yaxis": "y"
        },
        {
         "customdata": [
          [
           "Lares"
          ],
          [
           "Lares"
          ],
          [
           "Lares"
          ],
          [
           "Lares"
          ],
          [
           "Lares"
          ],
          [
           "Lares"
          ],
          [
           "Lares"
          ],
          [
           "Lares"
          ],
          [
           "Lares"
          ],
          [
           "Lares"
          ],
          [
           "Lares"
          ],
          [
           "Lares"
          ]
         ],
         "fillpattern": {
          "shape": ""
         },
         "hovertemplate": "Municipio=%{customdata[0]}<br>Fecha=%{x}<br>Total de Delitos=%{y}<extra></extra>",
         "legendgroup": "Lares",
         "line": {
          "color": "#EF553B"
         },
         "marker": {
          "symbol": "circle"
         },
         "mode": "lines",
         "name": "Lares",
         "orientation": "v",
         "showlegend": true,
         "stackgroup": "1",
         "type": "scatter",
         "x": [
          "2020-01-01T00:00:00",
          "2020-02-01T00:00:00",
          "2020-03-01T00:00:00",
          "2020-04-01T00:00:00",
          "2020-05-01T00:00:00",
          "2020-06-01T00:00:00",
          "2020-07-01T00:00:00",
          "2020-08-01T00:00:00",
          "2020-09-01T00:00:00",
          "2020-10-01T00:00:00",
          "2020-11-01T00:00:00",
          "2020-12-01T00:00:00"
         ],
         "xaxis": "x",
         "y": [
          7.5,
          4,
          5,
          6,
          8,
          2,
          4,
          8,
          5,
          6,
          7,
          7
         ],
         "yaxis": "y"
        },
        {
         "customdata": [
          [
           "Las Marías"
          ],
          [
           "Las Marías"
          ],
          [
           "Las Marías"
          ],
          [
           "Las Marías"
          ],
          [
           "Las Marías"
          ],
          [
           "Las Marías"
          ],
          [
           "Las Marías"
          ],
          [
           "Las Marías"
          ],
          [
           "Las Marías"
          ],
          [
           "Las Marías"
          ],
          [
           "Las Marías"
          ],
          [
           "Las Marías"
          ]
         ],
         "fillpattern": {
          "shape": ""
         },
         "hovertemplate": "Municipio=%{customdata[0]}<br>Fecha=%{x}<br>Total de Delitos=%{y}<extra></extra>",
         "legendgroup": "Las Marías",
         "line": {
          "color": "#00cc96"
         },
         "marker": {
          "symbol": "circle"
         },
         "mode": "lines",
         "name": "Las Marías",
         "orientation": "v",
         "showlegend": true,
         "stackgroup": "1",
         "type": "scatter",
         "x": [
          "2020-01-01T00:00:00",
          "2020-02-01T00:00:00",
          "2020-03-01T00:00:00",
          "2020-04-01T00:00:00",
          "2020-05-01T00:00:00",
          "2020-06-01T00:00:00",
          "2020-07-01T00:00:00",
          "2020-08-01T00:00:00",
          "2020-09-01T00:00:00",
          "2020-10-01T00:00:00",
          "2020-11-01T00:00:00",
          "2020-12-01T00:00:00"
         ],
         "xaxis": "x",
         "y": [
          1,
          2,
          4,
          6,
          3,
          2,
          0,
          1,
          1,
          1,
          2,
          1
         ],
         "yaxis": "y"
        },
        {
         "customdata": [
          [
           "Las Piedras"
          ],
          [
           "Las Piedras"
          ],
          [
           "Las Piedras"
          ],
          [
           "Las Piedras"
          ],
          [
           "Las Piedras"
          ],
          [
           "Las Piedras"
          ],
          [
           "Las Piedras"
          ],
          [
           "Las Piedras"
          ],
          [
           "Las Piedras"
          ],
          [
           "Las Piedras"
          ],
          [
           "Las Piedras"
          ],
          [
           "Las Piedras"
          ]
         ],
         "fillpattern": {
          "shape": ""
         },
         "hovertemplate": "Municipio=%{customdata[0]}<br>Fecha=%{x}<br>Total de Delitos=%{y}<extra></extra>",
         "legendgroup": "Las Piedras",
         "line": {
          "color": "#ab63fa"
         },
         "marker": {
          "symbol": "circle"
         },
         "mode": "lines",
         "name": "Las Piedras",
         "orientation": "v",
         "showlegend": true,
         "stackgroup": "1",
         "type": "scatter",
         "x": [
          "2020-01-01T00:00:00",
          "2020-02-01T00:00:00",
          "2020-03-01T00:00:00",
          "2020-04-01T00:00:00",
          "2020-05-01T00:00:00",
          "2020-06-01T00:00:00",
          "2020-07-01T00:00:00",
          "2020-08-01T00:00:00",
          "2020-09-01T00:00:00",
          "2020-10-01T00:00:00",
          "2020-11-01T00:00:00",
          "2020-12-01T00:00:00"
         ],
         "xaxis": "x",
         "y": [
          22,
          21,
          17,
          10,
          8,
          9,
          7,
          8,
          6,
          10,
          9,
          25
         ],
         "yaxis": "y"
        },
        {
         "customdata": [
          [
           "Loiza"
          ],
          [
           "Loiza"
          ],
          [
           "Loiza"
          ],
          [
           "Loiza"
          ],
          [
           "Loiza"
          ],
          [
           "Loiza"
          ],
          [
           "Loiza"
          ],
          [
           "Loiza"
          ],
          [
           "Loiza"
          ],
          [
           "Loiza"
          ],
          [
           "Loiza"
          ],
          [
           "Loiza"
          ]
         ],
         "fillpattern": {
          "shape": ""
         },
         "hovertemplate": "Municipio=%{customdata[0]}<br>Fecha=%{x}<br>Total de Delitos=%{y}<extra></extra>",
         "legendgroup": "Loiza",
         "line": {
          "color": "#FFA15A"
         },
         "marker": {
          "symbol": "circle"
         },
         "mode": "lines",
         "name": "Loiza",
         "orientation": "v",
         "showlegend": true,
         "stackgroup": "1",
         "type": "scatter",
         "x": [
          "2020-01-01T00:00:00",
          "2020-02-01T00:00:00",
          "2020-03-01T00:00:00",
          "2020-04-01T00:00:00",
          "2020-05-01T00:00:00",
          "2020-06-01T00:00:00",
          "2020-07-01T00:00:00",
          "2020-08-01T00:00:00",
          "2020-09-01T00:00:00",
          "2020-10-01T00:00:00",
          "2020-11-01T00:00:00",
          "2020-12-01T00:00:00"
         ],
         "xaxis": "x",
         "y": [
          17,
          15,
          0,
          6,
          43,
          9,
          14,
          13,
          10,
          9,
          15,
          11
         ],
         "yaxis": "y"
        },
        {
         "customdata": [
          [
           "Luquillo"
          ],
          [
           "Luquillo"
          ],
          [
           "Luquillo"
          ],
          [
           "Luquillo"
          ],
          [
           "Luquillo"
          ],
          [
           "Luquillo"
          ],
          [
           "Luquillo"
          ],
          [
           "Luquillo"
          ],
          [
           "Luquillo"
          ],
          [
           "Luquillo"
          ],
          [
           "Luquillo"
          ],
          [
           "Luquillo"
          ]
         ],
         "fillpattern": {
          "shape": ""
         },
         "hovertemplate": "Municipio=%{customdata[0]}<br>Fecha=%{x}<br>Total de Delitos=%{y}<extra></extra>",
         "legendgroup": "Luquillo",
         "line": {
          "color": "#19d3f3"
         },
         "marker": {
          "symbol": "circle"
         },
         "mode": "lines",
         "name": "Luquillo",
         "orientation": "v",
         "showlegend": true,
         "stackgroup": "1",
         "type": "scatter",
         "x": [
          "2020-01-01T00:00:00",
          "2020-02-01T00:00:00",
          "2020-03-01T00:00:00",
          "2020-04-01T00:00:00",
          "2020-05-01T00:00:00",
          "2020-06-01T00:00:00",
          "2020-07-01T00:00:00",
          "2020-08-01T00:00:00",
          "2020-09-01T00:00:00",
          "2020-10-01T00:00:00",
          "2020-11-01T00:00:00",
          "2020-12-01T00:00:00"
         ],
         "xaxis": "x",
         "y": [
          28.5,
          18,
          18,
          5,
          12,
          13,
          4,
          7,
          14,
          10,
          16,
          5
         ],
         "yaxis": "y"
        },
        {
         "customdata": [
          [
           "Manatí"
          ],
          [
           "Manatí"
          ],
          [
           "Manatí"
          ],
          [
           "Manatí"
          ],
          [
           "Manatí"
          ],
          [
           "Manatí"
          ],
          [
           "Manatí"
          ],
          [
           "Manatí"
          ],
          [
           "Manatí"
          ],
          [
           "Manatí"
          ],
          [
           "Manatí"
          ],
          [
           "Manatí"
          ]
         ],
         "fillpattern": {
          "shape": ""
         },
         "hovertemplate": "Municipio=%{customdata[0]}<br>Fecha=%{x}<br>Total de Delitos=%{y}<extra></extra>",
         "legendgroup": "Manatí",
         "line": {
          "color": "#FF6692"
         },
         "marker": {
          "symbol": "circle"
         },
         "mode": "lines",
         "name": "Manatí",
         "orientation": "v",
         "showlegend": true,
         "stackgroup": "1",
         "type": "scatter",
         "x": [
          "2020-01-01T00:00:00",
          "2020-02-01T00:00:00",
          "2020-03-01T00:00:00",
          "2020-04-01T00:00:00",
          "2020-05-01T00:00:00",
          "2020-06-01T00:00:00",
          "2020-07-01T00:00:00",
          "2020-08-01T00:00:00",
          "2020-09-01T00:00:00",
          "2020-10-01T00:00:00",
          "2020-11-01T00:00:00",
          "2020-12-01T00:00:00"
         ],
         "xaxis": "x",
         "y": [
          32.5,
          23,
          14,
          11,
          22,
          23,
          24,
          21,
          30,
          43,
          30,
          33
         ],
         "yaxis": "y"
        },
        {
         "customdata": [
          [
           "Maricao"
          ],
          [
           "Maricao"
          ],
          [
           "Maricao"
          ],
          [
           "Maricao"
          ],
          [
           "Maricao"
          ],
          [
           "Maricao"
          ],
          [
           "Maricao"
          ],
          [
           "Maricao"
          ],
          [
           "Maricao"
          ],
          [
           "Maricao"
          ],
          [
           "Maricao"
          ],
          [
           "Maricao"
          ]
         ],
         "fillpattern": {
          "shape": ""
         },
         "hovertemplate": "Municipio=%{customdata[0]}<br>Fecha=%{x}<br>Total de Delitos=%{y}<extra></extra>",
         "legendgroup": "Maricao",
         "line": {
          "color": "#B6E880"
         },
         "marker": {
          "symbol": "circle"
         },
         "mode": "lines",
         "name": "Maricao",
         "orientation": "v",
         "showlegend": true,
         "stackgroup": "1",
         "type": "scatter",
         "x": [
          "2020-01-01T00:00:00",
          "2020-02-01T00:00:00",
          "2020-03-01T00:00:00",
          "2020-04-01T00:00:00",
          "2020-05-01T00:00:00",
          "2020-06-01T00:00:00",
          "2020-07-01T00:00:00",
          "2020-08-01T00:00:00",
          "2020-09-01T00:00:00",
          "2020-10-01T00:00:00",
          "2020-11-01T00:00:00",
          "2020-12-01T00:00:00"
         ],
         "xaxis": "x",
         "y": [
          4,
          4,
          4,
          4,
          4,
          1,
          1,
          1,
          0,
          3,
          2,
          1
         ],
         "yaxis": "y"
        },
        {
         "customdata": [
          [
           "Maunabo"
          ],
          [
           "Maunabo"
          ],
          [
           "Maunabo"
          ],
          [
           "Maunabo"
          ],
          [
           "Maunabo"
          ],
          [
           "Maunabo"
          ],
          [
           "Maunabo"
          ],
          [
           "Maunabo"
          ],
          [
           "Maunabo"
          ],
          [
           "Maunabo"
          ],
          [
           "Maunabo"
          ],
          [
           "Maunabo"
          ]
         ],
         "fillpattern": {
          "shape": ""
         },
         "hovertemplate": "Municipio=%{customdata[0]}<br>Fecha=%{x}<br>Total de Delitos=%{y}<extra></extra>",
         "legendgroup": "Maunabo",
         "line": {
          "color": "#FF97FF"
         },
         "marker": {
          "symbol": "circle"
         },
         "mode": "lines",
         "name": "Maunabo",
         "orientation": "v",
         "showlegend": true,
         "stackgroup": "1",
         "type": "scatter",
         "x": [
          "2020-01-01T00:00:00",
          "2020-02-01T00:00:00",
          "2020-03-01T00:00:00",
          "2020-04-01T00:00:00",
          "2020-05-01T00:00:00",
          "2020-06-01T00:00:00",
          "2020-07-01T00:00:00",
          "2020-08-01T00:00:00",
          "2020-09-01T00:00:00",
          "2020-10-01T00:00:00",
          "2020-11-01T00:00:00",
          "2020-12-01T00:00:00"
         ],
         "xaxis": "x",
         "y": [
          5.5,
          2,
          4,
          2,
          3,
          4,
          2,
          2,
          3,
          7,
          2,
          6
         ],
         "yaxis": "y"
        },
        {
         "customdata": [
          [
           "Mayagüez"
          ],
          [
           "Mayagüez"
          ],
          [
           "Mayagüez"
          ],
          [
           "Mayagüez"
          ],
          [
           "Mayagüez"
          ],
          [
           "Mayagüez"
          ],
          [
           "Mayagüez"
          ],
          [
           "Mayagüez"
          ],
          [
           "Mayagüez"
          ],
          [
           "Mayagüez"
          ],
          [
           "Mayagüez"
          ],
          [
           "Mayagüez"
          ]
         ],
         "fillpattern": {
          "shape": ""
         },
         "hovertemplate": "Municipio=%{customdata[0]}<br>Fecha=%{x}<br>Total de Delitos=%{y}<extra></extra>",
         "legendgroup": "Mayagüez",
         "line": {
          "color": "#FECB52"
         },
         "marker": {
          "symbol": "circle"
         },
         "mode": "lines",
         "name": "Mayagüez",
         "orientation": "v",
         "showlegend": true,
         "stackgroup": "1",
         "type": "scatter",
         "x": [
          "2020-01-01T00:00:00",
          "2020-02-01T00:00:00",
          "2020-03-01T00:00:00",
          "2020-04-01T00:00:00",
          "2020-05-01T00:00:00",
          "2020-06-01T00:00:00",
          "2020-07-01T00:00:00",
          "2020-08-01T00:00:00",
          "2020-09-01T00:00:00",
          "2020-10-01T00:00:00",
          "2020-11-01T00:00:00",
          "2020-12-01T00:00:00"
         ],
         "xaxis": "x",
         "y": [
          25,
          27,
          29,
          13,
          4,
          18,
          10,
          18,
          21,
          25,
          21,
          34
         ],
         "yaxis": "y"
        },
        {
         "customdata": [
          [
           "Moca"
          ],
          [
           "Moca"
          ],
          [
           "Moca"
          ],
          [
           "Moca"
          ],
          [
           "Moca"
          ],
          [
           "Moca"
          ],
          [
           "Moca"
          ],
          [
           "Moca"
          ],
          [
           "Moca"
          ],
          [
           "Moca"
          ],
          [
           "Moca"
          ],
          [
           "Moca"
          ]
         ],
         "fillpattern": {
          "shape": ""
         },
         "hovertemplate": "Municipio=%{customdata[0]}<br>Fecha=%{x}<br>Total de Delitos=%{y}<extra></extra>",
         "legendgroup": "Moca",
         "line": {
          "color": "#636efa"
         },
         "marker": {
          "symbol": "circle"
         },
         "mode": "lines",
         "name": "Moca",
         "orientation": "v",
         "showlegend": true,
         "stackgroup": "1",
         "type": "scatter",
         "x": [
          "2020-01-01T00:00:00",
          "2020-02-01T00:00:00",
          "2020-03-01T00:00:00",
          "2020-04-01T00:00:00",
          "2020-05-01T00:00:00",
          "2020-06-01T00:00:00",
          "2020-07-01T00:00:00",
          "2020-08-01T00:00:00",
          "2020-09-01T00:00:00",
          "2020-10-01T00:00:00",
          "2020-11-01T00:00:00",
          "2020-12-01T00:00:00"
         ],
         "xaxis": "x",
         "y": [
          8,
          5,
          8,
          6,
          3,
          11,
          4,
          10,
          5,
          5,
          9,
          6
         ],
         "yaxis": "y"
        },
        {
         "customdata": [
          [
           "Morovis"
          ],
          [
           "Morovis"
          ],
          [
           "Morovis"
          ],
          [
           "Morovis"
          ],
          [
           "Morovis"
          ],
          [
           "Morovis"
          ],
          [
           "Morovis"
          ],
          [
           "Morovis"
          ],
          [
           "Morovis"
          ],
          [
           "Morovis"
          ],
          [
           "Morovis"
          ],
          [
           "Morovis"
          ]
         ],
         "fillpattern": {
          "shape": ""
         },
         "hovertemplate": "Municipio=%{customdata[0]}<br>Fecha=%{x}<br>Total de Delitos=%{y}<extra></extra>",
         "legendgroup": "Morovis",
         "line": {
          "color": "#EF553B"
         },
         "marker": {
          "symbol": "circle"
         },
         "mode": "lines",
         "name": "Morovis",
         "orientation": "v",
         "showlegend": true,
         "stackgroup": "1",
         "type": "scatter",
         "x": [
          "2020-01-01T00:00:00",
          "2020-02-01T00:00:00",
          "2020-03-01T00:00:00",
          "2020-04-01T00:00:00",
          "2020-05-01T00:00:00",
          "2020-06-01T00:00:00",
          "2020-07-01T00:00:00",
          "2020-08-01T00:00:00",
          "2020-09-01T00:00:00",
          "2020-10-01T00:00:00",
          "2020-11-01T00:00:00",
          "2020-12-01T00:00:00"
         ],
         "xaxis": "x",
         "y": [
          19,
          17,
          8,
          6,
          3,
          3,
          13,
          4,
          8,
          11,
          6,
          7
         ],
         "yaxis": "y"
        },
        {
         "customdata": [
          [
           "Naguabo"
          ],
          [
           "Naguabo"
          ],
          [
           "Naguabo"
          ],
          [
           "Naguabo"
          ],
          [
           "Naguabo"
          ],
          [
           "Naguabo"
          ],
          [
           "Naguabo"
          ],
          [
           "Naguabo"
          ],
          [
           "Naguabo"
          ],
          [
           "Naguabo"
          ],
          [
           "Naguabo"
          ],
          [
           "Naguabo"
          ]
         ],
         "fillpattern": {
          "shape": ""
         },
         "hovertemplate": "Municipio=%{customdata[0]}<br>Fecha=%{x}<br>Total de Delitos=%{y}<extra></extra>",
         "legendgroup": "Naguabo",
         "line": {
          "color": "#00cc96"
         },
         "marker": {
          "symbol": "circle"
         },
         "mode": "lines",
         "name": "Naguabo",
         "orientation": "v",
         "showlegend": true,
         "stackgroup": "1",
         "type": "scatter",
         "x": [
          "2020-01-01T00:00:00",
          "2020-02-01T00:00:00",
          "2020-03-01T00:00:00",
          "2020-04-01T00:00:00",
          "2020-05-01T00:00:00",
          "2020-06-01T00:00:00",
          "2020-07-01T00:00:00",
          "2020-08-01T00:00:00",
          "2020-09-01T00:00:00",
          "2020-10-01T00:00:00",
          "2020-11-01T00:00:00",
          "2020-12-01T00:00:00"
         ],
         "xaxis": "x",
         "y": [
          12,
          8,
          3,
          9,
          12,
          4,
          7,
          7,
          6,
          4,
          3,
          8
         ],
         "yaxis": "y"
        },
        {
         "customdata": [
          [
           "Naranjito"
          ],
          [
           "Naranjito"
          ],
          [
           "Naranjito"
          ],
          [
           "Naranjito"
          ],
          [
           "Naranjito"
          ],
          [
           "Naranjito"
          ],
          [
           "Naranjito"
          ],
          [
           "Naranjito"
          ],
          [
           "Naranjito"
          ],
          [
           "Naranjito"
          ],
          [
           "Naranjito"
          ],
          [
           "Naranjito"
          ]
         ],
         "fillpattern": {
          "shape": ""
         },
         "hovertemplate": "Municipio=%{customdata[0]}<br>Fecha=%{x}<br>Total de Delitos=%{y}<extra></extra>",
         "legendgroup": "Naranjito",
         "line": {
          "color": "#ab63fa"
         },
         "marker": {
          "symbol": "circle"
         },
         "mode": "lines",
         "name": "Naranjito",
         "orientation": "v",
         "showlegend": true,
         "stackgroup": "1",
         "type": "scatter",
         "x": [
          "2020-01-01T00:00:00",
          "2020-02-01T00:00:00",
          "2020-03-01T00:00:00",
          "2020-04-01T00:00:00",
          "2020-05-01T00:00:00",
          "2020-06-01T00:00:00",
          "2020-07-01T00:00:00",
          "2020-08-01T00:00:00",
          "2020-09-01T00:00:00",
          "2020-10-01T00:00:00",
          "2020-11-01T00:00:00",
          "2020-12-01T00:00:00"
         ],
         "xaxis": "x",
         "y": [
          35,
          15,
          26,
          10,
          -1,
          10,
          12,
          8,
          7,
          10,
          12,
          15
         ],
         "yaxis": "y"
        },
        {
         "customdata": [
          [
           "Orocovis"
          ],
          [
           "Orocovis"
          ],
          [
           "Orocovis"
          ],
          [
           "Orocovis"
          ],
          [
           "Orocovis"
          ],
          [
           "Orocovis"
          ],
          [
           "Orocovis"
          ],
          [
           "Orocovis"
          ],
          [
           "Orocovis"
          ],
          [
           "Orocovis"
          ],
          [
           "Orocovis"
          ],
          [
           "Orocovis"
          ]
         ],
         "fillpattern": {
          "shape": ""
         },
         "hovertemplate": "Municipio=%{customdata[0]}<br>Fecha=%{x}<br>Total de Delitos=%{y}<extra></extra>",
         "legendgroup": "Orocovis",
         "line": {
          "color": "#FFA15A"
         },
         "marker": {
          "symbol": "circle"
         },
         "mode": "lines",
         "name": "Orocovis",
         "orientation": "v",
         "showlegend": true,
         "stackgroup": "1",
         "type": "scatter",
         "x": [
          "2020-01-01T00:00:00",
          "2020-02-01T00:00:00",
          "2020-03-01T00:00:00",
          "2020-04-01T00:00:00",
          "2020-05-01T00:00:00",
          "2020-06-01T00:00:00",
          "2020-07-01T00:00:00",
          "2020-08-01T00:00:00",
          "2020-09-01T00:00:00",
          "2020-10-01T00:00:00",
          "2020-11-01T00:00:00",
          "2020-12-01T00:00:00"
         ],
         "xaxis": "x",
         "y": [
          10.5,
          7,
          4,
          2,
          2,
          5,
          7,
          3,
          7,
          6,
          14,
          11
         ],
         "yaxis": "y"
        },
        {
         "customdata": [
          [
           "Patillas"
          ],
          [
           "Patillas"
          ],
          [
           "Patillas"
          ],
          [
           "Patillas"
          ],
          [
           "Patillas"
          ],
          [
           "Patillas"
          ],
          [
           "Patillas"
          ],
          [
           "Patillas"
          ],
          [
           "Patillas"
          ],
          [
           "Patillas"
          ],
          [
           "Patillas"
          ],
          [
           "Patillas"
          ]
         ],
         "fillpattern": {
          "shape": ""
         },
         "hovertemplate": "Municipio=%{customdata[0]}<br>Fecha=%{x}<br>Total de Delitos=%{y}<extra></extra>",
         "legendgroup": "Patillas",
         "line": {
          "color": "#19d3f3"
         },
         "marker": {
          "symbol": "circle"
         },
         "mode": "lines",
         "name": "Patillas",
         "orientation": "v",
         "showlegend": true,
         "stackgroup": "1",
         "type": "scatter",
         "x": [
          "2020-01-01T00:00:00",
          "2020-02-01T00:00:00",
          "2020-03-01T00:00:00",
          "2020-04-01T00:00:00",
          "2020-05-01T00:00:00",
          "2020-06-01T00:00:00",
          "2020-07-01T00:00:00",
          "2020-08-01T00:00:00",
          "2020-09-01T00:00:00",
          "2020-10-01T00:00:00",
          "2020-11-01T00:00:00",
          "2020-12-01T00:00:00"
         ],
         "xaxis": "x",
         "y": [
          8.5,
          4,
          7,
          8,
          4,
          2,
          3,
          8,
          9,
          3,
          4,
          8
         ],
         "yaxis": "y"
        },
        {
         "customdata": [
          [
           "Peñuelas"
          ],
          [
           "Peñuelas"
          ],
          [
           "Peñuelas"
          ],
          [
           "Peñuelas"
          ],
          [
           "Peñuelas"
          ],
          [
           "Peñuelas"
          ],
          [
           "Peñuelas"
          ],
          [
           "Peñuelas"
          ],
          [
           "Peñuelas"
          ],
          [
           "Peñuelas"
          ],
          [
           "Peñuelas"
          ],
          [
           "Peñuelas"
          ]
         ],
         "fillpattern": {
          "shape": ""
         },
         "hovertemplate": "Municipio=%{customdata[0]}<br>Fecha=%{x}<br>Total de Delitos=%{y}<extra></extra>",
         "legendgroup": "Peñuelas",
         "line": {
          "color": "#FF6692"
         },
         "marker": {
          "symbol": "circle"
         },
         "mode": "lines",
         "name": "Peñuelas",
         "orientation": "v",
         "showlegend": true,
         "stackgroup": "1",
         "type": "scatter",
         "x": [
          "2020-01-01T00:00:00",
          "2020-02-01T00:00:00",
          "2020-03-01T00:00:00",
          "2020-04-01T00:00:00",
          "2020-05-01T00:00:00",
          "2020-06-01T00:00:00",
          "2020-07-01T00:00:00",
          "2020-08-01T00:00:00",
          "2020-09-01T00:00:00",
          "2020-10-01T00:00:00",
          "2020-11-01T00:00:00",
          "2020-12-01T00:00:00"
         ],
         "xaxis": "x",
         "y": [
          4,
          5,
          4,
          3,
          4,
          2,
          6,
          6,
          2,
          3,
          7,
          8
         ],
         "yaxis": "y"
        },
        {
         "customdata": [
          [
           "Ponce"
          ],
          [
           "Ponce"
          ],
          [
           "Ponce"
          ],
          [
           "Ponce"
          ],
          [
           "Ponce"
          ],
          [
           "Ponce"
          ],
          [
           "Ponce"
          ],
          [
           "Ponce"
          ],
          [
           "Ponce"
          ],
          [
           "Ponce"
          ],
          [
           "Ponce"
          ],
          [
           "Ponce"
          ]
         ],
         "fillpattern": {
          "shape": ""
         },
         "hovertemplate": "Municipio=%{customdata[0]}<br>Fecha=%{x}<br>Total de Delitos=%{y}<extra></extra>",
         "legendgroup": "Ponce",
         "line": {
          "color": "#B6E880"
         },
         "marker": {
          "symbol": "circle"
         },
         "mode": "lines",
         "name": "Ponce",
         "orientation": "v",
         "showlegend": true,
         "stackgroup": "1",
         "type": "scatter",
         "x": [
          "2020-01-01T00:00:00",
          "2020-02-01T00:00:00",
          "2020-03-01T00:00:00",
          "2020-04-01T00:00:00",
          "2020-05-01T00:00:00",
          "2020-06-01T00:00:00",
          "2020-07-01T00:00:00",
          "2020-08-01T00:00:00",
          "2020-09-01T00:00:00",
          "2020-10-01T00:00:00",
          "2020-11-01T00:00:00",
          "2020-12-01T00:00:00"
         ],
         "xaxis": "x",
         "y": [
          99,
          109,
          59,
          42,
          49,
          60,
          48,
          54,
          48,
          53,
          59,
          71
         ],
         "yaxis": "y"
        },
        {
         "customdata": [
          [
           "Quebradillas"
          ],
          [
           "Quebradillas"
          ],
          [
           "Quebradillas"
          ],
          [
           "Quebradillas"
          ],
          [
           "Quebradillas"
          ],
          [
           "Quebradillas"
          ],
          [
           "Quebradillas"
          ],
          [
           "Quebradillas"
          ],
          [
           "Quebradillas"
          ],
          [
           "Quebradillas"
          ],
          [
           "Quebradillas"
          ],
          [
           "Quebradillas"
          ]
         ],
         "fillpattern": {
          "shape": ""
         },
         "hovertemplate": "Municipio=%{customdata[0]}<br>Fecha=%{x}<br>Total de Delitos=%{y}<extra></extra>",
         "legendgroup": "Quebradillas",
         "line": {
          "color": "#FF97FF"
         },
         "marker": {
          "symbol": "circle"
         },
         "mode": "lines",
         "name": "Quebradillas",
         "orientation": "v",
         "showlegend": true,
         "stackgroup": "1",
         "type": "scatter",
         "x": [
          "2020-01-01T00:00:00",
          "2020-02-01T00:00:00",
          "2020-03-01T00:00:00",
          "2020-04-01T00:00:00",
          "2020-05-01T00:00:00",
          "2020-06-01T00:00:00",
          "2020-07-01T00:00:00",
          "2020-08-01T00:00:00",
          "2020-09-01T00:00:00",
          "2020-10-01T00:00:00",
          "2020-11-01T00:00:00",
          "2020-12-01T00:00:00"
         ],
         "xaxis": "x",
         "y": [
          15,
          11,
          7,
          4,
          8,
          7,
          11,
          10,
          7,
          7,
          9,
          8
         ],
         "yaxis": "y"
        },
        {
         "customdata": [
          [
           "Rincón"
          ],
          [
           "Rincón"
          ],
          [
           "Rincón"
          ],
          [
           "Rincón"
          ],
          [
           "Rincón"
          ],
          [
           "Rincón"
          ],
          [
           "Rincón"
          ],
          [
           "Rincón"
          ],
          [
           "Rincón"
          ],
          [
           "Rincón"
          ],
          [
           "Rincón"
          ],
          [
           "Rincón"
          ]
         ],
         "fillpattern": {
          "shape": ""
         },
         "hovertemplate": "Municipio=%{customdata[0]}<br>Fecha=%{x}<br>Total de Delitos=%{y}<extra></extra>",
         "legendgroup": "Rincón",
         "line": {
          "color": "#FECB52"
         },
         "marker": {
          "symbol": "circle"
         },
         "mode": "lines",
         "name": "Rincón",
         "orientation": "v",
         "showlegend": true,
         "stackgroup": "1",
         "type": "scatter",
         "x": [
          "2020-01-01T00:00:00",
          "2020-02-01T00:00:00",
          "2020-03-01T00:00:00",
          "2020-04-01T00:00:00",
          "2020-05-01T00:00:00",
          "2020-06-01T00:00:00",
          "2020-07-01T00:00:00",
          "2020-08-01T00:00:00",
          "2020-09-01T00:00:00",
          "2020-10-01T00:00:00",
          "2020-11-01T00:00:00",
          "2020-12-01T00:00:00"
         ],
         "xaxis": "x",
         "y": [
          13.5,
          8,
          12,
          5,
          6,
          8,
          5,
          3,
          1,
          3,
          5,
          4
         ],
         "yaxis": "y"
        },
        {
         "customdata": [
          [
           "Rio Grande"
          ],
          [
           "Rio Grande"
          ],
          [
           "Rio Grande"
          ],
          [
           "Rio Grande"
          ],
          [
           "Rio Grande"
          ],
          [
           "Rio Grande"
          ],
          [
           "Rio Grande"
          ],
          [
           "Rio Grande"
          ],
          [
           "Rio Grande"
          ],
          [
           "Rio Grande"
          ],
          [
           "Rio Grande"
          ],
          [
           "Rio Grande"
          ]
         ],
         "fillpattern": {
          "shape": ""
         },
         "hovertemplate": "Municipio=%{customdata[0]}<br>Fecha=%{x}<br>Total de Delitos=%{y}<extra></extra>",
         "legendgroup": "Rio Grande",
         "line": {
          "color": "#636efa"
         },
         "marker": {
          "symbol": "circle"
         },
         "mode": "lines",
         "name": "Rio Grande",
         "orientation": "v",
         "showlegend": true,
         "stackgroup": "1",
         "type": "scatter",
         "x": [
          "2020-01-01T00:00:00",
          "2020-02-01T00:00:00",
          "2020-03-01T00:00:00",
          "2020-04-01T00:00:00",
          "2020-05-01T00:00:00",
          "2020-06-01T00:00:00",
          "2020-07-01T00:00:00",
          "2020-08-01T00:00:00",
          "2020-09-01T00:00:00",
          "2020-10-01T00:00:00",
          "2020-11-01T00:00:00",
          "2020-12-01T00:00:00"
         ],
         "xaxis": "x",
         "y": [
          17.5,
          15,
          15,
          12,
          23,
          12,
          10,
          18,
          10,
          13,
          16,
          15
         ],
         "yaxis": "y"
        },
        {
         "customdata": [
          [
           "Sabana Grande"
          ],
          [
           "Sabana Grande"
          ],
          [
           "Sabana Grande"
          ],
          [
           "Sabana Grande"
          ],
          [
           "Sabana Grande"
          ],
          [
           "Sabana Grande"
          ],
          [
           "Sabana Grande"
          ],
          [
           "Sabana Grande"
          ],
          [
           "Sabana Grande"
          ],
          [
           "Sabana Grande"
          ],
          [
           "Sabana Grande"
          ],
          [
           "Sabana Grande"
          ]
         ],
         "fillpattern": {
          "shape": ""
         },
         "hovertemplate": "Municipio=%{customdata[0]}<br>Fecha=%{x}<br>Total de Delitos=%{y}<extra></extra>",
         "legendgroup": "Sabana Grande",
         "line": {
          "color": "#EF553B"
         },
         "marker": {
          "symbol": "circle"
         },
         "mode": "lines",
         "name": "Sabana Grande",
         "orientation": "v",
         "showlegend": true,
         "stackgroup": "1",
         "type": "scatter",
         "x": [
          "2020-01-01T00:00:00",
          "2020-02-01T00:00:00",
          "2020-03-01T00:00:00",
          "2020-04-01T00:00:00",
          "2020-05-01T00:00:00",
          "2020-06-01T00:00:00",
          "2020-07-01T00:00:00",
          "2020-08-01T00:00:00",
          "2020-09-01T00:00:00",
          "2020-10-01T00:00:00",
          "2020-11-01T00:00:00",
          "2020-12-01T00:00:00"
         ],
         "xaxis": "x",
         "y": [
          6.5,
          7,
          1,
          0,
          2,
          1,
          2,
          1,
          2,
          1,
          2,
          2
         ],
         "yaxis": "y"
        },
        {
         "customdata": [
          [
           "Salinas"
          ],
          [
           "Salinas"
          ],
          [
           "Salinas"
          ],
          [
           "Salinas"
          ],
          [
           "Salinas"
          ],
          [
           "Salinas"
          ],
          [
           "Salinas"
          ],
          [
           "Salinas"
          ],
          [
           "Salinas"
          ],
          [
           "Salinas"
          ],
          [
           "Salinas"
          ],
          [
           "Salinas"
          ]
         ],
         "fillpattern": {
          "shape": ""
         },
         "hovertemplate": "Municipio=%{customdata[0]}<br>Fecha=%{x}<br>Total de Delitos=%{y}<extra></extra>",
         "legendgroup": "Salinas",
         "line": {
          "color": "#00cc96"
         },
         "marker": {
          "symbol": "circle"
         },
         "mode": "lines",
         "name": "Salinas",
         "orientation": "v",
         "showlegend": true,
         "stackgroup": "1",
         "type": "scatter",
         "x": [
          "2020-01-01T00:00:00",
          "2020-02-01T00:00:00",
          "2020-03-01T00:00:00",
          "2020-04-01T00:00:00",
          "2020-05-01T00:00:00",
          "2020-06-01T00:00:00",
          "2020-07-01T00:00:00",
          "2020-08-01T00:00:00",
          "2020-09-01T00:00:00",
          "2020-10-01T00:00:00",
          "2020-11-01T00:00:00",
          "2020-12-01T00:00:00"
         ],
         "xaxis": "x",
         "y": [
          14.5,
          10,
          8,
          13,
          6,
          7,
          11,
          4,
          8,
          13,
          10,
          7
         ],
         "yaxis": "y"
        },
        {
         "customdata": [
          [
           "San Germán"
          ],
          [
           "San Germán"
          ],
          [
           "San Germán"
          ],
          [
           "San Germán"
          ],
          [
           "San Germán"
          ],
          [
           "San Germán"
          ],
          [
           "San Germán"
          ],
          [
           "San Germán"
          ],
          [
           "San Germán"
          ],
          [
           "San Germán"
          ],
          [
           "San Germán"
          ],
          [
           "San Germán"
          ]
         ],
         "fillpattern": {
          "shape": ""
         },
         "hovertemplate": "Municipio=%{customdata[0]}<br>Fecha=%{x}<br>Total de Delitos=%{y}<extra></extra>",
         "legendgroup": "San Germán",
         "line": {
          "color": "#ab63fa"
         },
         "marker": {
          "symbol": "circle"
         },
         "mode": "lines",
         "name": "San Germán",
         "orientation": "v",
         "showlegend": true,
         "stackgroup": "1",
         "type": "scatter",
         "x": [
          "2020-01-01T00:00:00",
          "2020-02-01T00:00:00",
          "2020-03-01T00:00:00",
          "2020-04-01T00:00:00",
          "2020-05-01T00:00:00",
          "2020-06-01T00:00:00",
          "2020-07-01T00:00:00",
          "2020-08-01T00:00:00",
          "2020-09-01T00:00:00",
          "2020-10-01T00:00:00",
          "2020-11-01T00:00:00",
          "2020-12-01T00:00:00"
         ],
         "xaxis": "x",
         "y": [
          7,
          5,
          8,
          9,
          9,
          4,
          7,
          5,
          9,
          2,
          7,
          6
         ],
         "yaxis": "y"
        },
        {
         "customdata": [
          [
           "San Juan"
          ],
          [
           "San Juan"
          ],
          [
           "San Juan"
          ],
          [
           "San Juan"
          ],
          [
           "San Juan"
          ],
          [
           "San Juan"
          ],
          [
           "San Juan"
          ],
          [
           "San Juan"
          ],
          [
           "San Juan"
          ],
          [
           "San Juan"
          ],
          [
           "San Juan"
          ],
          [
           "San Juan"
          ]
         ],
         "fillpattern": {
          "shape": ""
         },
         "hovertemplate": "Municipio=%{customdata[0]}<br>Fecha=%{x}<br>Total de Delitos=%{y}<extra></extra>",
         "legendgroup": "San Juan",
         "line": {
          "color": "#FFA15A"
         },
         "marker": {
          "symbol": "circle"
         },
         "mode": "lines",
         "name": "San Juan",
         "orientation": "v",
         "showlegend": true,
         "stackgroup": "1",
         "type": "scatter",
         "x": [
          "2020-01-01T00:00:00",
          "2020-02-01T00:00:00",
          "2020-03-01T00:00:00",
          "2020-04-01T00:00:00",
          "2020-05-01T00:00:00",
          "2020-06-01T00:00:00",
          "2020-07-01T00:00:00",
          "2020-08-01T00:00:00",
          "2020-09-01T00:00:00",
          "2020-10-01T00:00:00",
          "2020-11-01T00:00:00",
          "2020-12-01T00:00:00"
         ],
         "xaxis": "x",
         "y": [
          499.5,
          482,
          376,
          225,
          221,
          252,
          225,
          196,
          254,
          310,
          308,
          356
         ],
         "yaxis": "y"
        },
        {
         "customdata": [
          [
           "San Lorenzo"
          ],
          [
           "San Lorenzo"
          ],
          [
           "San Lorenzo"
          ],
          [
           "San Lorenzo"
          ],
          [
           "San Lorenzo"
          ],
          [
           "San Lorenzo"
          ],
          [
           "San Lorenzo"
          ],
          [
           "San Lorenzo"
          ],
          [
           "San Lorenzo"
          ],
          [
           "San Lorenzo"
          ],
          [
           "San Lorenzo"
          ],
          [
           "San Lorenzo"
          ]
         ],
         "fillpattern": {
          "shape": ""
         },
         "hovertemplate": "Municipio=%{customdata[0]}<br>Fecha=%{x}<br>Total de Delitos=%{y}<extra></extra>",
         "legendgroup": "San Lorenzo",
         "line": {
          "color": "#19d3f3"
         },
         "marker": {
          "symbol": "circle"
         },
         "mode": "lines",
         "name": "San Lorenzo",
         "orientation": "v",
         "showlegend": true,
         "stackgroup": "1",
         "type": "scatter",
         "x": [
          "2020-01-01T00:00:00",
          "2020-02-01T00:00:00",
          "2020-03-01T00:00:00",
          "2020-04-01T00:00:00",
          "2020-05-01T00:00:00",
          "2020-06-01T00:00:00",
          "2020-07-01T00:00:00",
          "2020-08-01T00:00:00",
          "2020-09-01T00:00:00",
          "2020-10-01T00:00:00",
          "2020-11-01T00:00:00",
          "2020-12-01T00:00:00"
         ],
         "xaxis": "x",
         "y": [
          8.5,
          5,
          5,
          11,
          9,
          13,
          4,
          2,
          6,
          4,
          5,
          16
         ],
         "yaxis": "y"
        },
        {
         "customdata": [
          [
           "San Sebastián"
          ],
          [
           "San Sebastián"
          ],
          [
           "San Sebastián"
          ],
          [
           "San Sebastián"
          ],
          [
           "San Sebastián"
          ],
          [
           "San Sebastián"
          ],
          [
           "San Sebastián"
          ],
          [
           "San Sebastián"
          ],
          [
           "San Sebastián"
          ],
          [
           "San Sebastián"
          ],
          [
           "San Sebastián"
          ],
          [
           "San Sebastián"
          ]
         ],
         "fillpattern": {
          "shape": ""
         },
         "hovertemplate": "Municipio=%{customdata[0]}<br>Fecha=%{x}<br>Total de Delitos=%{y}<extra></extra>",
         "legendgroup": "San Sebastián",
         "line": {
          "color": "#FF6692"
         },
         "marker": {
          "symbol": "circle"
         },
         "mode": "lines",
         "name": "San Sebastián",
         "orientation": "v",
         "showlegend": true,
         "stackgroup": "1",
         "type": "scatter",
         "x": [
          "2020-01-01T00:00:00",
          "2020-02-01T00:00:00",
          "2020-03-01T00:00:00",
          "2020-04-01T00:00:00",
          "2020-05-01T00:00:00",
          "2020-06-01T00:00:00",
          "2020-07-01T00:00:00",
          "2020-08-01T00:00:00",
          "2020-09-01T00:00:00",
          "2020-10-01T00:00:00",
          "2020-11-01T00:00:00",
          "2020-12-01T00:00:00"
         ],
         "xaxis": "x",
         "y": [
          17.5,
          20,
          10,
          3,
          15,
          14,
          8,
          8,
          13,
          7,
          16,
          18
         ],
         "yaxis": "y"
        },
        {
         "customdata": [
          [
           "Santa Isabel"
          ],
          [
           "Santa Isabel"
          ],
          [
           "Santa Isabel"
          ],
          [
           "Santa Isabel"
          ],
          [
           "Santa Isabel"
          ],
          [
           "Santa Isabel"
          ],
          [
           "Santa Isabel"
          ],
          [
           "Santa Isabel"
          ],
          [
           "Santa Isabel"
          ],
          [
           "Santa Isabel"
          ],
          [
           "Santa Isabel"
          ],
          [
           "Santa Isabel"
          ]
         ],
         "fillpattern": {
          "shape": ""
         },
         "hovertemplate": "Municipio=%{customdata[0]}<br>Fecha=%{x}<br>Total de Delitos=%{y}<extra></extra>",
         "legendgroup": "Santa Isabel",
         "line": {
          "color": "#B6E880"
         },
         "marker": {
          "symbol": "circle"
         },
         "mode": "lines",
         "name": "Santa Isabel",
         "orientation": "v",
         "showlegend": true,
         "stackgroup": "1",
         "type": "scatter",
         "x": [
          "2020-01-01T00:00:00",
          "2020-02-01T00:00:00",
          "2020-03-01T00:00:00",
          "2020-04-01T00:00:00",
          "2020-05-01T00:00:00",
          "2020-06-01T00:00:00",
          "2020-07-01T00:00:00",
          "2020-08-01T00:00:00",
          "2020-09-01T00:00:00",
          "2020-10-01T00:00:00",
          "2020-11-01T00:00:00",
          "2020-12-01T00:00:00"
         ],
         "xaxis": "x",
         "y": [
          8,
          9,
          5,
          7,
          8,
          10,
          11,
          10,
          10,
          18,
          2,
          5
         ],
         "yaxis": "y"
        },
        {
         "customdata": [
          [
           "Toa Alta"
          ],
          [
           "Toa Alta"
          ],
          [
           "Toa Alta"
          ],
          [
           "Toa Alta"
          ],
          [
           "Toa Alta"
          ],
          [
           "Toa Alta"
          ],
          [
           "Toa Alta"
          ],
          [
           "Toa Alta"
          ],
          [
           "Toa Alta"
          ],
          [
           "Toa Alta"
          ],
          [
           "Toa Alta"
          ],
          [
           "Toa Alta"
          ]
         ],
         "fillpattern": {
          "shape": ""
         },
         "hovertemplate": "Municipio=%{customdata[0]}<br>Fecha=%{x}<br>Total de Delitos=%{y}<extra></extra>",
         "legendgroup": "Toa Alta",
         "line": {
          "color": "#FF97FF"
         },
         "marker": {
          "symbol": "circle"
         },
         "mode": "lines",
         "name": "Toa Alta",
         "orientation": "v",
         "showlegend": true,
         "stackgroup": "1",
         "type": "scatter",
         "x": [
          "2020-01-01T00:00:00",
          "2020-02-01T00:00:00",
          "2020-03-01T00:00:00",
          "2020-04-01T00:00:00",
          "2020-05-01T00:00:00",
          "2020-06-01T00:00:00",
          "2020-07-01T00:00:00",
          "2020-08-01T00:00:00",
          "2020-09-01T00:00:00",
          "2020-10-01T00:00:00",
          "2020-11-01T00:00:00",
          "2020-12-01T00:00:00"
         ],
         "xaxis": "x",
         "y": [
          28,
          20,
          18,
          18,
          23,
          21,
          8,
          16,
          12,
          23,
          13,
          19
         ],
         "yaxis": "y"
        },
        {
         "customdata": [
          [
           "Toa Baja"
          ],
          [
           "Toa Baja"
          ],
          [
           "Toa Baja"
          ],
          [
           "Toa Baja"
          ],
          [
           "Toa Baja"
          ],
          [
           "Toa Baja"
          ],
          [
           "Toa Baja"
          ],
          [
           "Toa Baja"
          ],
          [
           "Toa Baja"
          ],
          [
           "Toa Baja"
          ],
          [
           "Toa Baja"
          ],
          [
           "Toa Baja"
          ]
         ],
         "fillpattern": {
          "shape": ""
         },
         "hovertemplate": "Municipio=%{customdata[0]}<br>Fecha=%{x}<br>Total de Delitos=%{y}<extra></extra>",
         "legendgroup": "Toa Baja",
         "line": {
          "color": "#FECB52"
         },
         "marker": {
          "symbol": "circle"
         },
         "mode": "lines",
         "name": "Toa Baja",
         "orientation": "v",
         "showlegend": true,
         "stackgroup": "1",
         "type": "scatter",
         "x": [
          "2020-01-01T00:00:00",
          "2020-02-01T00:00:00",
          "2020-03-01T00:00:00",
          "2020-04-01T00:00:00",
          "2020-05-01T00:00:00",
          "2020-06-01T00:00:00",
          "2020-07-01T00:00:00",
          "2020-08-01T00:00:00",
          "2020-09-01T00:00:00",
          "2020-10-01T00:00:00",
          "2020-11-01T00:00:00",
          "2020-12-01T00:00:00"
         ],
         "xaxis": "x",
         "y": [
          72,
          62,
          -60,
          14,
          181,
          34,
          41,
          31,
          34,
          34,
          48,
          53
         ],
         "yaxis": "y"
        },
        {
         "customdata": [
          [
           "Trujillo Alto"
          ],
          [
           "Trujillo Alto"
          ],
          [
           "Trujillo Alto"
          ],
          [
           "Trujillo Alto"
          ],
          [
           "Trujillo Alto"
          ],
          [
           "Trujillo Alto"
          ],
          [
           "Trujillo Alto"
          ],
          [
           "Trujillo Alto"
          ],
          [
           "Trujillo Alto"
          ],
          [
           "Trujillo Alto"
          ],
          [
           "Trujillo Alto"
          ],
          [
           "Trujillo Alto"
          ]
         ],
         "fillpattern": {
          "shape": ""
         },
         "hovertemplate": "Municipio=%{customdata[0]}<br>Fecha=%{x}<br>Total de Delitos=%{y}<extra></extra>",
         "legendgroup": "Trujillo Alto",
         "line": {
          "color": "#636efa"
         },
         "marker": {
          "symbol": "circle"
         },
         "mode": "lines",
         "name": "Trujillo Alto",
         "orientation": "v",
         "showlegend": true,
         "stackgroup": "1",
         "type": "scatter",
         "x": [
          "2020-01-01T00:00:00",
          "2020-02-01T00:00:00",
          "2020-03-01T00:00:00",
          "2020-04-01T00:00:00",
          "2020-05-01T00:00:00",
          "2020-06-01T00:00:00",
          "2020-07-01T00:00:00",
          "2020-08-01T00:00:00",
          "2020-09-01T00:00:00",
          "2020-10-01T00:00:00",
          "2020-11-01T00:00:00",
          "2020-12-01T00:00:00"
         ],
         "xaxis": "x",
         "y": [
          25.5,
          29,
          36,
          10,
          22,
          21,
          14,
          12,
          18,
          18,
          17,
          26
         ],
         "yaxis": "y"
        },
        {
         "customdata": [
          [
           "Utuado"
          ],
          [
           "Utuado"
          ],
          [
           "Utuado"
          ],
          [
           "Utuado"
          ],
          [
           "Utuado"
          ],
          [
           "Utuado"
          ],
          [
           "Utuado"
          ],
          [
           "Utuado"
          ],
          [
           "Utuado"
          ],
          [
           "Utuado"
          ],
          [
           "Utuado"
          ],
          [
           "Utuado"
          ]
         ],
         "fillpattern": {
          "shape": ""
         },
         "hovertemplate": "Municipio=%{customdata[0]}<br>Fecha=%{x}<br>Total de Delitos=%{y}<extra></extra>",
         "legendgroup": "Utuado",
         "line": {
          "color": "#EF553B"
         },
         "marker": {
          "symbol": "circle"
         },
         "mode": "lines",
         "name": "Utuado",
         "orientation": "v",
         "showlegend": true,
         "stackgroup": "1",
         "type": "scatter",
         "x": [
          "2020-01-01T00:00:00",
          "2020-02-01T00:00:00",
          "2020-03-01T00:00:00",
          "2020-04-01T00:00:00",
          "2020-05-01T00:00:00",
          "2020-06-01T00:00:00",
          "2020-07-01T00:00:00",
          "2020-08-01T00:00:00",
          "2020-09-01T00:00:00",
          "2020-10-01T00:00:00",
          "2020-11-01T00:00:00",
          "2020-12-01T00:00:00"
         ],
         "xaxis": "x",
         "y": [
          17,
          22,
          13,
          7,
          2,
          8,
          7,
          10,
          11,
          13,
          14,
          8
         ],
         "yaxis": "y"
        },
        {
         "customdata": [
          [
           "Vega Alta"
          ],
          [
           "Vega Alta"
          ],
          [
           "Vega Alta"
          ],
          [
           "Vega Alta"
          ],
          [
           "Vega Alta"
          ],
          [
           "Vega Alta"
          ],
          [
           "Vega Alta"
          ],
          [
           "Vega Alta"
          ],
          [
           "Vega Alta"
          ],
          [
           "Vega Alta"
          ],
          [
           "Vega Alta"
          ],
          [
           "Vega Alta"
          ]
         ],
         "fillpattern": {
          "shape": ""
         },
         "hovertemplate": "Municipio=%{customdata[0]}<br>Fecha=%{x}<br>Total de Delitos=%{y}<extra></extra>",
         "legendgroup": "Vega Alta",
         "line": {
          "color": "#00cc96"
         },
         "marker": {
          "symbol": "circle"
         },
         "mode": "lines",
         "name": "Vega Alta",
         "orientation": "v",
         "showlegend": true,
         "stackgroup": "1",
         "type": "scatter",
         "x": [
          "2020-01-01T00:00:00",
          "2020-02-01T00:00:00",
          "2020-03-01T00:00:00",
          "2020-04-01T00:00:00",
          "2020-05-01T00:00:00",
          "2020-06-01T00:00:00",
          "2020-07-01T00:00:00",
          "2020-08-01T00:00:00",
          "2020-09-01T00:00:00",
          "2020-10-01T00:00:00",
          "2020-11-01T00:00:00",
          "2020-12-01T00:00:00"
         ],
         "xaxis": "x",
         "y": [
          27.5,
          23,
          21,
          11,
          21,
          14,
          14,
          18,
          16,
          27,
          16,
          18
         ],
         "yaxis": "y"
        },
        {
         "customdata": [
          [
           "Vega Baja"
          ],
          [
           "Vega Baja"
          ],
          [
           "Vega Baja"
          ],
          [
           "Vega Baja"
          ],
          [
           "Vega Baja"
          ],
          [
           "Vega Baja"
          ],
          [
           "Vega Baja"
          ],
          [
           "Vega Baja"
          ],
          [
           "Vega Baja"
          ],
          [
           "Vega Baja"
          ],
          [
           "Vega Baja"
          ],
          [
           "Vega Baja"
          ]
         ],
         "fillpattern": {
          "shape": ""
         },
         "hovertemplate": "Municipio=%{customdata[0]}<br>Fecha=%{x}<br>Total de Delitos=%{y}<extra></extra>",
         "legendgroup": "Vega Baja",
         "line": {
          "color": "#ab63fa"
         },
         "marker": {
          "symbol": "circle"
         },
         "mode": "lines",
         "name": "Vega Baja",
         "orientation": "v",
         "showlegend": true,
         "stackgroup": "1",
         "type": "scatter",
         "x": [
          "2020-01-01T00:00:00",
          "2020-02-01T00:00:00",
          "2020-03-01T00:00:00",
          "2020-04-01T00:00:00",
          "2020-05-01T00:00:00",
          "2020-06-01T00:00:00",
          "2020-07-01T00:00:00",
          "2020-08-01T00:00:00",
          "2020-09-01T00:00:00",
          "2020-10-01T00:00:00",
          "2020-11-01T00:00:00",
          "2020-12-01T00:00:00"
         ],
         "xaxis": "x",
         "y": [
          55.5,
          52,
          35,
          28,
          37,
          43,
          29,
          30,
          22,
          44,
          40,
          45
         ],
         "yaxis": "y"
        },
        {
         "customdata": [
          [
           "Vieques"
          ],
          [
           "Vieques"
          ],
          [
           "Vieques"
          ],
          [
           "Vieques"
          ],
          [
           "Vieques"
          ],
          [
           "Vieques"
          ],
          [
           "Vieques"
          ],
          [
           "Vieques"
          ],
          [
           "Vieques"
          ],
          [
           "Vieques"
          ],
          [
           "Vieques"
          ],
          [
           "Vieques"
          ]
         ],
         "fillpattern": {
          "shape": ""
         },
         "hovertemplate": "Municipio=%{customdata[0]}<br>Fecha=%{x}<br>Total de Delitos=%{y}<extra></extra>",
         "legendgroup": "Vieques",
         "line": {
          "color": "#FFA15A"
         },
         "marker": {
          "symbol": "circle"
         },
         "mode": "lines",
         "name": "Vieques",
         "orientation": "v",
         "showlegend": true,
         "stackgroup": "1",
         "type": "scatter",
         "x": [
          "2020-01-01T00:00:00",
          "2020-02-01T00:00:00",
          "2020-03-01T00:00:00",
          "2020-04-01T00:00:00",
          "2020-05-01T00:00:00",
          "2020-06-01T00:00:00",
          "2020-07-01T00:00:00",
          "2020-08-01T00:00:00",
          "2020-09-01T00:00:00",
          "2020-10-01T00:00:00",
          "2020-11-01T00:00:00",
          "2020-12-01T00:00:00"
         ],
         "xaxis": "x",
         "y": [
          9,
          11,
          10,
          7,
          8,
          6,
          3,
          4,
          10,
          5,
          5,
          10
         ],
         "yaxis": "y"
        },
        {
         "customdata": [
          [
           "Villalba"
          ],
          [
           "Villalba"
          ],
          [
           "Villalba"
          ],
          [
           "Villalba"
          ],
          [
           "Villalba"
          ],
          [
           "Villalba"
          ],
          [
           "Villalba"
          ],
          [
           "Villalba"
          ],
          [
           "Villalba"
          ],
          [
           "Villalba"
          ],
          [
           "Villalba"
          ],
          [
           "Villalba"
          ]
         ],
         "fillpattern": {
          "shape": ""
         },
         "hovertemplate": "Municipio=%{customdata[0]}<br>Fecha=%{x}<br>Total de Delitos=%{y}<extra></extra>",
         "legendgroup": "Villalba",
         "line": {
          "color": "#19d3f3"
         },
         "marker": {
          "symbol": "circle"
         },
         "mode": "lines",
         "name": "Villalba",
         "orientation": "v",
         "showlegend": true,
         "stackgroup": "1",
         "type": "scatter",
         "x": [
          "2020-01-01T00:00:00",
          "2020-02-01T00:00:00",
          "2020-03-01T00:00:00",
          "2020-04-01T00:00:00",
          "2020-05-01T00:00:00",
          "2020-06-01T00:00:00",
          "2020-07-01T00:00:00",
          "2020-08-01T00:00:00",
          "2020-09-01T00:00:00",
          "2020-10-01T00:00:00",
          "2020-11-01T00:00:00",
          "2020-12-01T00:00:00"
         ],
         "xaxis": "x",
         "y": [
          3.5,
          3,
          4,
          1,
          7,
          3,
          9,
          5,
          4,
          19,
          3,
          6
         ],
         "yaxis": "y"
        },
        {
         "customdata": [
          [
           "Yabucoa"
          ],
          [
           "Yabucoa"
          ],
          [
           "Yabucoa"
          ],
          [
           "Yabucoa"
          ],
          [
           "Yabucoa"
          ],
          [
           "Yabucoa"
          ],
          [
           "Yabucoa"
          ],
          [
           "Yabucoa"
          ],
          [
           "Yabucoa"
          ],
          [
           "Yabucoa"
          ],
          [
           "Yabucoa"
          ],
          [
           "Yabucoa"
          ]
         ],
         "fillpattern": {
          "shape": ""
         },
         "hovertemplate": "Municipio=%{customdata[0]}<br>Fecha=%{x}<br>Total de Delitos=%{y}<extra></extra>",
         "legendgroup": "Yabucoa",
         "line": {
          "color": "#FF6692"
         },
         "marker": {
          "symbol": "circle"
         },
         "mode": "lines",
         "name": "Yabucoa",
         "orientation": "v",
         "showlegend": true,
         "stackgroup": "1",
         "type": "scatter",
         "x": [
          "2020-01-01T00:00:00",
          "2020-02-01T00:00:00",
          "2020-03-01T00:00:00",
          "2020-04-01T00:00:00",
          "2020-05-01T00:00:00",
          "2020-06-01T00:00:00",
          "2020-07-01T00:00:00",
          "2020-08-01T00:00:00",
          "2020-09-01T00:00:00",
          "2020-10-01T00:00:00",
          "2020-11-01T00:00:00",
          "2020-12-01T00:00:00"
         ],
         "xaxis": "x",
         "y": [
          10,
          11,
          6,
          3,
          4,
          6,
          2,
          20,
          5,
          8,
          10,
          5
         ],
         "yaxis": "y"
        },
        {
         "customdata": [
          [
           "Yauco"
          ],
          [
           "Yauco"
          ],
          [
           "Yauco"
          ],
          [
           "Yauco"
          ],
          [
           "Yauco"
          ],
          [
           "Yauco"
          ],
          [
           "Yauco"
          ],
          [
           "Yauco"
          ],
          [
           "Yauco"
          ],
          [
           "Yauco"
          ],
          [
           "Yauco"
          ],
          [
           "Yauco"
          ]
         ],
         "fillpattern": {
          "shape": ""
         },
         "hovertemplate": "Municipio=%{customdata[0]}<br>Fecha=%{x}<br>Total de Delitos=%{y}<extra></extra>",
         "legendgroup": "Yauco",
         "line": {
          "color": "#B6E880"
         },
         "marker": {
          "symbol": "circle"
         },
         "mode": "lines",
         "name": "Yauco",
         "orientation": "v",
         "showlegend": true,
         "stackgroup": "1",
         "type": "scatter",
         "x": [
          "2020-01-01T00:00:00",
          "2020-02-01T00:00:00",
          "2020-03-01T00:00:00",
          "2020-04-01T00:00:00",
          "2020-05-01T00:00:00",
          "2020-06-01T00:00:00",
          "2020-07-01T00:00:00",
          "2020-08-01T00:00:00",
          "2020-09-01T00:00:00",
          "2020-10-01T00:00:00",
          "2020-11-01T00:00:00",
          "2020-12-01T00:00:00"
         ],
         "xaxis": "x",
         "y": [
          8,
          9,
          12,
          11,
          22,
          9,
          5,
          7,
          10,
          13,
          14,
          8
         ],
         "yaxis": "y"
        },
        {
         "customdata": [
          [
           "Aguada"
          ],
          [
           "Aguada"
          ]
         ],
         "fillpattern": {
          "shape": ""
         },
         "hovertemplate": "Municipio=%{customdata[0]}<br>Fecha=%{x}<br>Total de Delitos=%{y}<extra></extra>",
         "legendgroup": "Aguada",
         "line": {
          "color": "#FF97FF"
         },
         "marker": {
          "symbol": "circle"
         },
         "mode": "lines",
         "name": "Aguada",
         "orientation": "v",
         "showlegend": true,
         "stackgroup": "1",
         "type": "scatter",
         "x": [
          "2020-03-01T00:00:00",
          "2020-04-01T00:00:00"
         ],
         "xaxis": "x",
         "y": [
          11,
          11
         ],
         "yaxis": "y"
        }
       ],
       "layout": {
        "legend": {
         "title": {
          "text": "Municipio"
         },
         "tracegroupgap": 0
        },
        "template": {
         "data": {
          "bar": [
           {
            "error_x": {
             "color": "#2a3f5f"
            },
            "error_y": {
             "color": "#2a3f5f"
            },
            "marker": {
             "line": {
              "color": "#E5ECF6",
              "width": 0.5
             },
             "pattern": {
              "fillmode": "overlay",
              "size": 10,
              "solidity": 0.2
             }
            },
            "type": "bar"
           }
          ],
          "barpolar": [
           {
            "marker": {
             "line": {
              "color": "#E5ECF6",
              "width": 0.5
             },
             "pattern": {
              "fillmode": "overlay",
              "size": 10,
              "solidity": 0.2
             }
            },
            "type": "barpolar"
           }
          ],
          "carpet": [
           {
            "aaxis": {
             "endlinecolor": "#2a3f5f",
             "gridcolor": "white",
             "linecolor": "white",
             "minorgridcolor": "white",
             "startlinecolor": "#2a3f5f"
            },
            "baxis": {
             "endlinecolor": "#2a3f5f",
             "gridcolor": "white",
             "linecolor": "white",
             "minorgridcolor": "white",
             "startlinecolor": "#2a3f5f"
            },
            "type": "carpet"
           }
          ],
          "choropleth": [
           {
            "colorbar": {
             "outlinewidth": 0,
             "ticks": ""
            },
            "type": "choropleth"
           }
          ],
          "contour": [
           {
            "colorbar": {
             "outlinewidth": 0,
             "ticks": ""
            },
            "colorscale": [
             [
              0,
              "#0d0887"
             ],
             [
              0.1111111111111111,
              "#46039f"
             ],
             [
              0.2222222222222222,
              "#7201a8"
             ],
             [
              0.3333333333333333,
              "#9c179e"
             ],
             [
              0.4444444444444444,
              "#bd3786"
             ],
             [
              0.5555555555555556,
              "#d8576b"
             ],
             [
              0.6666666666666666,
              "#ed7953"
             ],
             [
              0.7777777777777778,
              "#fb9f3a"
             ],
             [
              0.8888888888888888,
              "#fdca26"
             ],
             [
              1,
              "#f0f921"
             ]
            ],
            "type": "contour"
           }
          ],
          "contourcarpet": [
           {
            "colorbar": {
             "outlinewidth": 0,
             "ticks": ""
            },
            "type": "contourcarpet"
           }
          ],
          "heatmap": [
           {
            "colorbar": {
             "outlinewidth": 0,
             "ticks": ""
            },
            "colorscale": [
             [
              0,
              "#0d0887"
             ],
             [
              0.1111111111111111,
              "#46039f"
             ],
             [
              0.2222222222222222,
              "#7201a8"
             ],
             [
              0.3333333333333333,
              "#9c179e"
             ],
             [
              0.4444444444444444,
              "#bd3786"
             ],
             [
              0.5555555555555556,
              "#d8576b"
             ],
             [
              0.6666666666666666,
              "#ed7953"
             ],
             [
              0.7777777777777778,
              "#fb9f3a"
             ],
             [
              0.8888888888888888,
              "#fdca26"
             ],
             [
              1,
              "#f0f921"
             ]
            ],
            "type": "heatmap"
           }
          ],
          "heatmapgl": [
           {
            "colorbar": {
             "outlinewidth": 0,
             "ticks": ""
            },
            "colorscale": [
             [
              0,
              "#0d0887"
             ],
             [
              0.1111111111111111,
              "#46039f"
             ],
             [
              0.2222222222222222,
              "#7201a8"
             ],
             [
              0.3333333333333333,
              "#9c179e"
             ],
             [
              0.4444444444444444,
              "#bd3786"
             ],
             [
              0.5555555555555556,
              "#d8576b"
             ],
             [
              0.6666666666666666,
              "#ed7953"
             ],
             [
              0.7777777777777778,
              "#fb9f3a"
             ],
             [
              0.8888888888888888,
              "#fdca26"
             ],
             [
              1,
              "#f0f921"
             ]
            ],
            "type": "heatmapgl"
           }
          ],
          "histogram": [
           {
            "marker": {
             "pattern": {
              "fillmode": "overlay",
              "size": 10,
              "solidity": 0.2
             }
            },
            "type": "histogram"
           }
          ],
          "histogram2d": [
           {
            "colorbar": {
             "outlinewidth": 0,
             "ticks": ""
            },
            "colorscale": [
             [
              0,
              "#0d0887"
             ],
             [
              0.1111111111111111,
              "#46039f"
             ],
             [
              0.2222222222222222,
              "#7201a8"
             ],
             [
              0.3333333333333333,
              "#9c179e"
             ],
             [
              0.4444444444444444,
              "#bd3786"
             ],
             [
              0.5555555555555556,
              "#d8576b"
             ],
             [
              0.6666666666666666,
              "#ed7953"
             ],
             [
              0.7777777777777778,
              "#fb9f3a"
             ],
             [
              0.8888888888888888,
              "#fdca26"
             ],
             [
              1,
              "#f0f921"
             ]
            ],
            "type": "histogram2d"
           }
          ],
          "histogram2dcontour": [
           {
            "colorbar": {
             "outlinewidth": 0,
             "ticks": ""
            },
            "colorscale": [
             [
              0,
              "#0d0887"
             ],
             [
              0.1111111111111111,
              "#46039f"
             ],
             [
              0.2222222222222222,
              "#7201a8"
             ],
             [
              0.3333333333333333,
              "#9c179e"
             ],
             [
              0.4444444444444444,
              "#bd3786"
             ],
             [
              0.5555555555555556,
              "#d8576b"
             ],
             [
              0.6666666666666666,
              "#ed7953"
             ],
             [
              0.7777777777777778,
              "#fb9f3a"
             ],
             [
              0.8888888888888888,
              "#fdca26"
             ],
             [
              1,
              "#f0f921"
             ]
            ],
            "type": "histogram2dcontour"
           }
          ],
          "mesh3d": [
           {
            "colorbar": {
             "outlinewidth": 0,
             "ticks": ""
            },
            "type": "mesh3d"
           }
          ],
          "parcoords": [
           {
            "line": {
             "colorbar": {
              "outlinewidth": 0,
              "ticks": ""
             }
            },
            "type": "parcoords"
           }
          ],
          "pie": [
           {
            "automargin": true,
            "type": "pie"
           }
          ],
          "scatter": [
           {
            "fillpattern": {
             "fillmode": "overlay",
             "size": 10,
             "solidity": 0.2
            },
            "type": "scatter"
           }
          ],
          "scatter3d": [
           {
            "line": {
             "colorbar": {
              "outlinewidth": 0,
              "ticks": ""
             }
            },
            "marker": {
             "colorbar": {
              "outlinewidth": 0,
              "ticks": ""
             }
            },
            "type": "scatter3d"
           }
          ],
          "scattercarpet": [
           {
            "marker": {
             "colorbar": {
              "outlinewidth": 0,
              "ticks": ""
             }
            },
            "type": "scattercarpet"
           }
          ],
          "scattergeo": [
           {
            "marker": {
             "colorbar": {
              "outlinewidth": 0,
              "ticks": ""
             }
            },
            "type": "scattergeo"
           }
          ],
          "scattergl": [
           {
            "marker": {
             "colorbar": {
              "outlinewidth": 0,
              "ticks": ""
             }
            },
            "type": "scattergl"
           }
          ],
          "scattermapbox": [
           {
            "marker": {
             "colorbar": {
              "outlinewidth": 0,
              "ticks": ""
             }
            },
            "type": "scattermapbox"
           }
          ],
          "scatterpolar": [
           {
            "marker": {
             "colorbar": {
              "outlinewidth": 0,
              "ticks": ""
             }
            },
            "type": "scatterpolar"
           }
          ],
          "scatterpolargl": [
           {
            "marker": {
             "colorbar": {
              "outlinewidth": 0,
              "ticks": ""
             }
            },
            "type": "scatterpolargl"
           }
          ],
          "scatterternary": [
           {
            "marker": {
             "colorbar": {
              "outlinewidth": 0,
              "ticks": ""
             }
            },
            "type": "scatterternary"
           }
          ],
          "surface": [
           {
            "colorbar": {
             "outlinewidth": 0,
             "ticks": ""
            },
            "colorscale": [
             [
              0,
              "#0d0887"
             ],
             [
              0.1111111111111111,
              "#46039f"
             ],
             [
              0.2222222222222222,
              "#7201a8"
             ],
             [
              0.3333333333333333,
              "#9c179e"
             ],
             [
              0.4444444444444444,
              "#bd3786"
             ],
             [
              0.5555555555555556,
              "#d8576b"
             ],
             [
              0.6666666666666666,
              "#ed7953"
             ],
             [
              0.7777777777777778,
              "#fb9f3a"
             ],
             [
              0.8888888888888888,
              "#fdca26"
             ],
             [
              1,
              "#f0f921"
             ]
            ],
            "type": "surface"
           }
          ],
          "table": [
           {
            "cells": {
             "fill": {
              "color": "#EBF0F8"
             },
             "line": {
              "color": "white"
             }
            },
            "header": {
             "fill": {
              "color": "#C8D4E3"
             },
             "line": {
              "color": "white"
             }
            },
            "type": "table"
           }
          ]
         },
         "layout": {
          "annotationdefaults": {
           "arrowcolor": "#2a3f5f",
           "arrowhead": 0,
           "arrowwidth": 1
          },
          "autotypenumbers": "strict",
          "coloraxis": {
           "colorbar": {
            "outlinewidth": 0,
            "ticks": ""
           }
          },
          "colorscale": {
           "diverging": [
            [
             0,
             "#8e0152"
            ],
            [
             0.1,
             "#c51b7d"
            ],
            [
             0.2,
             "#de77ae"
            ],
            [
             0.3,
             "#f1b6da"
            ],
            [
             0.4,
             "#fde0ef"
            ],
            [
             0.5,
             "#f7f7f7"
            ],
            [
             0.6,
             "#e6f5d0"
            ],
            [
             0.7,
             "#b8e186"
            ],
            [
             0.8,
             "#7fbc41"
            ],
            [
             0.9,
             "#4d9221"
            ],
            [
             1,
             "#276419"
            ]
           ],
           "sequential": [
            [
             0,
             "#0d0887"
            ],
            [
             0.1111111111111111,
             "#46039f"
            ],
            [
             0.2222222222222222,
             "#7201a8"
            ],
            [
             0.3333333333333333,
             "#9c179e"
            ],
            [
             0.4444444444444444,
             "#bd3786"
            ],
            [
             0.5555555555555556,
             "#d8576b"
            ],
            [
             0.6666666666666666,
             "#ed7953"
            ],
            [
             0.7777777777777778,
             "#fb9f3a"
            ],
            [
             0.8888888888888888,
             "#fdca26"
            ],
            [
             1,
             "#f0f921"
            ]
           ],
           "sequentialminus": [
            [
             0,
             "#0d0887"
            ],
            [
             0.1111111111111111,
             "#46039f"
            ],
            [
             0.2222222222222222,
             "#7201a8"
            ],
            [
             0.3333333333333333,
             "#9c179e"
            ],
            [
             0.4444444444444444,
             "#bd3786"
            ],
            [
             0.5555555555555556,
             "#d8576b"
            ],
            [
             0.6666666666666666,
             "#ed7953"
            ],
            [
             0.7777777777777778,
             "#fb9f3a"
            ],
            [
             0.8888888888888888,
             "#fdca26"
            ],
            [
             1,
             "#f0f921"
            ]
           ]
          },
          "colorway": [
           "#636efa",
           "#EF553B",
           "#00cc96",
           "#ab63fa",
           "#FFA15A",
           "#19d3f3",
           "#FF6692",
           "#B6E880",
           "#FF97FF",
           "#FECB52"
          ],
          "font": {
           "color": "#2a3f5f"
          },
          "geo": {
           "bgcolor": "white",
           "lakecolor": "white",
           "landcolor": "#E5ECF6",
           "showlakes": true,
           "showland": true,
           "subunitcolor": "white"
          },
          "hoverlabel": {
           "align": "left"
          },
          "hovermode": "closest",
          "mapbox": {
           "style": "light"
          },
          "paper_bgcolor": "white",
          "plot_bgcolor": "#E5ECF6",
          "polar": {
           "angularaxis": {
            "gridcolor": "white",
            "linecolor": "white",
            "ticks": ""
           },
           "bgcolor": "#E5ECF6",
           "radialaxis": {
            "gridcolor": "white",
            "linecolor": "white",
            "ticks": ""
           }
          },
          "scene": {
           "xaxis": {
            "backgroundcolor": "#E5ECF6",
            "gridcolor": "white",
            "gridwidth": 2,
            "linecolor": "white",
            "showbackground": true,
            "ticks": "",
            "zerolinecolor": "white"
           },
           "yaxis": {
            "backgroundcolor": "#E5ECF6",
            "gridcolor": "white",
            "gridwidth": 2,
            "linecolor": "white",
            "showbackground": true,
            "ticks": "",
            "zerolinecolor": "white"
           },
           "zaxis": {
            "backgroundcolor": "#E5ECF6",
            "gridcolor": "white",
            "gridwidth": 2,
            "linecolor": "white",
            "showbackground": true,
            "ticks": "",
            "zerolinecolor": "white"
           }
          },
          "shapedefaults": {
           "line": {
            "color": "#2a3f5f"
           }
          },
          "ternary": {
           "aaxis": {
            "gridcolor": "white",
            "linecolor": "white",
            "ticks": ""
           },
           "baxis": {
            "gridcolor": "white",
            "linecolor": "white",
            "ticks": ""
           },
           "bgcolor": "#E5ECF6",
           "caxis": {
            "gridcolor": "white",
            "linecolor": "white",
            "ticks": ""
           }
          },
          "title": {
           "x": 0.05
          },
          "xaxis": {
           "automargin": true,
           "gridcolor": "white",
           "linecolor": "white",
           "ticks": "",
           "title": {
            "standoff": 15
           },
           "zerolinecolor": "white",
           "zerolinewidth": 2
          },
          "yaxis": {
           "automargin": true,
           "gridcolor": "white",
           "linecolor": "white",
           "ticks": "",
           "title": {
            "standoff": 15
           },
           "zerolinecolor": "white",
           "zerolinewidth": 2
          }
         }
        },
        "title": {
         "text": "Total de Delitos Tipo I por Municipio 2020"
        },
        "xaxis": {
         "anchor": "y",
         "domain": [
          0,
          1
         ],
         "title": {
          "text": "Fecha"
         },
         "type": "category"
        },
        "yaxis": {
         "anchor": "x",
         "domain": [
          0,
          1
         ],
         "title": {
          "text": "Total de Delitos"
         }
        }
       }
      },
      "text/html": [
       "<div>                            <div id=\"06c9003d-2cd9-4ceb-85ea-03cd9743d81b\" class=\"plotly-graph-div\" style=\"height:525px; width:100%;\"></div>            <script type=\"text/javascript\">                require([\"plotly\"], function(Plotly) {                    window.PLOTLYENV=window.PLOTLYENV || {};                                    if (document.getElementById(\"06c9003d-2cd9-4ceb-85ea-03cd9743d81b\")) {                    Plotly.newPlot(                        \"06c9003d-2cd9-4ceb-85ea-03cd9743d81b\",                        [{\"customdata\":[[\"Adjuntas\"],[\"Adjuntas\"],[\"Adjuntas\"],[\"Adjuntas\"],[\"Adjuntas\"],[\"Adjuntas\"],[\"Adjuntas\"],[\"Adjuntas\"],[\"Adjuntas\"],[\"Adjuntas\"],[\"Adjuntas\"],[\"Adjuntas\"]],\"fillpattern\":{\"shape\":\"\"},\"hovertemplate\":\"Municipio=%{customdata[0]}<br>Fecha=%{x}<br>Total de Delitos=%{y}<extra></extra>\",\"legendgroup\":\"Adjuntas\",\"line\":{\"color\":\"#636efa\"},\"marker\":{\"symbol\":\"circle\"},\"mode\":\"lines\",\"name\":\"Adjuntas\",\"orientation\":\"v\",\"showlegend\":true,\"stackgroup\":\"1\",\"x\":[\"2020-01-01T00:00:00\",\"2020-02-01T00:00:00\",\"2020-03-01T00:00:00\",\"2020-04-01T00:00:00\",\"2020-05-01T00:00:00\",\"2020-06-01T00:00:00\",\"2020-07-01T00:00:00\",\"2020-08-01T00:00:00\",\"2020-09-01T00:00:00\",\"2020-10-01T00:00:00\",\"2020-11-01T00:00:00\",\"2020-12-01T00:00:00\"],\"xaxis\":\"x\",\"y\":[3.0,1.0,2.0,0.0,6.0,7.0,7.0,7.0,10.0,6.0,4.0,2.0],\"yaxis\":\"y\",\"type\":\"scatter\"},{\"customdata\":[[\"Aguada \"],[\"Aguada \"],[\"Aguada \"],[\"Aguada \"],[\"Aguada \"],[\"Aguada \"],[\"Aguada \"],[\"Aguada \"],[\"Aguada \"],[\"Aguada \"]],\"fillpattern\":{\"shape\":\"\"},\"hovertemplate\":\"Municipio=%{customdata[0]}<br>Fecha=%{x}<br>Total de Delitos=%{y}<extra></extra>\",\"legendgroup\":\"Aguada \",\"line\":{\"color\":\"#EF553B\"},\"marker\":{\"symbol\":\"circle\"},\"mode\":\"lines\",\"name\":\"Aguada \",\"orientation\":\"v\",\"showlegend\":true,\"stackgroup\":\"1\",\"x\":[\"2020-01-01T00:00:00\",\"2020-02-01T00:00:00\",\"2020-05-01T00:00:00\",\"2020-06-01T00:00:00\",\"2020-07-01T00:00:00\",\"2020-08-01T00:00:00\",\"2020-09-01T00:00:00\",\"2020-10-01T00:00:00\",\"2020-11-01T00:00:00\",\"2020-12-01T00:00:00\"],\"xaxis\":\"x\",\"y\":[8.5,6.0,34.0,18.0,5.0,9.0,5.0,8.0,12.0,11.0],\"yaxis\":\"y\",\"type\":\"scatter\"},{\"customdata\":[[\"Aguadilla\"],[\"Aguadilla\"],[\"Aguadilla\"],[\"Aguadilla\"],[\"Aguadilla\"],[\"Aguadilla\"],[\"Aguadilla\"],[\"Aguadilla\"],[\"Aguadilla\"],[\"Aguadilla\"],[\"Aguadilla\"],[\"Aguadilla\"]],\"fillpattern\":{\"shape\":\"\"},\"hovertemplate\":\"Municipio=%{customdata[0]}<br>Fecha=%{x}<br>Total de Delitos=%{y}<extra></extra>\",\"legendgroup\":\"Aguadilla\",\"line\":{\"color\":\"#00cc96\"},\"marker\":{\"symbol\":\"circle\"},\"mode\":\"lines\",\"name\":\"Aguadilla\",\"orientation\":\"v\",\"showlegend\":true,\"stackgroup\":\"1\",\"x\":[\"2020-01-01T00:00:00\",\"2020-02-01T00:00:00\",\"2020-03-01T00:00:00\",\"2020-04-01T00:00:00\",\"2020-05-01T00:00:00\",\"2020-06-01T00:00:00\",\"2020-07-01T00:00:00\",\"2020-08-01T00:00:00\",\"2020-09-01T00:00:00\",\"2020-10-01T00:00:00\",\"2020-11-01T00:00:00\",\"2020-12-01T00:00:00\"],\"xaxis\":\"x\",\"y\":[38.5,34.0,25.0,20.0,29.0,23.0,11.0,23.0,29.0,23.0,25.0,28.0],\"yaxis\":\"y\",\"type\":\"scatter\"},{\"customdata\":[[\"Aguas Buenas\"],[\"Aguas Buenas\"],[\"Aguas Buenas\"],[\"Aguas Buenas\"],[\"Aguas Buenas\"],[\"Aguas Buenas\"],[\"Aguas Buenas\"],[\"Aguas Buenas\"],[\"Aguas Buenas\"],[\"Aguas Buenas\"],[\"Aguas Buenas\"],[\"Aguas Buenas\"]],\"fillpattern\":{\"shape\":\"\"},\"hovertemplate\":\"Municipio=%{customdata[0]}<br>Fecha=%{x}<br>Total de Delitos=%{y}<extra></extra>\",\"legendgroup\":\"Aguas Buenas\",\"line\":{\"color\":\"#ab63fa\"},\"marker\":{\"symbol\":\"circle\"},\"mode\":\"lines\",\"name\":\"Aguas Buenas\",\"orientation\":\"v\",\"showlegend\":true,\"stackgroup\":\"1\",\"x\":[\"2020-01-01T00:00:00\",\"2020-02-01T00:00:00\",\"2020-03-01T00:00:00\",\"2020-04-01T00:00:00\",\"2020-05-01T00:00:00\",\"2020-06-01T00:00:00\",\"2020-07-01T00:00:00\",\"2020-08-01T00:00:00\",\"2020-09-01T00:00:00\",\"2020-10-01T00:00:00\",\"2020-11-01T00:00:00\",\"2020-12-01T00:00:00\"],\"xaxis\":\"x\",\"y\":[6.0,6.0,10.0,7.0,3.0,3.0,4.0,5.0,1.0,4.0,2.0,6.0],\"yaxis\":\"y\",\"type\":\"scatter\"},{\"customdata\":[[\"Aibonito\"],[\"Aibonito\"],[\"Aibonito\"],[\"Aibonito\"],[\"Aibonito\"],[\"Aibonito\"],[\"Aibonito\"],[\"Aibonito\"],[\"Aibonito\"],[\"Aibonito\"],[\"Aibonito\"],[\"Aibonito\"]],\"fillpattern\":{\"shape\":\"\"},\"hovertemplate\":\"Municipio=%{customdata[0]}<br>Fecha=%{x}<br>Total de Delitos=%{y}<extra></extra>\",\"legendgroup\":\"Aibonito\",\"line\":{\"color\":\"#FFA15A\"},\"marker\":{\"symbol\":\"circle\"},\"mode\":\"lines\",\"name\":\"Aibonito\",\"orientation\":\"v\",\"showlegend\":true,\"stackgroup\":\"1\",\"x\":[\"2020-01-01T00:00:00\",\"2020-02-01T00:00:00\",\"2020-03-01T00:00:00\",\"2020-04-01T00:00:00\",\"2020-05-01T00:00:00\",\"2020-06-01T00:00:00\",\"2020-07-01T00:00:00\",\"2020-08-01T00:00:00\",\"2020-09-01T00:00:00\",\"2020-10-01T00:00:00\",\"2020-11-01T00:00:00\",\"2020-12-01T00:00:00\"],\"xaxis\":\"x\",\"y\":[9.0,5.0,6.0,4.0,6.0,5.0,8.0,4.0,5.0,5.0,6.0,13.0],\"yaxis\":\"y\",\"type\":\"scatter\"},{\"customdata\":[[\"Arecibo\"],[\"Arecibo\"],[\"Arecibo\"],[\"Arecibo\"],[\"Arecibo\"],[\"Arecibo\"],[\"Arecibo\"],[\"Arecibo\"],[\"Arecibo\"],[\"Arecibo\"],[\"Arecibo\"],[\"Arecibo\"]],\"fillpattern\":{\"shape\":\"\"},\"hovertemplate\":\"Municipio=%{customdata[0]}<br>Fecha=%{x}<br>Total de Delitos=%{y}<extra></extra>\",\"legendgroup\":\"Arecibo\",\"line\":{\"color\":\"#19d3f3\"},\"marker\":{\"symbol\":\"circle\"},\"mode\":\"lines\",\"name\":\"Arecibo\",\"orientation\":\"v\",\"showlegend\":true,\"stackgroup\":\"1\",\"x\":[\"2020-01-01T00:00:00\",\"2020-02-01T00:00:00\",\"2020-03-01T00:00:00\",\"2020-04-01T00:00:00\",\"2020-05-01T00:00:00\",\"2020-06-01T00:00:00\",\"2020-07-01T00:00:00\",\"2020-08-01T00:00:00\",\"2020-09-01T00:00:00\",\"2020-10-01T00:00:00\",\"2020-11-01T00:00:00\",\"2020-12-01T00:00:00\"],\"xaxis\":\"x\",\"y\":[35.5,34.0,30.0,22.0,30.0,30.0,18.0,30.0,41.0,30.0,36.0,33.0],\"yaxis\":\"y\",\"type\":\"scatter\"},{\"customdata\":[[\"Arroyo\"],[\"Arroyo\"],[\"Arroyo\"],[\"Arroyo\"],[\"Arroyo\"],[\"Arroyo\"],[\"Arroyo\"],[\"Arroyo\"],[\"Arroyo\"],[\"Arroyo\"],[\"Arroyo\"],[\"Arroyo\"]],\"fillpattern\":{\"shape\":\"\"},\"hovertemplate\":\"Municipio=%{customdata[0]}<br>Fecha=%{x}<br>Total de Delitos=%{y}<extra></extra>\",\"legendgroup\":\"Arroyo\",\"line\":{\"color\":\"#FF6692\"},\"marker\":{\"symbol\":\"circle\"},\"mode\":\"lines\",\"name\":\"Arroyo\",\"orientation\":\"v\",\"showlegend\":true,\"stackgroup\":\"1\",\"x\":[\"2020-01-01T00:00:00\",\"2020-02-01T00:00:00\",\"2020-03-01T00:00:00\",\"2020-04-01T00:00:00\",\"2020-05-01T00:00:00\",\"2020-06-01T00:00:00\",\"2020-07-01T00:00:00\",\"2020-08-01T00:00:00\",\"2020-09-01T00:00:00\",\"2020-10-01T00:00:00\",\"2020-11-01T00:00:00\",\"2020-12-01T00:00:00\"],\"xaxis\":\"x\",\"y\":[16.5,19.0,18.0,5.0,8.0,2.0,5.0,1.0,1.0,7.0,4.0,6.0],\"yaxis\":\"y\",\"type\":\"scatter\"},{\"customdata\":[[\"A\\u00f1asco\"],[\"A\\u00f1asco\"],[\"A\\u00f1asco\"],[\"A\\u00f1asco\"],[\"A\\u00f1asco\"],[\"A\\u00f1asco\"],[\"A\\u00f1asco\"],[\"A\\u00f1asco\"],[\"A\\u00f1asco\"],[\"A\\u00f1asco\"],[\"A\\u00f1asco\"],[\"A\\u00f1asco\"]],\"fillpattern\":{\"shape\":\"\"},\"hovertemplate\":\"Municipio=%{customdata[0]}<br>Fecha=%{x}<br>Total de Delitos=%{y}<extra></extra>\",\"legendgroup\":\"A\\u00f1asco\",\"line\":{\"color\":\"#B6E880\"},\"marker\":{\"symbol\":\"circle\"},\"mode\":\"lines\",\"name\":\"A\\u00f1asco\",\"orientation\":\"v\",\"showlegend\":true,\"stackgroup\":\"1\",\"x\":[\"2020-01-01T00:00:00\",\"2020-02-01T00:00:00\",\"2020-03-01T00:00:00\",\"2020-04-01T00:00:00\",\"2020-05-01T00:00:00\",\"2020-06-01T00:00:00\",\"2020-07-01T00:00:00\",\"2020-08-01T00:00:00\",\"2020-09-01T00:00:00\",\"2020-10-01T00:00:00\",\"2020-11-01T00:00:00\",\"2020-12-01T00:00:00\"],\"xaxis\":\"x\",\"y\":[12.5,16.0,10.0,3.0,6.0,8.0,6.0,6.0,4.0,0.0,3.0,5.0],\"yaxis\":\"y\",\"type\":\"scatter\"},{\"customdata\":[[\"Barceloneta\"],[\"Barceloneta\"],[\"Barceloneta\"],[\"Barceloneta\"],[\"Barceloneta\"],[\"Barceloneta\"],[\"Barceloneta\"],[\"Barceloneta\"],[\"Barceloneta\"],[\"Barceloneta\"],[\"Barceloneta\"],[\"Barceloneta\"]],\"fillpattern\":{\"shape\":\"\"},\"hovertemplate\":\"Municipio=%{customdata[0]}<br>Fecha=%{x}<br>Total de Delitos=%{y}<extra></extra>\",\"legendgroup\":\"Barceloneta\",\"line\":{\"color\":\"#FF97FF\"},\"marker\":{\"symbol\":\"circle\"},\"mode\":\"lines\",\"name\":\"Barceloneta\",\"orientation\":\"v\",\"showlegend\":true,\"stackgroup\":\"1\",\"x\":[\"2020-01-01T00:00:00\",\"2020-02-01T00:00:00\",\"2020-03-01T00:00:00\",\"2020-04-01T00:00:00\",\"2020-05-01T00:00:00\",\"2020-06-01T00:00:00\",\"2020-07-01T00:00:00\",\"2020-08-01T00:00:00\",\"2020-09-01T00:00:00\",\"2020-10-01T00:00:00\",\"2020-11-01T00:00:00\",\"2020-12-01T00:00:00\"],\"xaxis\":\"x\",\"y\":[24.0,22.0,18.0,11.0,11.0,9.0,9.0,12.0,11.0,13.0,14.0,31.0],\"yaxis\":\"y\",\"type\":\"scatter\"},{\"customdata\":[[\"Barranquitas\"],[\"Barranquitas\"],[\"Barranquitas\"],[\"Barranquitas\"],[\"Barranquitas\"],[\"Barranquitas\"],[\"Barranquitas\"],[\"Barranquitas\"],[\"Barranquitas\"],[\"Barranquitas\"],[\"Barranquitas\"],[\"Barranquitas\"]],\"fillpattern\":{\"shape\":\"\"},\"hovertemplate\":\"Municipio=%{customdata[0]}<br>Fecha=%{x}<br>Total de Delitos=%{y}<extra></extra>\",\"legendgroup\":\"Barranquitas\",\"line\":{\"color\":\"#FECB52\"},\"marker\":{\"symbol\":\"circle\"},\"mode\":\"lines\",\"name\":\"Barranquitas\",\"orientation\":\"v\",\"showlegend\":true,\"stackgroup\":\"1\",\"x\":[\"2020-01-01T00:00:00\",\"2020-02-01T00:00:00\",\"2020-03-01T00:00:00\",\"2020-04-01T00:00:00\",\"2020-05-01T00:00:00\",\"2020-06-01T00:00:00\",\"2020-07-01T00:00:00\",\"2020-08-01T00:00:00\",\"2020-09-01T00:00:00\",\"2020-10-01T00:00:00\",\"2020-11-01T00:00:00\",\"2020-12-01T00:00:00\"],\"xaxis\":\"x\",\"y\":[21.0,17.0,21.0,6.0,6.0,6.0,6.0,2.0,3.0,4.0,6.0,10.0],\"yaxis\":\"y\",\"type\":\"scatter\"},{\"customdata\":[[\"Bayam\\u00f3n\"],[\"Bayam\\u00f3n\"],[\"Bayam\\u00f3n\"],[\"Bayam\\u00f3n\"],[\"Bayam\\u00f3n\"],[\"Bayam\\u00f3n\"],[\"Bayam\\u00f3n\"],[\"Bayam\\u00f3n\"],[\"Bayam\\u00f3n\"],[\"Bayam\\u00f3n\"],[\"Bayam\\u00f3n\"],[\"Bayam\\u00f3n\"]],\"fillpattern\":{\"shape\":\"\"},\"hovertemplate\":\"Municipio=%{customdata[0]}<br>Fecha=%{x}<br>Total de Delitos=%{y}<extra></extra>\",\"legendgroup\":\"Bayam\\u00f3n\",\"line\":{\"color\":\"#636efa\"},\"marker\":{\"symbol\":\"circle\"},\"mode\":\"lines\",\"name\":\"Bayam\\u00f3n\",\"orientation\":\"v\",\"showlegend\":true,\"stackgroup\":\"1\",\"x\":[\"2020-01-01T00:00:00\",\"2020-02-01T00:00:00\",\"2020-03-01T00:00:00\",\"2020-04-01T00:00:00\",\"2020-05-01T00:00:00\",\"2020-06-01T00:00:00\",\"2020-07-01T00:00:00\",\"2020-08-01T00:00:00\",\"2020-09-01T00:00:00\",\"2020-10-01T00:00:00\",\"2020-11-01T00:00:00\",\"2020-12-01T00:00:00\"],\"xaxis\":\"x\",\"y\":[246.0,220.0,253.0,110.0,0.0,117.0,126.0,98.0,107.0,129.0,127.0,145.0],\"yaxis\":\"y\",\"type\":\"scatter\"},{\"customdata\":[[\"Cabo Rojo\"],[\"Cabo Rojo\"],[\"Cabo Rojo\"],[\"Cabo Rojo\"],[\"Cabo Rojo\"],[\"Cabo Rojo\"],[\"Cabo Rojo\"],[\"Cabo Rojo\"],[\"Cabo Rojo\"],[\"Cabo Rojo\"],[\"Cabo Rojo\"],[\"Cabo Rojo\"]],\"fillpattern\":{\"shape\":\"\"},\"hovertemplate\":\"Municipio=%{customdata[0]}<br>Fecha=%{x}<br>Total de Delitos=%{y}<extra></extra>\",\"legendgroup\":\"Cabo Rojo\",\"line\":{\"color\":\"#EF553B\"},\"marker\":{\"symbol\":\"circle\"},\"mode\":\"lines\",\"name\":\"Cabo Rojo\",\"orientation\":\"v\",\"showlegend\":true,\"stackgroup\":\"1\",\"x\":[\"2020-01-01T00:00:00\",\"2020-02-01T00:00:00\",\"2020-03-01T00:00:00\",\"2020-04-01T00:00:00\",\"2020-05-01T00:00:00\",\"2020-06-01T00:00:00\",\"2020-07-01T00:00:00\",\"2020-08-01T00:00:00\",\"2020-09-01T00:00:00\",\"2020-10-01T00:00:00\",\"2020-11-01T00:00:00\",\"2020-12-01T00:00:00\"],\"xaxis\":\"x\",\"y\":[24.0,14.0,6.0,8.0,8.0,12.0,8.0,6.0,7.0,14.0,8.0,13.0],\"yaxis\":\"y\",\"type\":\"scatter\"},{\"customdata\":[[\"Caguas\"],[\"Caguas\"],[\"Caguas\"],[\"Caguas\"],[\"Caguas\"],[\"Caguas\"],[\"Caguas\"],[\"Caguas\"],[\"Caguas\"],[\"Caguas\"],[\"Caguas\"],[\"Caguas\"]],\"fillpattern\":{\"shape\":\"\"},\"hovertemplate\":\"Municipio=%{customdata[0]}<br>Fecha=%{x}<br>Total de Delitos=%{y}<extra></extra>\",\"legendgroup\":\"Caguas\",\"line\":{\"color\":\"#00cc96\"},\"marker\":{\"symbol\":\"circle\"},\"mode\":\"lines\",\"name\":\"Caguas\",\"orientation\":\"v\",\"showlegend\":true,\"stackgroup\":\"1\",\"x\":[\"2020-01-01T00:00:00\",\"2020-02-01T00:00:00\",\"2020-03-01T00:00:00\",\"2020-04-01T00:00:00\",\"2020-05-01T00:00:00\",\"2020-06-01T00:00:00\",\"2020-07-01T00:00:00\",\"2020-08-01T00:00:00\",\"2020-09-01T00:00:00\",\"2020-10-01T00:00:00\",\"2020-11-01T00:00:00\",\"2020-12-01T00:00:00\"],\"xaxis\":\"x\",\"y\":[98.5,97.0,78.0,39.0,40.0,50.0,49.0,41.0,67.0,66.0,61.0,77.0],\"yaxis\":\"y\",\"type\":\"scatter\"},{\"customdata\":[[\"Camuy\"],[\"Camuy\"],[\"Camuy\"],[\"Camuy\"],[\"Camuy\"],[\"Camuy\"],[\"Camuy\"],[\"Camuy\"],[\"Camuy\"],[\"Camuy\"],[\"Camuy\"],[\"Camuy\"]],\"fillpattern\":{\"shape\":\"\"},\"hovertemplate\":\"Municipio=%{customdata[0]}<br>Fecha=%{x}<br>Total de Delitos=%{y}<extra></extra>\",\"legendgroup\":\"Camuy\",\"line\":{\"color\":\"#ab63fa\"},\"marker\":{\"symbol\":\"circle\"},\"mode\":\"lines\",\"name\":\"Camuy\",\"orientation\":\"v\",\"showlegend\":true,\"stackgroup\":\"1\",\"x\":[\"2020-01-01T00:00:00\",\"2020-02-01T00:00:00\",\"2020-03-01T00:00:00\",\"2020-04-01T00:00:00\",\"2020-05-01T00:00:00\",\"2020-06-01T00:00:00\",\"2020-07-01T00:00:00\",\"2020-08-01T00:00:00\",\"2020-09-01T00:00:00\",\"2020-10-01T00:00:00\",\"2020-11-01T00:00:00\",\"2020-12-01T00:00:00\"],\"xaxis\":\"x\",\"y\":[18.0,15.0,20.0,12.0,9.0,9.0,11.0,25.0,11.0,12.0,17.0,7.0],\"yaxis\":\"y\",\"type\":\"scatter\"},{\"customdata\":[[\"Can\\u00f3vanas\"],[\"Can\\u00f3vanas\"],[\"Can\\u00f3vanas\"],[\"Can\\u00f3vanas\"],[\"Can\\u00f3vanas\"],[\"Can\\u00f3vanas\"],[\"Can\\u00f3vanas\"],[\"Can\\u00f3vanas\"],[\"Can\\u00f3vanas\"],[\"Can\\u00f3vanas\"],[\"Can\\u00f3vanas\"],[\"Can\\u00f3vanas\"]],\"fillpattern\":{\"shape\":\"\"},\"hovertemplate\":\"Municipio=%{customdata[0]}<br>Fecha=%{x}<br>Total de Delitos=%{y}<extra></extra>\",\"legendgroup\":\"Can\\u00f3vanas\",\"line\":{\"color\":\"#FFA15A\"},\"marker\":{\"symbol\":\"circle\"},\"mode\":\"lines\",\"name\":\"Can\\u00f3vanas\",\"orientation\":\"v\",\"showlegend\":true,\"stackgroup\":\"1\",\"x\":[\"2020-01-01T00:00:00\",\"2020-02-01T00:00:00\",\"2020-03-01T00:00:00\",\"2020-04-01T00:00:00\",\"2020-05-01T00:00:00\",\"2020-06-01T00:00:00\",\"2020-07-01T00:00:00\",\"2020-08-01T00:00:00\",\"2020-09-01T00:00:00\",\"2020-10-01T00:00:00\",\"2020-11-01T00:00:00\",\"2020-12-01T00:00:00\"],\"xaxis\":\"x\",\"y\":[20.0,17.0,22.0,8.0,17.0,14.0,12.0,13.0,17.0,23.0,14.0,26.0],\"yaxis\":\"y\",\"type\":\"scatter\"},{\"customdata\":[[\"Carolina\"],[\"Carolina\"],[\"Carolina\"],[\"Carolina\"],[\"Carolina\"],[\"Carolina\"],[\"Carolina\"],[\"Carolina\"],[\"Carolina\"],[\"Carolina\"],[\"Carolina\"],[\"Carolina\"]],\"fillpattern\":{\"shape\":\"\"},\"hovertemplate\":\"Municipio=%{customdata[0]}<br>Fecha=%{x}<br>Total de Delitos=%{y}<extra></extra>\",\"legendgroup\":\"Carolina\",\"line\":{\"color\":\"#19d3f3\"},\"marker\":{\"symbol\":\"circle\"},\"mode\":\"lines\",\"name\":\"Carolina\",\"orientation\":\"v\",\"showlegend\":true,\"stackgroup\":\"1\",\"x\":[\"2020-01-01T00:00:00\",\"2020-02-01T00:00:00\",\"2020-03-01T00:00:00\",\"2020-04-01T00:00:00\",\"2020-05-01T00:00:00\",\"2020-06-01T00:00:00\",\"2020-07-01T00:00:00\",\"2020-08-01T00:00:00\",\"2020-09-01T00:00:00\",\"2020-10-01T00:00:00\",\"2020-11-01T00:00:00\",\"2020-12-01T00:00:00\"],\"xaxis\":\"x\",\"y\":[153.0,158.0,130.0,58.0,69.0,93.0,91.0,77.0,61.0,87.0,97.0,104.0],\"yaxis\":\"y\",\"type\":\"scatter\"},{\"customdata\":[[\"Cata\\u00f1o\"],[\"Cata\\u00f1o\"],[\"Cata\\u00f1o\"],[\"Cata\\u00f1o\"],[\"Cata\\u00f1o\"],[\"Cata\\u00f1o\"],[\"Cata\\u00f1o\"],[\"Cata\\u00f1o\"],[\"Cata\\u00f1o\"],[\"Cata\\u00f1o\"],[\"Cata\\u00f1o\"],[\"Cata\\u00f1o\"]],\"fillpattern\":{\"shape\":\"\"},\"hovertemplate\":\"Municipio=%{customdata[0]}<br>Fecha=%{x}<br>Total de Delitos=%{y}<extra></extra>\",\"legendgroup\":\"Cata\\u00f1o\",\"line\":{\"color\":\"#FF6692\"},\"marker\":{\"symbol\":\"circle\"},\"mode\":\"lines\",\"name\":\"Cata\\u00f1o\",\"orientation\":\"v\",\"showlegend\":true,\"stackgroup\":\"1\",\"x\":[\"2020-01-01T00:00:00\",\"2020-02-01T00:00:00\",\"2020-03-01T00:00:00\",\"2020-04-01T00:00:00\",\"2020-05-01T00:00:00\",\"2020-06-01T00:00:00\",\"2020-07-01T00:00:00\",\"2020-08-01T00:00:00\",\"2020-09-01T00:00:00\",\"2020-10-01T00:00:00\",\"2020-11-01T00:00:00\",\"2020-12-01T00:00:00\"],\"xaxis\":\"x\",\"y\":[15.5,17.0,14.0,5.0,11.0,5.0,2.0,4.0,9.0,3.0,4.0,13.0],\"yaxis\":\"y\",\"type\":\"scatter\"},{\"customdata\":[[\"Cayey\"],[\"Cayey\"],[\"Cayey\"],[\"Cayey\"],[\"Cayey\"],[\"Cayey\"],[\"Cayey\"],[\"Cayey\"],[\"Cayey\"],[\"Cayey\"],[\"Cayey\"],[\"Cayey\"]],\"fillpattern\":{\"shape\":\"\"},\"hovertemplate\":\"Municipio=%{customdata[0]}<br>Fecha=%{x}<br>Total de Delitos=%{y}<extra></extra>\",\"legendgroup\":\"Cayey\",\"line\":{\"color\":\"#B6E880\"},\"marker\":{\"symbol\":\"circle\"},\"mode\":\"lines\",\"name\":\"Cayey\",\"orientation\":\"v\",\"showlegend\":true,\"stackgroup\":\"1\",\"x\":[\"2020-01-01T00:00:00\",\"2020-02-01T00:00:00\",\"2020-03-01T00:00:00\",\"2020-04-01T00:00:00\",\"2020-05-01T00:00:00\",\"2020-06-01T00:00:00\",\"2020-07-01T00:00:00\",\"2020-08-01T00:00:00\",\"2020-09-01T00:00:00\",\"2020-10-01T00:00:00\",\"2020-11-01T00:00:00\",\"2020-12-01T00:00:00\"],\"xaxis\":\"x\",\"y\":[23.5,19.0,23.0,12.0,10.0,21.0,14.0,15.0,18.0,11.0,16.0,17.0],\"yaxis\":\"y\",\"type\":\"scatter\"},{\"customdata\":[[\"Ceiba\"],[\"Ceiba\"],[\"Ceiba\"],[\"Ceiba\"],[\"Ceiba\"],[\"Ceiba\"],[\"Ceiba\"],[\"Ceiba\"],[\"Ceiba\"],[\"Ceiba\"],[\"Ceiba\"],[\"Ceiba\"]],\"fillpattern\":{\"shape\":\"\"},\"hovertemplate\":\"Municipio=%{customdata[0]}<br>Fecha=%{x}<br>Total de Delitos=%{y}<extra></extra>\",\"legendgroup\":\"Ceiba\",\"line\":{\"color\":\"#FF97FF\"},\"marker\":{\"symbol\":\"circle\"},\"mode\":\"lines\",\"name\":\"Ceiba\",\"orientation\":\"v\",\"showlegend\":true,\"stackgroup\":\"1\",\"x\":[\"2020-01-01T00:00:00\",\"2020-02-01T00:00:00\",\"2020-03-01T00:00:00\",\"2020-04-01T00:00:00\",\"2020-05-01T00:00:00\",\"2020-06-01T00:00:00\",\"2020-07-01T00:00:00\",\"2020-08-01T00:00:00\",\"2020-09-01T00:00:00\",\"2020-10-01T00:00:00\",\"2020-11-01T00:00:00\",\"2020-12-01T00:00:00\"],\"xaxis\":\"x\",\"y\":[7.0,6.0,4.0,3.0,1.0,8.0,1.0,2.0,4.0,2.0,6.0,3.0],\"yaxis\":\"y\",\"type\":\"scatter\"},{\"customdata\":[[\"Ciales\"],[\"Ciales\"],[\"Ciales\"],[\"Ciales\"],[\"Ciales\"],[\"Ciales\"],[\"Ciales\"],[\"Ciales\"],[\"Ciales\"],[\"Ciales\"],[\"Ciales\"],[\"Ciales\"]],\"fillpattern\":{\"shape\":\"\"},\"hovertemplate\":\"Municipio=%{customdata[0]}<br>Fecha=%{x}<br>Total de Delitos=%{y}<extra></extra>\",\"legendgroup\":\"Ciales\",\"line\":{\"color\":\"#FECB52\"},\"marker\":{\"symbol\":\"circle\"},\"mode\":\"lines\",\"name\":\"Ciales\",\"orientation\":\"v\",\"showlegend\":true,\"stackgroup\":\"1\",\"x\":[\"2020-01-01T00:00:00\",\"2020-02-01T00:00:00\",\"2020-03-01T00:00:00\",\"2020-04-01T00:00:00\",\"2020-05-01T00:00:00\",\"2020-06-01T00:00:00\",\"2020-07-01T00:00:00\",\"2020-08-01T00:00:00\",\"2020-09-01T00:00:00\",\"2020-10-01T00:00:00\",\"2020-11-01T00:00:00\",\"2020-12-01T00:00:00\"],\"xaxis\":\"x\",\"y\":[9.0,5.0,8.0,4.0,8.0,5.0,5.0,5.0,6.0,4.0,8.0,5.0],\"yaxis\":\"y\",\"type\":\"scatter\"},{\"customdata\":[[\"Cidra\"],[\"Cidra\"],[\"Cidra\"],[\"Cidra\"],[\"Cidra\"],[\"Cidra\"],[\"Cidra\"],[\"Cidra\"],[\"Cidra\"],[\"Cidra\"],[\"Cidra\"],[\"Cidra\"]],\"fillpattern\":{\"shape\":\"\"},\"hovertemplate\":\"Municipio=%{customdata[0]}<br>Fecha=%{x}<br>Total de Delitos=%{y}<extra></extra>\",\"legendgroup\":\"Cidra\",\"line\":{\"color\":\"#636efa\"},\"marker\":{\"symbol\":\"circle\"},\"mode\":\"lines\",\"name\":\"Cidra\",\"orientation\":\"v\",\"showlegend\":true,\"stackgroup\":\"1\",\"x\":[\"2020-01-01T00:00:00\",\"2020-02-01T00:00:00\",\"2020-03-01T00:00:00\",\"2020-04-01T00:00:00\",\"2020-05-01T00:00:00\",\"2020-06-01T00:00:00\",\"2020-07-01T00:00:00\",\"2020-08-01T00:00:00\",\"2020-09-01T00:00:00\",\"2020-10-01T00:00:00\",\"2020-11-01T00:00:00\",\"2020-12-01T00:00:00\"],\"xaxis\":\"x\",\"y\":[15.5,10.0,6.0,4.0,6.0,6.0,5.0,9.0,12.0,17.0,6.0,8.0],\"yaxis\":\"y\",\"type\":\"scatter\"},{\"customdata\":[[\"Coamo\"],[\"Coamo\"],[\"Coamo\"],[\"Coamo\"],[\"Coamo\"],[\"Coamo\"],[\"Coamo\"],[\"Coamo\"],[\"Coamo\"],[\"Coamo\"],[\"Coamo\"],[\"Coamo\"]],\"fillpattern\":{\"shape\":\"\"},\"hovertemplate\":\"Municipio=%{customdata[0]}<br>Fecha=%{x}<br>Total de Delitos=%{y}<extra></extra>\",\"legendgroup\":\"Coamo\",\"line\":{\"color\":\"#EF553B\"},\"marker\":{\"symbol\":\"circle\"},\"mode\":\"lines\",\"name\":\"Coamo\",\"orientation\":\"v\",\"showlegend\":true,\"stackgroup\":\"1\",\"x\":[\"2020-01-01T00:00:00\",\"2020-02-01T00:00:00\",\"2020-03-01T00:00:00\",\"2020-04-01T00:00:00\",\"2020-05-01T00:00:00\",\"2020-06-01T00:00:00\",\"2020-07-01T00:00:00\",\"2020-08-01T00:00:00\",\"2020-09-01T00:00:00\",\"2020-10-01T00:00:00\",\"2020-11-01T00:00:00\",\"2020-12-01T00:00:00\"],\"xaxis\":\"x\",\"y\":[10.5,8.0,5.0,6.0,12.0,6.0,6.0,7.0,11.0,15.0,7.0,15.0],\"yaxis\":\"y\",\"type\":\"scatter\"},{\"customdata\":[[\"Comer\\u00edo\"],[\"Comer\\u00edo\"],[\"Comer\\u00edo\"],[\"Comer\\u00edo\"],[\"Comer\\u00edo\"],[\"Comer\\u00edo\"],[\"Comer\\u00edo\"],[\"Comer\\u00edo\"],[\"Comer\\u00edo\"],[\"Comer\\u00edo\"],[\"Comer\\u00edo\"],[\"Comer\\u00edo\"]],\"fillpattern\":{\"shape\":\"\"},\"hovertemplate\":\"Municipio=%{customdata[0]}<br>Fecha=%{x}<br>Total de Delitos=%{y}<extra></extra>\",\"legendgroup\":\"Comer\\u00edo\",\"line\":{\"color\":\"#00cc96\"},\"marker\":{\"symbol\":\"circle\"},\"mode\":\"lines\",\"name\":\"Comer\\u00edo\",\"orientation\":\"v\",\"showlegend\":true,\"stackgroup\":\"1\",\"x\":[\"2020-01-01T00:00:00\",\"2020-02-01T00:00:00\",\"2020-03-01T00:00:00\",\"2020-04-01T00:00:00\",\"2020-05-01T00:00:00\",\"2020-06-01T00:00:00\",\"2020-07-01T00:00:00\",\"2020-08-01T00:00:00\",\"2020-09-01T00:00:00\",\"2020-10-01T00:00:00\",\"2020-11-01T00:00:00\",\"2020-12-01T00:00:00\"],\"xaxis\":\"x\",\"y\":[9.0,10.0,5.0,7.0,7.0,6.0,7.0,2.0,1.0,4.0,11.0,7.0],\"yaxis\":\"y\",\"type\":\"scatter\"},{\"customdata\":[[\"Corozal\"],[\"Corozal\"],[\"Corozal\"],[\"Corozal\"],[\"Corozal\"],[\"Corozal\"],[\"Corozal\"],[\"Corozal\"],[\"Corozal\"],[\"Corozal\"],[\"Corozal\"],[\"Corozal\"]],\"fillpattern\":{\"shape\":\"\"},\"hovertemplate\":\"Municipio=%{customdata[0]}<br>Fecha=%{x}<br>Total de Delitos=%{y}<extra></extra>\",\"legendgroup\":\"Corozal\",\"line\":{\"color\":\"#ab63fa\"},\"marker\":{\"symbol\":\"circle\"},\"mode\":\"lines\",\"name\":\"Corozal\",\"orientation\":\"v\",\"showlegend\":true,\"stackgroup\":\"1\",\"x\":[\"2020-01-01T00:00:00\",\"2020-02-01T00:00:00\",\"2020-03-01T00:00:00\",\"2020-04-01T00:00:00\",\"2020-05-01T00:00:00\",\"2020-06-01T00:00:00\",\"2020-07-01T00:00:00\",\"2020-08-01T00:00:00\",\"2020-09-01T00:00:00\",\"2020-10-01T00:00:00\",\"2020-11-01T00:00:00\",\"2020-12-01T00:00:00\"],\"xaxis\":\"x\",\"y\":[23.0,11.0,1.0,5.0,32.0,9.0,12.0,10.0,3.0,9.0,6.0,9.0],\"yaxis\":\"y\",\"type\":\"scatter\"},{\"customdata\":[[\"Culebra\"],[\"Culebra\"],[\"Culebra\"],[\"Culebra\"],[\"Culebra\"],[\"Culebra\"],[\"Culebra\"],[\"Culebra\"],[\"Culebra\"],[\"Culebra\"],[\"Culebra\"],[\"Culebra\"]],\"fillpattern\":{\"shape\":\"\"},\"hovertemplate\":\"Municipio=%{customdata[0]}<br>Fecha=%{x}<br>Total de Delitos=%{y}<extra></extra>\",\"legendgroup\":\"Culebra\",\"line\":{\"color\":\"#FFA15A\"},\"marker\":{\"symbol\":\"circle\"},\"mode\":\"lines\",\"name\":\"Culebra\",\"orientation\":\"v\",\"showlegend\":true,\"stackgroup\":\"1\",\"x\":[\"2020-01-01T00:00:00\",\"2020-02-01T00:00:00\",\"2020-03-01T00:00:00\",\"2020-04-01T00:00:00\",\"2020-05-01T00:00:00\",\"2020-06-01T00:00:00\",\"2020-07-01T00:00:00\",\"2020-08-01T00:00:00\",\"2020-09-01T00:00:00\",\"2020-10-01T00:00:00\",\"2020-11-01T00:00:00\",\"2020-12-01T00:00:00\"],\"xaxis\":\"x\",\"y\":[4.5,5.0,1.0,3.0,5.0,3.0,0.0,2.0,2.0,1.0,1.0,1.0],\"yaxis\":\"y\",\"type\":\"scatter\"},{\"customdata\":[[\"Dorado\"],[\"Dorado\"],[\"Dorado\"],[\"Dorado\"],[\"Dorado\"],[\"Dorado\"],[\"Dorado\"],[\"Dorado\"],[\"Dorado\"],[\"Dorado\"],[\"Dorado\"],[\"Dorado\"]],\"fillpattern\":{\"shape\":\"\"},\"hovertemplate\":\"Municipio=%{customdata[0]}<br>Fecha=%{x}<br>Total de Delitos=%{y}<extra></extra>\",\"legendgroup\":\"Dorado\",\"line\":{\"color\":\"#19d3f3\"},\"marker\":{\"symbol\":\"circle\"},\"mode\":\"lines\",\"name\":\"Dorado\",\"orientation\":\"v\",\"showlegend\":true,\"stackgroup\":\"1\",\"x\":[\"2020-01-01T00:00:00\",\"2020-02-01T00:00:00\",\"2020-03-01T00:00:00\",\"2020-04-01T00:00:00\",\"2020-05-01T00:00:00\",\"2020-06-01T00:00:00\",\"2020-07-01T00:00:00\",\"2020-08-01T00:00:00\",\"2020-09-01T00:00:00\",\"2020-10-01T00:00:00\",\"2020-11-01T00:00:00\",\"2020-12-01T00:00:00\"],\"xaxis\":\"x\",\"y\":[46.0,38.0,36.0,11.0,30.0,23.0,12.0,12.0,12.0,18.0,22.0,28.0],\"yaxis\":\"y\",\"type\":\"scatter\"},{\"customdata\":[[\"Fajardo\"],[\"Fajardo\"],[\"Fajardo\"],[\"Fajardo\"],[\"Fajardo\"],[\"Fajardo\"],[\"Fajardo\"],[\"Fajardo\"],[\"Fajardo\"],[\"Fajardo\"],[\"Fajardo\"],[\"Fajardo\"]],\"fillpattern\":{\"shape\":\"\"},\"hovertemplate\":\"Municipio=%{customdata[0]}<br>Fecha=%{x}<br>Total de Delitos=%{y}<extra></extra>\",\"legendgroup\":\"Fajardo\",\"line\":{\"color\":\"#FF6692\"},\"marker\":{\"symbol\":\"circle\"},\"mode\":\"lines\",\"name\":\"Fajardo\",\"orientation\":\"v\",\"showlegend\":true,\"stackgroup\":\"1\",\"x\":[\"2020-01-01T00:00:00\",\"2020-02-01T00:00:00\",\"2020-03-01T00:00:00\",\"2020-04-01T00:00:00\",\"2020-05-01T00:00:00\",\"2020-06-01T00:00:00\",\"2020-07-01T00:00:00\",\"2020-08-01T00:00:00\",\"2020-09-01T00:00:00\",\"2020-10-01T00:00:00\",\"2020-11-01T00:00:00\",\"2020-12-01T00:00:00\"],\"xaxis\":\"x\",\"y\":[23.5,21.0,14.0,10.0,14.0,4.0,12.0,8.0,9.0,19.0,17.0,8.0],\"yaxis\":\"y\",\"type\":\"scatter\"},{\"customdata\":[[\"Florida\"],[\"Florida\"],[\"Florida\"],[\"Florida\"],[\"Florida\"],[\"Florida\"],[\"Florida\"],[\"Florida\"],[\"Florida\"],[\"Florida\"],[\"Florida\"],[\"Florida\"]],\"fillpattern\":{\"shape\":\"\"},\"hovertemplate\":\"Municipio=%{customdata[0]}<br>Fecha=%{x}<br>Total de Delitos=%{y}<extra></extra>\",\"legendgroup\":\"Florida\",\"line\":{\"color\":\"#B6E880\"},\"marker\":{\"symbol\":\"circle\"},\"mode\":\"lines\",\"name\":\"Florida\",\"orientation\":\"v\",\"showlegend\":true,\"stackgroup\":\"1\",\"x\":[\"2020-01-01T00:00:00\",\"2020-02-01T00:00:00\",\"2020-03-01T00:00:00\",\"2020-04-01T00:00:00\",\"2020-05-01T00:00:00\",\"2020-06-01T00:00:00\",\"2020-07-01T00:00:00\",\"2020-08-01T00:00:00\",\"2020-09-01T00:00:00\",\"2020-10-01T00:00:00\",\"2020-11-01T00:00:00\",\"2020-12-01T00:00:00\"],\"xaxis\":\"x\",\"y\":[4.5,4.0,3.0,2.0,4.0,5.0,3.0,0.0,0.0,0.0,2.0,3.0],\"yaxis\":\"y\",\"type\":\"scatter\"},{\"customdata\":[[\"Guayama\"],[\"Guayama\"],[\"Guayama\"],[\"Guayama\"],[\"Guayama\"],[\"Guayama\"],[\"Guayama\"],[\"Guayama\"],[\"Guayama\"],[\"Guayama\"],[\"Guayama\"],[\"Guayama\"]],\"fillpattern\":{\"shape\":\"\"},\"hovertemplate\":\"Municipio=%{customdata[0]}<br>Fecha=%{x}<br>Total de Delitos=%{y}<extra></extra>\",\"legendgroup\":\"Guayama\",\"line\":{\"color\":\"#FF97FF\"},\"marker\":{\"symbol\":\"circle\"},\"mode\":\"lines\",\"name\":\"Guayama\",\"orientation\":\"v\",\"showlegend\":true,\"stackgroup\":\"1\",\"x\":[\"2020-01-01T00:00:00\",\"2020-02-01T00:00:00\",\"2020-03-01T00:00:00\",\"2020-04-01T00:00:00\",\"2020-05-01T00:00:00\",\"2020-06-01T00:00:00\",\"2020-07-01T00:00:00\",\"2020-08-01T00:00:00\",\"2020-09-01T00:00:00\",\"2020-10-01T00:00:00\",\"2020-11-01T00:00:00\",\"2020-12-01T00:00:00\"],\"xaxis\":\"x\",\"y\":[32.0,36.0,29.0,27.0,17.0,20.0,20.0,6.0,23.0,29.0,21.0,14.0],\"yaxis\":\"y\",\"type\":\"scatter\"},{\"customdata\":[[\"Guayanilla\"],[\"Guayanilla\"],[\"Guayanilla\"],[\"Guayanilla\"],[\"Guayanilla\"],[\"Guayanilla\"],[\"Guayanilla\"],[\"Guayanilla\"],[\"Guayanilla\"],[\"Guayanilla\"],[\"Guayanilla\"],[\"Guayanilla\"]],\"fillpattern\":{\"shape\":\"\"},\"hovertemplate\":\"Municipio=%{customdata[0]}<br>Fecha=%{x}<br>Total de Delitos=%{y}<extra></extra>\",\"legendgroup\":\"Guayanilla\",\"line\":{\"color\":\"#FECB52\"},\"marker\":{\"symbol\":\"circle\"},\"mode\":\"lines\",\"name\":\"Guayanilla\",\"orientation\":\"v\",\"showlegend\":true,\"stackgroup\":\"1\",\"x\":[\"2020-01-01T00:00:00\",\"2020-02-01T00:00:00\",\"2020-03-01T00:00:00\",\"2020-04-01T00:00:00\",\"2020-05-01T00:00:00\",\"2020-06-01T00:00:00\",\"2020-07-01T00:00:00\",\"2020-08-01T00:00:00\",\"2020-09-01T00:00:00\",\"2020-10-01T00:00:00\",\"2020-11-01T00:00:00\",\"2020-12-01T00:00:00\"],\"xaxis\":\"x\",\"y\":[5.0,5.0,9.0,4.0,2.0,1.0,3.0,4.0,8.0,7.0,6.0,6.0],\"yaxis\":\"y\",\"type\":\"scatter\"},{\"customdata\":[[\"Guaynabo\"],[\"Guaynabo\"],[\"Guaynabo\"],[\"Guaynabo\"],[\"Guaynabo\"],[\"Guaynabo\"],[\"Guaynabo\"],[\"Guaynabo\"],[\"Guaynabo\"],[\"Guaynabo\"],[\"Guaynabo\"],[\"Guaynabo\"]],\"fillpattern\":{\"shape\":\"\"},\"hovertemplate\":\"Municipio=%{customdata[0]}<br>Fecha=%{x}<br>Total de Delitos=%{y}<extra></extra>\",\"legendgroup\":\"Guaynabo\",\"line\":{\"color\":\"#636efa\"},\"marker\":{\"symbol\":\"circle\"},\"mode\":\"lines\",\"name\":\"Guaynabo\",\"orientation\":\"v\",\"showlegend\":true,\"stackgroup\":\"1\",\"x\":[\"2020-01-01T00:00:00\",\"2020-02-01T00:00:00\",\"2020-03-01T00:00:00\",\"2020-04-01T00:00:00\",\"2020-05-01T00:00:00\",\"2020-06-01T00:00:00\",\"2020-07-01T00:00:00\",\"2020-08-01T00:00:00\",\"2020-09-01T00:00:00\",\"2020-10-01T00:00:00\",\"2020-11-01T00:00:00\",\"2020-12-01T00:00:00\"],\"xaxis\":\"x\",\"y\":[81.0,70.0,48.0,28.0,49.0,37.0,49.0,26.0,32.0,46.0,33.0,43.0],\"yaxis\":\"y\",\"type\":\"scatter\"},{\"customdata\":[[\"Gurabo\"],[\"Gurabo\"],[\"Gurabo\"],[\"Gurabo\"],[\"Gurabo\"],[\"Gurabo\"],[\"Gurabo\"],[\"Gurabo\"],[\"Gurabo\"],[\"Gurabo\"],[\"Gurabo\"],[\"Gurabo\"]],\"fillpattern\":{\"shape\":\"\"},\"hovertemplate\":\"Municipio=%{customdata[0]}<br>Fecha=%{x}<br>Total de Delitos=%{y}<extra></extra>\",\"legendgroup\":\"Gurabo\",\"line\":{\"color\":\"#EF553B\"},\"marker\":{\"symbol\":\"circle\"},\"mode\":\"lines\",\"name\":\"Gurabo\",\"orientation\":\"v\",\"showlegend\":true,\"stackgroup\":\"1\",\"x\":[\"2020-01-01T00:00:00\",\"2020-02-01T00:00:00\",\"2020-03-01T00:00:00\",\"2020-04-01T00:00:00\",\"2020-05-01T00:00:00\",\"2020-06-01T00:00:00\",\"2020-07-01T00:00:00\",\"2020-08-01T00:00:00\",\"2020-09-01T00:00:00\",\"2020-10-01T00:00:00\",\"2020-11-01T00:00:00\",\"2020-12-01T00:00:00\"],\"xaxis\":\"x\",\"y\":[10.5,10.0,6.0,3.0,13.0,8.0,7.0,9.0,5.0,10.0,8.0,10.0],\"yaxis\":\"y\",\"type\":\"scatter\"},{\"customdata\":[[\"Gu\\u00e1nica\"],[\"Gu\\u00e1nica\"],[\"Gu\\u00e1nica\"],[\"Gu\\u00e1nica\"],[\"Gu\\u00e1nica\"],[\"Gu\\u00e1nica\"],[\"Gu\\u00e1nica\"],[\"Gu\\u00e1nica\"],[\"Gu\\u00e1nica\"],[\"Gu\\u00e1nica\"],[\"Gu\\u00e1nica\"],[\"Gu\\u00e1nica\"]],\"fillpattern\":{\"shape\":\"\"},\"hovertemplate\":\"Municipio=%{customdata[0]}<br>Fecha=%{x}<br>Total de Delitos=%{y}<extra></extra>\",\"legendgroup\":\"Gu\\u00e1nica\",\"line\":{\"color\":\"#00cc96\"},\"marker\":{\"symbol\":\"circle\"},\"mode\":\"lines\",\"name\":\"Gu\\u00e1nica\",\"orientation\":\"v\",\"showlegend\":true,\"stackgroup\":\"1\",\"x\":[\"2020-01-01T00:00:00\",\"2020-02-01T00:00:00\",\"2020-03-01T00:00:00\",\"2020-04-01T00:00:00\",\"2020-05-01T00:00:00\",\"2020-06-01T00:00:00\",\"2020-07-01T00:00:00\",\"2020-08-01T00:00:00\",\"2020-09-01T00:00:00\",\"2020-10-01T00:00:00\",\"2020-11-01T00:00:00\",\"2020-12-01T00:00:00\"],\"xaxis\":\"x\",\"y\":[4.5,3.0,7.0,3.0,5.0,6.0,9.0,3.0,7.0,11.0,2.0,4.0],\"yaxis\":\"y\",\"type\":\"scatter\"},{\"customdata\":[[\"Hatillo\"],[\"Hatillo\"],[\"Hatillo\"],[\"Hatillo\"],[\"Hatillo\"],[\"Hatillo\"],[\"Hatillo\"],[\"Hatillo\"],[\"Hatillo\"],[\"Hatillo\"],[\"Hatillo\"],[\"Hatillo\"]],\"fillpattern\":{\"shape\":\"\"},\"hovertemplate\":\"Municipio=%{customdata[0]}<br>Fecha=%{x}<br>Total de Delitos=%{y}<extra></extra>\",\"legendgroup\":\"Hatillo\",\"line\":{\"color\":\"#ab63fa\"},\"marker\":{\"symbol\":\"circle\"},\"mode\":\"lines\",\"name\":\"Hatillo\",\"orientation\":\"v\",\"showlegend\":true,\"stackgroup\":\"1\",\"x\":[\"2020-01-01T00:00:00\",\"2020-02-01T00:00:00\",\"2020-03-01T00:00:00\",\"2020-04-01T00:00:00\",\"2020-05-01T00:00:00\",\"2020-06-01T00:00:00\",\"2020-07-01T00:00:00\",\"2020-08-01T00:00:00\",\"2020-09-01T00:00:00\",\"2020-10-01T00:00:00\",\"2020-11-01T00:00:00\",\"2020-12-01T00:00:00\"],\"xaxis\":\"x\",\"y\":[27.5,32.0,26.0,5.0,13.0,13.0,12.0,18.0,13.0,24.0,17.0,14.0],\"yaxis\":\"y\",\"type\":\"scatter\"},{\"customdata\":[[\"Hormigueros\"],[\"Hormigueros\"],[\"Hormigueros\"],[\"Hormigueros\"],[\"Hormigueros\"],[\"Hormigueros\"],[\"Hormigueros\"],[\"Hormigueros\"],[\"Hormigueros\"],[\"Hormigueros\"],[\"Hormigueros\"],[\"Hormigueros\"]],\"fillpattern\":{\"shape\":\"\"},\"hovertemplate\":\"Municipio=%{customdata[0]}<br>Fecha=%{x}<br>Total de Delitos=%{y}<extra></extra>\",\"legendgroup\":\"Hormigueros\",\"line\":{\"color\":\"#FFA15A\"},\"marker\":{\"symbol\":\"circle\"},\"mode\":\"lines\",\"name\":\"Hormigueros\",\"orientation\":\"v\",\"showlegend\":true,\"stackgroup\":\"1\",\"x\":[\"2020-01-01T00:00:00\",\"2020-02-01T00:00:00\",\"2020-03-01T00:00:00\",\"2020-04-01T00:00:00\",\"2020-05-01T00:00:00\",\"2020-06-01T00:00:00\",\"2020-07-01T00:00:00\",\"2020-08-01T00:00:00\",\"2020-09-01T00:00:00\",\"2020-10-01T00:00:00\",\"2020-11-01T00:00:00\",\"2020-12-01T00:00:00\"],\"xaxis\":\"x\",\"y\":[1.5,1.0,2.0,0.0,4.0,2.0,6.0,2.0,0.0,3.0,3.0,4.0],\"yaxis\":\"y\",\"type\":\"scatter\"},{\"customdata\":[[\"Humacao\"],[\"Humacao\"],[\"Humacao\"],[\"Humacao\"],[\"Humacao\"],[\"Humacao\"],[\"Humacao\"],[\"Humacao\"],[\"Humacao\"],[\"Humacao\"],[\"Humacao\"],[\"Humacao\"]],\"fillpattern\":{\"shape\":\"\"},\"hovertemplate\":\"Municipio=%{customdata[0]}<br>Fecha=%{x}<br>Total de Delitos=%{y}<extra></extra>\",\"legendgroup\":\"Humacao\",\"line\":{\"color\":\"#19d3f3\"},\"marker\":{\"symbol\":\"circle\"},\"mode\":\"lines\",\"name\":\"Humacao\",\"orientation\":\"v\",\"showlegend\":true,\"stackgroup\":\"1\",\"x\":[\"2020-01-01T00:00:00\",\"2020-02-01T00:00:00\",\"2020-03-01T00:00:00\",\"2020-04-01T00:00:00\",\"2020-05-01T00:00:00\",\"2020-06-01T00:00:00\",\"2020-07-01T00:00:00\",\"2020-08-01T00:00:00\",\"2020-09-01T00:00:00\",\"2020-10-01T00:00:00\",\"2020-11-01T00:00:00\",\"2020-12-01T00:00:00\"],\"xaxis\":\"x\",\"y\":[32.5,26.0,11.0,8.0,8.0,17.0,7.0,19.0,10.0,16.0,24.0,20.0],\"yaxis\":\"y\",\"type\":\"scatter\"},{\"customdata\":[[\"Isabela\"],[\"Isabela\"],[\"Isabela\"],[\"Isabela\"],[\"Isabela\"],[\"Isabela\"],[\"Isabela\"],[\"Isabela\"],[\"Isabela\"],[\"Isabela\"],[\"Isabela\"],[\"Isabela\"]],\"fillpattern\":{\"shape\":\"\"},\"hovertemplate\":\"Municipio=%{customdata[0]}<br>Fecha=%{x}<br>Total de Delitos=%{y}<extra></extra>\",\"legendgroup\":\"Isabela\",\"line\":{\"color\":\"#FF6692\"},\"marker\":{\"symbol\":\"circle\"},\"mode\":\"lines\",\"name\":\"Isabela\",\"orientation\":\"v\",\"showlegend\":true,\"stackgroup\":\"1\",\"x\":[\"2020-01-01T00:00:00\",\"2020-02-01T00:00:00\",\"2020-03-01T00:00:00\",\"2020-04-01T00:00:00\",\"2020-05-01T00:00:00\",\"2020-06-01T00:00:00\",\"2020-07-01T00:00:00\",\"2020-08-01T00:00:00\",\"2020-09-01T00:00:00\",\"2020-10-01T00:00:00\",\"2020-11-01T00:00:00\",\"2020-12-01T00:00:00\"],\"xaxis\":\"x\",\"y\":[20.0,18.0,8.0,11.0,6.0,9.0,9.0,14.0,8.0,11.0,9.0,9.0],\"yaxis\":\"y\",\"type\":\"scatter\"},{\"customdata\":[[\"Jayuya\"],[\"Jayuya\"],[\"Jayuya\"],[\"Jayuya\"],[\"Jayuya\"],[\"Jayuya\"],[\"Jayuya\"],[\"Jayuya\"],[\"Jayuya\"],[\"Jayuya\"],[\"Jayuya\"],[\"Jayuya\"]],\"fillpattern\":{\"shape\":\"\"},\"hovertemplate\":\"Municipio=%{customdata[0]}<br>Fecha=%{x}<br>Total de Delitos=%{y}<extra></extra>\",\"legendgroup\":\"Jayuya\",\"line\":{\"color\":\"#B6E880\"},\"marker\":{\"symbol\":\"circle\"},\"mode\":\"lines\",\"name\":\"Jayuya\",\"orientation\":\"v\",\"showlegend\":true,\"stackgroup\":\"1\",\"x\":[\"2020-01-01T00:00:00\",\"2020-02-01T00:00:00\",\"2020-03-01T00:00:00\",\"2020-04-01T00:00:00\",\"2020-05-01T00:00:00\",\"2020-06-01T00:00:00\",\"2020-07-01T00:00:00\",\"2020-08-01T00:00:00\",\"2020-09-01T00:00:00\",\"2020-10-01T00:00:00\",\"2020-11-01T00:00:00\",\"2020-12-01T00:00:00\"],\"xaxis\":\"x\",\"y\":[7.5,10.0,6.0,4.0,3.0,3.0,0.0,3.0,6.0,0.0,4.0,2.0],\"yaxis\":\"y\",\"type\":\"scatter\"},{\"customdata\":[[\"Juana D\\u00edaz\"],[\"Juana D\\u00edaz\"],[\"Juana D\\u00edaz\"],[\"Juana D\\u00edaz\"],[\"Juana D\\u00edaz\"],[\"Juana D\\u00edaz\"],[\"Juana D\\u00edaz\"],[\"Juana D\\u00edaz\"],[\"Juana D\\u00edaz\"],[\"Juana D\\u00edaz\"],[\"Juana D\\u00edaz\"],[\"Juana D\\u00edaz\"]],\"fillpattern\":{\"shape\":\"\"},\"hovertemplate\":\"Municipio=%{customdata[0]}<br>Fecha=%{x}<br>Total de Delitos=%{y}<extra></extra>\",\"legendgroup\":\"Juana D\\u00edaz\",\"line\":{\"color\":\"#FF97FF\"},\"marker\":{\"symbol\":\"circle\"},\"mode\":\"lines\",\"name\":\"Juana D\\u00edaz\",\"orientation\":\"v\",\"showlegend\":true,\"stackgroup\":\"1\",\"x\":[\"2020-01-01T00:00:00\",\"2020-02-01T00:00:00\",\"2020-03-01T00:00:00\",\"2020-04-01T00:00:00\",\"2020-05-01T00:00:00\",\"2020-06-01T00:00:00\",\"2020-07-01T00:00:00\",\"2020-08-01T00:00:00\",\"2020-09-01T00:00:00\",\"2020-10-01T00:00:00\",\"2020-11-01T00:00:00\",\"2020-12-01T00:00:00\"],\"xaxis\":\"x\",\"y\":[14.0,18.0,10.0,6.0,5.0,9.0,6.0,11.0,9.0,19.0,12.0,20.0],\"yaxis\":\"y\",\"type\":\"scatter\"},{\"customdata\":[[\"Juncos\"],[\"Juncos\"],[\"Juncos\"],[\"Juncos\"],[\"Juncos\"],[\"Juncos\"],[\"Juncos\"],[\"Juncos\"],[\"Juncos\"],[\"Juncos\"],[\"Juncos\"],[\"Juncos\"]],\"fillpattern\":{\"shape\":\"\"},\"hovertemplate\":\"Municipio=%{customdata[0]}<br>Fecha=%{x}<br>Total de Delitos=%{y}<extra></extra>\",\"legendgroup\":\"Juncos\",\"line\":{\"color\":\"#FECB52\"},\"marker\":{\"symbol\":\"circle\"},\"mode\":\"lines\",\"name\":\"Juncos\",\"orientation\":\"v\",\"showlegend\":true,\"stackgroup\":\"1\",\"x\":[\"2020-01-01T00:00:00\",\"2020-02-01T00:00:00\",\"2020-03-01T00:00:00\",\"2020-04-01T00:00:00\",\"2020-05-01T00:00:00\",\"2020-06-01T00:00:00\",\"2020-07-01T00:00:00\",\"2020-08-01T00:00:00\",\"2020-09-01T00:00:00\",\"2020-10-01T00:00:00\",\"2020-11-01T00:00:00\",\"2020-12-01T00:00:00\"],\"xaxis\":\"x\",\"y\":[17.0,23.0,15.0,4.0,9.0,7.0,7.0,10.0,10.0,10.0,9.0,10.0],\"yaxis\":\"y\",\"type\":\"scatter\"},{\"customdata\":[[\"Lajas\"],[\"Lajas\"],[\"Lajas\"],[\"Lajas\"],[\"Lajas\"],[\"Lajas\"],[\"Lajas\"],[\"Lajas\"],[\"Lajas\"],[\"Lajas\"],[\"Lajas\"],[\"Lajas\"]],\"fillpattern\":{\"shape\":\"\"},\"hovertemplate\":\"Municipio=%{customdata[0]}<br>Fecha=%{x}<br>Total de Delitos=%{y}<extra></extra>\",\"legendgroup\":\"Lajas\",\"line\":{\"color\":\"#636efa\"},\"marker\":{\"symbol\":\"circle\"},\"mode\":\"lines\",\"name\":\"Lajas\",\"orientation\":\"v\",\"showlegend\":true,\"stackgroup\":\"1\",\"x\":[\"2020-01-01T00:00:00\",\"2020-02-01T00:00:00\",\"2020-03-01T00:00:00\",\"2020-04-01T00:00:00\",\"2020-05-01T00:00:00\",\"2020-06-01T00:00:00\",\"2020-07-01T00:00:00\",\"2020-08-01T00:00:00\",\"2020-09-01T00:00:00\",\"2020-10-01T00:00:00\",\"2020-11-01T00:00:00\",\"2020-12-01T00:00:00\"],\"xaxis\":\"x\",\"y\":[5.0,5.0,4.0,3.0,4.0,4.0,3.0,5.0,9.0,9.0,5.0,1.0],\"yaxis\":\"y\",\"type\":\"scatter\"},{\"customdata\":[[\"Lares\"],[\"Lares\"],[\"Lares\"],[\"Lares\"],[\"Lares\"],[\"Lares\"],[\"Lares\"],[\"Lares\"],[\"Lares\"],[\"Lares\"],[\"Lares\"],[\"Lares\"]],\"fillpattern\":{\"shape\":\"\"},\"hovertemplate\":\"Municipio=%{customdata[0]}<br>Fecha=%{x}<br>Total de Delitos=%{y}<extra></extra>\",\"legendgroup\":\"Lares\",\"line\":{\"color\":\"#EF553B\"},\"marker\":{\"symbol\":\"circle\"},\"mode\":\"lines\",\"name\":\"Lares\",\"orientation\":\"v\",\"showlegend\":true,\"stackgroup\":\"1\",\"x\":[\"2020-01-01T00:00:00\",\"2020-02-01T00:00:00\",\"2020-03-01T00:00:00\",\"2020-04-01T00:00:00\",\"2020-05-01T00:00:00\",\"2020-06-01T00:00:00\",\"2020-07-01T00:00:00\",\"2020-08-01T00:00:00\",\"2020-09-01T00:00:00\",\"2020-10-01T00:00:00\",\"2020-11-01T00:00:00\",\"2020-12-01T00:00:00\"],\"xaxis\":\"x\",\"y\":[7.5,4.0,5.0,6.0,8.0,2.0,4.0,8.0,5.0,6.0,7.0,7.0],\"yaxis\":\"y\",\"type\":\"scatter\"},{\"customdata\":[[\"Las Mar\\u00edas\"],[\"Las Mar\\u00edas\"],[\"Las Mar\\u00edas\"],[\"Las Mar\\u00edas\"],[\"Las Mar\\u00edas\"],[\"Las Mar\\u00edas\"],[\"Las Mar\\u00edas\"],[\"Las Mar\\u00edas\"],[\"Las Mar\\u00edas\"],[\"Las Mar\\u00edas\"],[\"Las Mar\\u00edas\"],[\"Las Mar\\u00edas\"]],\"fillpattern\":{\"shape\":\"\"},\"hovertemplate\":\"Municipio=%{customdata[0]}<br>Fecha=%{x}<br>Total de Delitos=%{y}<extra></extra>\",\"legendgroup\":\"Las Mar\\u00edas\",\"line\":{\"color\":\"#00cc96\"},\"marker\":{\"symbol\":\"circle\"},\"mode\":\"lines\",\"name\":\"Las Mar\\u00edas\",\"orientation\":\"v\",\"showlegend\":true,\"stackgroup\":\"1\",\"x\":[\"2020-01-01T00:00:00\",\"2020-02-01T00:00:00\",\"2020-03-01T00:00:00\",\"2020-04-01T00:00:00\",\"2020-05-01T00:00:00\",\"2020-06-01T00:00:00\",\"2020-07-01T00:00:00\",\"2020-08-01T00:00:00\",\"2020-09-01T00:00:00\",\"2020-10-01T00:00:00\",\"2020-11-01T00:00:00\",\"2020-12-01T00:00:00\"],\"xaxis\":\"x\",\"y\":[1.0,2.0,4.0,6.0,3.0,2.0,0.0,1.0,1.0,1.0,2.0,1.0],\"yaxis\":\"y\",\"type\":\"scatter\"},{\"customdata\":[[\"Las Piedras\"],[\"Las Piedras\"],[\"Las Piedras\"],[\"Las Piedras\"],[\"Las Piedras\"],[\"Las Piedras\"],[\"Las Piedras\"],[\"Las Piedras\"],[\"Las Piedras\"],[\"Las Piedras\"],[\"Las Piedras\"],[\"Las Piedras\"]],\"fillpattern\":{\"shape\":\"\"},\"hovertemplate\":\"Municipio=%{customdata[0]}<br>Fecha=%{x}<br>Total de Delitos=%{y}<extra></extra>\",\"legendgroup\":\"Las Piedras\",\"line\":{\"color\":\"#ab63fa\"},\"marker\":{\"symbol\":\"circle\"},\"mode\":\"lines\",\"name\":\"Las Piedras\",\"orientation\":\"v\",\"showlegend\":true,\"stackgroup\":\"1\",\"x\":[\"2020-01-01T00:00:00\",\"2020-02-01T00:00:00\",\"2020-03-01T00:00:00\",\"2020-04-01T00:00:00\",\"2020-05-01T00:00:00\",\"2020-06-01T00:00:00\",\"2020-07-01T00:00:00\",\"2020-08-01T00:00:00\",\"2020-09-01T00:00:00\",\"2020-10-01T00:00:00\",\"2020-11-01T00:00:00\",\"2020-12-01T00:00:00\"],\"xaxis\":\"x\",\"y\":[22.0,21.0,17.0,10.0,8.0,9.0,7.0,8.0,6.0,10.0,9.0,25.0],\"yaxis\":\"y\",\"type\":\"scatter\"},{\"customdata\":[[\"Loiza\"],[\"Loiza\"],[\"Loiza\"],[\"Loiza\"],[\"Loiza\"],[\"Loiza\"],[\"Loiza\"],[\"Loiza\"],[\"Loiza\"],[\"Loiza\"],[\"Loiza\"],[\"Loiza\"]],\"fillpattern\":{\"shape\":\"\"},\"hovertemplate\":\"Municipio=%{customdata[0]}<br>Fecha=%{x}<br>Total de Delitos=%{y}<extra></extra>\",\"legendgroup\":\"Loiza\",\"line\":{\"color\":\"#FFA15A\"},\"marker\":{\"symbol\":\"circle\"},\"mode\":\"lines\",\"name\":\"Loiza\",\"orientation\":\"v\",\"showlegend\":true,\"stackgroup\":\"1\",\"x\":[\"2020-01-01T00:00:00\",\"2020-02-01T00:00:00\",\"2020-03-01T00:00:00\",\"2020-04-01T00:00:00\",\"2020-05-01T00:00:00\",\"2020-06-01T00:00:00\",\"2020-07-01T00:00:00\",\"2020-08-01T00:00:00\",\"2020-09-01T00:00:00\",\"2020-10-01T00:00:00\",\"2020-11-01T00:00:00\",\"2020-12-01T00:00:00\"],\"xaxis\":\"x\",\"y\":[17.0,15.0,0.0,6.0,43.0,9.0,14.0,13.0,10.0,9.0,15.0,11.0],\"yaxis\":\"y\",\"type\":\"scatter\"},{\"customdata\":[[\"Luquillo\"],[\"Luquillo\"],[\"Luquillo\"],[\"Luquillo\"],[\"Luquillo\"],[\"Luquillo\"],[\"Luquillo\"],[\"Luquillo\"],[\"Luquillo\"],[\"Luquillo\"],[\"Luquillo\"],[\"Luquillo\"]],\"fillpattern\":{\"shape\":\"\"},\"hovertemplate\":\"Municipio=%{customdata[0]}<br>Fecha=%{x}<br>Total de Delitos=%{y}<extra></extra>\",\"legendgroup\":\"Luquillo\",\"line\":{\"color\":\"#19d3f3\"},\"marker\":{\"symbol\":\"circle\"},\"mode\":\"lines\",\"name\":\"Luquillo\",\"orientation\":\"v\",\"showlegend\":true,\"stackgroup\":\"1\",\"x\":[\"2020-01-01T00:00:00\",\"2020-02-01T00:00:00\",\"2020-03-01T00:00:00\",\"2020-04-01T00:00:00\",\"2020-05-01T00:00:00\",\"2020-06-01T00:00:00\",\"2020-07-01T00:00:00\",\"2020-08-01T00:00:00\",\"2020-09-01T00:00:00\",\"2020-10-01T00:00:00\",\"2020-11-01T00:00:00\",\"2020-12-01T00:00:00\"],\"xaxis\":\"x\",\"y\":[28.5,18.0,18.0,5.0,12.0,13.0,4.0,7.0,14.0,10.0,16.0,5.0],\"yaxis\":\"y\",\"type\":\"scatter\"},{\"customdata\":[[\"Manat\\u00ed\"],[\"Manat\\u00ed\"],[\"Manat\\u00ed\"],[\"Manat\\u00ed\"],[\"Manat\\u00ed\"],[\"Manat\\u00ed\"],[\"Manat\\u00ed\"],[\"Manat\\u00ed\"],[\"Manat\\u00ed\"],[\"Manat\\u00ed\"],[\"Manat\\u00ed\"],[\"Manat\\u00ed\"]],\"fillpattern\":{\"shape\":\"\"},\"hovertemplate\":\"Municipio=%{customdata[0]}<br>Fecha=%{x}<br>Total de Delitos=%{y}<extra></extra>\",\"legendgroup\":\"Manat\\u00ed\",\"line\":{\"color\":\"#FF6692\"},\"marker\":{\"symbol\":\"circle\"},\"mode\":\"lines\",\"name\":\"Manat\\u00ed\",\"orientation\":\"v\",\"showlegend\":true,\"stackgroup\":\"1\",\"x\":[\"2020-01-01T00:00:00\",\"2020-02-01T00:00:00\",\"2020-03-01T00:00:00\",\"2020-04-01T00:00:00\",\"2020-05-01T00:00:00\",\"2020-06-01T00:00:00\",\"2020-07-01T00:00:00\",\"2020-08-01T00:00:00\",\"2020-09-01T00:00:00\",\"2020-10-01T00:00:00\",\"2020-11-01T00:00:00\",\"2020-12-01T00:00:00\"],\"xaxis\":\"x\",\"y\":[32.5,23.0,14.0,11.0,22.0,23.0,24.0,21.0,30.0,43.0,30.0,33.0],\"yaxis\":\"y\",\"type\":\"scatter\"},{\"customdata\":[[\"Maricao\"],[\"Maricao\"],[\"Maricao\"],[\"Maricao\"],[\"Maricao\"],[\"Maricao\"],[\"Maricao\"],[\"Maricao\"],[\"Maricao\"],[\"Maricao\"],[\"Maricao\"],[\"Maricao\"]],\"fillpattern\":{\"shape\":\"\"},\"hovertemplate\":\"Municipio=%{customdata[0]}<br>Fecha=%{x}<br>Total de Delitos=%{y}<extra></extra>\",\"legendgroup\":\"Maricao\",\"line\":{\"color\":\"#B6E880\"},\"marker\":{\"symbol\":\"circle\"},\"mode\":\"lines\",\"name\":\"Maricao\",\"orientation\":\"v\",\"showlegend\":true,\"stackgroup\":\"1\",\"x\":[\"2020-01-01T00:00:00\",\"2020-02-01T00:00:00\",\"2020-03-01T00:00:00\",\"2020-04-01T00:00:00\",\"2020-05-01T00:00:00\",\"2020-06-01T00:00:00\",\"2020-07-01T00:00:00\",\"2020-08-01T00:00:00\",\"2020-09-01T00:00:00\",\"2020-10-01T00:00:00\",\"2020-11-01T00:00:00\",\"2020-12-01T00:00:00\"],\"xaxis\":\"x\",\"y\":[4.0,4.0,4.0,4.0,4.0,1.0,1.0,1.0,0.0,3.0,2.0,1.0],\"yaxis\":\"y\",\"type\":\"scatter\"},{\"customdata\":[[\"Maunabo\"],[\"Maunabo\"],[\"Maunabo\"],[\"Maunabo\"],[\"Maunabo\"],[\"Maunabo\"],[\"Maunabo\"],[\"Maunabo\"],[\"Maunabo\"],[\"Maunabo\"],[\"Maunabo\"],[\"Maunabo\"]],\"fillpattern\":{\"shape\":\"\"},\"hovertemplate\":\"Municipio=%{customdata[0]}<br>Fecha=%{x}<br>Total de Delitos=%{y}<extra></extra>\",\"legendgroup\":\"Maunabo\",\"line\":{\"color\":\"#FF97FF\"},\"marker\":{\"symbol\":\"circle\"},\"mode\":\"lines\",\"name\":\"Maunabo\",\"orientation\":\"v\",\"showlegend\":true,\"stackgroup\":\"1\",\"x\":[\"2020-01-01T00:00:00\",\"2020-02-01T00:00:00\",\"2020-03-01T00:00:00\",\"2020-04-01T00:00:00\",\"2020-05-01T00:00:00\",\"2020-06-01T00:00:00\",\"2020-07-01T00:00:00\",\"2020-08-01T00:00:00\",\"2020-09-01T00:00:00\",\"2020-10-01T00:00:00\",\"2020-11-01T00:00:00\",\"2020-12-01T00:00:00\"],\"xaxis\":\"x\",\"y\":[5.5,2.0,4.0,2.0,3.0,4.0,2.0,2.0,3.0,7.0,2.0,6.0],\"yaxis\":\"y\",\"type\":\"scatter\"},{\"customdata\":[[\"Mayag\\u00fcez\"],[\"Mayag\\u00fcez\"],[\"Mayag\\u00fcez\"],[\"Mayag\\u00fcez\"],[\"Mayag\\u00fcez\"],[\"Mayag\\u00fcez\"],[\"Mayag\\u00fcez\"],[\"Mayag\\u00fcez\"],[\"Mayag\\u00fcez\"],[\"Mayag\\u00fcez\"],[\"Mayag\\u00fcez\"],[\"Mayag\\u00fcez\"]],\"fillpattern\":{\"shape\":\"\"},\"hovertemplate\":\"Municipio=%{customdata[0]}<br>Fecha=%{x}<br>Total de Delitos=%{y}<extra></extra>\",\"legendgroup\":\"Mayag\\u00fcez\",\"line\":{\"color\":\"#FECB52\"},\"marker\":{\"symbol\":\"circle\"},\"mode\":\"lines\",\"name\":\"Mayag\\u00fcez\",\"orientation\":\"v\",\"showlegend\":true,\"stackgroup\":\"1\",\"x\":[\"2020-01-01T00:00:00\",\"2020-02-01T00:00:00\",\"2020-03-01T00:00:00\",\"2020-04-01T00:00:00\",\"2020-05-01T00:00:00\",\"2020-06-01T00:00:00\",\"2020-07-01T00:00:00\",\"2020-08-01T00:00:00\",\"2020-09-01T00:00:00\",\"2020-10-01T00:00:00\",\"2020-11-01T00:00:00\",\"2020-12-01T00:00:00\"],\"xaxis\":\"x\",\"y\":[25.0,27.0,29.0,13.0,4.0,18.0,10.0,18.0,21.0,25.0,21.0,34.0],\"yaxis\":\"y\",\"type\":\"scatter\"},{\"customdata\":[[\"Moca\"],[\"Moca\"],[\"Moca\"],[\"Moca\"],[\"Moca\"],[\"Moca\"],[\"Moca\"],[\"Moca\"],[\"Moca\"],[\"Moca\"],[\"Moca\"],[\"Moca\"]],\"fillpattern\":{\"shape\":\"\"},\"hovertemplate\":\"Municipio=%{customdata[0]}<br>Fecha=%{x}<br>Total de Delitos=%{y}<extra></extra>\",\"legendgroup\":\"Moca\",\"line\":{\"color\":\"#636efa\"},\"marker\":{\"symbol\":\"circle\"},\"mode\":\"lines\",\"name\":\"Moca\",\"orientation\":\"v\",\"showlegend\":true,\"stackgroup\":\"1\",\"x\":[\"2020-01-01T00:00:00\",\"2020-02-01T00:00:00\",\"2020-03-01T00:00:00\",\"2020-04-01T00:00:00\",\"2020-05-01T00:00:00\",\"2020-06-01T00:00:00\",\"2020-07-01T00:00:00\",\"2020-08-01T00:00:00\",\"2020-09-01T00:00:00\",\"2020-10-01T00:00:00\",\"2020-11-01T00:00:00\",\"2020-12-01T00:00:00\"],\"xaxis\":\"x\",\"y\":[8.0,5.0,8.0,6.0,3.0,11.0,4.0,10.0,5.0,5.0,9.0,6.0],\"yaxis\":\"y\",\"type\":\"scatter\"},{\"customdata\":[[\"Morovis\"],[\"Morovis\"],[\"Morovis\"],[\"Morovis\"],[\"Morovis\"],[\"Morovis\"],[\"Morovis\"],[\"Morovis\"],[\"Morovis\"],[\"Morovis\"],[\"Morovis\"],[\"Morovis\"]],\"fillpattern\":{\"shape\":\"\"},\"hovertemplate\":\"Municipio=%{customdata[0]}<br>Fecha=%{x}<br>Total de Delitos=%{y}<extra></extra>\",\"legendgroup\":\"Morovis\",\"line\":{\"color\":\"#EF553B\"},\"marker\":{\"symbol\":\"circle\"},\"mode\":\"lines\",\"name\":\"Morovis\",\"orientation\":\"v\",\"showlegend\":true,\"stackgroup\":\"1\",\"x\":[\"2020-01-01T00:00:00\",\"2020-02-01T00:00:00\",\"2020-03-01T00:00:00\",\"2020-04-01T00:00:00\",\"2020-05-01T00:00:00\",\"2020-06-01T00:00:00\",\"2020-07-01T00:00:00\",\"2020-08-01T00:00:00\",\"2020-09-01T00:00:00\",\"2020-10-01T00:00:00\",\"2020-11-01T00:00:00\",\"2020-12-01T00:00:00\"],\"xaxis\":\"x\",\"y\":[19.0,17.0,8.0,6.0,3.0,3.0,13.0,4.0,8.0,11.0,6.0,7.0],\"yaxis\":\"y\",\"type\":\"scatter\"},{\"customdata\":[[\"Naguabo\"],[\"Naguabo\"],[\"Naguabo\"],[\"Naguabo\"],[\"Naguabo\"],[\"Naguabo\"],[\"Naguabo\"],[\"Naguabo\"],[\"Naguabo\"],[\"Naguabo\"],[\"Naguabo\"],[\"Naguabo\"]],\"fillpattern\":{\"shape\":\"\"},\"hovertemplate\":\"Municipio=%{customdata[0]}<br>Fecha=%{x}<br>Total de Delitos=%{y}<extra></extra>\",\"legendgroup\":\"Naguabo\",\"line\":{\"color\":\"#00cc96\"},\"marker\":{\"symbol\":\"circle\"},\"mode\":\"lines\",\"name\":\"Naguabo\",\"orientation\":\"v\",\"showlegend\":true,\"stackgroup\":\"1\",\"x\":[\"2020-01-01T00:00:00\",\"2020-02-01T00:00:00\",\"2020-03-01T00:00:00\",\"2020-04-01T00:00:00\",\"2020-05-01T00:00:00\",\"2020-06-01T00:00:00\",\"2020-07-01T00:00:00\",\"2020-08-01T00:00:00\",\"2020-09-01T00:00:00\",\"2020-10-01T00:00:00\",\"2020-11-01T00:00:00\",\"2020-12-01T00:00:00\"],\"xaxis\":\"x\",\"y\":[12.0,8.0,3.0,9.0,12.0,4.0,7.0,7.0,6.0,4.0,3.0,8.0],\"yaxis\":\"y\",\"type\":\"scatter\"},{\"customdata\":[[\"Naranjito\"],[\"Naranjito\"],[\"Naranjito\"],[\"Naranjito\"],[\"Naranjito\"],[\"Naranjito\"],[\"Naranjito\"],[\"Naranjito\"],[\"Naranjito\"],[\"Naranjito\"],[\"Naranjito\"],[\"Naranjito\"]],\"fillpattern\":{\"shape\":\"\"},\"hovertemplate\":\"Municipio=%{customdata[0]}<br>Fecha=%{x}<br>Total de Delitos=%{y}<extra></extra>\",\"legendgroup\":\"Naranjito\",\"line\":{\"color\":\"#ab63fa\"},\"marker\":{\"symbol\":\"circle\"},\"mode\":\"lines\",\"name\":\"Naranjito\",\"orientation\":\"v\",\"showlegend\":true,\"stackgroup\":\"1\",\"x\":[\"2020-01-01T00:00:00\",\"2020-02-01T00:00:00\",\"2020-03-01T00:00:00\",\"2020-04-01T00:00:00\",\"2020-05-01T00:00:00\",\"2020-06-01T00:00:00\",\"2020-07-01T00:00:00\",\"2020-08-01T00:00:00\",\"2020-09-01T00:00:00\",\"2020-10-01T00:00:00\",\"2020-11-01T00:00:00\",\"2020-12-01T00:00:00\"],\"xaxis\":\"x\",\"y\":[35.0,15.0,26.0,10.0,-1.0,10.0,12.0,8.0,7.0,10.0,12.0,15.0],\"yaxis\":\"y\",\"type\":\"scatter\"},{\"customdata\":[[\"Orocovis\"],[\"Orocovis\"],[\"Orocovis\"],[\"Orocovis\"],[\"Orocovis\"],[\"Orocovis\"],[\"Orocovis\"],[\"Orocovis\"],[\"Orocovis\"],[\"Orocovis\"],[\"Orocovis\"],[\"Orocovis\"]],\"fillpattern\":{\"shape\":\"\"},\"hovertemplate\":\"Municipio=%{customdata[0]}<br>Fecha=%{x}<br>Total de Delitos=%{y}<extra></extra>\",\"legendgroup\":\"Orocovis\",\"line\":{\"color\":\"#FFA15A\"},\"marker\":{\"symbol\":\"circle\"},\"mode\":\"lines\",\"name\":\"Orocovis\",\"orientation\":\"v\",\"showlegend\":true,\"stackgroup\":\"1\",\"x\":[\"2020-01-01T00:00:00\",\"2020-02-01T00:00:00\",\"2020-03-01T00:00:00\",\"2020-04-01T00:00:00\",\"2020-05-01T00:00:00\",\"2020-06-01T00:00:00\",\"2020-07-01T00:00:00\",\"2020-08-01T00:00:00\",\"2020-09-01T00:00:00\",\"2020-10-01T00:00:00\",\"2020-11-01T00:00:00\",\"2020-12-01T00:00:00\"],\"xaxis\":\"x\",\"y\":[10.5,7.0,4.0,2.0,2.0,5.0,7.0,3.0,7.0,6.0,14.0,11.0],\"yaxis\":\"y\",\"type\":\"scatter\"},{\"customdata\":[[\"Patillas\"],[\"Patillas\"],[\"Patillas\"],[\"Patillas\"],[\"Patillas\"],[\"Patillas\"],[\"Patillas\"],[\"Patillas\"],[\"Patillas\"],[\"Patillas\"],[\"Patillas\"],[\"Patillas\"]],\"fillpattern\":{\"shape\":\"\"},\"hovertemplate\":\"Municipio=%{customdata[0]}<br>Fecha=%{x}<br>Total de Delitos=%{y}<extra></extra>\",\"legendgroup\":\"Patillas\",\"line\":{\"color\":\"#19d3f3\"},\"marker\":{\"symbol\":\"circle\"},\"mode\":\"lines\",\"name\":\"Patillas\",\"orientation\":\"v\",\"showlegend\":true,\"stackgroup\":\"1\",\"x\":[\"2020-01-01T00:00:00\",\"2020-02-01T00:00:00\",\"2020-03-01T00:00:00\",\"2020-04-01T00:00:00\",\"2020-05-01T00:00:00\",\"2020-06-01T00:00:00\",\"2020-07-01T00:00:00\",\"2020-08-01T00:00:00\",\"2020-09-01T00:00:00\",\"2020-10-01T00:00:00\",\"2020-11-01T00:00:00\",\"2020-12-01T00:00:00\"],\"xaxis\":\"x\",\"y\":[8.5,4.0,7.0,8.0,4.0,2.0,3.0,8.0,9.0,3.0,4.0,8.0],\"yaxis\":\"y\",\"type\":\"scatter\"},{\"customdata\":[[\"Pe\\u00f1uelas\"],[\"Pe\\u00f1uelas\"],[\"Pe\\u00f1uelas\"],[\"Pe\\u00f1uelas\"],[\"Pe\\u00f1uelas\"],[\"Pe\\u00f1uelas\"],[\"Pe\\u00f1uelas\"],[\"Pe\\u00f1uelas\"],[\"Pe\\u00f1uelas\"],[\"Pe\\u00f1uelas\"],[\"Pe\\u00f1uelas\"],[\"Pe\\u00f1uelas\"]],\"fillpattern\":{\"shape\":\"\"},\"hovertemplate\":\"Municipio=%{customdata[0]}<br>Fecha=%{x}<br>Total de Delitos=%{y}<extra></extra>\",\"legendgroup\":\"Pe\\u00f1uelas\",\"line\":{\"color\":\"#FF6692\"},\"marker\":{\"symbol\":\"circle\"},\"mode\":\"lines\",\"name\":\"Pe\\u00f1uelas\",\"orientation\":\"v\",\"showlegend\":true,\"stackgroup\":\"1\",\"x\":[\"2020-01-01T00:00:00\",\"2020-02-01T00:00:00\",\"2020-03-01T00:00:00\",\"2020-04-01T00:00:00\",\"2020-05-01T00:00:00\",\"2020-06-01T00:00:00\",\"2020-07-01T00:00:00\",\"2020-08-01T00:00:00\",\"2020-09-01T00:00:00\",\"2020-10-01T00:00:00\",\"2020-11-01T00:00:00\",\"2020-12-01T00:00:00\"],\"xaxis\":\"x\",\"y\":[4.0,5.0,4.0,3.0,4.0,2.0,6.0,6.0,2.0,3.0,7.0,8.0],\"yaxis\":\"y\",\"type\":\"scatter\"},{\"customdata\":[[\"Ponce\"],[\"Ponce\"],[\"Ponce\"],[\"Ponce\"],[\"Ponce\"],[\"Ponce\"],[\"Ponce\"],[\"Ponce\"],[\"Ponce\"],[\"Ponce\"],[\"Ponce\"],[\"Ponce\"]],\"fillpattern\":{\"shape\":\"\"},\"hovertemplate\":\"Municipio=%{customdata[0]}<br>Fecha=%{x}<br>Total de Delitos=%{y}<extra></extra>\",\"legendgroup\":\"Ponce\",\"line\":{\"color\":\"#B6E880\"},\"marker\":{\"symbol\":\"circle\"},\"mode\":\"lines\",\"name\":\"Ponce\",\"orientation\":\"v\",\"showlegend\":true,\"stackgroup\":\"1\",\"x\":[\"2020-01-01T00:00:00\",\"2020-02-01T00:00:00\",\"2020-03-01T00:00:00\",\"2020-04-01T00:00:00\",\"2020-05-01T00:00:00\",\"2020-06-01T00:00:00\",\"2020-07-01T00:00:00\",\"2020-08-01T00:00:00\",\"2020-09-01T00:00:00\",\"2020-10-01T00:00:00\",\"2020-11-01T00:00:00\",\"2020-12-01T00:00:00\"],\"xaxis\":\"x\",\"y\":[99.0,109.0,59.0,42.0,49.0,60.0,48.0,54.0,48.0,53.0,59.0,71.0],\"yaxis\":\"y\",\"type\":\"scatter\"},{\"customdata\":[[\"Quebradillas\"],[\"Quebradillas\"],[\"Quebradillas\"],[\"Quebradillas\"],[\"Quebradillas\"],[\"Quebradillas\"],[\"Quebradillas\"],[\"Quebradillas\"],[\"Quebradillas\"],[\"Quebradillas\"],[\"Quebradillas\"],[\"Quebradillas\"]],\"fillpattern\":{\"shape\":\"\"},\"hovertemplate\":\"Municipio=%{customdata[0]}<br>Fecha=%{x}<br>Total de Delitos=%{y}<extra></extra>\",\"legendgroup\":\"Quebradillas\",\"line\":{\"color\":\"#FF97FF\"},\"marker\":{\"symbol\":\"circle\"},\"mode\":\"lines\",\"name\":\"Quebradillas\",\"orientation\":\"v\",\"showlegend\":true,\"stackgroup\":\"1\",\"x\":[\"2020-01-01T00:00:00\",\"2020-02-01T00:00:00\",\"2020-03-01T00:00:00\",\"2020-04-01T00:00:00\",\"2020-05-01T00:00:00\",\"2020-06-01T00:00:00\",\"2020-07-01T00:00:00\",\"2020-08-01T00:00:00\",\"2020-09-01T00:00:00\",\"2020-10-01T00:00:00\",\"2020-11-01T00:00:00\",\"2020-12-01T00:00:00\"],\"xaxis\":\"x\",\"y\":[15.0,11.0,7.0,4.0,8.0,7.0,11.0,10.0,7.0,7.0,9.0,8.0],\"yaxis\":\"y\",\"type\":\"scatter\"},{\"customdata\":[[\"Rinc\\u00f3n\"],[\"Rinc\\u00f3n\"],[\"Rinc\\u00f3n\"],[\"Rinc\\u00f3n\"],[\"Rinc\\u00f3n\"],[\"Rinc\\u00f3n\"],[\"Rinc\\u00f3n\"],[\"Rinc\\u00f3n\"],[\"Rinc\\u00f3n\"],[\"Rinc\\u00f3n\"],[\"Rinc\\u00f3n\"],[\"Rinc\\u00f3n\"]],\"fillpattern\":{\"shape\":\"\"},\"hovertemplate\":\"Municipio=%{customdata[0]}<br>Fecha=%{x}<br>Total de Delitos=%{y}<extra></extra>\",\"legendgroup\":\"Rinc\\u00f3n\",\"line\":{\"color\":\"#FECB52\"},\"marker\":{\"symbol\":\"circle\"},\"mode\":\"lines\",\"name\":\"Rinc\\u00f3n\",\"orientation\":\"v\",\"showlegend\":true,\"stackgroup\":\"1\",\"x\":[\"2020-01-01T00:00:00\",\"2020-02-01T00:00:00\",\"2020-03-01T00:00:00\",\"2020-04-01T00:00:00\",\"2020-05-01T00:00:00\",\"2020-06-01T00:00:00\",\"2020-07-01T00:00:00\",\"2020-08-01T00:00:00\",\"2020-09-01T00:00:00\",\"2020-10-01T00:00:00\",\"2020-11-01T00:00:00\",\"2020-12-01T00:00:00\"],\"xaxis\":\"x\",\"y\":[13.5,8.0,12.0,5.0,6.0,8.0,5.0,3.0,1.0,3.0,5.0,4.0],\"yaxis\":\"y\",\"type\":\"scatter\"},{\"customdata\":[[\"Rio Grande\"],[\"Rio Grande\"],[\"Rio Grande\"],[\"Rio Grande\"],[\"Rio Grande\"],[\"Rio Grande\"],[\"Rio Grande\"],[\"Rio Grande\"],[\"Rio Grande\"],[\"Rio Grande\"],[\"Rio Grande\"],[\"Rio Grande\"]],\"fillpattern\":{\"shape\":\"\"},\"hovertemplate\":\"Municipio=%{customdata[0]}<br>Fecha=%{x}<br>Total de Delitos=%{y}<extra></extra>\",\"legendgroup\":\"Rio Grande\",\"line\":{\"color\":\"#636efa\"},\"marker\":{\"symbol\":\"circle\"},\"mode\":\"lines\",\"name\":\"Rio Grande\",\"orientation\":\"v\",\"showlegend\":true,\"stackgroup\":\"1\",\"x\":[\"2020-01-01T00:00:00\",\"2020-02-01T00:00:00\",\"2020-03-01T00:00:00\",\"2020-04-01T00:00:00\",\"2020-05-01T00:00:00\",\"2020-06-01T00:00:00\",\"2020-07-01T00:00:00\",\"2020-08-01T00:00:00\",\"2020-09-01T00:00:00\",\"2020-10-01T00:00:00\",\"2020-11-01T00:00:00\",\"2020-12-01T00:00:00\"],\"xaxis\":\"x\",\"y\":[17.5,15.0,15.0,12.0,23.0,12.0,10.0,18.0,10.0,13.0,16.0,15.0],\"yaxis\":\"y\",\"type\":\"scatter\"},{\"customdata\":[[\"Sabana Grande\"],[\"Sabana Grande\"],[\"Sabana Grande\"],[\"Sabana Grande\"],[\"Sabana Grande\"],[\"Sabana Grande\"],[\"Sabana Grande\"],[\"Sabana Grande\"],[\"Sabana Grande\"],[\"Sabana Grande\"],[\"Sabana Grande\"],[\"Sabana Grande\"]],\"fillpattern\":{\"shape\":\"\"},\"hovertemplate\":\"Municipio=%{customdata[0]}<br>Fecha=%{x}<br>Total de Delitos=%{y}<extra></extra>\",\"legendgroup\":\"Sabana Grande\",\"line\":{\"color\":\"#EF553B\"},\"marker\":{\"symbol\":\"circle\"},\"mode\":\"lines\",\"name\":\"Sabana Grande\",\"orientation\":\"v\",\"showlegend\":true,\"stackgroup\":\"1\",\"x\":[\"2020-01-01T00:00:00\",\"2020-02-01T00:00:00\",\"2020-03-01T00:00:00\",\"2020-04-01T00:00:00\",\"2020-05-01T00:00:00\",\"2020-06-01T00:00:00\",\"2020-07-01T00:00:00\",\"2020-08-01T00:00:00\",\"2020-09-01T00:00:00\",\"2020-10-01T00:00:00\",\"2020-11-01T00:00:00\",\"2020-12-01T00:00:00\"],\"xaxis\":\"x\",\"y\":[6.5,7.0,1.0,0.0,2.0,1.0,2.0,1.0,2.0,1.0,2.0,2.0],\"yaxis\":\"y\",\"type\":\"scatter\"},{\"customdata\":[[\"Salinas\"],[\"Salinas\"],[\"Salinas\"],[\"Salinas\"],[\"Salinas\"],[\"Salinas\"],[\"Salinas\"],[\"Salinas\"],[\"Salinas\"],[\"Salinas\"],[\"Salinas\"],[\"Salinas\"]],\"fillpattern\":{\"shape\":\"\"},\"hovertemplate\":\"Municipio=%{customdata[0]}<br>Fecha=%{x}<br>Total de Delitos=%{y}<extra></extra>\",\"legendgroup\":\"Salinas\",\"line\":{\"color\":\"#00cc96\"},\"marker\":{\"symbol\":\"circle\"},\"mode\":\"lines\",\"name\":\"Salinas\",\"orientation\":\"v\",\"showlegend\":true,\"stackgroup\":\"1\",\"x\":[\"2020-01-01T00:00:00\",\"2020-02-01T00:00:00\",\"2020-03-01T00:00:00\",\"2020-04-01T00:00:00\",\"2020-05-01T00:00:00\",\"2020-06-01T00:00:00\",\"2020-07-01T00:00:00\",\"2020-08-01T00:00:00\",\"2020-09-01T00:00:00\",\"2020-10-01T00:00:00\",\"2020-11-01T00:00:00\",\"2020-12-01T00:00:00\"],\"xaxis\":\"x\",\"y\":[14.5,10.0,8.0,13.0,6.0,7.0,11.0,4.0,8.0,13.0,10.0,7.0],\"yaxis\":\"y\",\"type\":\"scatter\"},{\"customdata\":[[\"San Germ\\u00e1n\"],[\"San Germ\\u00e1n\"],[\"San Germ\\u00e1n\"],[\"San Germ\\u00e1n\"],[\"San Germ\\u00e1n\"],[\"San Germ\\u00e1n\"],[\"San Germ\\u00e1n\"],[\"San Germ\\u00e1n\"],[\"San Germ\\u00e1n\"],[\"San Germ\\u00e1n\"],[\"San Germ\\u00e1n\"],[\"San Germ\\u00e1n\"]],\"fillpattern\":{\"shape\":\"\"},\"hovertemplate\":\"Municipio=%{customdata[0]}<br>Fecha=%{x}<br>Total de Delitos=%{y}<extra></extra>\",\"legendgroup\":\"San Germ\\u00e1n\",\"line\":{\"color\":\"#ab63fa\"},\"marker\":{\"symbol\":\"circle\"},\"mode\":\"lines\",\"name\":\"San Germ\\u00e1n\",\"orientation\":\"v\",\"showlegend\":true,\"stackgroup\":\"1\",\"x\":[\"2020-01-01T00:00:00\",\"2020-02-01T00:00:00\",\"2020-03-01T00:00:00\",\"2020-04-01T00:00:00\",\"2020-05-01T00:00:00\",\"2020-06-01T00:00:00\",\"2020-07-01T00:00:00\",\"2020-08-01T00:00:00\",\"2020-09-01T00:00:00\",\"2020-10-01T00:00:00\",\"2020-11-01T00:00:00\",\"2020-12-01T00:00:00\"],\"xaxis\":\"x\",\"y\":[7.0,5.0,8.0,9.0,9.0,4.0,7.0,5.0,9.0,2.0,7.0,6.0],\"yaxis\":\"y\",\"type\":\"scatter\"},{\"customdata\":[[\"San Juan\"],[\"San Juan\"],[\"San Juan\"],[\"San Juan\"],[\"San Juan\"],[\"San Juan\"],[\"San Juan\"],[\"San Juan\"],[\"San Juan\"],[\"San Juan\"],[\"San Juan\"],[\"San Juan\"]],\"fillpattern\":{\"shape\":\"\"},\"hovertemplate\":\"Municipio=%{customdata[0]}<br>Fecha=%{x}<br>Total de Delitos=%{y}<extra></extra>\",\"legendgroup\":\"San Juan\",\"line\":{\"color\":\"#FFA15A\"},\"marker\":{\"symbol\":\"circle\"},\"mode\":\"lines\",\"name\":\"San Juan\",\"orientation\":\"v\",\"showlegend\":true,\"stackgroup\":\"1\",\"x\":[\"2020-01-01T00:00:00\",\"2020-02-01T00:00:00\",\"2020-03-01T00:00:00\",\"2020-04-01T00:00:00\",\"2020-05-01T00:00:00\",\"2020-06-01T00:00:00\",\"2020-07-01T00:00:00\",\"2020-08-01T00:00:00\",\"2020-09-01T00:00:00\",\"2020-10-01T00:00:00\",\"2020-11-01T00:00:00\",\"2020-12-01T00:00:00\"],\"xaxis\":\"x\",\"y\":[499.5,482.0,376.0,225.0,221.0,252.0,225.0,196.0,254.0,310.0,308.0,356.0],\"yaxis\":\"y\",\"type\":\"scatter\"},{\"customdata\":[[\"San Lorenzo\"],[\"San Lorenzo\"],[\"San Lorenzo\"],[\"San Lorenzo\"],[\"San Lorenzo\"],[\"San Lorenzo\"],[\"San Lorenzo\"],[\"San Lorenzo\"],[\"San Lorenzo\"],[\"San Lorenzo\"],[\"San Lorenzo\"],[\"San Lorenzo\"]],\"fillpattern\":{\"shape\":\"\"},\"hovertemplate\":\"Municipio=%{customdata[0]}<br>Fecha=%{x}<br>Total de Delitos=%{y}<extra></extra>\",\"legendgroup\":\"San Lorenzo\",\"line\":{\"color\":\"#19d3f3\"},\"marker\":{\"symbol\":\"circle\"},\"mode\":\"lines\",\"name\":\"San Lorenzo\",\"orientation\":\"v\",\"showlegend\":true,\"stackgroup\":\"1\",\"x\":[\"2020-01-01T00:00:00\",\"2020-02-01T00:00:00\",\"2020-03-01T00:00:00\",\"2020-04-01T00:00:00\",\"2020-05-01T00:00:00\",\"2020-06-01T00:00:00\",\"2020-07-01T00:00:00\",\"2020-08-01T00:00:00\",\"2020-09-01T00:00:00\",\"2020-10-01T00:00:00\",\"2020-11-01T00:00:00\",\"2020-12-01T00:00:00\"],\"xaxis\":\"x\",\"y\":[8.5,5.0,5.0,11.0,9.0,13.0,4.0,2.0,6.0,4.0,5.0,16.0],\"yaxis\":\"y\",\"type\":\"scatter\"},{\"customdata\":[[\"San Sebasti\\u00e1n\"],[\"San Sebasti\\u00e1n\"],[\"San Sebasti\\u00e1n\"],[\"San Sebasti\\u00e1n\"],[\"San Sebasti\\u00e1n\"],[\"San Sebasti\\u00e1n\"],[\"San Sebasti\\u00e1n\"],[\"San Sebasti\\u00e1n\"],[\"San Sebasti\\u00e1n\"],[\"San Sebasti\\u00e1n\"],[\"San Sebasti\\u00e1n\"],[\"San Sebasti\\u00e1n\"]],\"fillpattern\":{\"shape\":\"\"},\"hovertemplate\":\"Municipio=%{customdata[0]}<br>Fecha=%{x}<br>Total de Delitos=%{y}<extra></extra>\",\"legendgroup\":\"San Sebasti\\u00e1n\",\"line\":{\"color\":\"#FF6692\"},\"marker\":{\"symbol\":\"circle\"},\"mode\":\"lines\",\"name\":\"San Sebasti\\u00e1n\",\"orientation\":\"v\",\"showlegend\":true,\"stackgroup\":\"1\",\"x\":[\"2020-01-01T00:00:00\",\"2020-02-01T00:00:00\",\"2020-03-01T00:00:00\",\"2020-04-01T00:00:00\",\"2020-05-01T00:00:00\",\"2020-06-01T00:00:00\",\"2020-07-01T00:00:00\",\"2020-08-01T00:00:00\",\"2020-09-01T00:00:00\",\"2020-10-01T00:00:00\",\"2020-11-01T00:00:00\",\"2020-12-01T00:00:00\"],\"xaxis\":\"x\",\"y\":[17.5,20.0,10.0,3.0,15.0,14.0,8.0,8.0,13.0,7.0,16.0,18.0],\"yaxis\":\"y\",\"type\":\"scatter\"},{\"customdata\":[[\"Santa Isabel\"],[\"Santa Isabel\"],[\"Santa Isabel\"],[\"Santa Isabel\"],[\"Santa Isabel\"],[\"Santa Isabel\"],[\"Santa Isabel\"],[\"Santa Isabel\"],[\"Santa Isabel\"],[\"Santa Isabel\"],[\"Santa Isabel\"],[\"Santa Isabel\"]],\"fillpattern\":{\"shape\":\"\"},\"hovertemplate\":\"Municipio=%{customdata[0]}<br>Fecha=%{x}<br>Total de Delitos=%{y}<extra></extra>\",\"legendgroup\":\"Santa Isabel\",\"line\":{\"color\":\"#B6E880\"},\"marker\":{\"symbol\":\"circle\"},\"mode\":\"lines\",\"name\":\"Santa Isabel\",\"orientation\":\"v\",\"showlegend\":true,\"stackgroup\":\"1\",\"x\":[\"2020-01-01T00:00:00\",\"2020-02-01T00:00:00\",\"2020-03-01T00:00:00\",\"2020-04-01T00:00:00\",\"2020-05-01T00:00:00\",\"2020-06-01T00:00:00\",\"2020-07-01T00:00:00\",\"2020-08-01T00:00:00\",\"2020-09-01T00:00:00\",\"2020-10-01T00:00:00\",\"2020-11-01T00:00:00\",\"2020-12-01T00:00:00\"],\"xaxis\":\"x\",\"y\":[8.0,9.0,5.0,7.0,8.0,10.0,11.0,10.0,10.0,18.0,2.0,5.0],\"yaxis\":\"y\",\"type\":\"scatter\"},{\"customdata\":[[\"Toa Alta\"],[\"Toa Alta\"],[\"Toa Alta\"],[\"Toa Alta\"],[\"Toa Alta\"],[\"Toa Alta\"],[\"Toa Alta\"],[\"Toa Alta\"],[\"Toa Alta\"],[\"Toa Alta\"],[\"Toa Alta\"],[\"Toa Alta\"]],\"fillpattern\":{\"shape\":\"\"},\"hovertemplate\":\"Municipio=%{customdata[0]}<br>Fecha=%{x}<br>Total de Delitos=%{y}<extra></extra>\",\"legendgroup\":\"Toa Alta\",\"line\":{\"color\":\"#FF97FF\"},\"marker\":{\"symbol\":\"circle\"},\"mode\":\"lines\",\"name\":\"Toa Alta\",\"orientation\":\"v\",\"showlegend\":true,\"stackgroup\":\"1\",\"x\":[\"2020-01-01T00:00:00\",\"2020-02-01T00:00:00\",\"2020-03-01T00:00:00\",\"2020-04-01T00:00:00\",\"2020-05-01T00:00:00\",\"2020-06-01T00:00:00\",\"2020-07-01T00:00:00\",\"2020-08-01T00:00:00\",\"2020-09-01T00:00:00\",\"2020-10-01T00:00:00\",\"2020-11-01T00:00:00\",\"2020-12-01T00:00:00\"],\"xaxis\":\"x\",\"y\":[28.0,20.0,18.0,18.0,23.0,21.0,8.0,16.0,12.0,23.0,13.0,19.0],\"yaxis\":\"y\",\"type\":\"scatter\"},{\"customdata\":[[\"Toa Baja\"],[\"Toa Baja\"],[\"Toa Baja\"],[\"Toa Baja\"],[\"Toa Baja\"],[\"Toa Baja\"],[\"Toa Baja\"],[\"Toa Baja\"],[\"Toa Baja\"],[\"Toa Baja\"],[\"Toa Baja\"],[\"Toa Baja\"]],\"fillpattern\":{\"shape\":\"\"},\"hovertemplate\":\"Municipio=%{customdata[0]}<br>Fecha=%{x}<br>Total de Delitos=%{y}<extra></extra>\",\"legendgroup\":\"Toa Baja\",\"line\":{\"color\":\"#FECB52\"},\"marker\":{\"symbol\":\"circle\"},\"mode\":\"lines\",\"name\":\"Toa Baja\",\"orientation\":\"v\",\"showlegend\":true,\"stackgroup\":\"1\",\"x\":[\"2020-01-01T00:00:00\",\"2020-02-01T00:00:00\",\"2020-03-01T00:00:00\",\"2020-04-01T00:00:00\",\"2020-05-01T00:00:00\",\"2020-06-01T00:00:00\",\"2020-07-01T00:00:00\",\"2020-08-01T00:00:00\",\"2020-09-01T00:00:00\",\"2020-10-01T00:00:00\",\"2020-11-01T00:00:00\",\"2020-12-01T00:00:00\"],\"xaxis\":\"x\",\"y\":[72.0,62.0,-60.0,14.0,181.0,34.0,41.0,31.0,34.0,34.0,48.0,53.0],\"yaxis\":\"y\",\"type\":\"scatter\"},{\"customdata\":[[\"Trujillo Alto\"],[\"Trujillo Alto\"],[\"Trujillo Alto\"],[\"Trujillo Alto\"],[\"Trujillo Alto\"],[\"Trujillo Alto\"],[\"Trujillo Alto\"],[\"Trujillo Alto\"],[\"Trujillo Alto\"],[\"Trujillo Alto\"],[\"Trujillo Alto\"],[\"Trujillo Alto\"]],\"fillpattern\":{\"shape\":\"\"},\"hovertemplate\":\"Municipio=%{customdata[0]}<br>Fecha=%{x}<br>Total de Delitos=%{y}<extra></extra>\",\"legendgroup\":\"Trujillo Alto\",\"line\":{\"color\":\"#636efa\"},\"marker\":{\"symbol\":\"circle\"},\"mode\":\"lines\",\"name\":\"Trujillo Alto\",\"orientation\":\"v\",\"showlegend\":true,\"stackgroup\":\"1\",\"x\":[\"2020-01-01T00:00:00\",\"2020-02-01T00:00:00\",\"2020-03-01T00:00:00\",\"2020-04-01T00:00:00\",\"2020-05-01T00:00:00\",\"2020-06-01T00:00:00\",\"2020-07-01T00:00:00\",\"2020-08-01T00:00:00\",\"2020-09-01T00:00:00\",\"2020-10-01T00:00:00\",\"2020-11-01T00:00:00\",\"2020-12-01T00:00:00\"],\"xaxis\":\"x\",\"y\":[25.5,29.0,36.0,10.0,22.0,21.0,14.0,12.0,18.0,18.0,17.0,26.0],\"yaxis\":\"y\",\"type\":\"scatter\"},{\"customdata\":[[\"Utuado\"],[\"Utuado\"],[\"Utuado\"],[\"Utuado\"],[\"Utuado\"],[\"Utuado\"],[\"Utuado\"],[\"Utuado\"],[\"Utuado\"],[\"Utuado\"],[\"Utuado\"],[\"Utuado\"]],\"fillpattern\":{\"shape\":\"\"},\"hovertemplate\":\"Municipio=%{customdata[0]}<br>Fecha=%{x}<br>Total de Delitos=%{y}<extra></extra>\",\"legendgroup\":\"Utuado\",\"line\":{\"color\":\"#EF553B\"},\"marker\":{\"symbol\":\"circle\"},\"mode\":\"lines\",\"name\":\"Utuado\",\"orientation\":\"v\",\"showlegend\":true,\"stackgroup\":\"1\",\"x\":[\"2020-01-01T00:00:00\",\"2020-02-01T00:00:00\",\"2020-03-01T00:00:00\",\"2020-04-01T00:00:00\",\"2020-05-01T00:00:00\",\"2020-06-01T00:00:00\",\"2020-07-01T00:00:00\",\"2020-08-01T00:00:00\",\"2020-09-01T00:00:00\",\"2020-10-01T00:00:00\",\"2020-11-01T00:00:00\",\"2020-12-01T00:00:00\"],\"xaxis\":\"x\",\"y\":[17.0,22.0,13.0,7.0,2.0,8.0,7.0,10.0,11.0,13.0,14.0,8.0],\"yaxis\":\"y\",\"type\":\"scatter\"},{\"customdata\":[[\"Vega Alta\"],[\"Vega Alta\"],[\"Vega Alta\"],[\"Vega Alta\"],[\"Vega Alta\"],[\"Vega Alta\"],[\"Vega Alta\"],[\"Vega Alta\"],[\"Vega Alta\"],[\"Vega Alta\"],[\"Vega Alta\"],[\"Vega Alta\"]],\"fillpattern\":{\"shape\":\"\"},\"hovertemplate\":\"Municipio=%{customdata[0]}<br>Fecha=%{x}<br>Total de Delitos=%{y}<extra></extra>\",\"legendgroup\":\"Vega Alta\",\"line\":{\"color\":\"#00cc96\"},\"marker\":{\"symbol\":\"circle\"},\"mode\":\"lines\",\"name\":\"Vega Alta\",\"orientation\":\"v\",\"showlegend\":true,\"stackgroup\":\"1\",\"x\":[\"2020-01-01T00:00:00\",\"2020-02-01T00:00:00\",\"2020-03-01T00:00:00\",\"2020-04-01T00:00:00\",\"2020-05-01T00:00:00\",\"2020-06-01T00:00:00\",\"2020-07-01T00:00:00\",\"2020-08-01T00:00:00\",\"2020-09-01T00:00:00\",\"2020-10-01T00:00:00\",\"2020-11-01T00:00:00\",\"2020-12-01T00:00:00\"],\"xaxis\":\"x\",\"y\":[27.5,23.0,21.0,11.0,21.0,14.0,14.0,18.0,16.0,27.0,16.0,18.0],\"yaxis\":\"y\",\"type\":\"scatter\"},{\"customdata\":[[\"Vega Baja\"],[\"Vega Baja\"],[\"Vega Baja\"],[\"Vega Baja\"],[\"Vega Baja\"],[\"Vega Baja\"],[\"Vega Baja\"],[\"Vega Baja\"],[\"Vega Baja\"],[\"Vega Baja\"],[\"Vega Baja\"],[\"Vega Baja\"]],\"fillpattern\":{\"shape\":\"\"},\"hovertemplate\":\"Municipio=%{customdata[0]}<br>Fecha=%{x}<br>Total de Delitos=%{y}<extra></extra>\",\"legendgroup\":\"Vega Baja\",\"line\":{\"color\":\"#ab63fa\"},\"marker\":{\"symbol\":\"circle\"},\"mode\":\"lines\",\"name\":\"Vega Baja\",\"orientation\":\"v\",\"showlegend\":true,\"stackgroup\":\"1\",\"x\":[\"2020-01-01T00:00:00\",\"2020-02-01T00:00:00\",\"2020-03-01T00:00:00\",\"2020-04-01T00:00:00\",\"2020-05-01T00:00:00\",\"2020-06-01T00:00:00\",\"2020-07-01T00:00:00\",\"2020-08-01T00:00:00\",\"2020-09-01T00:00:00\",\"2020-10-01T00:00:00\",\"2020-11-01T00:00:00\",\"2020-12-01T00:00:00\"],\"xaxis\":\"x\",\"y\":[55.5,52.0,35.0,28.0,37.0,43.0,29.0,30.0,22.0,44.0,40.0,45.0],\"yaxis\":\"y\",\"type\":\"scatter\"},{\"customdata\":[[\"Vieques\"],[\"Vieques\"],[\"Vieques\"],[\"Vieques\"],[\"Vieques\"],[\"Vieques\"],[\"Vieques\"],[\"Vieques\"],[\"Vieques\"],[\"Vieques\"],[\"Vieques\"],[\"Vieques\"]],\"fillpattern\":{\"shape\":\"\"},\"hovertemplate\":\"Municipio=%{customdata[0]}<br>Fecha=%{x}<br>Total de Delitos=%{y}<extra></extra>\",\"legendgroup\":\"Vieques\",\"line\":{\"color\":\"#FFA15A\"},\"marker\":{\"symbol\":\"circle\"},\"mode\":\"lines\",\"name\":\"Vieques\",\"orientation\":\"v\",\"showlegend\":true,\"stackgroup\":\"1\",\"x\":[\"2020-01-01T00:00:00\",\"2020-02-01T00:00:00\",\"2020-03-01T00:00:00\",\"2020-04-01T00:00:00\",\"2020-05-01T00:00:00\",\"2020-06-01T00:00:00\",\"2020-07-01T00:00:00\",\"2020-08-01T00:00:00\",\"2020-09-01T00:00:00\",\"2020-10-01T00:00:00\",\"2020-11-01T00:00:00\",\"2020-12-01T00:00:00\"],\"xaxis\":\"x\",\"y\":[9.0,11.0,10.0,7.0,8.0,6.0,3.0,4.0,10.0,5.0,5.0,10.0],\"yaxis\":\"y\",\"type\":\"scatter\"},{\"customdata\":[[\"Villalba\"],[\"Villalba\"],[\"Villalba\"],[\"Villalba\"],[\"Villalba\"],[\"Villalba\"],[\"Villalba\"],[\"Villalba\"],[\"Villalba\"],[\"Villalba\"],[\"Villalba\"],[\"Villalba\"]],\"fillpattern\":{\"shape\":\"\"},\"hovertemplate\":\"Municipio=%{customdata[0]}<br>Fecha=%{x}<br>Total de Delitos=%{y}<extra></extra>\",\"legendgroup\":\"Villalba\",\"line\":{\"color\":\"#19d3f3\"},\"marker\":{\"symbol\":\"circle\"},\"mode\":\"lines\",\"name\":\"Villalba\",\"orientation\":\"v\",\"showlegend\":true,\"stackgroup\":\"1\",\"x\":[\"2020-01-01T00:00:00\",\"2020-02-01T00:00:00\",\"2020-03-01T00:00:00\",\"2020-04-01T00:00:00\",\"2020-05-01T00:00:00\",\"2020-06-01T00:00:00\",\"2020-07-01T00:00:00\",\"2020-08-01T00:00:00\",\"2020-09-01T00:00:00\",\"2020-10-01T00:00:00\",\"2020-11-01T00:00:00\",\"2020-12-01T00:00:00\"],\"xaxis\":\"x\",\"y\":[3.5,3.0,4.0,1.0,7.0,3.0,9.0,5.0,4.0,19.0,3.0,6.0],\"yaxis\":\"y\",\"type\":\"scatter\"},{\"customdata\":[[\"Yabucoa\"],[\"Yabucoa\"],[\"Yabucoa\"],[\"Yabucoa\"],[\"Yabucoa\"],[\"Yabucoa\"],[\"Yabucoa\"],[\"Yabucoa\"],[\"Yabucoa\"],[\"Yabucoa\"],[\"Yabucoa\"],[\"Yabucoa\"]],\"fillpattern\":{\"shape\":\"\"},\"hovertemplate\":\"Municipio=%{customdata[0]}<br>Fecha=%{x}<br>Total de Delitos=%{y}<extra></extra>\",\"legendgroup\":\"Yabucoa\",\"line\":{\"color\":\"#FF6692\"},\"marker\":{\"symbol\":\"circle\"},\"mode\":\"lines\",\"name\":\"Yabucoa\",\"orientation\":\"v\",\"showlegend\":true,\"stackgroup\":\"1\",\"x\":[\"2020-01-01T00:00:00\",\"2020-02-01T00:00:00\",\"2020-03-01T00:00:00\",\"2020-04-01T00:00:00\",\"2020-05-01T00:00:00\",\"2020-06-01T00:00:00\",\"2020-07-01T00:00:00\",\"2020-08-01T00:00:00\",\"2020-09-01T00:00:00\",\"2020-10-01T00:00:00\",\"2020-11-01T00:00:00\",\"2020-12-01T00:00:00\"],\"xaxis\":\"x\",\"y\":[10.0,11.0,6.0,3.0,4.0,6.0,2.0,20.0,5.0,8.0,10.0,5.0],\"yaxis\":\"y\",\"type\":\"scatter\"},{\"customdata\":[[\"Yauco\"],[\"Yauco\"],[\"Yauco\"],[\"Yauco\"],[\"Yauco\"],[\"Yauco\"],[\"Yauco\"],[\"Yauco\"],[\"Yauco\"],[\"Yauco\"],[\"Yauco\"],[\"Yauco\"]],\"fillpattern\":{\"shape\":\"\"},\"hovertemplate\":\"Municipio=%{customdata[0]}<br>Fecha=%{x}<br>Total de Delitos=%{y}<extra></extra>\",\"legendgroup\":\"Yauco\",\"line\":{\"color\":\"#B6E880\"},\"marker\":{\"symbol\":\"circle\"},\"mode\":\"lines\",\"name\":\"Yauco\",\"orientation\":\"v\",\"showlegend\":true,\"stackgroup\":\"1\",\"x\":[\"2020-01-01T00:00:00\",\"2020-02-01T00:00:00\",\"2020-03-01T00:00:00\",\"2020-04-01T00:00:00\",\"2020-05-01T00:00:00\",\"2020-06-01T00:00:00\",\"2020-07-01T00:00:00\",\"2020-08-01T00:00:00\",\"2020-09-01T00:00:00\",\"2020-10-01T00:00:00\",\"2020-11-01T00:00:00\",\"2020-12-01T00:00:00\"],\"xaxis\":\"x\",\"y\":[8.0,9.0,12.0,11.0,22.0,9.0,5.0,7.0,10.0,13.0,14.0,8.0],\"yaxis\":\"y\",\"type\":\"scatter\"},{\"customdata\":[[\"Aguada\"],[\"Aguada\"]],\"fillpattern\":{\"shape\":\"\"},\"hovertemplate\":\"Municipio=%{customdata[0]}<br>Fecha=%{x}<br>Total de Delitos=%{y}<extra></extra>\",\"legendgroup\":\"Aguada\",\"line\":{\"color\":\"#FF97FF\"},\"marker\":{\"symbol\":\"circle\"},\"mode\":\"lines\",\"name\":\"Aguada\",\"orientation\":\"v\",\"showlegend\":true,\"stackgroup\":\"1\",\"x\":[\"2020-03-01T00:00:00\",\"2020-04-01T00:00:00\"],\"xaxis\":\"x\",\"y\":[11.0,11.0],\"yaxis\":\"y\",\"type\":\"scatter\"}],                        {\"template\":{\"data\":{\"histogram2dcontour\":[{\"type\":\"histogram2dcontour\",\"colorbar\":{\"outlinewidth\":0,\"ticks\":\"\"},\"colorscale\":[[0.0,\"#0d0887\"],[0.1111111111111111,\"#46039f\"],[0.2222222222222222,\"#7201a8\"],[0.3333333333333333,\"#9c179e\"],[0.4444444444444444,\"#bd3786\"],[0.5555555555555556,\"#d8576b\"],[0.6666666666666666,\"#ed7953\"],[0.7777777777777778,\"#fb9f3a\"],[0.8888888888888888,\"#fdca26\"],[1.0,\"#f0f921\"]]}],\"choropleth\":[{\"type\":\"choropleth\",\"colorbar\":{\"outlinewidth\":0,\"ticks\":\"\"}}],\"histogram2d\":[{\"type\":\"histogram2d\",\"colorbar\":{\"outlinewidth\":0,\"ticks\":\"\"},\"colorscale\":[[0.0,\"#0d0887\"],[0.1111111111111111,\"#46039f\"],[0.2222222222222222,\"#7201a8\"],[0.3333333333333333,\"#9c179e\"],[0.4444444444444444,\"#bd3786\"],[0.5555555555555556,\"#d8576b\"],[0.6666666666666666,\"#ed7953\"],[0.7777777777777778,\"#fb9f3a\"],[0.8888888888888888,\"#fdca26\"],[1.0,\"#f0f921\"]]}],\"heatmap\":[{\"type\":\"heatmap\",\"colorbar\":{\"outlinewidth\":0,\"ticks\":\"\"},\"colorscale\":[[0.0,\"#0d0887\"],[0.1111111111111111,\"#46039f\"],[0.2222222222222222,\"#7201a8\"],[0.3333333333333333,\"#9c179e\"],[0.4444444444444444,\"#bd3786\"],[0.5555555555555556,\"#d8576b\"],[0.6666666666666666,\"#ed7953\"],[0.7777777777777778,\"#fb9f3a\"],[0.8888888888888888,\"#fdca26\"],[1.0,\"#f0f921\"]]}],\"heatmapgl\":[{\"type\":\"heatmapgl\",\"colorbar\":{\"outlinewidth\":0,\"ticks\":\"\"},\"colorscale\":[[0.0,\"#0d0887\"],[0.1111111111111111,\"#46039f\"],[0.2222222222222222,\"#7201a8\"],[0.3333333333333333,\"#9c179e\"],[0.4444444444444444,\"#bd3786\"],[0.5555555555555556,\"#d8576b\"],[0.6666666666666666,\"#ed7953\"],[0.7777777777777778,\"#fb9f3a\"],[0.8888888888888888,\"#fdca26\"],[1.0,\"#f0f921\"]]}],\"contourcarpet\":[{\"type\":\"contourcarpet\",\"colorbar\":{\"outlinewidth\":0,\"ticks\":\"\"}}],\"contour\":[{\"type\":\"contour\",\"colorbar\":{\"outlinewidth\":0,\"ticks\":\"\"},\"colorscale\":[[0.0,\"#0d0887\"],[0.1111111111111111,\"#46039f\"],[0.2222222222222222,\"#7201a8\"],[0.3333333333333333,\"#9c179e\"],[0.4444444444444444,\"#bd3786\"],[0.5555555555555556,\"#d8576b\"],[0.6666666666666666,\"#ed7953\"],[0.7777777777777778,\"#fb9f3a\"],[0.8888888888888888,\"#fdca26\"],[1.0,\"#f0f921\"]]}],\"surface\":[{\"type\":\"surface\",\"colorbar\":{\"outlinewidth\":0,\"ticks\":\"\"},\"colorscale\":[[0.0,\"#0d0887\"],[0.1111111111111111,\"#46039f\"],[0.2222222222222222,\"#7201a8\"],[0.3333333333333333,\"#9c179e\"],[0.4444444444444444,\"#bd3786\"],[0.5555555555555556,\"#d8576b\"],[0.6666666666666666,\"#ed7953\"],[0.7777777777777778,\"#fb9f3a\"],[0.8888888888888888,\"#fdca26\"],[1.0,\"#f0f921\"]]}],\"mesh3d\":[{\"type\":\"mesh3d\",\"colorbar\":{\"outlinewidth\":0,\"ticks\":\"\"}}],\"scatter\":[{\"fillpattern\":{\"fillmode\":\"overlay\",\"size\":10,\"solidity\":0.2},\"type\":\"scatter\"}],\"parcoords\":[{\"type\":\"parcoords\",\"line\":{\"colorbar\":{\"outlinewidth\":0,\"ticks\":\"\"}}}],\"scatterpolargl\":[{\"type\":\"scatterpolargl\",\"marker\":{\"colorbar\":{\"outlinewidth\":0,\"ticks\":\"\"}}}],\"bar\":[{\"error_x\":{\"color\":\"#2a3f5f\"},\"error_y\":{\"color\":\"#2a3f5f\"},\"marker\":{\"line\":{\"color\":\"#E5ECF6\",\"width\":0.5},\"pattern\":{\"fillmode\":\"overlay\",\"size\":10,\"solidity\":0.2}},\"type\":\"bar\"}],\"scattergeo\":[{\"type\":\"scattergeo\",\"marker\":{\"colorbar\":{\"outlinewidth\":0,\"ticks\":\"\"}}}],\"scatterpolar\":[{\"type\":\"scatterpolar\",\"marker\":{\"colorbar\":{\"outlinewidth\":0,\"ticks\":\"\"}}}],\"histogram\":[{\"marker\":{\"pattern\":{\"fillmode\":\"overlay\",\"size\":10,\"solidity\":0.2}},\"type\":\"histogram\"}],\"scattergl\":[{\"type\":\"scattergl\",\"marker\":{\"colorbar\":{\"outlinewidth\":0,\"ticks\":\"\"}}}],\"scatter3d\":[{\"type\":\"scatter3d\",\"line\":{\"colorbar\":{\"outlinewidth\":0,\"ticks\":\"\"}},\"marker\":{\"colorbar\":{\"outlinewidth\":0,\"ticks\":\"\"}}}],\"scattermapbox\":[{\"type\":\"scattermapbox\",\"marker\":{\"colorbar\":{\"outlinewidth\":0,\"ticks\":\"\"}}}],\"scatterternary\":[{\"type\":\"scatterternary\",\"marker\":{\"colorbar\":{\"outlinewidth\":0,\"ticks\":\"\"}}}],\"scattercarpet\":[{\"type\":\"scattercarpet\",\"marker\":{\"colorbar\":{\"outlinewidth\":0,\"ticks\":\"\"}}}],\"carpet\":[{\"aaxis\":{\"endlinecolor\":\"#2a3f5f\",\"gridcolor\":\"white\",\"linecolor\":\"white\",\"minorgridcolor\":\"white\",\"startlinecolor\":\"#2a3f5f\"},\"baxis\":{\"endlinecolor\":\"#2a3f5f\",\"gridcolor\":\"white\",\"linecolor\":\"white\",\"minorgridcolor\":\"white\",\"startlinecolor\":\"#2a3f5f\"},\"type\":\"carpet\"}],\"table\":[{\"cells\":{\"fill\":{\"color\":\"#EBF0F8\"},\"line\":{\"color\":\"white\"}},\"header\":{\"fill\":{\"color\":\"#C8D4E3\"},\"line\":{\"color\":\"white\"}},\"type\":\"table\"}],\"barpolar\":[{\"marker\":{\"line\":{\"color\":\"#E5ECF6\",\"width\":0.5},\"pattern\":{\"fillmode\":\"overlay\",\"size\":10,\"solidity\":0.2}},\"type\":\"barpolar\"}],\"pie\":[{\"automargin\":true,\"type\":\"pie\"}]},\"layout\":{\"autotypenumbers\":\"strict\",\"colorway\":[\"#636efa\",\"#EF553B\",\"#00cc96\",\"#ab63fa\",\"#FFA15A\",\"#19d3f3\",\"#FF6692\",\"#B6E880\",\"#FF97FF\",\"#FECB52\"],\"font\":{\"color\":\"#2a3f5f\"},\"hovermode\":\"closest\",\"hoverlabel\":{\"align\":\"left\"},\"paper_bgcolor\":\"white\",\"plot_bgcolor\":\"#E5ECF6\",\"polar\":{\"bgcolor\":\"#E5ECF6\",\"angularaxis\":{\"gridcolor\":\"white\",\"linecolor\":\"white\",\"ticks\":\"\"},\"radialaxis\":{\"gridcolor\":\"white\",\"linecolor\":\"white\",\"ticks\":\"\"}},\"ternary\":{\"bgcolor\":\"#E5ECF6\",\"aaxis\":{\"gridcolor\":\"white\",\"linecolor\":\"white\",\"ticks\":\"\"},\"baxis\":{\"gridcolor\":\"white\",\"linecolor\":\"white\",\"ticks\":\"\"},\"caxis\":{\"gridcolor\":\"white\",\"linecolor\":\"white\",\"ticks\":\"\"}},\"coloraxis\":{\"colorbar\":{\"outlinewidth\":0,\"ticks\":\"\"}},\"colorscale\":{\"sequential\":[[0.0,\"#0d0887\"],[0.1111111111111111,\"#46039f\"],[0.2222222222222222,\"#7201a8\"],[0.3333333333333333,\"#9c179e\"],[0.4444444444444444,\"#bd3786\"],[0.5555555555555556,\"#d8576b\"],[0.6666666666666666,\"#ed7953\"],[0.7777777777777778,\"#fb9f3a\"],[0.8888888888888888,\"#fdca26\"],[1.0,\"#f0f921\"]],\"sequentialminus\":[[0.0,\"#0d0887\"],[0.1111111111111111,\"#46039f\"],[0.2222222222222222,\"#7201a8\"],[0.3333333333333333,\"#9c179e\"],[0.4444444444444444,\"#bd3786\"],[0.5555555555555556,\"#d8576b\"],[0.6666666666666666,\"#ed7953\"],[0.7777777777777778,\"#fb9f3a\"],[0.8888888888888888,\"#fdca26\"],[1.0,\"#f0f921\"]],\"diverging\":[[0,\"#8e0152\"],[0.1,\"#c51b7d\"],[0.2,\"#de77ae\"],[0.3,\"#f1b6da\"],[0.4,\"#fde0ef\"],[0.5,\"#f7f7f7\"],[0.6,\"#e6f5d0\"],[0.7,\"#b8e186\"],[0.8,\"#7fbc41\"],[0.9,\"#4d9221\"],[1,\"#276419\"]]},\"xaxis\":{\"gridcolor\":\"white\",\"linecolor\":\"white\",\"ticks\":\"\",\"title\":{\"standoff\":15},\"zerolinecolor\":\"white\",\"automargin\":true,\"zerolinewidth\":2},\"yaxis\":{\"gridcolor\":\"white\",\"linecolor\":\"white\",\"ticks\":\"\",\"title\":{\"standoff\":15},\"zerolinecolor\":\"white\",\"automargin\":true,\"zerolinewidth\":2},\"scene\":{\"xaxis\":{\"backgroundcolor\":\"#E5ECF6\",\"gridcolor\":\"white\",\"linecolor\":\"white\",\"showbackground\":true,\"ticks\":\"\",\"zerolinecolor\":\"white\",\"gridwidth\":2},\"yaxis\":{\"backgroundcolor\":\"#E5ECF6\",\"gridcolor\":\"white\",\"linecolor\":\"white\",\"showbackground\":true,\"ticks\":\"\",\"zerolinecolor\":\"white\",\"gridwidth\":2},\"zaxis\":{\"backgroundcolor\":\"#E5ECF6\",\"gridcolor\":\"white\",\"linecolor\":\"white\",\"showbackground\":true,\"ticks\":\"\",\"zerolinecolor\":\"white\",\"gridwidth\":2}},\"shapedefaults\":{\"line\":{\"color\":\"#2a3f5f\"}},\"annotationdefaults\":{\"arrowcolor\":\"#2a3f5f\",\"arrowhead\":0,\"arrowwidth\":1},\"geo\":{\"bgcolor\":\"white\",\"landcolor\":\"#E5ECF6\",\"subunitcolor\":\"white\",\"showland\":true,\"showlakes\":true,\"lakecolor\":\"white\"},\"title\":{\"x\":0.05},\"mapbox\":{\"style\":\"light\"}}},\"xaxis\":{\"anchor\":\"y\",\"domain\":[0.0,1.0],\"title\":{\"text\":\"Fecha\"},\"type\":\"category\"},\"yaxis\":{\"anchor\":\"x\",\"domain\":[0.0,1.0],\"title\":{\"text\":\"Total de Delitos\"}},\"legend\":{\"title\":{\"text\":\"Municipio\"},\"tracegroupgap\":0},\"title\":{\"text\":\"Total de Delitos Tipo I por Municipio 2020\"}},                        {\"responsive\": true}                    ).then(function(){\n",
       "                            \n",
       "var gd = document.getElementById('06c9003d-2cd9-4ceb-85ea-03cd9743d81b');\n",
       "var x = new MutationObserver(function (mutations, observer) {{\n",
       "        var display = window.getComputedStyle(gd).display;\n",
       "        if (!display || display === 'none') {{\n",
       "            console.log([gd, 'removed!']);\n",
       "            Plotly.purge(gd);\n",
       "            observer.disconnect();\n",
       "        }}\n",
       "}});\n",
       "\n",
       "// Listen for the removal of the full notebook cells\n",
       "var notebookContainer = gd.closest('#notebook-container');\n",
       "if (notebookContainer) {{\n",
       "    x.observe(notebookContainer, {childList: true});\n",
       "}}\n",
       "\n",
       "// Listen for the clearing of the current output cell\n",
       "var outputEl = gd.closest('.output');\n",
       "if (outputEl) {{\n",
       "    x.observe(outputEl, {childList: true});\n",
       "}}\n",
       "\n",
       "                        })                };                });            </script>        </div>"
      ]
     },
     "metadata": {},
     "output_type": "display_data"
    }
   ],
   "source": [
    "grouped_data2020 = date2020.groupby(['Date', 'Distrito'])['Tipo I'].sum().reset_index()\n",
    "\n",
    "#stacked streamgraph\n",
    "fig = px.area(grouped_data2020, x='Date', y='Tipo I', color='Distrito',\n",
    "              title='Total de Delitos Tipo I por Municipio 2020',\n",
    "              labels={'Date': 'Fecha', 'Tipo I': 'Total de Delitos', 'Distrito': 'Municipio'}, ##labels\n",
    "              hover_data={'Date': True, 'Distrito': True, 'Tipo I': True}, ##la data en el cuadrito\n",
    "              line_group='Distrito')\n",
    "\n",
    "fig.update_layout(xaxis={'type': 'category'})\n",
    "\n",
    "fig.show()\n"
   ]
  },
  {
   "cell_type": "code",
   "execution_count": null,
   "id": "b1ffceb0",
   "metadata": {},
   "outputs": [],
   "source": []
  }
 ],
 "metadata": {
  "kernelspec": {
   "display_name": "Python 3",
   "language": "python",
   "name": "python3"
  },
  "language_info": {
   "codemirror_mode": {
    "name": "ipython",
    "version": 3
   },
   "file_extension": ".py",
   "mimetype": "text/x-python",
   "name": "python",
   "nbconvert_exporter": "python",
   "pygments_lexer": "ipython3",
   "version": "3.8.8"
  }
 },
 "nbformat": 4,
 "nbformat_minor": 5
}
