{
 "cells": [
  {
   "cell_type": "markdown",
   "id": "7a390520-aaab-4a06-9d1c-6f1ce90c9de3",
   "metadata": {},
   "source": [
    "Author: Hector\n",
    "\n",
    "Run this after running the cleaning scripts for tasa de desempleos and delitos"
   ]
  },
  {
   "cell_type": "code",
   "execution_count": 1,
   "id": "b5be7e2d-6d4b-476c-8028-a3803465b37e",
   "metadata": {},
   "outputs": [],
   "source": [
    "import pandas as pd"
   ]
  },
  {
   "cell_type": "code",
   "execution_count": 2,
   "id": "f74423da-408c-4acb-b40b-67388f766fbf",
   "metadata": {},
   "outputs": [],
   "source": [
    "df_delitos = pd.read_csv('../../data/clean/DelitosTipo1/DelitosTipo1-2010-2020_deltas_mensuales(interpolado).csv',\n",
    "                        index_col=0)\n"
   ]
  },
  {
   "cell_type": "code",
   "execution_count": 3,
   "id": "cfc30178-fdcf-4ccd-a6da-f20b13ccdecc",
   "metadata": {},
   "outputs": [
    {
     "data": {
      "text/html": [
       "<div>\n",
       "<style scoped>\n",
       "    .dataframe tbody tr th:only-of-type {\n",
       "        vertical-align: middle;\n",
       "    }\n",
       "\n",
       "    .dataframe tbody tr th {\n",
       "        vertical-align: top;\n",
       "    }\n",
       "\n",
       "    .dataframe thead th {\n",
       "        text-align: right;\n",
       "    }\n",
       "</style>\n",
       "<table border=\"1\" class=\"dataframe\">\n",
       "  <thead>\n",
       "    <tr style=\"text-align: right;\">\n",
       "      <th></th>\n",
       "      <th>Distrito</th>\n",
       "      <th>Tipo I</th>\n",
       "      <th>Ases.</th>\n",
       "      <th>Viol.</th>\n",
       "      <th>Robo</th>\n",
       "      <th>Agr. Grave</th>\n",
       "      <th>Esc.</th>\n",
       "      <th>Apr. I</th>\n",
       "      <th>H. Auto</th>\n",
       "      <th>Date</th>\n",
       "    </tr>\n",
       "  </thead>\n",
       "  <tbody>\n",
       "    <tr>\n",
       "      <th>0</th>\n",
       "      <td>Adjuntas</td>\n",
       "      <td>34.0</td>\n",
       "      <td>0.0</td>\n",
       "      <td>0.0</td>\n",
       "      <td>4.0</td>\n",
       "      <td>1.0</td>\n",
       "      <td>12.0</td>\n",
       "      <td>16.0</td>\n",
       "      <td>1.0</td>\n",
       "      <td>2010-01-01</td>\n",
       "    </tr>\n",
       "    <tr>\n",
       "      <th>1</th>\n",
       "      <td>Ponce</td>\n",
       "      <td>243.0</td>\n",
       "      <td>4.0</td>\n",
       "      <td>0.0</td>\n",
       "      <td>26.0</td>\n",
       "      <td>14.0</td>\n",
       "      <td>52.0</td>\n",
       "      <td>123.0</td>\n",
       "      <td>24.0</td>\n",
       "      <td>2010-01-01</td>\n",
       "    </tr>\n",
       "    <tr>\n",
       "      <th>2</th>\n",
       "      <td>Peñuelas</td>\n",
       "      <td>12.0</td>\n",
       "      <td>0.0</td>\n",
       "      <td>0.0</td>\n",
       "      <td>2.0</td>\n",
       "      <td>0.0</td>\n",
       "      <td>6.0</td>\n",
       "      <td>2.0</td>\n",
       "      <td>2.0</td>\n",
       "      <td>2010-01-01</td>\n",
       "    </tr>\n",
       "    <tr>\n",
       "      <th>3</th>\n",
       "      <td>Patillas</td>\n",
       "      <td>13.0</td>\n",
       "      <td>0.0</td>\n",
       "      <td>0.0</td>\n",
       "      <td>0.0</td>\n",
       "      <td>4.0</td>\n",
       "      <td>6.0</td>\n",
       "      <td>3.0</td>\n",
       "      <td>0.0</td>\n",
       "      <td>2010-01-01</td>\n",
       "    </tr>\n",
       "    <tr>\n",
       "      <th>4</th>\n",
       "      <td>Orocovis</td>\n",
       "      <td>22.0</td>\n",
       "      <td>0.0</td>\n",
       "      <td>0.0</td>\n",
       "      <td>0.0</td>\n",
       "      <td>0.0</td>\n",
       "      <td>10.0</td>\n",
       "      <td>12.0</td>\n",
       "      <td>0.0</td>\n",
       "      <td>2010-01-01</td>\n",
       "    </tr>\n",
       "    <tr>\n",
       "      <th>...</th>\n",
       "      <td>...</td>\n",
       "      <td>...</td>\n",
       "      <td>...</td>\n",
       "      <td>...</td>\n",
       "      <td>...</td>\n",
       "      <td>...</td>\n",
       "      <td>...</td>\n",
       "      <td>...</td>\n",
       "      <td>...</td>\n",
       "      <td>...</td>\n",
       "    </tr>\n",
       "    <tr>\n",
       "      <th>10291</th>\n",
       "      <td>Orocovis</td>\n",
       "      <td>11.0</td>\n",
       "      <td>0.0</td>\n",
       "      <td>0.0</td>\n",
       "      <td>0.0</td>\n",
       "      <td>2.0</td>\n",
       "      <td>5.0</td>\n",
       "      <td>3.0</td>\n",
       "      <td>1.0</td>\n",
       "      <td>2020-12-01</td>\n",
       "    </tr>\n",
       "    <tr>\n",
       "      <th>10292</th>\n",
       "      <td>Patillas</td>\n",
       "      <td>8.0</td>\n",
       "      <td>0.0</td>\n",
       "      <td>0.0</td>\n",
       "      <td>0.0</td>\n",
       "      <td>6.0</td>\n",
       "      <td>1.0</td>\n",
       "      <td>1.0</td>\n",
       "      <td>0.0</td>\n",
       "      <td>2020-12-01</td>\n",
       "    </tr>\n",
       "    <tr>\n",
       "      <th>10293</th>\n",
       "      <td>Ponce</td>\n",
       "      <td>71.0</td>\n",
       "      <td>0.0</td>\n",
       "      <td>1.0</td>\n",
       "      <td>6.0</td>\n",
       "      <td>10.0</td>\n",
       "      <td>13.0</td>\n",
       "      <td>40.0</td>\n",
       "      <td>1.0</td>\n",
       "      <td>2020-12-01</td>\n",
       "    </tr>\n",
       "    <tr>\n",
       "      <th>10294</th>\n",
       "      <td>Mayagüez</td>\n",
       "      <td>34.0</td>\n",
       "      <td>2.0</td>\n",
       "      <td>0.0</td>\n",
       "      <td>1.0</td>\n",
       "      <td>6.0</td>\n",
       "      <td>6.0</td>\n",
       "      <td>18.0</td>\n",
       "      <td>1.0</td>\n",
       "      <td>2020-12-01</td>\n",
       "    </tr>\n",
       "    <tr>\n",
       "      <th>10295</th>\n",
       "      <td>Peñuelas</td>\n",
       "      <td>8.0</td>\n",
       "      <td>0.0</td>\n",
       "      <td>0.0</td>\n",
       "      <td>0.0</td>\n",
       "      <td>4.0</td>\n",
       "      <td>1.0</td>\n",
       "      <td>2.0</td>\n",
       "      <td>1.0</td>\n",
       "      <td>2020-12-01</td>\n",
       "    </tr>\n",
       "  </tbody>\n",
       "</table>\n",
       "<p>10296 rows × 10 columns</p>\n",
       "</div>"
      ],
      "text/plain": [
       "       Distrito  Tipo I  Ases.  Viol.  Robo  Agr. Grave  Esc.  Apr. I  \\\n",
       "0      Adjuntas    34.0    0.0    0.0   4.0         1.0  12.0    16.0   \n",
       "1         Ponce   243.0    4.0    0.0  26.0        14.0  52.0   123.0   \n",
       "2      Peñuelas    12.0    0.0    0.0   2.0         0.0   6.0     2.0   \n",
       "3      Patillas    13.0    0.0    0.0   0.0         4.0   6.0     3.0   \n",
       "4      Orocovis    22.0    0.0    0.0   0.0         0.0  10.0    12.0   \n",
       "...         ...     ...    ...    ...   ...         ...   ...     ...   \n",
       "10291  Orocovis    11.0    0.0    0.0   0.0         2.0   5.0     3.0   \n",
       "10292  Patillas     8.0    0.0    0.0   0.0         6.0   1.0     1.0   \n",
       "10293     Ponce    71.0    0.0    1.0   6.0        10.0  13.0    40.0   \n",
       "10294  Mayagüez    34.0    2.0    0.0   1.0         6.0   6.0    18.0   \n",
       "10295  Peñuelas     8.0    0.0    0.0   0.0         4.0   1.0     2.0   \n",
       "\n",
       "       H. Auto        Date  \n",
       "0          1.0  2010-01-01  \n",
       "1         24.0  2010-01-01  \n",
       "2          2.0  2010-01-01  \n",
       "3          0.0  2010-01-01  \n",
       "4          0.0  2010-01-01  \n",
       "...        ...         ...  \n",
       "10291      1.0  2020-12-01  \n",
       "10292      0.0  2020-12-01  \n",
       "10293      1.0  2020-12-01  \n",
       "10294      1.0  2020-12-01  \n",
       "10295      1.0  2020-12-01  \n",
       "\n",
       "[10296 rows x 10 columns]"
      ]
     },
     "execution_count": 3,
     "metadata": {},
     "output_type": "execute_result"
    }
   ],
   "source": [
    "df_delitos"
   ]
  },
  {
   "cell_type": "code",
   "execution_count": 4,
   "id": "974036a2-be1f-4b7e-b8b5-690bf8035c3d",
   "metadata": {},
   "outputs": [],
   "source": [
    "df_desempleos = pd.read_csv('../../data/clean/Tasa de Desempleos/tasa_de_desempleos_y_mas_limpio.csv'\n",
    "                           )"
   ]
  },
  {
   "cell_type": "code",
   "execution_count": 5,
   "id": "59fed80c-3155-4e44-a746-54cbbd559ce4",
   "metadata": {},
   "outputs": [
    {
     "data": {
      "text/html": [
       "<div>\n",
       "<style scoped>\n",
       "    .dataframe tbody tr th:only-of-type {\n",
       "        vertical-align: middle;\n",
       "    }\n",
       "\n",
       "    .dataframe tbody tr th {\n",
       "        vertical-align: top;\n",
       "    }\n",
       "\n",
       "    .dataframe thead th {\n",
       "        text-align: right;\n",
       "    }\n",
       "</style>\n",
       "<table border=\"1\" class=\"dataframe\">\n",
       "  <thead>\n",
       "    <tr style=\"text-align: right;\">\n",
       "      <th></th>\n",
       "      <th>Date</th>\n",
       "      <th>Municipio o Area</th>\n",
       "      <th>Tasa de Desempleo</th>\n",
       "      <th>Num. Personas Desempleadas</th>\n",
       "      <th>Num. Personas Empleadas</th>\n",
       "      <th>Num. Personas Grupo Trabajador</th>\n",
       "    </tr>\n",
       "  </thead>\n",
       "  <tbody>\n",
       "    <tr>\n",
       "      <th>0</th>\n",
       "      <td>2000-08-01</td>\n",
       "      <td>San Juan-Carolina-Caguas, PR</td>\n",
       "      <td>9.1</td>\n",
       "      <td>83476.0</td>\n",
       "      <td>782071.0</td>\n",
       "      <td>839751.0</td>\n",
       "    </tr>\n",
       "    <tr>\n",
       "      <th>1</th>\n",
       "      <td>2000-08-01</td>\n",
       "      <td>Vieques</td>\n",
       "      <td>10.8</td>\n",
       "      <td>332.0</td>\n",
       "      <td>2562.0</td>\n",
       "      <td>2336.0</td>\n",
       "    </tr>\n",
       "    <tr>\n",
       "      <th>2</th>\n",
       "      <td>2000-08-01</td>\n",
       "      <td>San Germán, PR</td>\n",
       "      <td>11.6</td>\n",
       "      <td>6004.0</td>\n",
       "      <td>41363.0</td>\n",
       "      <td>45568.0</td>\n",
       "    </tr>\n",
       "    <tr>\n",
       "      <th>3</th>\n",
       "      <td>2000-08-01</td>\n",
       "      <td>Carolina</td>\n",
       "      <td>8.1</td>\n",
       "      <td>6800.0</td>\n",
       "      <td>71512.0</td>\n",
       "      <td>75943.0</td>\n",
       "    </tr>\n",
       "    <tr>\n",
       "      <th>4</th>\n",
       "      <td>2000-08-01</td>\n",
       "      <td>Vega Baja</td>\n",
       "      <td>10.8</td>\n",
       "      <td>2377.0</td>\n",
       "      <td>17830.0</td>\n",
       "      <td>19616.0</td>\n",
       "    </tr>\n",
       "    <tr>\n",
       "      <th>...</th>\n",
       "      <td>...</td>\n",
       "      <td>...</td>\n",
       "      <td>...</td>\n",
       "      <td>...</td>\n",
       "      <td>...</td>\n",
       "      <td>...</td>\n",
       "    </tr>\n",
       "    <tr>\n",
       "      <th>22700</th>\n",
       "      <td>2020-08-01</td>\n",
       "      <td>Manatí NSA</td>\n",
       "      <td>8.5</td>\n",
       "      <td>932.0</td>\n",
       "      <td>10056.0</td>\n",
       "      <td>10988.0</td>\n",
       "    </tr>\n",
       "    <tr>\n",
       "      <th>22701</th>\n",
       "      <td>2020-08-01</td>\n",
       "      <td>Luquillo</td>\n",
       "      <td>10.4</td>\n",
       "      <td>622.0</td>\n",
       "      <td>5343.0</td>\n",
       "      <td>5965.0</td>\n",
       "    </tr>\n",
       "    <tr>\n",
       "      <th>22702</th>\n",
       "      <td>2020-08-01</td>\n",
       "      <td>Culebra</td>\n",
       "      <td>8.0</td>\n",
       "      <td>75.0</td>\n",
       "      <td>858.0</td>\n",
       "      <td>933.0</td>\n",
       "    </tr>\n",
       "    <tr>\n",
       "      <th>22703</th>\n",
       "      <td>2020-08-01</td>\n",
       "      <td>Morovis</td>\n",
       "      <td>11.0</td>\n",
       "      <td>847.0</td>\n",
       "      <td>6856.0</td>\n",
       "      <td>7703.0</td>\n",
       "    </tr>\n",
       "    <tr>\n",
       "      <th>22704</th>\n",
       "      <td>2020-08-01</td>\n",
       "      <td>Puerto Rico SA</td>\n",
       "      <td>8.3</td>\n",
       "      <td>86123.0</td>\n",
       "      <td>951707.0</td>\n",
       "      <td>1037830.0</td>\n",
       "    </tr>\n",
       "  </tbody>\n",
       "</table>\n",
       "<p>22705 rows × 6 columns</p>\n",
       "</div>"
      ],
      "text/plain": [
       "             Date              Municipio o Area  Tasa de Desempleo  \\\n",
       "0      2000-08-01  San Juan-Carolina-Caguas, PR                9.1   \n",
       "1      2000-08-01                       Vieques               10.8   \n",
       "2      2000-08-01                San Germán, PR               11.6   \n",
       "3      2000-08-01                      Carolina                8.1   \n",
       "4      2000-08-01                     Vega Baja               10.8   \n",
       "...           ...                           ...                ...   \n",
       "22700  2020-08-01                    Manatí NSA                8.5   \n",
       "22701  2020-08-01                      Luquillo               10.4   \n",
       "22702  2020-08-01                       Culebra                8.0   \n",
       "22703  2020-08-01                       Morovis               11.0   \n",
       "22704  2020-08-01                Puerto Rico SA                8.3   \n",
       "\n",
       "       Num. Personas Desempleadas  Num. Personas Empleadas  \\\n",
       "0                         83476.0                 782071.0   \n",
       "1                           332.0                   2562.0   \n",
       "2                          6004.0                  41363.0   \n",
       "3                          6800.0                  71512.0   \n",
       "4                          2377.0                  17830.0   \n",
       "...                           ...                      ...   \n",
       "22700                       932.0                  10056.0   \n",
       "22701                       622.0                   5343.0   \n",
       "22702                        75.0                    858.0   \n",
       "22703                       847.0                   6856.0   \n",
       "22704                     86123.0                 951707.0   \n",
       "\n",
       "       Num. Personas Grupo Trabajador  \n",
       "0                            839751.0  \n",
       "1                              2336.0  \n",
       "2                             45568.0  \n",
       "3                             75943.0  \n",
       "4                             19616.0  \n",
       "...                               ...  \n",
       "22700                         10988.0  \n",
       "22701                          5965.0  \n",
       "22702                           933.0  \n",
       "22703                          7703.0  \n",
       "22704                       1037830.0  \n",
       "\n",
       "[22705 rows x 6 columns]"
      ]
     },
     "execution_count": 5,
     "metadata": {},
     "output_type": "execute_result"
    }
   ],
   "source": [
    "df_desempleos"
   ]
  },
  {
   "cell_type": "code",
   "execution_count": 6,
   "id": "99e5341d-0020-4c0b-bdc9-1135d9108260",
   "metadata": {},
   "outputs": [
    {
     "data": {
      "text/plain": [
       "Distrito       object\n",
       "Tipo I        float64\n",
       "Ases.         float64\n",
       "Viol.         float64\n",
       "Robo          float64\n",
       "Agr. Grave    float64\n",
       "Esc.          float64\n",
       "Apr. I        float64\n",
       "H. Auto       float64\n",
       "Date           object\n",
       "dtype: object"
      ]
     },
     "execution_count": 6,
     "metadata": {},
     "output_type": "execute_result"
    }
   ],
   "source": [
    "df_delitos.dtypes"
   ]
  },
  {
   "cell_type": "code",
   "execution_count": 7,
   "id": "2c3bad6c-a081-4faf-bfaa-fa6dd7cadd99",
   "metadata": {},
   "outputs": [],
   "source": [
    "df_delitos['Date'] = pd.to_datetime(df_delitos.Date)"
   ]
  },
  {
   "cell_type": "code",
   "execution_count": 8,
   "id": "9ae31859-a42d-4bf3-a5a1-60adb3d26519",
   "metadata": {},
   "outputs": [
    {
     "data": {
      "text/plain": [
       "Distrito              object\n",
       "Tipo I               float64\n",
       "Ases.                float64\n",
       "Viol.                float64\n",
       "Robo                 float64\n",
       "Agr. Grave           float64\n",
       "Esc.                 float64\n",
       "Apr. I               float64\n",
       "H. Auto              float64\n",
       "Date          datetime64[ns]\n",
       "dtype: object"
      ]
     },
     "execution_count": 8,
     "metadata": {},
     "output_type": "execute_result"
    }
   ],
   "source": [
    "df_delitos.dtypes"
   ]
  },
  {
   "cell_type": "code",
   "execution_count": 9,
   "id": "3875cb84-915c-4bd7-86a4-82a653c85afa",
   "metadata": {},
   "outputs": [
    {
     "data": {
      "text/plain": [
       "Date                               object\n",
       "Municipio o Area                   object\n",
       "Tasa de Desempleo                 float64\n",
       "Num. Personas Desempleadas        float64\n",
       "Num. Personas Empleadas           float64\n",
       "Num. Personas Grupo Trabajador    float64\n",
       "dtype: object"
      ]
     },
     "execution_count": 9,
     "metadata": {},
     "output_type": "execute_result"
    }
   ],
   "source": [
    "df_desempleos.dtypes"
   ]
  },
  {
   "cell_type": "code",
   "execution_count": 10,
   "id": "fce8c50f-9090-4ed0-b6f3-aa439d56fbde",
   "metadata": {},
   "outputs": [],
   "source": [
    "df_desempleos['Date'] = pd.to_datetime(df_desempleos.Date)"
   ]
  },
  {
   "cell_type": "code",
   "execution_count": 11,
   "id": "3107a714-9dd5-4b41-b3e6-9a50dd1b217d",
   "metadata": {},
   "outputs": [
    {
     "data": {
      "text/plain": [
       "Date                              datetime64[ns]\n",
       "Municipio o Area                          object\n",
       "Tasa de Desempleo                        float64\n",
       "Num. Personas Desempleadas               float64\n",
       "Num. Personas Empleadas                  float64\n",
       "Num. Personas Grupo Trabajador           float64\n",
       "dtype: object"
      ]
     },
     "execution_count": 11,
     "metadata": {},
     "output_type": "execute_result"
    }
   ],
   "source": [
    "df_desempleos.dtypes"
   ]
  },
  {
   "cell_type": "code",
   "execution_count": 12,
   "id": "52634131-adb4-4384-9d3f-1e717b95084f",
   "metadata": {},
   "outputs": [],
   "source": [
    "df_merge = pd.merge(df_delitos, df_desempleos,\n",
    "         left_on=['Distrito', 'Date'],\n",
    "         right_on=['Municipio o Area','Date'])"
   ]
  },
  {
   "cell_type": "code",
   "execution_count": 13,
   "id": "9e3334c7-8081-42f5-980c-676ad83f50c4",
   "metadata": {},
   "outputs": [
    {
     "data": {
      "text/plain": [
       "Distrito                          0\n",
       "Tipo I                            0\n",
       "Ases.                             0\n",
       "Viol.                             0\n",
       "Robo                              0\n",
       "Agr. Grave                        0\n",
       "Esc.                              0\n",
       "Apr. I                            0\n",
       "H. Auto                           0\n",
       "Date                              0\n",
       "Municipio o Area                  0\n",
       "Tasa de Desempleo                 0\n",
       "Num. Personas Desempleadas        0\n",
       "Num. Personas Empleadas           0\n",
       "Num. Personas Grupo Trabajador    0\n",
       "dtype: int64"
      ]
     },
     "execution_count": 13,
     "metadata": {},
     "output_type": "execute_result"
    }
   ],
   "source": [
    "df_merge.isna().sum()"
   ]
  },
  {
   "cell_type": "code",
   "execution_count": 14,
   "id": "c864b112-ae4c-4a26-9343-6259bb1c2286",
   "metadata": {},
   "outputs": [],
   "source": [
    "df_merge.drop(columns=['Municipio o Area'], inplace=True)"
   ]
  },
  {
   "cell_type": "code",
   "execution_count": 15,
   "id": "941b096b-b2e8-4fe7-bdf3-fd241e299883",
   "metadata": {},
   "outputs": [
    {
     "data": {
      "text/plain": [
       "Distrito                                  object\n",
       "Tipo I                                   float64\n",
       "Ases.                                    float64\n",
       "Viol.                                    float64\n",
       "Robo                                     float64\n",
       "Agr. Grave                               float64\n",
       "Esc.                                     float64\n",
       "Apr. I                                   float64\n",
       "H. Auto                                  float64\n",
       "Date                              datetime64[ns]\n",
       "Tasa de Desempleo                        float64\n",
       "Num. Personas Desempleadas               float64\n",
       "Num. Personas Empleadas                  float64\n",
       "Num. Personas Grupo Trabajador           float64\n",
       "dtype: object"
      ]
     },
     "execution_count": 15,
     "metadata": {},
     "output_type": "execute_result"
    }
   ],
   "source": [
    "df_merge.dtypes"
   ]
  },
  {
   "cell_type": "code",
   "execution_count": 16,
   "id": "4e0a7803-5e83-4b34-a767-21fd659baf47",
   "metadata": {},
   "outputs": [],
   "source": [
    "df_merge.to_csv('../../data/clean/Delitos y Desempleos/delitos_desempleos_merged_(deltas_mensuales).csv', index=False)"
   ]
  },
  {
   "cell_type": "code",
   "execution_count": null,
   "id": "d920a44c-0f2d-421f-a5ed-fec31917a44e",
   "metadata": {},
   "outputs": [],
   "source": []
  }
 ],
 "metadata": {
  "kernelspec": {
   "display_name": "Python 3 (ipykernel)",
   "language": "python",
   "name": "python3"
  },
  "language_info": {
   "codemirror_mode": {
    "name": "ipython",
    "version": 3
   },
   "file_extension": ".py",
   "mimetype": "text/x-python",
   "name": "python",
   "nbconvert_exporter": "python",
   "pygments_lexer": "ipython3",
   "version": "3.9.13"
  }
 },
 "nbformat": 4,
 "nbformat_minor": 5
}
