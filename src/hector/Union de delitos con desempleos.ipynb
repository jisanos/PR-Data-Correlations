{
 "cells": [
  {
   "cell_type": "markdown",
   "id": "7a390520-aaab-4a06-9d1c-6f1ce90c9de3",
   "metadata": {},
   "source": [
    "Author: Hector\n",
    "\n",
    "Run this after running the cleaning scripts for tasa de desempleos and delitos"
   ]
  },
  {
   "cell_type": "code",
   "execution_count": 1,
   "id": "b5be7e2d-6d4b-476c-8028-a3803465b37e",
   "metadata": {},
   "outputs": [],
   "source": [
    "import pandas as pd\n",
    "import numpy as np"
   ]
  },
  {
   "cell_type": "code",
   "execution_count": 2,
   "id": "f74423da-408c-4acb-b40b-67388f766fbf",
   "metadata": {},
   "outputs": [],
   "source": [
    "df_delitos = pd.read_csv('../../data/clean/DelitosTipo1/DelitosTipo1-2010-2020_deltas_mensuales(interpolado).csv',\n",
    "                        index_col=0)\n"
   ]
  },
  {
   "cell_type": "code",
   "execution_count": 3,
   "id": "cfc30178-fdcf-4ccd-a6da-f20b13ccdecc",
   "metadata": {},
   "outputs": [
    {
     "data": {
      "text/html": [
       "<div>\n",
       "<style scoped>\n",
       "    .dataframe tbody tr th:only-of-type {\n",
       "        vertical-align: middle;\n",
       "    }\n",
       "\n",
       "    .dataframe tbody tr th {\n",
       "        vertical-align: top;\n",
       "    }\n",
       "\n",
       "    .dataframe thead th {\n",
       "        text-align: right;\n",
       "    }\n",
       "</style>\n",
       "<table border=\"1\" class=\"dataframe\">\n",
       "  <thead>\n",
       "    <tr style=\"text-align: right;\">\n",
       "      <th></th>\n",
       "      <th>Distrito</th>\n",
       "      <th>Tipo I</th>\n",
       "      <th>Ases.</th>\n",
       "      <th>Viol.</th>\n",
       "      <th>Robo</th>\n",
       "      <th>Agr. Grave</th>\n",
       "      <th>Esc.</th>\n",
       "      <th>Apr. I</th>\n",
       "      <th>H. Auto</th>\n",
       "      <th>Date</th>\n",
       "    </tr>\n",
       "  </thead>\n",
       "  <tbody>\n",
       "    <tr>\n",
       "      <th>0</th>\n",
       "      <td>Adjuntas</td>\n",
       "      <td>34.0</td>\n",
       "      <td>0.0</td>\n",
       "      <td>0.0</td>\n",
       "      <td>4.0</td>\n",
       "      <td>1.0</td>\n",
       "      <td>12.0</td>\n",
       "      <td>16.0</td>\n",
       "      <td>1.0</td>\n",
       "      <td>2010-01-01</td>\n",
       "    </tr>\n",
       "    <tr>\n",
       "      <th>1</th>\n",
       "      <td>Ponce</td>\n",
       "      <td>243.0</td>\n",
       "      <td>4.0</td>\n",
       "      <td>0.0</td>\n",
       "      <td>26.0</td>\n",
       "      <td>14.0</td>\n",
       "      <td>52.0</td>\n",
       "      <td>123.0</td>\n",
       "      <td>24.0</td>\n",
       "      <td>2010-01-01</td>\n",
       "    </tr>\n",
       "    <tr>\n",
       "      <th>2</th>\n",
       "      <td>Peñuelas</td>\n",
       "      <td>12.0</td>\n",
       "      <td>0.0</td>\n",
       "      <td>0.0</td>\n",
       "      <td>2.0</td>\n",
       "      <td>0.0</td>\n",
       "      <td>6.0</td>\n",
       "      <td>2.0</td>\n",
       "      <td>2.0</td>\n",
       "      <td>2010-01-01</td>\n",
       "    </tr>\n",
       "    <tr>\n",
       "      <th>3</th>\n",
       "      <td>Patillas</td>\n",
       "      <td>13.0</td>\n",
       "      <td>0.0</td>\n",
       "      <td>0.0</td>\n",
       "      <td>0.0</td>\n",
       "      <td>4.0</td>\n",
       "      <td>6.0</td>\n",
       "      <td>3.0</td>\n",
       "      <td>0.0</td>\n",
       "      <td>2010-01-01</td>\n",
       "    </tr>\n",
       "    <tr>\n",
       "      <th>4</th>\n",
       "      <td>Orocovis</td>\n",
       "      <td>22.0</td>\n",
       "      <td>0.0</td>\n",
       "      <td>0.0</td>\n",
       "      <td>0.0</td>\n",
       "      <td>0.0</td>\n",
       "      <td>10.0</td>\n",
       "      <td>12.0</td>\n",
       "      <td>0.0</td>\n",
       "      <td>2010-01-01</td>\n",
       "    </tr>\n",
       "    <tr>\n",
       "      <th>...</th>\n",
       "      <td>...</td>\n",
       "      <td>...</td>\n",
       "      <td>...</td>\n",
       "      <td>...</td>\n",
       "      <td>...</td>\n",
       "      <td>...</td>\n",
       "      <td>...</td>\n",
       "      <td>...</td>\n",
       "      <td>...</td>\n",
       "      <td>...</td>\n",
       "    </tr>\n",
       "    <tr>\n",
       "      <th>10291</th>\n",
       "      <td>Orocovis</td>\n",
       "      <td>11.0</td>\n",
       "      <td>0.0</td>\n",
       "      <td>0.0</td>\n",
       "      <td>0.0</td>\n",
       "      <td>2.0</td>\n",
       "      <td>5.0</td>\n",
       "      <td>3.0</td>\n",
       "      <td>1.0</td>\n",
       "      <td>2020-12-01</td>\n",
       "    </tr>\n",
       "    <tr>\n",
       "      <th>10292</th>\n",
       "      <td>Patillas</td>\n",
       "      <td>8.0</td>\n",
       "      <td>0.0</td>\n",
       "      <td>0.0</td>\n",
       "      <td>0.0</td>\n",
       "      <td>6.0</td>\n",
       "      <td>1.0</td>\n",
       "      <td>1.0</td>\n",
       "      <td>0.0</td>\n",
       "      <td>2020-12-01</td>\n",
       "    </tr>\n",
       "    <tr>\n",
       "      <th>10293</th>\n",
       "      <td>Ponce</td>\n",
       "      <td>71.0</td>\n",
       "      <td>0.0</td>\n",
       "      <td>1.0</td>\n",
       "      <td>6.0</td>\n",
       "      <td>10.0</td>\n",
       "      <td>13.0</td>\n",
       "      <td>40.0</td>\n",
       "      <td>1.0</td>\n",
       "      <td>2020-12-01</td>\n",
       "    </tr>\n",
       "    <tr>\n",
       "      <th>10294</th>\n",
       "      <td>Mayagüez</td>\n",
       "      <td>34.0</td>\n",
       "      <td>2.0</td>\n",
       "      <td>0.0</td>\n",
       "      <td>1.0</td>\n",
       "      <td>6.0</td>\n",
       "      <td>6.0</td>\n",
       "      <td>18.0</td>\n",
       "      <td>1.0</td>\n",
       "      <td>2020-12-01</td>\n",
       "    </tr>\n",
       "    <tr>\n",
       "      <th>10295</th>\n",
       "      <td>Peñuelas</td>\n",
       "      <td>8.0</td>\n",
       "      <td>0.0</td>\n",
       "      <td>0.0</td>\n",
       "      <td>0.0</td>\n",
       "      <td>4.0</td>\n",
       "      <td>1.0</td>\n",
       "      <td>2.0</td>\n",
       "      <td>1.0</td>\n",
       "      <td>2020-12-01</td>\n",
       "    </tr>\n",
       "  </tbody>\n",
       "</table>\n",
       "<p>10296 rows × 10 columns</p>\n",
       "</div>"
      ],
      "text/plain": [
       "       Distrito  Tipo I  Ases.  Viol.  Robo  Agr. Grave  Esc.  Apr. I  \\\n",
       "0      Adjuntas    34.0    0.0    0.0   4.0         1.0  12.0    16.0   \n",
       "1         Ponce   243.0    4.0    0.0  26.0        14.0  52.0   123.0   \n",
       "2      Peñuelas    12.0    0.0    0.0   2.0         0.0   6.0     2.0   \n",
       "3      Patillas    13.0    0.0    0.0   0.0         4.0   6.0     3.0   \n",
       "4      Orocovis    22.0    0.0    0.0   0.0         0.0  10.0    12.0   \n",
       "...         ...     ...    ...    ...   ...         ...   ...     ...   \n",
       "10291  Orocovis    11.0    0.0    0.0   0.0         2.0   5.0     3.0   \n",
       "10292  Patillas     8.0    0.0    0.0   0.0         6.0   1.0     1.0   \n",
       "10293     Ponce    71.0    0.0    1.0   6.0        10.0  13.0    40.0   \n",
       "10294  Mayagüez    34.0    2.0    0.0   1.0         6.0   6.0    18.0   \n",
       "10295  Peñuelas     8.0    0.0    0.0   0.0         4.0   1.0     2.0   \n",
       "\n",
       "       H. Auto        Date  \n",
       "0          1.0  2010-01-01  \n",
       "1         24.0  2010-01-01  \n",
       "2          2.0  2010-01-01  \n",
       "3          0.0  2010-01-01  \n",
       "4          0.0  2010-01-01  \n",
       "...        ...         ...  \n",
       "10291      1.0  2020-12-01  \n",
       "10292      0.0  2020-12-01  \n",
       "10293      1.0  2020-12-01  \n",
       "10294      1.0  2020-12-01  \n",
       "10295      1.0  2020-12-01  \n",
       "\n",
       "[10296 rows x 10 columns]"
      ]
     },
     "execution_count": 3,
     "metadata": {},
     "output_type": "execute_result"
    }
   ],
   "source": [
    "df_delitos"
   ]
  },
  {
   "cell_type": "code",
   "execution_count": 4,
   "id": "974036a2-be1f-4b7e-b8b5-690bf8035c3d",
   "metadata": {},
   "outputs": [],
   "source": [
    "df_desempleos = pd.read_csv('../../data/clean/Tasa de Desempleos/tasa_de_desempleos_y_mas_limpio.csv'\n",
    "                           )"
   ]
  },
  {
   "cell_type": "code",
   "execution_count": 5,
   "id": "59fed80c-3155-4e44-a746-54cbbd559ce4",
   "metadata": {},
   "outputs": [
    {
     "data": {
      "text/html": [
       "<div>\n",
       "<style scoped>\n",
       "    .dataframe tbody tr th:only-of-type {\n",
       "        vertical-align: middle;\n",
       "    }\n",
       "\n",
       "    .dataframe tbody tr th {\n",
       "        vertical-align: top;\n",
       "    }\n",
       "\n",
       "    .dataframe thead th {\n",
       "        text-align: right;\n",
       "    }\n",
       "</style>\n",
       "<table border=\"1\" class=\"dataframe\">\n",
       "  <thead>\n",
       "    <tr style=\"text-align: right;\">\n",
       "      <th></th>\n",
       "      <th>Date</th>\n",
       "      <th>Municipio o Area</th>\n",
       "      <th>Tasa de Desempleo</th>\n",
       "      <th>Num. Personas Desempleadas</th>\n",
       "      <th>Num. Personas Empleadas</th>\n",
       "      <th>Num. Personas Grupo Trabajador</th>\n",
       "    </tr>\n",
       "  </thead>\n",
       "  <tbody>\n",
       "    <tr>\n",
       "      <th>0</th>\n",
       "      <td>2020-08-01</td>\n",
       "      <td>Puerto Rico SA</td>\n",
       "      <td>8.3</td>\n",
       "      <td>86123.0</td>\n",
       "      <td>951707.0</td>\n",
       "      <td>1037830.0</td>\n",
       "    </tr>\n",
       "    <tr>\n",
       "      <th>1</th>\n",
       "      <td>2020-07-01</td>\n",
       "      <td>Puerto Rico SA</td>\n",
       "      <td>8.5</td>\n",
       "      <td>87804.0</td>\n",
       "      <td>946949.0</td>\n",
       "      <td>1034753.0</td>\n",
       "    </tr>\n",
       "    <tr>\n",
       "      <th>2</th>\n",
       "      <td>2020-06-01</td>\n",
       "      <td>Puerto Rico SA</td>\n",
       "      <td>8.9</td>\n",
       "      <td>92311.0</td>\n",
       "      <td>942830.0</td>\n",
       "      <td>1035141.0</td>\n",
       "    </tr>\n",
       "    <tr>\n",
       "      <th>3</th>\n",
       "      <td>2020-05-01</td>\n",
       "      <td>Puerto Rico SA</td>\n",
       "      <td>9.0</td>\n",
       "      <td>93122.0</td>\n",
       "      <td>939024.0</td>\n",
       "      <td>1032146.0</td>\n",
       "    </tr>\n",
       "    <tr>\n",
       "      <th>4</th>\n",
       "      <td>2020-02-01</td>\n",
       "      <td>Puerto Rico SA</td>\n",
       "      <td>8.5</td>\n",
       "      <td>92713.0</td>\n",
       "      <td>975464.0</td>\n",
       "      <td>1048791.0</td>\n",
       "    </tr>\n",
       "    <tr>\n",
       "      <th>...</th>\n",
       "      <td>...</td>\n",
       "      <td>...</td>\n",
       "      <td>...</td>\n",
       "      <td>...</td>\n",
       "      <td>...</td>\n",
       "      <td>...</td>\n",
       "    </tr>\n",
       "    <tr>\n",
       "      <th>22700</th>\n",
       "      <td>2000-12-01</td>\n",
       "      <td>San Juan-Carolina-Caguas, PR MSA</td>\n",
       "      <td>9.0</td>\n",
       "      <td>67176.0</td>\n",
       "      <td>758365.0</td>\n",
       "      <td>845088.0</td>\n",
       "    </tr>\n",
       "    <tr>\n",
       "      <th>22701</th>\n",
       "      <td>2000-11-01</td>\n",
       "      <td>San Juan-Carolina-Caguas, PR MSA</td>\n",
       "      <td>8.6</td>\n",
       "      <td>66478.0</td>\n",
       "      <td>765566.0</td>\n",
       "      <td>838129.0</td>\n",
       "    </tr>\n",
       "    <tr>\n",
       "      <th>22702</th>\n",
       "      <td>2000-10-01</td>\n",
       "      <td>San Juan-Carolina-Caguas, PR MSA</td>\n",
       "      <td>9.9</td>\n",
       "      <td>75071.0</td>\n",
       "      <td>756275.0</td>\n",
       "      <td>833436.0</td>\n",
       "    </tr>\n",
       "    <tr>\n",
       "      <th>22703</th>\n",
       "      <td>2000-09-01</td>\n",
       "      <td>San Juan-Carolina-Caguas, PR MSA</td>\n",
       "      <td>8.8</td>\n",
       "      <td>71936.0</td>\n",
       "      <td>780914.0</td>\n",
       "      <td>837502.0</td>\n",
       "    </tr>\n",
       "    <tr>\n",
       "      <th>22704</th>\n",
       "      <td>2000-08-01</td>\n",
       "      <td>San Juan-Carolina-Caguas, PR MSA</td>\n",
       "      <td>9.1</td>\n",
       "      <td>83476.0</td>\n",
       "      <td>782071.0</td>\n",
       "      <td>839751.0</td>\n",
       "    </tr>\n",
       "  </tbody>\n",
       "</table>\n",
       "<p>22705 rows × 6 columns</p>\n",
       "</div>"
      ],
      "text/plain": [
       "             Date                  Municipio o Area  Tasa de Desempleo  \\\n",
       "0      2020-08-01                    Puerto Rico SA                8.3   \n",
       "1      2020-07-01                    Puerto Rico SA                8.5   \n",
       "2      2020-06-01                    Puerto Rico SA                8.9   \n",
       "3      2020-05-01                    Puerto Rico SA                9.0   \n",
       "4      2020-02-01                    Puerto Rico SA                8.5   \n",
       "...           ...                               ...                ...   \n",
       "22700  2000-12-01  San Juan-Carolina-Caguas, PR MSA                9.0   \n",
       "22701  2000-11-01  San Juan-Carolina-Caguas, PR MSA                8.6   \n",
       "22702  2000-10-01  San Juan-Carolina-Caguas, PR MSA                9.9   \n",
       "22703  2000-09-01  San Juan-Carolina-Caguas, PR MSA                8.8   \n",
       "22704  2000-08-01  San Juan-Carolina-Caguas, PR MSA                9.1   \n",
       "\n",
       "       Num. Personas Desempleadas  Num. Personas Empleadas  \\\n",
       "0                         86123.0                 951707.0   \n",
       "1                         87804.0                 946949.0   \n",
       "2                         92311.0                 942830.0   \n",
       "3                         93122.0                 939024.0   \n",
       "4                         92713.0                 975464.0   \n",
       "...                           ...                      ...   \n",
       "22700                     67176.0                 758365.0   \n",
       "22701                     66478.0                 765566.0   \n",
       "22702                     75071.0                 756275.0   \n",
       "22703                     71936.0                 780914.0   \n",
       "22704                     83476.0                 782071.0   \n",
       "\n",
       "       Num. Personas Grupo Trabajador  \n",
       "0                           1037830.0  \n",
       "1                           1034753.0  \n",
       "2                           1035141.0  \n",
       "3                           1032146.0  \n",
       "4                           1048791.0  \n",
       "...                               ...  \n",
       "22700                        845088.0  \n",
       "22701                        838129.0  \n",
       "22702                        833436.0  \n",
       "22703                        837502.0  \n",
       "22704                        839751.0  \n",
       "\n",
       "[22705 rows x 6 columns]"
      ]
     },
     "execution_count": 5,
     "metadata": {},
     "output_type": "execute_result"
    }
   ],
   "source": [
    "df_desempleos"
   ]
  },
  {
   "cell_type": "code",
   "execution_count": 6,
   "id": "99e5341d-0020-4c0b-bdc9-1135d9108260",
   "metadata": {},
   "outputs": [
    {
     "data": {
      "text/plain": [
       "Distrito       object\n",
       "Tipo I        float64\n",
       "Ases.         float64\n",
       "Viol.         float64\n",
       "Robo          float64\n",
       "Agr. Grave    float64\n",
       "Esc.          float64\n",
       "Apr. I        float64\n",
       "H. Auto       float64\n",
       "Date           object\n",
       "dtype: object"
      ]
     },
     "execution_count": 6,
     "metadata": {},
     "output_type": "execute_result"
    }
   ],
   "source": [
    "df_delitos.dtypes"
   ]
  },
  {
   "cell_type": "code",
   "execution_count": 7,
   "id": "2c3bad6c-a081-4faf-bfaa-fa6dd7cadd99",
   "metadata": {},
   "outputs": [],
   "source": [
    "df_delitos['Date'] = pd.to_datetime(df_delitos.Date)"
   ]
  },
  {
   "cell_type": "code",
   "execution_count": 8,
   "id": "9ae31859-a42d-4bf3-a5a1-60adb3d26519",
   "metadata": {},
   "outputs": [
    {
     "data": {
      "text/plain": [
       "Distrito              object\n",
       "Tipo I               float64\n",
       "Ases.                float64\n",
       "Viol.                float64\n",
       "Robo                 float64\n",
       "Agr. Grave           float64\n",
       "Esc.                 float64\n",
       "Apr. I               float64\n",
       "H. Auto              float64\n",
       "Date          datetime64[ns]\n",
       "dtype: object"
      ]
     },
     "execution_count": 8,
     "metadata": {},
     "output_type": "execute_result"
    }
   ],
   "source": [
    "df_delitos.dtypes"
   ]
  },
  {
   "cell_type": "code",
   "execution_count": 9,
   "id": "d920a44c-0f2d-421f-a5ed-fec31917a44e",
   "metadata": {},
   "outputs": [
    {
     "data": {
      "text/plain": [
       "78"
      ]
     },
     "execution_count": 9,
     "metadata": {},
     "output_type": "execute_result"
    }
   ],
   "source": [
    "# unique municipalities in criminality dataset\n",
    "len(list(df_delitos['Distrito'].unique()))"
   ]
  },
  {
   "cell_type": "code",
   "execution_count": 10,
   "id": "01e0b086-b080-40ea-a01d-e97ca5d37148",
   "metadata": {},
   "outputs": [],
   "source": [
    "delitos_municipalities = df_delitos['Distrito'].unique()"
   ]
  },
  {
   "cell_type": "code",
   "execution_count": 11,
   "id": "3875cb84-915c-4bd7-86a4-82a653c85afa",
   "metadata": {},
   "outputs": [
    {
     "data": {
      "text/plain": [
       "Date                               object\n",
       "Municipio o Area                   object\n",
       "Tasa de Desempleo                 float64\n",
       "Num. Personas Desempleadas        float64\n",
       "Num. Personas Empleadas           float64\n",
       "Num. Personas Grupo Trabajador    float64\n",
       "dtype: object"
      ]
     },
     "execution_count": 11,
     "metadata": {},
     "output_type": "execute_result"
    }
   ],
   "source": [
    "df_desempleos.dtypes"
   ]
  },
  {
   "cell_type": "code",
   "execution_count": 12,
   "id": "fce8c50f-9090-4ed0-b6f3-aa439d56fbde",
   "metadata": {},
   "outputs": [],
   "source": [
    "df_desempleos['Date'] = pd.to_datetime(df_desempleos.Date)"
   ]
  },
  {
   "cell_type": "code",
   "execution_count": 13,
   "id": "3107a714-9dd5-4b41-b3e6-9a50dd1b217d",
   "metadata": {},
   "outputs": [
    {
     "data": {
      "text/plain": [
       "Date                              datetime64[ns]\n",
       "Municipio o Area                          object\n",
       "Tasa de Desempleo                        float64\n",
       "Num. Personas Desempleadas               float64\n",
       "Num. Personas Empleadas                  float64\n",
       "Num. Personas Grupo Trabajador           float64\n",
       "dtype: object"
      ]
     },
     "execution_count": 13,
     "metadata": {},
     "output_type": "execute_result"
    }
   ],
   "source": [
    "df_desempleos.dtypes"
   ]
  },
  {
   "cell_type": "code",
   "execution_count": 14,
   "id": "85fa92b8-03a4-4bf7-9ea5-dcf5c72824e5",
   "metadata": {},
   "outputs": [
    {
     "data": {
      "text/plain": [
       "95"
      ]
     },
     "execution_count": 14,
     "metadata": {},
     "output_type": "execute_result"
    }
   ],
   "source": [
    "# Entries of municipality and areas of unemployment dataset\n",
    "len(list(df_desempleos['Municipio o Area'].unique()))"
   ]
  },
  {
   "cell_type": "code",
   "execution_count": 15,
   "id": "215e44dd-4e86-4efe-a7e1-5fd49d46f83d",
   "metadata": {},
   "outputs": [],
   "source": [
    "desempleos_municipalities_areas = df_desempleos['Municipio o Area'].unique()"
   ]
  },
  {
   "cell_type": "code",
   "execution_count": 16,
   "id": "52634131-adb4-4384-9d3f-1e717b95084f",
   "metadata": {},
   "outputs": [],
   "source": [
    "df_merge = pd.merge(df_delitos, df_desempleos,\n",
    "         left_on=['Distrito', 'Date'],\n",
    "         right_on=['Municipio o Area','Date'])"
   ]
  },
  {
   "cell_type": "code",
   "execution_count": 17,
   "id": "9e3334c7-8081-42f5-980c-676ad83f50c4",
   "metadata": {},
   "outputs": [
    {
     "data": {
      "text/plain": [
       "Distrito                          0\n",
       "Tipo I                            0\n",
       "Ases.                             0\n",
       "Viol.                             0\n",
       "Robo                              0\n",
       "Agr. Grave                        0\n",
       "Esc.                              0\n",
       "Apr. I                            0\n",
       "H. Auto                           0\n",
       "Date                              0\n",
       "Municipio o Area                  0\n",
       "Tasa de Desempleo                 0\n",
       "Num. Personas Desempleadas        0\n",
       "Num. Personas Empleadas           0\n",
       "Num. Personas Grupo Trabajador    0\n",
       "dtype: int64"
      ]
     },
     "execution_count": 17,
     "metadata": {},
     "output_type": "execute_result"
    }
   ],
   "source": [
    "df_merge.isna().sum()"
   ]
  },
  {
   "cell_type": "code",
   "execution_count": 18,
   "id": "c864b112-ae4c-4a26-9343-6259bb1c2286",
   "metadata": {},
   "outputs": [],
   "source": [
    "df_merge.drop(columns=['Municipio o Area'], inplace=True)"
   ]
  },
  {
   "cell_type": "code",
   "execution_count": 19,
   "id": "941b096b-b2e8-4fe7-bdf3-fd241e299883",
   "metadata": {},
   "outputs": [
    {
     "data": {
      "text/plain": [
       "Distrito                                  object\n",
       "Tipo I                                   float64\n",
       "Ases.                                    float64\n",
       "Viol.                                    float64\n",
       "Robo                                     float64\n",
       "Agr. Grave                               float64\n",
       "Esc.                                     float64\n",
       "Apr. I                                   float64\n",
       "H. Auto                                  float64\n",
       "Date                              datetime64[ns]\n",
       "Tasa de Desempleo                        float64\n",
       "Num. Personas Desempleadas               float64\n",
       "Num. Personas Empleadas                  float64\n",
       "Num. Personas Grupo Trabajador           float64\n",
       "dtype: object"
      ]
     },
     "execution_count": 19,
     "metadata": {},
     "output_type": "execute_result"
    }
   ],
   "source": [
    "df_merge.dtypes"
   ]
  },
  {
   "cell_type": "markdown",
   "id": "79647fbc-2814-4d77-b04c-3b786cb2f224",
   "metadata": {},
   "source": [
    "Verifying that all 78 municipalities are available after merge"
   ]
  },
  {
   "cell_type": "code",
   "execution_count": 20,
   "id": "50b7ed69-252f-492c-b76e-5d71381bc0d2",
   "metadata": {},
   "outputs": [],
   "source": [
    "merged_municipalities = df_merge['Distrito'].unique()"
   ]
  },
  {
   "cell_type": "code",
   "execution_count": 21,
   "id": "6c0bccf6-8d08-471f-a145-38fbd68294ab",
   "metadata": {},
   "outputs": [
    {
     "data": {
      "text/plain": [
       "78"
      ]
     },
     "execution_count": 21,
     "metadata": {},
     "output_type": "execute_result"
    }
   ],
   "source": [
    "merged_municipalities.size"
   ]
  },
  {
   "cell_type": "code",
   "execution_count": 22,
   "id": "18a41a95-0d66-4f11-8be0-edc87b88e956",
   "metadata": {},
   "outputs": [
    {
     "data": {
      "text/plain": [
       "array([], dtype=object)"
      ]
     },
     "execution_count": 22,
     "metadata": {},
     "output_type": "execute_result"
    }
   ],
   "source": [
    "np.setdiff1d( delitos_municipalities, merged_municipalities)"
   ]
  },
  {
   "cell_type": "code",
   "execution_count": 23,
   "id": "78f97d17-c5c5-4240-92a8-0f6dcea6139b",
   "metadata": {},
   "outputs": [],
   "source": [
    "# If the above array is empty then we have all required municipalities"
   ]
  },
  {
   "cell_type": "code",
   "execution_count": 24,
   "id": "cc0c28ef-65c1-4718-80dd-04017b112d19",
   "metadata": {},
   "outputs": [
    {
     "data": {
      "text/plain": [
       "array([], dtype=object)"
      ]
     },
     "execution_count": 24,
     "metadata": {},
     "output_type": "execute_result"
    }
   ],
   "source": [
    "np.setdiff1d(delitos_municipalities, desempleos_municipalities_areas)"
   ]
  },
  {
   "cell_type": "code",
   "execution_count": null,
   "id": "19abf89a-fa1b-4f05-a730-3e2e9812eeb4",
   "metadata": {},
   "outputs": [],
   "source": []
  },
  {
   "cell_type": "code",
   "execution_count": 25,
   "id": "4e0a7803-5e83-4b34-a767-21fd659baf47",
   "metadata": {},
   "outputs": [],
   "source": [
    "df_merge.to_csv('../../data/clean/Delitos y Desempleos/delitos_desempleos_merged_(deltas_mensuales).csv', index=False)"
   ]
  },
  {
   "cell_type": "code",
   "execution_count": null,
   "id": "4f653f96-d94b-4da2-8ec6-8bb2f4c3c5d7",
   "metadata": {},
   "outputs": [],
   "source": []
  },
  {
   "cell_type": "code",
   "execution_count": null,
   "id": "8d9c1e3d-a2b3-48a1-95e1-c1c5442214f7",
   "metadata": {},
   "outputs": [],
   "source": []
  },
  {
   "cell_type": "code",
   "execution_count": null,
   "id": "feaa0d84-76a3-425b-b9f7-71769292a234",
   "metadata": {},
   "outputs": [],
   "source": []
  }
 ],
 "metadata": {
  "kernelspec": {
   "display_name": "Python 3 (ipykernel)",
   "language": "python",
   "name": "python3"
  },
  "language_info": {
   "codemirror_mode": {
    "name": "ipython",
    "version": 3
   },
   "file_extension": ".py",
   "mimetype": "text/x-python",
   "name": "python",
   "nbconvert_exporter": "python",
   "pygments_lexer": "ipython3",
   "version": "3.9.13"
  }
 },
 "nbformat": 4,
 "nbformat_minor": 5
}
